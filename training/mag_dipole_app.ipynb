{
 "cells": [
  {
   "cell_type": "markdown",
   "id": "83528541",
   "metadata": {
    "lines_to_next_cell": 2
   },
   "source": [
    "# Magnetic Dipole App\n",
    "\n",
    "Now that we have learned how to interact with `geoh5` and to create a custom user-interface with `ui.json`,\n",
    "we can start implementing our first application. We are going to create a a magnetic dipole simulator from scratch,\n",
    "which could become a useful tool to interpret magnetic data maps.\n",
    "\n",
    "\n",
    "![mag_dipole_gif](./images/mag_dipole_app.gif \"segment\")"
   ]
  },
  {
   "cell_type": "markdown",
   "id": "0a401dd3",
   "metadata": {},
   "source": [
    "## Background\n",
    "\n",
    "Python needs to import external libraries for certain classes and functions to be recognized when running the code.\n",
    "That is done below."
   ]
  },
  {
   "cell_type": "code",
   "execution_count": null,
   "id": "5712974b",
   "metadata": {},
   "outputs": [],
   "source": [
    "# Import the necessary packages\n",
    "from __future__ import annotations\n",
    "\n",
    "import json\n",
    "\n",
    "import numpy as np\n",
    "from geoh5py.data import Data\n",
    "from geoh5py.objects import ObjectBase, Points\n",
    "from geoh5py.ui_json import InputFile, constants, templates\n",
    "from geoh5py.ui_json.utils import monitored_directory_copy\n",
    "from geoh5py.workspace import Workspace\n"
   ]
  },
  {
   "cell_type": "markdown",
   "id": "e2e256e4",
   "metadata": {},
   "source": [
    "## The physics\n",
    "\n",
    "The strength of the magnetic field flux of a single dipole is:\n",
    "\n",
    "$$\\mathbf{B} = \\frac{\\mu_0}{4 \\pi} \\left( \\frac{3 \\mathbf{r} (\\mathbf{m} \\cdot \\mathbf{r})}{r^5} - \\frac{\\mathbf{m}}{r^3} \\right)$$\n",
    "\n",
    "where $\\mu_0$ is a constant ($4 \\pi \\times 10^{-7}$), $\\mathbf{m}$ is the magnetic dipole moment (susceptibility $\\times$ volume), and $\\mathbf{r}$ is the vector between the dipole and the locations.\n",
    "\n",
    "In a geophysical context however, we normally get Total Magnetic Intensity (TMI) data from magnetometers.\n",
    "The conversion can be approximated by a projection of the fields onto the direction of Earth's inducing field.\n",
    "\n",
    "$$\n",
    "b_{TMI} \\approx \\mathbf{\\hat H}_0 \\cdot \\mathbf{b}\n",
    "$$\n",
    "\n",
    "### Arrays\n",
    "We will make use a few useful methods on `numpy` arrays.\n",
    "- The `sum()` method applied to a specific axis of an array, collapsing the dimension.\n",
    "- The `dot()` method performs the dot product between two arrays\n",
    "- The transpose (`.T`) method to get the dimensions of arrays to align:\n",
    "\n",
    "$[1 \\times 3] \\cdot [M \\times 3].T \\rightarrow [1 \\times M] $.\n",
    "\n",
    "- Array broadcasting (repeat) of a 1D array along a second dimension using the `[:, None]` indexing:\n",
    "\n",
    "$[N \\times 3] \\;/\\;([1 \\times N][: None]) \\rightarrow [N \\times 3] $\n",
    "\n",
    "### To-Do\n",
    "In order to compute the physics of dipoles, we will need:\n",
    " - **Functions**:\n",
    "    - Converting dip/azimuth angles to vector components\n",
    "    - Computing the fields of a dipole(s)\n",
    "    - Converting vector fields to TMI\n",
    " - **Inputs parameters**:\n",
    "    - Receivers (observation) locations\n",
    "    - Source dipole locations\n",
    "    - Dipole moment values\n",
    "    - Dipole inclination angles\n",
    "    - Dipole declination angles\n",
    "    - Earth's field inclination\n",
    "    - Earth's field declination"
   ]
  },
  {
   "cell_type": "markdown",
   "id": "64efbeac",
   "metadata": {
    "lines_to_next_cell": 2
   },
   "source": [
    "## Functions\n",
    "\n",
    "### Inclination / declination to vector conversion\n",
    "We require a function to convert inclination/declination angles to Cartesian vectors.\n",
    "The same function will come handy later when computing the TMI projection.\n",
    "We need to perform the following conversion:\n",
    "\n",
    "$ \\hat x = \\sin(\\phi) * \\cos(\\theta)$\n",
    "\n",
    "$\n",
    "\\hat y = \\sin(\\phi) * \\sin(\\theta)\n",
    "$\n",
    "\n",
    "$\n",
    "\\hat z = \\cos(\\phi)\n",
    "$\n",
    "\n",
    "where $\\phi$ is the angle on the horizontal plane, and $\\theta$ is the vertical angles. Both are positive\n",
    "counter-clockwise with reference from the $\\hat x$-axis, so we also need to convert the angles from the\n",
    "geographic convention (degree clockwise from North)."
   ]
  },
  {
   "cell_type": "code",
   "execution_count": null,
   "id": "3ac9224e",
   "metadata": {
    "lines_to_next_cell": 2
   },
   "outputs": [],
   "source": [
    "def inclination_declination_2_xyz(inclination, declination):\n",
    "    \"\"\"Convert inclination and declination angles (degrees) to unit vector (xyz).\"\"\"\n",
    "    theta = np.deg2rad((450 - declination) % 360)\n",
    "    phi = np.deg2rad(90 + inclination)\n",
    "    xyz = np.c_[np.sin(phi) * np.cos(theta), np.sin(phi) * np.sin(theta), np.cos(phi)]\n",
    "\n",
    "    return xyz"
   ]
  },
  {
   "cell_type": "markdown",
   "id": "f75469d1",
   "metadata": {},
   "source": [
    "### Dipole functions\n",
    "\n",
    "We can begin with writing the function needed to compute the\n",
    "magnetic field from a single dipole.\n",
    "\n",
    "$$\\mathbf{B} = \\frac{\\mu_0}{4 \\pi} \\left( \\frac{3 \\mathbf{r} (\\mathbf{m} \\cdot \\mathbf{r})}{r^5} - \\frac{\\mathbf{m}}{r^3} \\right)$$\n",
    "\n",
    "The function should be able to take as argument\n",
    "\n",
    "    - Coordinates of the source and receivers (defining 'r'),\n",
    "\n",
    "    - Parameters defining the strength (moment) and orientation (inc, dec) of the dipole source."
   ]
  },
  {
   "cell_type": "code",
   "execution_count": null,
   "id": "bd71c7ac",
   "metadata": {},
   "outputs": [],
   "source": []
  },
  {
   "cell_type": "markdown",
   "id": "57c1bd9c",
   "metadata": {},
   "source": [
    "We can now test our `b_field` function with existing objects present in our `suncity.geoh5` project."
   ]
  },
  {
   "cell_type": "code",
   "execution_count": null,
   "id": "402bbfc1",
   "metadata": {},
   "outputs": [],
   "source": []
  },
  {
   "cell_type": "markdown",
   "id": "1b1d9194",
   "metadata": {
    "lines_to_next_cell": 2
   },
   "source": [
    "The `b_field` function returns an array for the three components of the\n",
    "magnetic field due to the dipole source.\n",
    "\n",
    "### TMI projection\n",
    "\n",
    "Let's write a simple function to get the TMI (projected) data instead.\n",
    "\n",
    "\n",
    "$$\n",
    "b_{TMI} \\approx \\mathbf{\\hat H}_0 \\cdot \\mathbf{b}\n",
    "$$\n"
   ]
  },
  {
   "cell_type": "code",
   "execution_count": null,
   "id": "e915e23d",
   "metadata": {
    "lines_to_next_cell": 2
   },
   "outputs": [],
   "source": [
    "def tmi_projection(b_components, earth_field):\n",
    "    \"\"\"Project magnetic field onto Earth's field.\"\"\"\n",
    "    h0 = inclination_declination_2_xyz(earth_field[0], earth_field[1])\n",
    "    return np.dot(h0, b_components.T)"
   ]
  },
  {
   "cell_type": "markdown",
   "id": "0851fae9",
   "metadata": {},
   "source": [
    "and test it for the inducing field parameters at our test site at Suncity `(Inc: -62.11, Dec: -17.9)`."
   ]
  },
  {
   "cell_type": "code",
   "execution_count": null,
   "id": "9cd4db6b",
   "metadata": {},
   "outputs": [],
   "source": []
  },
  {
   "cell_type": "markdown",
   "id": "ed7e1492",
   "metadata": {},
   "source": [
    "## The Simulator\n",
    "\n",
    "In this section, we are going to string together the functions defined above and generalize our approach so that we can deal with different types of `geoh5` objects. Let's wrap all the previous functions into a `magnetic_simulator` class."
   ]
  },
  {
   "cell_type": "code",
   "execution_count": null,
   "id": "46874074",
   "metadata": {
    "lines_to_next_cell": 2
   },
   "outputs": [],
   "source": []
  },
  {
   "cell_type": "markdown",
   "id": "dccf94df",
   "metadata": {},
   "source": [
    "We now have a generic container to compute TMI data based on any type of ANALYST object.\n",
    "\n",
    "You are now invited to edit your Points object to add more vertices and\n",
    "create data arrays for moment, azimuth and dips. We can now run the simulation\n",
    "by simply giving those entities to our class."
   ]
  },
  {
   "cell_type": "code",
   "execution_count": null,
   "id": "aed0bbe5",
   "metadata": {},
   "outputs": [],
   "source": []
  },
  {
   "cell_type": "markdown",
   "id": "39b8ed9d",
   "metadata": {},
   "source": [
    "![bfield](./images/b_field.png)"
   ]
  },
  {
   "cell_type": "markdown",
   "id": "92f98785",
   "metadata": {},
   "source": [
    "## The User-Interface (ui.json)\n",
    "\n",
    "In the previous section, we have introduced functionality to compute the magnetic field from dipole locations. We are now going to create a user-interface (UI) to be able to run this program from a Geoscience ANALYST session. Review the [UIjson](uijson_training) section for background.\n",
    "\n",
    "We need a ui.json to provide inputs for the following 7 parameters:\n",
    "\n",
    "- `Object` defining the dipoles (sources)\n",
    "- `Object` defining the receivers\n",
    "- `Data` or `float` value for the dipole moments\n",
    "- `Data` or `float` value for the dipole inclination angles\n",
    "- `Data` or `float` value for the dipole declination angles\n",
    "- `Float` value for Earth's field inclination angle\n",
    "- `Float` value for Earth's field declination angle\n",
    "\n",
    "Let's create a UI.json with forms for each one of those inputs"
   ]
  },
  {
   "cell_type": "code",
   "execution_count": null,
   "id": "ec2912ee",
   "metadata": {},
   "outputs": [],
   "source": []
  },
  {
   "cell_type": "markdown",
   "id": "d7dee078",
   "metadata": {},
   "source": [
    "We now need tell which \"program\" that ANALYST can call."
   ]
  },
  {
   "cell_type": "code",
   "execution_count": null,
   "id": "75d8d7ed",
   "metadata": {},
   "outputs": [],
   "source": []
  },
  {
   "cell_type": "markdown",
   "id": "69d97012",
   "metadata": {},
   "source": [
    "Internally, when executed from ANALYST, this is what is going to happen\n",
    "\n",
    "```\n",
    "conda activate python-training\n",
    "python mag_dipole\n",
    "```\n",
    "\n",
    "Then your mag_dipole.run should be able to do the rest: compute and store the result.\n",
    "\n",
    "Let's write out our ui.json to file."
   ]
  },
  {
   "cell_type": "code",
   "execution_count": null,
   "id": "755f3efa",
   "metadata": {},
   "outputs": [],
   "source": []
  },
  {
   "cell_type": "markdown",
   "id": "7f481ab4",
   "metadata": {},
   "source": [
    "Try running the UI through ANALYST with a drag & drop of the file to the viewport.\n",
    "\n",
    "![dragdrop](./images/uijson_dragdrop.gif \"segment\")"
   ]
  },
  {
   "cell_type": "markdown",
   "id": "deed7ca5",
   "metadata": {},
   "source": [
    "## The Driver (Running with Geoscience ANALYST)\n",
    "\n",
    "In the previous section, we created our simulation program and a user-interface using the UI json format. As a final step, we need to define a `driver` program that can be called from ANALYST.\n",
    "\n",
    "We are going to take advantage of the\n",
    "[geoh5py.ui_json.InputFile](https://geoh5py.readthedocs.io/en/stable/content/api/geoh5py.ui_json.html#geoh5py.ui_json.input_file.InputFile)\n",
    "class to handle value conversions between geoh5 and python, as well as the `monitored_directory_copy` function to handle the live link with ANALYST."
   ]
  },
  {
   "cell_type": "code",
   "execution_count": null,
   "id": "5104c444",
   "metadata": {},
   "outputs": [],
   "source": []
  },
  {
   "cell_type": "markdown",
   "id": "b6da7d01",
   "metadata": {},
   "source": [
    "The final step requires to make this program available to python to be executed from ANALYST.\n",
    "\n",
    "Do the following:\n",
    "\n",
    "- Use the `File\\Download as\\Python *.py` dropdown menu to convert this notebook to a `py` file.\n",
    "- Rename the file to `mag_dipole_app.py`.\n",
    "- Remove everything in the file except the\n",
    "    - the imports,\n",
    "    - the blocks of functions `def`\n",
    "    - the following lines (without #'s)\n",
    "\n",
    "    ```\n",
    "    if __name__ == \"__main__\":\n",
    "        file = sys.argv[1]\n",
    "        run(file)\n",
    "    ```\n",
    "\n",
    "This part becomes the entry point of the python interpreter when running the\n",
    "`mag_dipole_app.py` script. At the end, your file should look like this.\n",
    "\n",
    "![run_command](./images/run_command.png)"
   ]
  },
  {
   "cell_type": "markdown",
   "id": "5dca4d81",
   "metadata": {},
   "source": [
    "## Executing in ANALYST\n",
    "\n",
    "We now have everything we need to run our program with custom user-interface. The last step consists in moving our `ui.json` and `py` file to ANALYST Script Directory. After re-opening of the workspace, your program will be visible in the drop-down menu.\n",
    "\n",
    "![uijson_add](./images/uijson_add.gif)\n",
    "\n",
    "Et voila!"
   ]
  },
  {
   "cell_type": "markdown",
   "id": "e334fb6a",
   "metadata": {},
   "source": [
    " Copyright (c) 2022 Mira Geoscience Ltd."
   ]
  }
 ],
 "metadata": {
  "jupytext": {
   "formats": "ipynb,py"
  },
  "kernelspec": {
   "display_name": "Python 3 (ipykernel)",
   "language": "python",
   "name": "python3"
  }
 },
 "nbformat": 4,
 "nbformat_minor": 5
}
