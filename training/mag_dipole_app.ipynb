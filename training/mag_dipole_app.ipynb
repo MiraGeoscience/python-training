{
 "cells": [
  {
   "cell_type": "markdown",
   "id": "0230b932",
   "metadata": {
    "lines_to_next_cell": 2
   },
   "source": [
    "# Magnetic Dipole App\n",
    "\n",
    "Now that we have learned how to interact with `geoh5`, we can start implementing our first application. We are going to create a magnetic dipole simulator from scratch, which could become a useful tool to interpret magnetic data maps.\n",
    "\n",
    "\n",
    "![mag_dipole_gif](./images/mag_dipole_app.gif \"segment\")"
   ]
  },
  {
   "cell_type": "markdown",
   "id": "f9408860",
   "metadata": {
    "lines_to_next_cell": 2
   },
   "source": [
    "## Background\n",
    "\n",
    "Python needs to import external libraries for certain classes and functions to be recognized when running the code. That is done below."
   ]
  },
  {
   "cell_type": "code",
   "execution_count": 1,
   "id": "512dd768",
   "metadata": {
    "lines_to_next_cell": 2
   },
   "outputs": [],
   "source": [
    "# Import the necessary packages\n",
    "from __future__ import annotations\n",
    "\n",
    "import sys\n",
    "import numpy as np\n",
    "\n",
    "from geoh5py.data import Data\n",
    "from geoh5py.objects import ObjectBase, Points\n",
    "from geoh5py.ui_json import InputFile, constants, templates\n",
    "from geoh5py.ui_json.utils import monitored_directory_copy\n",
    "from geoh5py.workspace import Workspace"
   ]
  },
  {
   "cell_type": "markdown",
   "id": "f75156a6",
   "metadata": {},
   "source": [
    "### Arrays\n",
    "We will make use a few useful methods on `numpy` arrays.\n",
    "- The `sum()` method applied to a specific axis of an array, collapsing the dimension.\n",
    "- The `dot()` method performs the dot product between two arrays\n",
    "- The transpose (`.T`) method to get the dimensions of arrays to align:\n",
    "\n",
    "$[1 \\times 3] \\cdot [M \\times 3].T \\rightarrow [1 \\times M] $.\n",
    "\n",
    "- Array broadcasting (repeat) of a 1D array along a second dimension using the `[:, None]` indexing:\n",
    "\n",
    "$[N \\times 3] \\;/\\;([1 \\times N][: None]) \\rightarrow [N \\times 3] $"
   ]
  },
  {
   "cell_type": "markdown",
   "id": "11944cdc",
   "metadata": {
    "lines_to_next_cell": 2
   },
   "source": [
    "## The physics\n",
    "\n",
    "The strength of the magnetic field flux of a single dipole is:\n",
    "\n",
    "$$\\mathbf{B} = \\frac{\\mu_0}{4 \\pi} \\left( \\frac{3 \\mathbf{r} (\\mathbf{m} \\cdot \\mathbf{r})}{r^5} - \\frac{\\mathbf{m}}{r^3} \\right)$$\n",
    "\n",
    "where $\\mu_0$ is a constant ($4 \\pi \\times 10^{-7}$), $\\mathbf{m}$ is the magnetic dipole moment (susceptibility $\\times$ volume), and $\\mathbf{r}$ is the vector between the dipole and the locations.\n",
    "\n",
    "In a geophysical context however, we normally get Total Magnetic Intensity (TMI) data from magnetometers. The conversion can be approximated by a projection of the fields onto the direction of Earth's inducing field.\n",
    "\n",
    "$$\n",
    "b_{TMI} \\approx \\mathbf{\\hat H}_0 \\cdot \\mathbf{b}\n",
    "$$\n",
    "\n",
    "So we will need at least to\n",
    " - Create functions for:\n",
    "    - Computing the fields of a dipole(s)\n",
    "    - Converting vector fields to TMI.\n",
    " - Provide inputs for parameters:\n",
    "    - Receivers (observation) locations\n",
    "    - Source dipole locations\n",
    "    - Dipole moment values\n",
    "    - Dipole inclination angles\n",
    "    - Dipole declination angles\n",
    "    - Earth's field inclination\n",
    "    - Earth's field declination"
   ]
  },
  {
   "cell_type": "markdown",
   "id": "bd1e15ed",
   "metadata": {},
   "source": [
    "## Functions\n",
    "\n",
    "### Dipole function\n",
    "\n",
    "We can begin with writing the function needed to compute the\n",
    "magnetic field from a single dipole. The function should be able to take as argument\n",
    "\n",
    "    - Coordinates of the source and receivers (defining 'r'),\n",
    "    - Parameters defining the strength (moment) and orientation (inc, dec) of the dipole source."
   ]
  },
  {
   "cell_type": "code",
   "execution_count": null,
   "id": "1733aefc",
   "metadata": {},
   "outputs": [],
   "source": []
  },
  {
   "cell_type": "markdown",
   "id": "e89dc900",
   "metadata": {
    "lines_to_next_cell": 2
   },
   "source": [
    "### Inclination to declination conversion\n",
    "We require a function to convert inclination/declination angles to Cartesian vectors. The same function will come handy later when computing the TMI projection."
   ]
  },
  {
   "cell_type": "code",
   "execution_count": 3,
   "id": "2f8bc2b1",
   "metadata": {},
   "outputs": [],
   "source": [
    "def inclination_declination_2_xyz(inclination, declination):\n",
    "    \"\"\"Convert inclination and declination angles (degrees) to unit vector (xyz).\"\"\"\n",
    "    theta = np.deg2rad((90 - declination) % 360)\n",
    "    phi = np.deg2rad(90 + inclination)\n",
    "    xyz = np.c_[np.sin(phi) * np.cos(theta), np.sin(phi) * np.sin(theta), np.cos(phi)]\n",
    "\n",
    "    return xyz"
   ]
  },
  {
   "cell_type": "markdown",
   "id": "cb875c26",
   "metadata": {},
   "source": [
    "We can now test our `b_field` function with existing objects present in our `geoh5` project created and saved at the beginning of the workshop."
   ]
  },
  {
   "cell_type": "code",
   "execution_count": null,
   "id": "cdc567bc",
   "metadata": {},
   "outputs": [],
   "source": []
  },
  {
   "cell_type": "markdown",
   "id": "2ec11909",
   "metadata": {},
   "source": [
    "The `b_field` function returns an array for the three components of the\n",
    "magnetic field due to the dipole source.\n",
    "\n",
    "Let's write a simple function to get the TMI (projected) data instead."
   ]
  },
  {
   "cell_type": "code",
   "execution_count": null,
   "id": "3a8c5e34",
   "metadata": {
    "lines_to_next_cell": 2
   },
   "outputs": [],
   "source": []
  },
  {
   "cell_type": "markdown",
   "id": "3834249f",
   "metadata": {},
   "source": [
    "and test it for the inducing field parameters at the test site (single location):"
   ]
  },
  {
   "cell_type": "code",
   "execution_count": null,
   "id": "3004ab25",
   "metadata": {},
   "outputs": [],
   "source": []
  },
  {
   "cell_type": "markdown",
   "id": "7436547c",
   "metadata": {},
   "source": [
    "## The Simulator (creating a generic function)\n",
    "\n",
    "In this section, we are going to string together the functions defined above and generalize our approach so that we can deal with different types of `geoh5` objects. Let's wrap all the previous functions into a `magnetic_simulator` class."
   ]
  },
  {
   "cell_type": "code",
   "execution_count": null,
   "id": "e2c4c1c8",
   "metadata": {},
   "outputs": [],
   "source": []
  },
  {
   "cell_type": "markdown",
   "id": "f0ed3aab",
   "metadata": {},
   "source": [
    "We now have a generic function to compute TMI data based on almost any type of ANALYST object.\n",
    "\n",
    "Let us edit our Points object to add more vertices and create data arrays for moment, azimuth and dips. We can now run the simulation by simply giving those entities to our class."
   ]
  },
  {
   "cell_type": "code",
   "execution_count": null,
   "id": "737d1d97",
   "metadata": {},
   "outputs": [],
   "source": []
  },
  {
   "cell_type": "markdown",
   "id": "094c6388",
   "metadata": {},
   "source": [
    "![bfield](./images/b_field.png)"
   ]
  },
  {
   "cell_type": "markdown",
   "id": "a439459e",
   "metadata": {},
   "source": [
    "## The Driver (Running with Geoscience ANALYST)\n",
    "\n",
    "In the previous section, we created our simulation program called `magnetic_simulator` that could compute the fields of dipoles defined by `geoh5` object. As a final step, we need to define a `driver` program that can be called from ANALYST.\n",
    "\n",
    "We are going to take advantage of the\n",
    "[geoh5py.ui_json.InputFile](https://geoh5py.readthedocs.io/en/stable/content/api/geoh5py.ui_json.html#geoh5py.ui_json.input_file.InputFile)\n",
    "class to handle value conversions between geoh5 and python, as well as the `monitored_directory_copy` function to handle the live link with ANALYST."
   ]
  },
  {
   "cell_type": "code",
   "execution_count": null,
   "id": "77ef7b88",
   "metadata": {},
   "outputs": [],
   "source": []
  },
  {
   "cell_type": "markdown",
   "id": "cde4a5a3",
   "metadata": {},
   "source": [
    "The final step requires to make this program available to python to be executed from ANALYST. That requires going from a notebook to a .py file. This is done by:\n",
    "\n",
    "- Use the `File\\Download as\\Python *.py` dropdown menu to convert this notebook to a `py` file.\n",
    "- Rename the file to `mag_dipole_app.py`.\n",
    "- Remove everything in the file except the\n",
    "    - the imports,\n",
    "    - the blocks of functions `def`\n",
    "    - the following lines (without #'s and $\\textbf{no}$ indentation)\n",
    "\n",
    "    ```\n",
    "    if __name__ == \"__main__\":\n",
    "        file = sys.argv[1]\n",
    "        run(file)\n",
    "    ```\n",
    "\n",
    "This part becomes the entry point of the python interpreter when running the\n",
    "`mag_dipole_app.py` script."
   ]
  },
  {
   "cell_type": "markdown",
   "id": "7a0e0afb",
   "metadata": {},
   "source": [
    "## The User-Interface (ui.json)\n",
    "\n",
    "In the previous section covering the [geoh5 API](geoh5-API), we have introduced functionality to compute the magnetic field from dipole locations. We are now going to create a user-interface (UI) to be able to run this program from a Geoscience ANALYST session.\n",
    "\n",
    "We now can create our ui.json to provide inputs for the following 7 parameters:\n",
    "\n",
    "- `Object` defining the dipoles (sources)\n",
    "- `Object` defining the receivers\n",
    "- `Data` or `float` value for the dipole moments\n",
    "- `Data` or `float` value for the dipole inclination angles\n",
    "- `Data` or `float` value for the dipole declination angles\n",
    "- `Float` value for Earth's field inclination angle\n",
    "- `Float` value for Earth's field declination angle\n",
    "\n",
    "Let's create a UI.json with forms for each one of those inputs. Keep the dipoles as points only: {202C5DB1-A56D-4004-9CAD-BAAFD8899406}"
   ]
  },
  {
   "cell_type": "code",
   "execution_count": null,
   "id": "7f920adc",
   "metadata": {},
   "outputs": [],
   "source": []
  },
  {
   "cell_type": "markdown",
   "id": "ff71fbf0",
   "metadata": {},
   "source": [
    "Internally, when executed from ANALYST, this is what is going to happen\n",
    "\n",
    "```\n",
    "conda activate python-training\n",
    "python mag_dipole [uijson]\n",
    "```\n",
    "\n",
    "Then your mag_dipole.run should be able to do the rest: compute and store the result.\n",
    "\n",
    "Let's write out our ui.json to file."
   ]
  },
  {
   "cell_type": "code",
   "execution_count": null,
   "id": "58b880a1",
   "metadata": {},
   "outputs": [],
   "source": []
  },
  {
   "cell_type": "markdown",
   "id": "66ed0c9a",
   "metadata": {},
   "source": [
    " Copyright (c) 2022 Mira Geoscience Ltd."
   ]
  }
 ],
 "metadata": {
  "jupytext": {
   "formats": "ipynb,py"
  },
  "kernelspec": {
   "display_name": "Python 3 (ipykernel)",
   "language": "python",
   "name": "python3"
  },
  "language_info": {
   "codemirror_mode": {
    "name": "ipython",
    "version": 3
   },
   "file_extension": ".py",
   "mimetype": "text/x-python",
   "name": "python",
   "nbconvert_exporter": "python",
   "pygments_lexer": "ipython3",
   "version": "3.9.13"
  }
 },
 "nbformat": 4,
 "nbformat_minor": 5
}
