{
 "cells": [
  {
   "cell_type": "markdown",
   "id": "b098862e",
   "metadata": {
    "lines_to_next_cell": 2
   },
   "source": [
    "# Magnetic Dipole App\n",
    "\n",
    "Now that we have learned how to interact with `geoh5` and to create a custom user-interface with `ui.json`, we can start implementing our first application. We are going to create a a magnetic dipole simulator from scratch, which could become a useful tool to interpret magnetic data maps.\n",
    "\n",
    "\n",
    "![mag_dipole_gif](./images/mag_dipole_app.gif \"segment\")\n",
    "\n",
    "\n",
    "## The physics\n",
    "\n",
    "From first year physics, the magnetic field of a single dipole is:\n",
    "\n",
    "$$\\mathbf{B} = \\frac{\\mu_0}{4 \\pi}  \\frac{3 (\\mathbf{m} \\cdot \\mathbf{r})  \\mathbf{\\hat r} - \\mathbf{m}}{r^3}$$\n",
    "\n",
    "where $\\mu_0$ is a constant ($4 \\pi \\times 1e-9$), $\\mathbf{m}$ is the magnetic dipole and $\\mathbf{r}$ is the\n",
    "vector separating the dipole and the observations.\n",
    "\n",
    "In a mineral exploration context however, we normally get Total\n",
    "Magnetic Intensity (TMI) data from magnetometers. The conversion can be\n",
    "approximated by a projection of the fields onto the direction of Earth's inducing field.\n",
    "\n",
    "$$\n",
    "b_{TMI} \\approx \\mathbf{\\hat H}_0 \\cdot \\mathbf{b}\n",
    "$$\n",
    "\n",
    "So we will need at least to\n",
    " - Create functions for:\n",
    "    - Computing the fields of a dipole(s)\n",
    "    - Converting vector fields to TMI.\n",
    " - Provide inputs for parameters:\n",
    "    - Receivers (observation) locations\n",
    "    - Source dipole locations\n",
    "    - Dipole moment values\n",
    "    - Dipole inclination angles\n",
    "    - Dipole declination angles\n",
    "    - Earth's field inclination\n",
    "    - Earth's field declination\n",
    "\n",
    "Let's get on with it."
   ]
  },
  {
   "cell_type": "code",
   "execution_count": null,
   "id": "86212f34",
   "metadata": {},
   "outputs": [],
   "source": [
    "# Import the necessary packages\n",
    "from __future__ import annotations\n",
    "import json\n",
    "import matplotlib.pyplot as plt\n",
    "import numpy as np\n",
    "from geoh5py.data import Data\n",
    "from geoh5py.objects import ObjectBase, Points\n",
    "from geoh5py.ui_json import InputFile, constants, templates\n",
    "from geoh5py.ui_json.utils import monitored_directory_copy\n",
    "from geoh5py.workspace import Workspace"
   ]
  },
  {
   "cell_type": "markdown",
   "id": "d992456d",
   "metadata": {},
   "source": [
    "## The functions\n",
    "\n",
    "We can begin with writing the function needed to compute the\n",
    "magnetic field from a single dipole. The function should be able to take as argument\n",
    "\n",
    "    - Coordinates of the source and receivers (defining $\\mathbf{r}$),\n",
    "    - Parameters defining the strength (moment) and orientation (inc, dec) of the dipole source."
   ]
  },
  {
   "cell_type": "code",
   "execution_count": null,
   "id": "d4185af6",
   "metadata": {},
   "outputs": [],
   "source": []
  },
  {
   "cell_type": "markdown",
   "id": "68096263",
   "metadata": {
    "lines_to_next_cell": 2
   },
   "source": [
    "We have made use a few useful methods on `numpy` arrays.\n",
    "- The `sum()` method applied to a specific axis of an array, collapsing the dimension.\n",
    "- The `dot()` method performs the dot product between two arrays\n",
    "- The transpose (`.T`) method to get the dimensions of arrays to align:\n",
    "\n",
    "$[1 \\times 3] \\cdot [M \\times 3].T \\rightarrow [1 \\times M] $.\n",
    "\n",
    "- Array broadcasting (repeat) of a 1D array along a second dimension using the `[:, None]` indexing:\n",
    "\n",
    "$[N \\times 3] \\;/\\;([1 \\times N][: None]) \\rightarrow [N \\times 3] $\n",
    "\n",
    "\n",
    "Looks like we might also need a small function to convert inclination/declination angles to Cartesian vectors. The same function will come handy later when computing the TMI projection."
   ]
  },
  {
   "cell_type": "code",
   "execution_count": null,
   "id": "b1e48868",
   "metadata": {
    "lines_to_next_cell": 2
   },
   "outputs": [],
   "source": [
    "def inclination_declination_2_xyz(inclination, declination):\n",
    "    \"\"\"Convert inclination and declination angles (degrees) to unit vector (xyz).\"\"\"\n",
    "    theta = np.deg2rad((450 - declination) % 360)\n",
    "    phi = np.deg2rad(90 + inclination)\n",
    "    xyz = np.c_[np.sin(phi) * np.cos(theta), np.sin(phi) * np.sin(theta), np.cos(phi)]\n",
    "\n",
    "    return xyz"
   ]
  },
  {
   "cell_type": "markdown",
   "id": "a48bee28",
   "metadata": {},
   "source": [
    "We can now test our `b_field` function with existing objects present in our `suncity.geoh5` project."
   ]
  },
  {
   "cell_type": "code",
   "execution_count": null,
   "id": "422f6b03",
   "metadata": {},
   "outputs": [],
   "source": []
  },
  {
   "cell_type": "markdown",
   "id": "9b16a7b9",
   "metadata": {
    "lines_to_next_cell": 2
   },
   "source": [
    "The `b_field` function returns an array for the three components of the\n",
    "magnetic field due to the dipole source.\n",
    "\n",
    "Let's write a simple function to get the TMI (projected) data instead."
   ]
  },
  {
   "cell_type": "code",
   "execution_count": null,
   "id": "ce1350f2",
   "metadata": {
    "lines_to_next_cell": 2
   },
   "outputs": [],
   "source": [
    "def tmi_projection(b_components, earth_field):\n",
    "    \"\"\"Project magnetic field onto Earth's field.\"\"\"\n",
    "    h0 = inclination_declination_2_xyz(earth_field[0], earth_field[1])\n",
    "    return np.dot(h0, b_components.T)"
   ]
  },
  {
   "cell_type": "markdown",
   "id": "2aac3be2",
   "metadata": {},
   "source": [
    "and test it for the inducing field parameters at our test site at Suncity `(Inc: -62.11, Dec: -17.9)`."
   ]
  },
  {
   "cell_type": "code",
   "execution_count": null,
   "id": "ddc8eba0",
   "metadata": {},
   "outputs": [],
   "source": []
  },
  {
   "cell_type": "markdown",
   "id": "24b2f890",
   "metadata": {},
   "source": [
    "## The Simulator\n",
    "\n",
    "In this section, we are going to string together the functions defined above and generalize our approach so that we can deal with different types of `geoh5` objects. Let's wrap all the previous functions into a `magnetic_simulator` class."
   ]
  },
  {
   "cell_type": "code",
   "execution_count": null,
   "id": "a89f5f67",
   "metadata": {
    "lines_to_next_cell": 2
   },
   "outputs": [],
   "source": []
  },
  {
   "cell_type": "markdown",
   "id": "747791c8",
   "metadata": {},
   "source": [
    "We now have a generic container to compute TMI data based on any type of ANALYST object.\n",
    "\n",
    "You are now invited to edit your Points object to add more vertices and\n",
    "create data arrays for moment, azimuth and dips. We can now run the simulation\n",
    "by simply giving those entities to our class."
   ]
  },
  {
   "cell_type": "code",
   "execution_count": null,
   "id": "93728d91",
   "metadata": {},
   "outputs": [],
   "source": []
  },
  {
   "cell_type": "markdown",
   "id": "82f01a5c",
   "metadata": {},
   "source": [
    "![bfield](./images/b_field.png)"
   ]
  },
  {
   "cell_type": "markdown",
   "id": "d92e1d67",
   "metadata": {},
   "source": [
    "## The Driver\n",
    "\n",
    "In the previous, we created our simulation program called `magnetic_simulator` that could compute the fields of dipoles defined by `geoh5` object. As a final step, we need to define a `driver` program that can be called from ANALYST.\n",
    "\n",
    "We are going to take advantage of the\n",
    "[geoh5py.ui_json.InputFile](https://geoh5py.readthedocs.io/en/stable/content/api/geoh5py.ui_json.html#geoh5py.ui_json.input_file.InputFile)\n",
    "class to handle value conversions between geoh5 and python, as well as the `monitored_directory_copy` function to handle the live link with ANALYST."
   ]
  },
  {
   "cell_type": "code",
   "execution_count": null,
   "id": "8d524a06",
   "metadata": {},
   "outputs": [],
   "source": []
  },
  {
   "cell_type": "markdown",
   "id": "2eb92322",
   "metadata": {},
   "source": [
    "The final step requires to make this program available to python to be executed from ANALYST.\n",
    "\n",
    "Do the following:\n",
    "\n",
    "- Use the `File\\Download as\\Python *.py` dropdown menu to convert this notebook to a `py` file.\n",
    "- Rename the file to `mag_dipole_app.py`.\n",
    "- Remove everything in the file except the\n",
    "    - the imports,\n",
    "    - the blocks of functions `def`\n",
    "    - the following lines (without #'s)\n",
    "\n",
    "    ```\n",
    "    if __name__ == \"__main__\":\n",
    "        file = sys.argv[1]\n",
    "        run(file)\n",
    "    ```\n",
    "\n",
    "This part becomes the entry point of the python interpreter when running the\n",
    "`mag_dipole_app.py` script. At the end, your file should look like this.\n",
    "\n",
    "![run_command](./images/run_command.png)"
   ]
  },
  {
   "cell_type": "markdown",
   "id": "0839280d",
   "metadata": {},
   "source": [
    "## The User-Interface (ui.json)\n",
    "\n",
    "In the previous section covering the [geoh5 API](geoh5-API), we have introduced functionality to compute the magnetic field from dipole locations. We are now going to create a user-interface (UI) to be able to run this program from a Geoscience ANALYST session.\n",
    "\n",
    "We now can create our ui.json to provide inputs for the following 5 parameters:\n",
    "\n",
    "- `Object` defining the dipoles (sources)\n",
    "- `Object` defining the receivers\n",
    "- `Data` or `float` value for the dipole moments\n",
    "- `Data` or `float` value for the dipole inclination angles\n",
    "- `Data` or `float` value for the dipole declination angles\n",
    "- `Float` value for Earth's field inclination angle\n",
    "- `Float` value for Earth's field declination angle\n",
    "\n",
    "Let's create a UI.json with forms for each one of those inputs"
   ]
  },
  {
   "cell_type": "code",
   "execution_count": null,
   "id": "40d8cffd",
   "metadata": {},
   "outputs": [],
   "source": []
  },
  {
   "cell_type": "markdown",
   "id": "d7550308",
   "metadata": {},
   "source": [
    "We now need tell which \"program\" that ANALYST can call."
   ]
  },
  {
   "cell_type": "code",
   "execution_count": null,
   "id": "dde7653e",
   "metadata": {},
   "outputs": [],
   "source": []
  },
  {
   "cell_type": "markdown",
   "id": "3e34604d",
   "metadata": {},
   "source": [
    "Internally, when executed from ANALYST, this is what is going to happen\n",
    "\n",
    "```\n",
    "conda activate python-training\n",
    "python mag_dipole\n",
    "```\n",
    "\n",
    "Then your mag_dipole.run should be able to do the rest: compute and store the result.\n",
    "\n",
    "Let's write out our ui.json to file."
   ]
  },
  {
   "cell_type": "code",
   "execution_count": null,
   "id": "63df727c",
   "metadata": {},
   "outputs": [],
   "source": []
  },
  {
   "cell_type": "markdown",
   "id": "a7c54524",
   "metadata": {},
   "source": [
    " Copyright (c) 2022 Mira Geoscience Ltd."
   ]
  }
 ],
 "metadata": {
  "jupytext": {
   "formats": "ipynb,py"
  },
  "kernelspec": {
   "display_name": "Python 3 (ipykernel)",
   "language": "python",
   "name": "python3"
  }
 },
 "nbformat": 4,
 "nbformat_minor": 5
}
