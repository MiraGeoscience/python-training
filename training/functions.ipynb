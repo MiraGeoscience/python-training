{
 "cells": [
  {
   "cell_type": "markdown",
   "id": "b637f557",
   "metadata": {},
   "source": [
    "# Functions\n",
    "\n",
    "The general concept of programming is to define a set of operations for a computer to execute. The building\n",
    "blocks making up a program can be written in terms of a `function` that take in input values and return a result. In its simplest form, a function (or method) is defined with the `def` keyword:\n",
    "\n",
    "```\n",
    "def fun(arg):\n",
    "    \"\"\"A trivial function.\"\"\"\n",
    "    return arg\n",
    "```\n",
    "\n",
    "Everything that is part of a function must be indented (1 tab or 4 spaces) under the signature ending with `:`. It is also good practice to add `docstrings` with triple quotes (`\"\"\"`) to document what the function does. \n",
    "\n",
    "See the [Best Practice](best_practice) page for additional styling guides."
   ]
  },
  {
   "cell_type": "markdown",
   "id": "3e3739dc",
   "metadata": {},
   "source": [
    "In this case, the `fun` function simply takes an input argument `arg` and returns it back.\n",
    "```\n",
    "fun(\"abc\")\n",
    "```"
   ]
  },
  {
   "cell_type": "code",
   "execution_count": 9,
   "id": "b73293d4",
   "metadata": {
    "tags": [
     "remove-input"
    ]
   },
   "outputs": [
    {
     "data": {
      "text/plain": [
       "'abc'"
      ]
     },
     "execution_count": 9,
     "metadata": {},
     "output_type": "execute_result"
    }
   ],
   "source": [
    "def fun(arg):\n",
    "    \"\"\"Some function.\"\"\"\n",
    "    return(arg)\n",
    "\n",
    "fun('abc')"
   ]
  },
  {
   "cell_type": "markdown",
   "id": "fe344040",
   "metadata": {},
   "source": [
    "## Example 1: For loop\n",
    "Let's take a look at a sightly more interesting problem. Say we are given assay results down a drillhole.\n",
    "\n",
    "```\n",
    "grades = [0.1, 0.02, 1.3, 2.4, 3.5, 0.01]\n",
    "depths = [10, 55, 80, 105, 115, 120]\n",
    "```"
   ]
  },
  {
   "cell_type": "code",
   "execution_count": 10,
   "id": "0dfbafd3",
   "metadata": {
    "tags": [
     "remove-input"
    ]
   },
   "outputs": [],
   "source": [
    "grades = [0.1, 0.02, 1.3, 2.4, 3.5, 0.01]\n",
    "depths = [10, 55, 80, 105, 115, 120]"
   ]
  },
  {
   "cell_type": "markdown",
   "id": "d5bf3ecc",
   "metadata": {},
   "source": [
    "We would like to know the `depths` where `grades` are above 1. \n",
    "\n",
    "There are many ways to go about this, but as a start we are going to use a `for` loop within a function. First we need to find the grade values above some threshold\n",
    "\n",
    "```\n",
    "def anomalous(values, threshold):\n",
    "    \"\"\"\n",
    "    Find the elements of a list above threshold\n",
    "    \"\"\"\n",
    "    logic = []\n",
    "    for val in values:\n",
    "        logic.append(val > threshold)\n",
    "        \n",
    "    return logic\n",
    "```\n",
    "\n",
    "The `anomalous` function takes in as input a list of grade `values` and a `threshold`, then returns a list of `bool`'s (true or false) to indicate which elements are above 1. This function performs three steps\n",
    "  - Use a `for` loop iterator to visit every element of the list. \n",
    "  - Check if the element is above threshold with logic \">\".\n",
    "  - Add the result to a `logic` list using the `.append` method. "
   ]
  },
  {
   "cell_type": "code",
   "execution_count": 11,
   "id": "116a2f95",
   "metadata": {
    "tags": [
     "remove-input"
    ]
   },
   "outputs": [],
   "source": [
    "def anomalous(values, threshold):\n",
    "    \"\"\"\n",
    "    Find the elements of a list above threshold\n",
    "    \"\"\"\n",
    "    logic = []\n",
    "    for val in values:\n",
    "        logic.append(val > threshold)\n",
    "        \n",
    "    return logic"
   ]
  },
  {
   "cell_type": "markdown",
   "id": "c6241179",
   "metadata": {},
   "source": [
    "Calling this method on our `grades` with a `threhsold`= 1.0 yields\n",
    "```\n",
    "logic = anomalous(grades, 1.0)\n",
    "print(logic)\n",
    "```"
   ]
  },
  {
   "cell_type": "code",
   "execution_count": 12,
   "id": "39fb78ef",
   "metadata": {
    "tags": [
     "remove-input"
    ]
   },
   "outputs": [
    {
     "name": "stdout",
     "output_type": "stream",
     "text": [
      "[False, False, True, True, True, False]\n"
     ]
    }
   ],
   "source": [
    "logic = anomalous(grades, 1.0)\n",
    "print(logic)"
   ]
  },
  {
   "cell_type": "markdown",
   "id": "85ae92d3",
   "metadata": {},
   "source": [
    "Note that the same operation could also have been done with an `in-line` approach such that\n",
    "```\n",
    "logic = [val > threshold for val in grades]\n",
    "```\n",
    "In-line operations are more compact (and usually faster) than appending values within a `for` loop operation, and would have not required to create the `anomalous` function. In the end, both gives back the same result.\n",
    "```\n",
    "print(logic)\n",
    "```"
   ]
  },
  {
   "cell_type": "code",
   "execution_count": 13,
   "id": "ccd16c14",
   "metadata": {
    "tags": [
     "remove-input"
    ]
   },
   "outputs": [
    {
     "name": "stdout",
     "output_type": "stream",
     "text": [
      "[False, False, True, True, True, False]\n"
     ]
    }
   ],
   "source": [
    "logic = [val > 1.0 for val in grades]\n",
    "print(logic)"
   ]
  },
  {
   "cell_type": "markdown",
   "id": "7054504a",
   "metadata": {},
   "source": [
    "### Keyword Arguments\n",
    "Other than the required input arguments, Python also allows for default values to be stored in\n",
    "the signature of the function as keyword arguments (`kwargs`). Let's suppose we would like to set a default value for the `threshold`. We could re-write the `anomalous` function as:\n",
    "\n",
    "```\n",
    "def anomalous(values, threshold=1.0):\n",
    "    \"\"\"\n",
    "    Find the elements of a list above threshold\n",
    "    \"\"\"\n",
    "    logic = []\n",
    "    for val in values:\n",
    "        logic.append(val > threshold)\n",
    "\n",
    "    return logic\n",
    "```"
   ]
  },
  {
   "cell_type": "code",
   "execution_count": 14,
   "id": "f5e05bfb",
   "metadata": {
    "tags": [
     "remove-input"
    ]
   },
   "outputs": [],
   "source": [
    "def anomalous(values, threshold=1.0):\n",
    "    \"\"\"\n",
    "    Find the elements of a list above threshold\n",
    "    \"\"\"\n",
    "    logic = []\n",
    "    for val in values:\n",
    "        logic.append(val > threshold)\n",
    "\n",
    "    return logic"
   ]
  },
  {
   "cell_type": "markdown",
   "id": "df62f195",
   "metadata": {},
   "source": [
    "Since `threshold` already has a value, then the argument becomes optional and the function still runs without it.\n",
    "```\n",
    "anomalous(grades)\n",
    "```"
   ]
  },
  {
   "cell_type": "code",
   "execution_count": 15,
   "id": "19df7cfa",
   "metadata": {
    "tags": [
     "remove-input"
    ]
   },
   "outputs": [
    {
     "data": {
      "text/plain": [
       "[False, False, True, True, True, False]"
      ]
     },
     "execution_count": 15,
     "metadata": {},
     "output_type": "execute_result"
    }
   ],
   "source": [
    "anomalous(grades)"
   ]
  },
  {
   "cell_type": "markdown",
   "id": "82ff1778",
   "metadata": {},
   "source": [
    "If not assigned specifically as keyword arguments, Python will simply distribute the extra arguments in the order\n",
    "defined in the signature of the function. For example\n",
    "\n",
    "```\n",
    "anomalous(grades, 2.0)\n",
    "```"
   ]
  },
  {
   "cell_type": "code",
   "execution_count": 16,
   "id": "9d1d7318",
   "metadata": {
    "tags": [
     "remove-input"
    ]
   },
   "outputs": [
    {
     "data": {
      "text/plain": [
       "[False, False, False, True, True, False]"
      ]
     },
     "execution_count": 16,
     "metadata": {},
     "output_type": "execute_result"
    }
   ],
   "source": [
    "anomalous(grades, 2.0)"
   ]
  },
  {
   "cell_type": "markdown",
   "id": "aa589ed3",
   "metadata": {},
   "source": [
    "## Example 2: If statement\n",
    "\n",
    "Next in our assay analysis, we would like get the depth interval for the anomalous grades. We can write a second function that takes the result of `anomalous` such that\n",
    "\n",
    "```\n",
    "def get_depths(values: list, conditions: list[bool]):\n",
    "    \"\"\"\n",
    "    Extract interval of values from bool logic\n",
    "    \"\"\"\n",
    "    output = []\n",
    "    for val, logic in zip(values, conditions):\n",
    "        if logic:\n",
    "            output.append(val)\n",
    "    return output    \n",
    "```\n",
    "\n",
    "The `get_depths` function takes in two lists, one of values and another one for the logic (`bool`), and returns a subset of values is the `conditions` are `True`. Here are a few Python details to highlight\n",
    "\n",
    "- The `if` statement used to test a condition (true or false). Other conditions are\n",
    "    - elif: Always follows and if statement, requires a condition.\n",
    "    - else: Always used at the of multiple statements, no condition needed.\n",
    "- The `zip` method allows to loop over mulitple lists at the same time.  If the inputs have different lengths, the loop will stop once it reaches the end of the shortest one. \n",
    "- We use `typing` (e.g. `conditions: list[bool]`) in the signature of the function to specify the type required for the input arguments. The type is not enforced on runtime, but mainly good-practice as it can be used for code analysis and documentation. "
   ]
  },
  {
   "cell_type": "code",
   "execution_count": 18,
   "id": "7cd1062a",
   "metadata": {},
   "outputs": [],
   "source": [
    "def get_depths(values: list, conditions: list[bool]):\n",
    "    \"\"\"\n",
    "    Extract interval of values from bool logic\n",
    "    \"\"\"\n",
    "    output = []\n",
    "    for val, logic in zip(values, conditions):\n",
    "        if logic:\n",
    "            output.append(val)\n",
    "    return output "
   ]
  },
  {
   "cell_type": "markdown",
   "id": "09eb88c7",
   "metadata": {},
   "source": [
    "Calling the `get_depths` method with the `grades` and `logic` previously computed we get\n",
    "\n",
    "```\n",
    "get_depths(grades, logic)\n",
    "```"
   ]
  },
  {
   "cell_type": "code",
   "execution_count": 19,
   "id": "0dcc56f6",
   "metadata": {},
   "outputs": [
    {
     "name": "stdout",
     "output_type": "stream",
     "text": [
      "[1.3, 2.4, 3.5]\n"
     ]
    }
   ],
   "source": [
    "print(get_depths(grades, logic))"
   ]
  },
  {
   "cell_type": "markdown",
   "id": "5275335d",
   "metadata": {},
   "source": [
    " Copyright (c) 2022 Mira Geoscience Ltd."
   ]
  }
 ],
 "metadata": {
  "celltoolbar": "Edit Metadata",
  "kernelspec": {
   "display_name": "Python 3 (ipykernel)",
   "language": "python",
   "name": "python3"
  },
  "language_info": {
   "codemirror_mode": {
    "name": "ipython",
    "version": 3
   },
   "file_extension": ".py",
   "mimetype": "text/x-python",
   "name": "python",
   "nbconvert_exporter": "python",
   "pygments_lexer": "ipython3",
   "version": "3.9.13"
  }
 },
 "nbformat": 4,
 "nbformat_minor": 5
}
