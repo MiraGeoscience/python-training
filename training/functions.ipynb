{
 "cells": [
  {
   "cell_type": "markdown",
   "id": "4f26a5c2",
   "metadata": {},
   "source": [
    "# Functions\n",
    "\n",
    "The general concept of programming is to define a set of operations for a computer to execute. The building blocks\n",
    "making up a program can be written in terms of a `function` that take in input values and return a result. In its\n",
    "simplest form, a function (or method) is defined with:"
   ]
  },
  {
   "cell_type": "code",
   "execution_count": null,
   "id": "fc425eb6",
   "metadata": {
    "lines_to_next_cell": 2
   },
   "outputs": [],
   "source": []
  },
  {
   "cell_type": "markdown",
   "id": "3a4e65e1",
   "metadata": {},
   "source": [
    "Let's brake this down.\n",
    "\n",
    "-  The `def` keyword marks the beginning of the function signature. Everything that is part of a function must be\n",
    "indented (1 tab or 4 spaces) below it.\n",
    "\n",
    "- Input arguments (`arg`) are added within the parenthesis. The signature ends with a column `:`.\n",
    "\n",
    "- It is good practice adding `docstrings` to document what the function does and what the input parameters are. The\n",
    "block of text is bookended by triple quotes (`\"\"\"`).\n",
    "\n",
    "See the [Best Practice](best_practice) section for additional styling guides."
   ]
  },
  {
   "cell_type": "markdown",
   "id": "5b03b051",
   "metadata": {},
   "source": [
    "In this case, the `fun` function simply takes an input argument `arg` and returns it back."
   ]
  },
  {
   "cell_type": "code",
   "execution_count": null,
   "id": "9d93ace7",
   "metadata": {},
   "outputs": [],
   "source": []
  },
  {
   "cell_type": "markdown",
   "id": "c9f44e7b",
   "metadata": {},
   "source": [
    "## For loop\n",
    "\n",
    "We will try again with a slightly more interesting example that uses a `for` loop iterator. Say we are given assay\n",
    "results down a drillhole."
   ]
  },
  {
   "cell_type": "code",
   "execution_count": null,
   "id": "9ed82af1",
   "metadata": {},
   "outputs": [],
   "source": []
  },
  {
   "cell_type": "markdown",
   "id": "51601456",
   "metadata": {},
   "source": [
    "We would like to know the `depths` where `grades` are above 1.\n",
    "\n",
    "There are many (faster) to solve this problem, but let's first find the grade values above some threshold."
   ]
  },
  {
   "cell_type": "code",
   "execution_count": null,
   "id": "b4606df1",
   "metadata": {
    "lines_to_next_cell": 2
   },
   "outputs": [],
   "source": []
  },
  {
   "cell_type": "markdown",
   "id": "291e0d7d",
   "metadata": {},
   "source": [
    "The `anomalous` function takes in as input a list of grade `values` and a `threshold`,\n",
    "then returns a list of `bool`'s (true or false) to indicate which elements are above 1.\n",
    "This function performs three steps\n",
    "  - Use a `for` loop iterator to visit every element of the list.\n",
    "  - Check if the element is above threshold with logic \">\".\n",
    "  - Add the result to a `logic` list using the `.append` method."
   ]
  },
  {
   "cell_type": "markdown",
   "id": "6358ff46",
   "metadata": {},
   "source": [
    "Calling this method on our `grades` with a `threshold`= 1.0 yields"
   ]
  },
  {
   "cell_type": "code",
   "execution_count": null,
   "id": "b835e9da",
   "metadata": {},
   "outputs": [],
   "source": []
  },
  {
   "cell_type": "markdown",
   "id": "2e87a44f",
   "metadata": {},
   "source": [
    "Note that the same operation could also have been done with an `in-line` approach such that"
   ]
  },
  {
   "cell_type": "code",
   "execution_count": null,
   "id": "b611149c",
   "metadata": {},
   "outputs": [],
   "source": []
  },
  {
   "cell_type": "markdown",
   "id": "8c4179f5",
   "metadata": {},
   "source": [
    "In-line operations are more compact (and usually faster) than appending values within a `for` loop operation,\n",
    "and would have not required to create the `anomalous` function. In the end, both gives back the same result."
   ]
  },
  {
   "cell_type": "markdown",
   "id": "60643cc9",
   "metadata": {},
   "source": [
    "### Keyword Arguments\n",
    "\n",
    "Other than the required input arguments, Python also allows for default values to be stored\n",
    "in the signature of the function as keyword arguments (`kwargs`). Let's suppose we would like to set a default\n",
    "value for the `threshold`. We could re-write the `anomalous` function as:"
   ]
  },
  {
   "cell_type": "code",
   "execution_count": null,
   "id": "4819dc35",
   "metadata": {
    "lines_to_next_cell": 2
   },
   "outputs": [],
   "source": []
  },
  {
   "cell_type": "markdown",
   "id": "1eba5bfe",
   "metadata": {},
   "source": [
    "Since `threshold` already has a value, then the argument becomes optional and the function still runs without it."
   ]
  },
  {
   "cell_type": "code",
   "execution_count": null,
   "id": "76613be6",
   "metadata": {},
   "outputs": [],
   "source": []
  },
  {
   "cell_type": "markdown",
   "id": "8062ec9d",
   "metadata": {},
   "source": [
    "If not assigned specifically as keyword arguments, Python will simply distribute the extra arguments in the order\n",
    "defined in the signature of the function. For example"
   ]
  },
  {
   "cell_type": "code",
   "execution_count": null,
   "id": "58e45b11",
   "metadata": {},
   "outputs": [],
   "source": []
  },
  {
   "cell_type": "markdown",
   "id": "3eb0bda0",
   "metadata": {},
   "source": [
    "## Example 2: If statement\n",
    "\n",
    "Next in our assay analysis, we would like get the depth interval for the anomalous grades. We can write a second\n",
    "function that takes the result of `anomalous` such that"
   ]
  },
  {
   "cell_type": "code",
   "execution_count": null,
   "id": "359152c1",
   "metadata": {
    "lines_to_next_cell": 2
   },
   "outputs": [],
   "source": []
  },
  {
   "cell_type": "markdown",
   "id": "fc1e7bf6",
   "metadata": {
    "lines_to_next_cell": 2
   },
   "source": [
    "The `get_depths` function takes in two lists, one of values and another one for the logic (`bool`), and returns a\n",
    "subset of values if the `conditions` are `True`. Here are a few Python details to highlight\n",
    "\n",
    "- The `if` statement used to test a condition (true or false). Other conditions are\n",
    "    - `elif`: Always follows and if statement, requires a condition.\n",
    "    - `else`: Always used at the end of `if` statements, no condition used.\n",
    "- The `zip` method allows iterating over multiple lists at the same time.\n",
    "  If the inputs have different lengths, the iteration will stop once it reaches the end of the shortest list.\n",
    "\n",
    "- We use `typing` (e.g. `conditions: list[bool]`) in the signature of the function to\n",
    "  specify the type required for the input arguments. The type is not enforced on runtime,\n",
    "  but mainly good-practice as it can be used for code analysis and documentation."
   ]
  },
  {
   "cell_type": "markdown",
   "id": "53502dd1",
   "metadata": {},
   "source": [
    "Calling the `get_depths` method with the `grades` and `logic` previously computed we get"
   ]
  },
  {
   "cell_type": "code",
   "execution_count": null,
   "id": "57e00de7",
   "metadata": {},
   "outputs": [],
   "source": []
  },
  {
   "cell_type": "markdown",
   "id": "73936a13",
   "metadata": {},
   "source": [
    " Copyright (c) 2022 Mira Geoscience Ltd."
   ]
  }
 ],
 "metadata": {
  "kernelspec": {
   "display_name": "Python 3 (ipykernel)",
   "language": "python",
   "name": "python3"
  }
 },
 "nbformat": 4,
 "nbformat_minor": 5
}
