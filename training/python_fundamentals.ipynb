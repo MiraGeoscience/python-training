{
 "cells": [
  {
   "cell_type": "markdown",
   "id": "104a68e9",
   "metadata": {},
   "source": [
    "# Python Fundamentals\n",
    "\n",
    "Almost all computer programs can be broken down into simple operations that\n",
    "are stringed together to perform complex tasks. In this section, we introduce\n",
    "core Python concepts and syntax that would be required to write Python programs."
   ]
  },
  {
   "cell_type": "markdown",
   "id": "60e9f7e3",
   "metadata": {},
   "source": [
    "## Variables\n",
    "\n",
    "A key component of programming is the storage of information in a computer\n",
    "memory as **variables**. It is a way to assign small blocks of data with a label\n",
    "that is human-readable. We will start with simple **numerical** and **string** variables.\n",
    "\n",
    "## Numerics\n",
    "\n",
    "Numerical values can be of type `float` with decimals or of type `int` (integers). Floats are mainly used for\n",
    "arithmetic while integers are commonly used to count or index arrays."
   ]
  },
  {
   "cell_type": "code",
   "execution_count": null,
   "id": "0d46eb37",
   "metadata": {},
   "outputs": [],
   "source": []
  },
  {
   "cell_type": "markdown",
   "id": "1f250f5e",
   "metadata": {},
   "source": [
    "We have created our first numerical variable **x** for which the computer as a pointer to the `int` value of **1**.\n",
    "Note that we have also used two built-in Python methods: `print` and `type`.\n",
    "\n",
    "- The `type` **method** gets evaluated and returns the type of the **object**\n",
    "  (see [notes below](Quick-note-on-Objects)). Input values for methods are always\n",
    "  given between parentheses `()`.\n",
    "- The `print` method displays the result to screen.\n",
    "\n",
    "Now let's create a second variable **y** of numerical type `float`"
   ]
  },
  {
   "cell_type": "code",
   "execution_count": null,
   "id": "0d9ea872",
   "metadata": {},
   "outputs": [],
   "source": []
  },
  {
   "cell_type": "markdown",
   "id": "2cd3e405",
   "metadata": {},
   "source": [
    "## Operations\n",
    "\n",
    "Here is a shortlist of standard arithmetic and logical operators that can be applied on numerical values (in order\n",
    "of priority of operation).\n",
    "\n",
    "- `**`: Power\n",
    "- `%` : Modulo\n",
    "- `*`: Multiplication\n",
    "- `\\`: Division\n",
    "- `+`: Addition\n",
    "- `-`: Subtraction\n",
    "- `==`: Logical equal\n",
    "- `>` : Logical greater than\n",
    "- `<` : Logical smaller than\n",
    "\n",
    "For example:"
   ]
  },
  {
   "cell_type": "code",
   "execution_count": null,
   "id": "94cf34ef",
   "metadata": {},
   "outputs": [],
   "source": []
  },
  {
   "cell_type": "markdown",
   "id": "4b7771cf",
   "metadata": {},
   "source": [
    "You can verify the result above by doing the operations in your head. It is important to keep in mind general rules\n",
    "of return types for numerical values.\n",
    "\n",
    "- Adding or subtracting integers yields an integer"
   ]
  },
  {
   "cell_type": "code",
   "execution_count": null,
   "id": "2db33398",
   "metadata": {},
   "outputs": [],
   "source": []
  },
  {
   "cell_type": "markdown",
   "id": "305b15ee",
   "metadata": {},
   "source": [
    "- Multiplying or dividing integers yields a float"
   ]
  },
  {
   "cell_type": "code",
   "execution_count": null,
   "id": "2af9fd56",
   "metadata": {},
   "outputs": [],
   "source": []
  },
  {
   "cell_type": "markdown",
   "id": "164806de",
   "metadata": {},
   "source": [
    "- Mix operations on integer and float always yield a float"
   ]
  },
  {
   "cell_type": "code",
   "execution_count": null,
   "id": "ecad7e2e",
   "metadata": {},
   "outputs": [],
   "source": []
  },
  {
   "cell_type": "markdown",
   "id": "353bebe0",
   "metadata": {},
   "source": [
    "## Strings\n",
    "\n",
    "Strings are text objects that contain characters (letters, numbers or symbols) isolated by single `''` or double\n",
    "`\"\"` quotes. Both are acceptable but consistency throughout your code is preferable.\n",
    "\n",
    "Here is a shortlist of useful methods that can be used on strings.\n",
    "\n",
    "- Adding"
   ]
  },
  {
   "cell_type": "code",
   "execution_count": null,
   "id": "f456a32e",
   "metadata": {},
   "outputs": [],
   "source": []
  },
  {
   "cell_type": "markdown",
   "id": "14167ffa",
   "metadata": {},
   "source": [
    "- Upper/lower and single word capitalization"
   ]
  },
  {
   "cell_type": "code",
   "execution_count": null,
   "id": "e2b0a2f6",
   "metadata": {},
   "outputs": [],
   "source": []
  },
  {
   "cell_type": "markdown",
   "id": "6c087e03",
   "metadata": {},
   "source": [
    "- Upper case every word"
   ]
  },
  {
   "cell_type": "code",
   "execution_count": null,
   "id": "f6e7e7e4",
   "metadata": {},
   "outputs": [],
   "source": []
  },
  {
   "cell_type": "markdown",
   "id": "4b89377d",
   "metadata": {},
   "source": [
    "- Find sub-string within"
   ]
  },
  {
   "cell_type": "code",
   "execution_count": null,
   "id": "2ff489e3",
   "metadata": {},
   "outputs": [],
   "source": []
  },
  {
   "cell_type": "markdown",
   "id": "8aaac508",
   "metadata": {},
   "source": [
    "## Objects\n",
    "\n",
    "At the core, Python is an **object-oriented** programming (OOP) language.\n",
    "In short, a computer program is made up of many object variables that hold\n",
    "**attributes** and **methods** specific to itself. An **object** is also\n",
    "referred to as a `Class`. Think of it as a small machine that takes inputs,\n",
    "store values and does operations on request. Objects can interact with each other\n",
    "to form a program. Object-oriented programming allows for concise code that is\n",
    "easy to read and share with others - which explains the popularity of Python in the world of open-source.\n",
    "\n",
    "![oop](./images/object_oriented.png)\n",
    "\n",
    "This is somewhat in contrast to **imperative** or **procedural-based** languages, such as **C** and **Fortran**. In an\n",
    "imperative framework, variables and functions are chained to form a series of computational steps executed in\n",
    "sequence, but variables themselves don't do anything - they are simple container of data.\n",
    "\n",
    "![imperative](./images/imperative.png)\n",
    "\n",
    "Python can also be written in a procedural way, but internally objects are always doing the work.\n",
    "\n",
    "Take for example the numeric variables `x` introduced previously.\n",
    "While it appears to be a simple integer, it is still a Python object with methods.\n",
    "You can access the list of methods available to that specific object by typing `.`\n",
    "then the `tab` key after the variable\n",
    "\n",
    "![methods](./images/methods.png)\n",
    "\n",
    "In this case, the `imag` method of the integer would return the imaginary part\n",
    "of x (if it was a complex number). In a future section on [Classes](classes),\n",
    "you will be able to create your own type of object with custom methods.\n",
    "To be continued.\n"
   ]
  },
  {
   "cell_type": "markdown",
   "id": "44583260",
   "metadata": {},
   "source": [
    " Copyright (c) 2022 Mira Geoscience Ltd."
   ]
  }
 ],
 "metadata": {
  "jupytext": {
   "formats": "ipynb,py"
  },
  "kernelspec": {
   "display_name": "Python 3 (ipykernel)",
   "language": "python",
   "name": "python3"
  }
 },
 "nbformat": 4,
 "nbformat_minor": 5
}
