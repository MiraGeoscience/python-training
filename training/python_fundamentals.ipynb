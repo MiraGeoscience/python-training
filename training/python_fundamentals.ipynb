{
 "cells": [
  {
   "cell_type": "markdown",
   "id": "2d884ada",
   "metadata": {},
   "source": [
    "# Python Fundamentals\n",
    "\n",
    "Almost all computer programs can be broken down into simple operations that\n",
    "are stringed together to perform complex tasks. In this section, we introduce\n",
    "core Python concepts and syntax that would be required to write Python programs."
   ]
  },
  {
   "cell_type": "markdown",
   "id": "f0ef2ad6",
   "metadata": {},
   "source": [
    "## Variables\n",
    "\n",
    "A key component of programming is the storage of information in a computer\n",
    "memory as **variables**. It is a way to assign small blocks of data with a label\n",
    "that is human-readable. We will start with simple **numerical** and **string** variables.\n",
    "\n",
    "## Numerics\n",
    "\n",
    "Numerical values can be of type `float` with decimals or of type `int` (integers). Floats are mainly used for\n",
    "arithmetic while integers are commonly used to count or index arrays.\n",
    "\n",
    "```\n",
    "x = 1\n",
    "print(type(x))\n",
    "```"
   ]
  },
  {
   "cell_type": "code",
   "execution_count": null,
   "id": "18386888",
   "metadata": {
    "tags": [
     "remove-input"
    ]
   },
   "outputs": [],
   "source": [
    "x = 1\n",
    "print(type(x))"
   ]
  },
  {
   "cell_type": "markdown",
   "id": "4bfedbdc",
   "metadata": {},
   "source": [
    "We have created our first numerical variable **x** for which the computer as a pointer to the `int` value of **1**.\n",
    "Note that we have also used two built-in Python methods: `print` and `type`.\n",
    "\n",
    "- The `type` **method** gets evaluated and returns the type of the **object**\n",
    "  (see [notes below](Quick-note-on-Objects)). Input values for methods are always\n",
    "  given between parentheses `()`.\n",
    "- The `print` method displays the result to screen.\n",
    "\n",
    "Now let's create a second variable **y** of numerical type `float`\n",
    "\n",
    "```\n",
    "y = 1.0\n",
    "print(type(y))\n",
    "```"
   ]
  },
  {
   "cell_type": "code",
   "execution_count": null,
   "id": "0600c568",
   "metadata": {
    "tags": [
     "remove-input"
    ]
   },
   "outputs": [],
   "source": [
    "y = 1.0\n",
    "print(type(y))"
   ]
  },
  {
   "cell_type": "markdown",
   "id": "e5d2c73f",
   "metadata": {},
   "source": [
    "## Operations\n",
    "\n",
    "Here is a shortlist of standard arithmetic and logical operators that can be applied on numerical values (in order\n",
    "of priority of operation).\n",
    "\n",
    "- `**`: Power\n",
    "- `%` : Modulo\n",
    "- `*`: Multiplication\n",
    "- `\\`: Division\n",
    "- `+`: Addition\n",
    "- `-`: Subtraction\n",
    "- `==`: Logical equal\n",
    "- `>` : Logical greater than\n",
    "- `<` : Logical smaller than\n",
    "\n",
    "For example\n",
    "\n",
    "```\n",
    "2**2 * 1.5 + 1 == 7.0\n",
    "```"
   ]
  },
  {
   "cell_type": "code",
   "execution_count": null,
   "id": "ee34158f",
   "metadata": {
    "tags": [
     "remove-input"
    ]
   },
   "outputs": [],
   "source": [
    "print(2**2 * 1.5 + 1 == 7.0)"
   ]
  },
  {
   "cell_type": "markdown",
   "id": "16f12353",
   "metadata": {},
   "source": [
    "You can verify the result above by doing the operations in your head. It is important to keep in mind general rules\n",
    "of return types for numerical values.\n",
    "\n",
    "- Adding or subtracting integers yields an integer\n",
    "\n",
    "    ```\n",
    "    type(x+x)\n",
    "    ```"
   ]
  },
  {
   "cell_type": "code",
   "execution_count": null,
   "id": "1aa79ea5",
   "metadata": {
    "tags": [
     "remove-input"
    ]
   },
   "outputs": [],
   "source": [
    "type(x + x)"
   ]
  },
  {
   "cell_type": "markdown",
   "id": "0debdc26",
   "metadata": {},
   "source": [
    "- Multiplying or dividing integers yields a float\n",
    "    ```\n",
    "    type(x/x)\n",
    "    ```"
   ]
  },
  {
   "cell_type": "code",
   "execution_count": null,
   "id": "8199f17a",
   "metadata": {
    "tags": [
     "remove-input"
    ]
   },
   "outputs": [],
   "source": [
    "type(x / x)  # Multiply|divide integers yields a float"
   ]
  },
  {
   "cell_type": "markdown",
   "id": "fbf71d21",
   "metadata": {},
   "source": [
    "- Mix operations on integer and float always yield a float\n",
    "    ```\n",
    "    type(x+y)\n",
    "    ```"
   ]
  },
  {
   "cell_type": "code",
   "execution_count": null,
   "id": "5d2eb025",
   "metadata": {
    "tags": [
     "remove-input"
    ]
   },
   "outputs": [],
   "source": [
    "type(x + y)  # Mix of integer and float yields a float"
   ]
  },
  {
   "cell_type": "markdown",
   "id": "1e584b69",
   "metadata": {},
   "source": [
    "## Strings\n",
    "\n",
    "Strings are text objects that contain characters (letters, numbers or symbols) isolated by single `''` or double\n",
    "`\"\"` quotes. Both are acceptable but consistency throughout your code is preferable.\n",
    "\n",
    "Here is a shortlist of useful methods that can be used on strings.\n",
    "\n",
    "- Adding\n",
    "    ```\n",
    "    \"hello\" + \" world\"\n",
    "    ```"
   ]
  },
  {
   "cell_type": "code",
   "execution_count": null,
   "id": "79f96fa3",
   "metadata": {
    "tags": [
     "remove-input"
    ]
   },
   "outputs": [],
   "source": [
    "print(\"hello\" + \" world\")"
   ]
  },
  {
   "cell_type": "markdown",
   "id": "e67cf15a",
   "metadata": {},
   "source": [
    "- Upper/lower and single word capitalization\n",
    "    ```\n",
    "    \"I\" + \" love \".upper() + \"python\".capitalize()\n",
    "    ```"
   ]
  },
  {
   "cell_type": "code",
   "execution_count": null,
   "id": "ede66ebb",
   "metadata": {
    "tags": [
     "remove-input"
    ]
   },
   "outputs": [],
   "source": [
    "print(\"I\" + \" love \".upper() + \"python\".capitalize())"
   ]
  },
  {
   "cell_type": "markdown",
   "id": "8ea13fe7",
   "metadata": {},
   "source": [
    "- Upper case every word\n",
    "    ```\n",
    "    \"this is important\".title()\n",
    "    ```"
   ]
  },
  {
   "cell_type": "code",
   "execution_count": null,
   "id": "1fd8abac",
   "metadata": {
    "tags": [
     "remove-input"
    ]
   },
   "outputs": [],
   "source": [
    "print(\"this is important\".title())"
   ]
  },
  {
   "cell_type": "markdown",
   "id": "a06d8f39",
   "metadata": {},
   "source": [
    "- Find sub-string within\n",
    "    ```\n",
    "    \"Long sentence with symbols #$%^&\".find(\"sym\")\n",
    "    ```"
   ]
  },
  {
   "cell_type": "code",
   "execution_count": null,
   "id": "882b20a4",
   "metadata": {
    "tags": [
     "remove-input"
    ]
   },
   "outputs": [],
   "source": [
    "print(\"Long sentence with symbols #$%^&\".find(\"sym\"))"
   ]
  },
  {
   "cell_type": "markdown",
   "id": "2a521255",
   "metadata": {},
   "source": [
    "## Objects\n",
    "\n",
    "At the core, Python is an **object-oriented** programming (OOP) language.\n",
    "In short, a computer program is made up of many object variables that hold\n",
    "**attributes** and **methods** specific to itself. An **object** is also\n",
    "referred to as a `Class`. Think of it as a small machine that takes inputs,\n",
    "store values and does operations on request. Objects can interact with each other\n",
    "to form a program. Object-oriented programming allows for concise code that is\n",
    "easy to read and share with others - which explains the popularity of Python in the world of open-source.\n",
    "\n",
    "![oop](./images/object_oriented.png)\n",
    "\n",
    "This is somewhat in contrast to **imperative** or **procedural-based** languages, such as **C** and **Fortran**. In an\n",
    "imperative framework, variables and functions are chained to form a series of computational steps executed in\n",
    "sequence, but variables themselves don't do anything - they are simple container of data.\n",
    "\n",
    "![imperative](./images/imperative.png)\n",
    "\n",
    "Python can also be written in a procedural way, but internally objects are always doing the work.\n",
    "\n",
    "Take for example the numeric variables `x` introduced previously.\n",
    "While it appears to be a simple integer, it is still a Python object with methods.\n",
    "You can access the list of methods available to that specific object by typing `.`\n",
    "then the `tab` key after the variable\n",
    "\n",
    "![methods](./images/methods.png)\n",
    "\n",
    "In this case, the `imag` method of the integer would return the imaginary part\n",
    "of x (if it was a complex number). In a future section on [Classes](classes),\n",
    "you will be able to create your own type of object with custom methods.\n",
    "To be continued.\n"
   ]
  },
  {
   "cell_type": "markdown",
   "id": "8b59119e",
   "metadata": {},
   "source": [
    "The next sections cover other core Python objects\n",
    "\n",
    "- [Containers](containers)\n",
    "- [Functions](functions)\n",
    "- [Classes](classes)\n",
    "- [Best-Practice](best_practice)"
   ]
  },
  {
   "cell_type": "markdown",
   "id": "8ced8246",
   "metadata": {},
   "source": [
    " Copyright (c) 2022 Mira Geoscience Ltd."
   ]
  }
 ],
 "metadata": {
  "jupytext": {
   "formats": "ipynb,py"
  },
  "kernelspec": {
   "display_name": "Python 3 (ipykernel)",
   "language": "python",
   "name": "python3"
  }
 },
 "nbformat": 4,
 "nbformat_minor": 5
}
