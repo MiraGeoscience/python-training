{
 "cells": [
  {
   "cell_type": "markdown",
   "id": "a4128884",
   "metadata": {},
   "source": [
    "# Best Practice\n",
    "\n",
    "This section provides a brief overview of best coding practice. Knowing that coding standardsmay change over time, the information provided below reflects principals established by the community and documented in the [PEP8 style guide](https://peps.python.org/pep-0008/)."
   ]
  },
  {
   "cell_type": "markdown",
   "id": "1b99b9f5",
   "metadata": {},
   "source": [
    "## Docstrings\n",
    "\n",
    "One important part of open-source work is to provide sufficient information on classes and methods for others to use. The main source of information is provided as a block of text, also refered to as docstring, directly below the signature of the method. The information should be written in plain English with a list of input arguments. Different styles are possible and generally agreed upon by the development team.\n",
    "\n",
    "- [sphinx-reST](https://sphinx-rtd-tutorial.readthedocs.io/en/latest/docstrings.html)\n",
    "- [numpydoc](https://numpydoc.readthedocs.io/en/latest/format.html)\n",
    "- [google](https://github.com/google/styleguide/blob/gh-pages/pyguide.md#38-comments-and-docstrings)\n",
    "\n",
    "Regardless of the style chosen, it is all about consistancy. \n",
    "\n",
    "In this tutorial, we follow the `sphinx-reST` style as it is compact and standard format with [Pycharm](https://www.jetbrains.com/pycharm) used for code development."
   ]
  },
  {
   "cell_type": "code",
   "execution_count": null,
   "id": "32c34b94",
   "metadata": {},
   "outputs": [],
   "source": []
  }
 ],
 "metadata": {
  "kernelspec": {
   "display_name": "Python 3 (ipykernel)",
   "language": "python",
   "name": "python3"
  },
  "language_info": {
   "codemirror_mode": {
    "name": "ipython",
    "version": 3
   },
   "file_extension": ".py",
   "mimetype": "text/x-python",
   "name": "python",
   "nbconvert_exporter": "python",
   "pygments_lexer": "ipython3",
   "version": "3.9.12"
  }
 },
 "nbformat": 4,
 "nbformat_minor": 5
}
