{
 "cells": [
  {
   "cell_type": "markdown",
   "id": "5af9c55b",
   "metadata": {},
   "source": [
    "# Best Practice\n",
    "\n",
    "This section provides a brief overview of best coding practice. Knowing that coding standards may change over time,\n",
    "the information provided below reflects principals established by the community and documented in the [PEP8 style\n",
    "guide](https://peps.python.org/pep-0008/)."
   ]
  },
  {
   "cell_type": "markdown",
   "id": "137f0ad6",
   "metadata": {},
   "source": [
    "## Docstrings\n",
    "\n",
    "One important part of open-source work is to provide sufficient information on classes and methods for others to\n",
    "use. The docstring is the standard way to provide this information. It is included in a block of text directly \n",
    "below the signature of the method or class. The information should be written in plain English with a list\n",
    "of input arguments. Different styles are possible and generally agreed upon by the development team.\n",
    "\n",
    "- [sphinx-reST](https://sphinx-rtd-tutorial.readthedocs.io/en/latest/docstrings.html)\n",
    "- [numpydoc](https://numpydoc.readthedocs.io/en/latest/format.html)\n",
    "- [google](https://github.com/google/styleguide/blob/gh-pages/pyguide.md#38-comments-and-docstrings)\n",
    "\n",
    "Regardless of the style chosen, it is all about consistency.\n",
    "\n",
    "In this tutorial, we follow the `sphinx-reST` style as it is a compact and standard format with [Pycharm](\n",
    "https://www.jetbrains.com/pycharm) used for code development."
   ]
  },
  {
   "cell_type": "markdown",
   "id": "a903aa30",
   "metadata": {},
   "source": [
    " Copyright (c) 2022 Mira Geoscience Ltd."
   ]
  }
 ],
 "metadata": {
  "jupytext": {
   "formats": "ipynb,py"
  },
  "kernelspec": {
   "display_name": "Python 3 (ipykernel)",
   "language": "python",
   "name": "python3"
  },
  "language_info": {
   "codemirror_mode": {
    "name": "ipython",
    "version": 3
   },
   "file_extension": ".py",
   "mimetype": "text/x-python",
   "name": "python",
   "nbconvert_exporter": "python",
   "pygments_lexer": "ipython3",
   "version": "3.9.12"
  }
 },
 "nbformat": 4,
 "nbformat_minor": 5
}
