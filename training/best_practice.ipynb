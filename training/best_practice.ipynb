{
 "cells": [
  {
   "cell_type": "markdown",
   "id": "fe7bff00",
   "metadata": {},
   "source": [
    "# Best Practice\n",
    "\n",
    "This section provides a brief overview of best coding practice. Knowing that coding standards may change over time,\n",
    "the information provided below reflects principals established by the community and documented in the [PEP8 style\n",
    "guide](https://peps.python.org/pep-0008/)."
   ]
  },
  {
   "cell_type": "markdown",
   "id": "f68b0098",
   "metadata": {},
   "source": [
    "## Docstrings\n",
    "\n",
    "One important part of open-source work is to provide sufficient information on classes and methods for others to\n",
    "use. The main source of information is provided as a block of text, also referred to as docstring, directly below\n",
    "the signature of the method. The information should be written in plain English with a list of input arguments.\n",
    "Different styles are possible and generally agreed upon by the development team.\n",
    "\n",
    "- [sphinx-reST](https://sphinx-rtd-tutorial.readthedocs.io/en/latest/docstrings.html)\n",
    "- [numpydoc](https://numpydoc.readthedocs.io/en/latest/format.html)\n",
    "- [google](https://github.com/google/styleguide/blob/gh-pages/pyguide.md#38-comments-and-docstrings)\n",
    "\n",
    "Regardless of the style chosen, it is all about consistency.\n",
    "\n",
    "In this tutorial, we follow the `sphinx-reST` style as it is compact and standard format with [Pycharm](\n",
    "https://www.jetbrains.com/pycharm) used for code development."
   ]
  },
  {
   "cell_type": "markdown",
   "id": "118f98cd",
   "metadata": {},
   "source": [
    " Copyright (c) 2022 Mira Geoscience Ltd."
   ]
  }
 ],
 "metadata": {
  "jupytext": {
   "formats": "ipynb,py"
  },
  "kernelspec": {
   "display_name": "Python 3 (ipykernel)",
   "language": "python",
   "name": "python3"
  }
 },
 "nbformat": 4,
 "nbformat_minor": 5
}
