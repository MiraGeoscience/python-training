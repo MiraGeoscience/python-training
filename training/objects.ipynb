{
 "cells": [
  {
   "cell_type": "markdown",
   "id": "36488e35",
   "metadata": {},
   "source": [
    "# Objects\n",
    "\n",
    "At the core, Python is an **object-oriented programming** (OOP) language that is defined by a `Class` structure.\n",
    "Each `class` holds methods and attributes specific to itself. You can think of a `Class` as a small machine that\n",
    "can take inputs, store properties and do operations, or interact with other parts. Python programs are made of many\n",
    "of those objects that are connected to each other to make up a program.\n",
    "\n",
    "This is somewhat in contrast to **imperative** or **procedural-based** languages, such as C and Fortran. In an\n",
    "imperative framework, variables and functions are created to form a series of computational steps executed in\n",
    "sequence. While often slower than imperative compiled languages, OOP languages like Python allow for more concise\n",
    "code that is easy to read and share. Python can also be written in a procedural way, but internally objects are\n",
    "always doing the work. This will become obvious as we go further in this tutorial.\n",
    "\n",
    "Let's start by introducing some core Python objects."
   ]
  },
  {
   "cell_type": "markdown",
   "id": "816aacd4",
   "metadata": {},
   "source": [
    "## Numerics\n",
    "\n",
    "Numerical values can be of type `float` with decimals or of type `int` (integers). Floats are mainly used for\n",
    "arithmetic while integers are commonly used to count or index arrays.\n",
    "\n",
    "```\n",
    "# Integer\n",
    "x = 1\n",
    "print(type(x))\n",
    "```"
   ]
  },
  {
   "cell_type": "code",
   "execution_count": null,
   "id": "237f4d56",
   "metadata": {},
   "outputs": [],
   "source": []
  },
  {
   "cell_type": "markdown",
   "id": "4038b76c",
   "metadata": {},
   "source": [
    "```\n",
    "# Float\n",
    "y = 1.0\n",
    "print(type(y))\n",
    "```"
   ]
  },
  {
   "cell_type": "code",
   "execution_count": null,
   "id": "ed0f1d8f",
   "metadata": {},
   "outputs": [],
   "source": []
  },
  {
   "cell_type": "markdown",
   "id": "a78ba192",
   "metadata": {},
   "source": [
    "Note that we have used two built-in methods: `print` and `type`.\n",
    "\n",
    "First, the `type` method gets evaluated and returns the type (`Class`) of the object given as input.\n",
    "\n",
    "Secondly, the `print` method displays the result to screen. Input values for methods are always given between\n",
    "parentheses `()`."
   ]
  },
  {
   "cell_type": "markdown",
   "id": "a62143ff",
   "metadata": {},
   "source": [
    "As previously mentioned, even if `x` is simply an integer, it is technically still a Python object with methods. To\n",
    "access the list of methods available, you can simply type `.` then the `tab` key.\n",
    "\n",
    "![methods](./images/methods.png)\n",
    "\n",
    "In this case, the `imag` method of the integer would return the imaginary part of x (if it was a complex number)."
   ]
  },
  {
   "cell_type": "markdown",
   "id": "83dd7cda",
   "metadata": {},
   "source": [
    "### Mathematical operations\n",
    "\n",
    "Here is a shortlist of standard arithmetic and logical operators that can be applied on numerical values (in order\n",
    "of priority of operation).\n",
    "\n",
    "- `**`: Power\n",
    "- `%` : Modulo\n",
    "- `*`: Multiplication\n",
    "- `\\`: Division\n",
    "- `+`: Addition\n",
    "- `-`: Subtraction\n",
    "- `==`: Logical equal\n",
    "- `>` : Logical greater than\n",
    "- `<` : Logical smaller than\n",
    "\n",
    "For example\n",
    "\n",
    "```\n",
    "2**2 * 1.5 + 1 == 7.0\n",
    "```"
   ]
  },
  {
   "cell_type": "code",
   "execution_count": null,
   "id": "46e6b8b6",
   "metadata": {},
   "outputs": [],
   "source": []
  },
  {
   "cell_type": "markdown",
   "id": "2f1f9f22",
   "metadata": {},
   "source": [
    "You can verify the result above by doing the operations in your head. It is important to keep in mind general rules\n",
    "of return types for numerical values.\n",
    "\n",
    "- Adding or subtracting integers yields an integer\n",
    "\n",
    "    ```\n",
    "    type(x+x)\n",
    "    ```"
   ]
  },
  {
   "cell_type": "code",
   "execution_count": null,
   "id": "eea4b6ac",
   "metadata": {},
   "outputs": [],
   "source": []
  },
  {
   "cell_type": "markdown",
   "id": "412dad8f",
   "metadata": {},
   "source": [
    "- Multiplying or dividing integers yields a float\n",
    "    ```\n",
    "    type(x/x)\n",
    "    ```"
   ]
  },
  {
   "cell_type": "code",
   "execution_count": null,
   "id": "de68fa82",
   "metadata": {},
   "outputs": [],
   "source": []
  },
  {
   "cell_type": "markdown",
   "id": "d7507c22",
   "metadata": {},
   "source": [
    "- Mix operations on integer and float always yield a float\n",
    "    ```\n",
    "    type(x+y)\n",
    "    ```"
   ]
  },
  {
   "cell_type": "code",
   "execution_count": null,
   "id": "f880ea5a",
   "metadata": {},
   "outputs": [],
   "source": []
  },
  {
   "cell_type": "markdown",
   "id": "bc788d2f",
   "metadata": {},
   "source": [
    "## String\n",
    "\n",
    "Strings are text objects that contain characters (letters, numbers or symbols) isolated by single `''` or double\n",
    "`\"\"` quotes. Both are acceptable but consistency throughout your code is preferable.\n",
    "\n",
    "Here is a shortlist of useful methods that can be used on strings.\n",
    "\n",
    "- Adding\n",
    "    ```\n",
    "    \"hello\" + \" world\"\n",
    "    ```"
   ]
  },
  {
   "cell_type": "code",
   "execution_count": null,
   "id": "98b87f46",
   "metadata": {},
   "outputs": [],
   "source": []
  },
  {
   "cell_type": "markdown",
   "id": "0bc69803",
   "metadata": {},
   "source": [
    "- Upper/lower and single word capitalization\n",
    "    ```\n",
    "    \"I\" + \" love \".upper() + \"python\".capitalize()\n",
    "    ```"
   ]
  },
  {
   "cell_type": "code",
   "execution_count": null,
   "id": "8476284c",
   "metadata": {},
   "outputs": [],
   "source": []
  },
  {
   "cell_type": "markdown",
   "id": "c55572de",
   "metadata": {},
   "source": [
    "- Upper case every word\n",
    "    ```\n",
    "    \"this is important\".title()\n",
    "    ```"
   ]
  },
  {
   "cell_type": "code",
   "execution_count": null,
   "id": "299b672a",
   "metadata": {},
   "outputs": [],
   "source": []
  },
  {
   "cell_type": "markdown",
   "id": "c430ad52",
   "metadata": {},
   "source": [
    "- Find sub-string within\n",
    "    ```\n",
    "    \"Long sentence with symbols #$%^&\".find(\"sym\")\n",
    "    ```"
   ]
  },
  {
   "cell_type": "code",
   "execution_count": null,
   "id": "7f23deec",
   "metadata": {},
   "outputs": [],
   "source": []
  },
  {
   "cell_type": "markdown",
   "id": "4458263f",
   "metadata": {},
   "source": [
    "## List\n",
    "\n",
    "List are generic containers for other objects, which can be of any type. They are created with square brackets `[]`."
   ]
  },
  {
   "cell_type": "code",
   "execution_count": null,
   "id": "4b58ce4b",
   "metadata": {},
   "outputs": [],
   "source": []
  },
  {
   "cell_type": "markdown",
   "id": "1f32a759",
   "metadata": {},
   "source": [
    "Here are a few important methods that can used on a `list`.\n",
    "\n",
    "- Indexing (accessing) elements of the list (count starts at 0)\n",
    "    ```\n",
    "    a_list[0]\n",
    "    ```"
   ]
  },
  {
   "cell_type": "code",
   "execution_count": null,
   "id": "8a93900f",
   "metadata": {},
   "outputs": [],
   "source": []
  },
  {
   "cell_type": "markdown",
   "id": "3caf4710",
   "metadata": {},
   "source": [
    "- Adding (appending) to the list.\n",
    "    ```\n",
    "    a_list += [\"new\"]\n",
    "    print(a_list)\n",
    "    ```"
   ]
  },
  {
   "cell_type": "code",
   "execution_count": null,
   "id": "c9528ea4",
   "metadata": {},
   "outputs": [],
   "source": []
  },
  {
   "cell_type": "markdown",
   "id": "efb45051",
   "metadata": {},
   "source": [
    "- Removing an element from the list using the index\n",
    "    ```\n",
    "    a_list.pop(0)\n",
    "    print(a_list)\n",
    "    ```"
   ]
  },
  {
   "cell_type": "code",
   "execution_count": null,
   "id": "0de895c6",
   "metadata": {},
   "outputs": [],
   "source": []
  },
  {
   "cell_type": "markdown",
   "id": "a7bf1bc5",
   "metadata": {},
   "source": [
    "- Finding the index of an element within the list. The same method applies to [string](String) objects.\n",
    "    ```\n",
    "    a_list.index(\"abc\")\n",
    "    ```"
   ]
  },
  {
   "cell_type": "code",
   "execution_count": null,
   "id": "413c7404",
   "metadata": {},
   "outputs": [],
   "source": []
  },
  {
   "cell_type": "markdown",
   "id": "09e0f308",
   "metadata": {},
   "source": [
    "## Dictionary\n",
    "\n",
    "Dictionaries (`dict`) are also containers for objects but give an additional level of structure over lists as every\n",
    "value of the dictionary is indexed by a `key`. A dictionary is created with a list of `key: value` pairs within\n",
    "braces `{}`.\n",
    "\n",
    "```\n",
    "my_dict = {\n",
    "    \"float\": 1.0,\n",
    "    \"integer\": 2,\n",
    "    \"string\": \"abc\",\n",
    "}\n",
    "```"
   ]
  },
  {
   "cell_type": "code",
   "execution_count": null,
   "id": "c99594cd",
   "metadata": {},
   "outputs": [],
   "source": []
  },
  {
   "cell_type": "markdown",
   "id": "531d2a32",
   "metadata": {},
   "source": [
    "Here are a few important methods that can used on a `dict`.\n",
    "\n",
    "- Accessing values using the key\n",
    "\n",
    "    ```\n",
    "    my_dict[\"function\"]\n",
    "    ```"
   ]
  },
  {
   "cell_type": "code",
   "execution_count": null,
   "id": "7fdfca93",
   "metadata": {},
   "outputs": [],
   "source": []
  },
  {
   "cell_type": "markdown",
   "id": "185cd01f",
   "metadata": {},
   "source": [
    "- Adding entries\n",
    "    ```\n",
    "    my_dict[\"new\"] = 123\n",
    "    ```"
   ]
  },
  {
   "cell_type": "code",
   "execution_count": null,
   "id": "5c8c902a",
   "metadata": {},
   "outputs": [],
   "source": []
  },
  {
   "cell_type": "markdown",
   "id": "a6b8f14e",
   "metadata": {},
   "source": [
    "- Removing entries\n",
    "    ```\n",
    "    del my_dict[\"new\"]\n",
    "    ```"
   ]
  },
  {
   "cell_type": "code",
   "execution_count": null,
   "id": "e5f12393",
   "metadata": {},
   "outputs": [],
   "source": []
  },
  {
   "cell_type": "markdown",
   "id": "3cbd7f6c",
   "metadata": {},
   "source": [
    "- Looping over keys\n",
    "    ```\n",
    "    list(my_dict)\n",
    "    ```"
   ]
  },
  {
   "cell_type": "code",
   "execution_count": null,
   "id": "094e73e1",
   "metadata": {},
   "outputs": [],
   "source": []
  },
  {
   "cell_type": "markdown",
   "id": "1525a1ea",
   "metadata": {},
   "source": [
    "- Looping over values\n",
    "    ```\n",
    "    list(my_dict.values()]\n",
    "    ```"
   ]
  },
  {
   "cell_type": "code",
   "execution_count": null,
   "id": "b1b88b60",
   "metadata": {},
   "outputs": [],
   "source": []
  },
  {
   "cell_type": "markdown",
   "id": "1242cf09",
   "metadata": {},
   "source": [
    "- Looping over both keys and values\n",
    "    ```\n",
    "    list(my_dict.items())\n",
    "    ```"
   ]
  },
  {
   "cell_type": "code",
   "execution_count": null,
   "id": "5fdc32d9",
   "metadata": {},
   "outputs": [],
   "source": []
  },
  {
   "cell_type": "markdown",
   "id": "d6d0f85f",
   "metadata": {},
   "source": [
    " Copyright (c) 2022 Mira Geoscience Ltd."
   ]
  }
 ],
 "metadata": {
  "kernelspec": {
   "display_name": "Python 3 (ipykernel)",
   "language": "python",
   "name": "python3"
  }
 },
 "nbformat": 4,
 "nbformat_minor": 5
}
