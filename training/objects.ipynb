{
 "cells": [
  {
   "cell_type": "markdown",
   "id": "6279c9ce",
   "metadata": {},
   "source": [
    "# Objects\n",
    "\n",
    "At the core, Python is an **object-oriented programming** (OOP) language that is defined by a `Class` structure.\n",
    "Each `class` holds methods and attributes specific to itself. You can think of a `Class` as a small machine that\n",
    "can take inputs, store properties and do operations, or interact with other parts. Python programs are made of many\n",
    "of those objects that are connected to each other to make up a program.\n",
    "\n",
    "This is somewhat in contrast to **imperative** or **procedural-based** languages, such as C and Fortran. In an\n",
    "imperative framework, variables and functions are created to form a series of computational steps executed in\n",
    "sequence. While often slower than imperative compiled languages, OOP languages like Python allow for more concise\n",
    "code that is easy to read and share. Python can also be written in a procedural way, but internally objects are\n",
    "always doing the work. This will become obvious as we go further in this tutorial.\n",
    "\n",
    "Let's start by introducing some core Python objects."
   ]
  },
  {
   "cell_type": "markdown",
   "id": "2a7a33ec",
   "metadata": {},
   "source": [
    "## Numerics\n",
    "\n",
    "Numerical values can be of type `float` with decimals or of type `int` (integers). Floats are mainly used for\n",
    "arithmetic while integers are commonly used to count or index arrays.\n",
    "\n",
    "```\n",
    "# Integer\n",
    "x = 1\n",
    "print(type(x))\n",
    "```"
   ]
  },
  {
   "cell_type": "code",
   "execution_count": null,
   "id": "f2083be4",
   "metadata": {},
   "outputs": [],
   "source": []
  },
  {
   "cell_type": "markdown",
   "id": "29f2868a",
   "metadata": {},
   "source": [
    "```\n",
    "# Float\n",
    "y = 1.0\n",
    "print(type(y))\n",
    "```"
   ]
  },
  {
   "cell_type": "code",
   "execution_count": null,
   "id": "97f2d7a8",
   "metadata": {},
   "outputs": [],
   "source": []
  },
  {
   "cell_type": "markdown",
   "id": "aff2e831",
   "metadata": {},
   "source": [
    "Note that we have used two built-in methods: `print` and `type`.\n",
    "\n",
    "First, the `type` method gets evaluated and returns the type (`Class`) of the object given as input.\n",
    "\n",
    "Secondly, the `print` method displays the result to screen. Input values for methods are always given between\n",
    "parentheses `()`."
   ]
  },
  {
   "cell_type": "markdown",
   "id": "5e14e925",
   "metadata": {},
   "source": [
    "As previously mentioned, even if `x` is simply an integer, it is technically still a Python object with methods. To\n",
    "access the list of methods available, you can simply type `.` then the `tab` key.\n",
    "\n",
    "![methods](./images/methods.png)\n",
    "\n",
    "In this case, the `imag` method of the integer would return the imaginary part of x (if it was a complex number)."
   ]
  },
  {
   "cell_type": "markdown",
   "id": "801563b1",
   "metadata": {},
   "source": [
    "### Mathematical operations\n",
    "\n",
    "Here is a shortlist of standard arithmetic and logical operators that can be applied on numerical values (in order\n",
    "of priority of operation).\n",
    "\n",
    "- `**`: Power\n",
    "- `%` : Modulo\n",
    "- `*`: Multiplication\n",
    "- `\\`: Division\n",
    "- `+`: Addition\n",
    "- `-`: Subtraction\n",
    "- `==`: Logical equal\n",
    "- `>` : Logical greater than\n",
    "- `<` : Logical smaller than\n",
    "\n",
    "For example\n",
    "\n",
    "```\n",
    "2**2 * 1.5 + 1 == 7.0\n",
    "```"
   ]
  },
  {
   "cell_type": "code",
   "execution_count": null,
   "id": "6cd05921",
   "metadata": {},
   "outputs": [],
   "source": []
  },
  {
   "cell_type": "markdown",
   "id": "75a2d008",
   "metadata": {},
   "source": [
    "You can verify the result above by doing the operations in your head. It is important to keep in mind general rules\n",
    "of return types for numerical values.\n",
    "\n",
    "- Adding or subtracting integers yields an integer\n",
    "\n",
    "    ```\n",
    "    type(x+x)\n",
    "    ```"
   ]
  },
  {
   "cell_type": "code",
   "execution_count": null,
   "id": "ba24f29f",
   "metadata": {},
   "outputs": [],
   "source": []
  },
  {
   "cell_type": "markdown",
   "id": "b9b66468",
   "metadata": {},
   "source": [
    "- Multiplying or dividing integers yields a float\n",
    "    ```\n",
    "    type(x/x)\n",
    "    ```"
   ]
  },
  {
   "cell_type": "code",
   "execution_count": null,
   "id": "8acd8d92",
   "metadata": {},
   "outputs": [],
   "source": []
  },
  {
   "cell_type": "markdown",
   "id": "f18ad3e7",
   "metadata": {},
   "source": [
    "- Mix operations on integer and float always yield a float\n",
    "    ```\n",
    "    type(x+y)\n",
    "    ```"
   ]
  },
  {
   "cell_type": "code",
   "execution_count": null,
   "id": "8e5e01b3",
   "metadata": {},
   "outputs": [],
   "source": []
  },
  {
   "cell_type": "markdown",
   "id": "f3614c7f",
   "metadata": {},
   "source": [
    "## String\n",
    "\n",
    "Strings are text objects that contain characters (letters, numbers or symbols) isolated by single `''` or double\n",
    "`\"\"` quotes. Both are acceptable but consistency throughout your code is preferable.\n",
    "\n",
    "Here is a shortlist of useful methods that can be used on strings.\n",
    "\n",
    "- Adding\n",
    "    ```\n",
    "    \"hello\" + \" world\"\n",
    "    ```"
   ]
  },
  {
   "cell_type": "code",
   "execution_count": null,
   "id": "35563fdf",
   "metadata": {},
   "outputs": [],
   "source": []
  },
  {
   "cell_type": "markdown",
   "id": "33b376e0",
   "metadata": {},
   "source": [
    "- Upper/lower and single word capitalization\n",
    "    ```\n",
    "    \"I\" + \" love \".upper() + \"python\".capitalize()\n",
    "    ```"
   ]
  },
  {
   "cell_type": "code",
   "execution_count": null,
   "id": "1a2b6ee5",
   "metadata": {},
   "outputs": [],
   "source": []
  },
  {
   "cell_type": "markdown",
   "id": "ad55a55b",
   "metadata": {},
   "source": [
    "- Upper case every word\n",
    "    ```\n",
    "    \"this is important\".title()\n",
    "    ```"
   ]
  },
  {
   "cell_type": "code",
   "execution_count": null,
   "id": "04bbe341",
   "metadata": {},
   "outputs": [],
   "source": []
  },
  {
   "cell_type": "markdown",
   "id": "3e0da2eb",
   "metadata": {},
   "source": [
    "- Find sub-string within\n",
    "    ```\n",
    "    \"Long sentence with symbols #$%^&\".find(\"sym\")\n",
    "    ```"
   ]
  },
  {
   "cell_type": "code",
   "execution_count": null,
   "id": "9e04cf14",
   "metadata": {},
   "outputs": [],
   "source": []
  },
  {
   "cell_type": "markdown",
   "id": "7defc22d",
   "metadata": {},
   "source": [
    "## List\n",
    "\n",
    "Lists are generic containers for other objects, which can be of any type. They are created with square brackets `[]`."
   ]
  },
  {
   "cell_type": "code",
   "execution_count": null,
   "id": "e7a8e351",
   "metadata": {},
   "outputs": [],
   "source": [
    "a_list = [1.0, 2, \"abc\"]"
   ]
  },
  {
   "cell_type": "markdown",
   "id": "fec84288",
   "metadata": {},
   "source": [
    "Here are a few important methods that can used on a `list`.\n",
    "\n",
    "- Indexing (accessing) elements of the list (count starts at 0)\n",
    "    ```\n",
    "    a_list[0]\n",
    "    ```"
   ]
  },
  {
   "cell_type": "code",
   "execution_count": null,
   "id": "9a650d2d",
   "metadata": {},
   "outputs": [],
   "source": []
  },
  {
   "cell_type": "markdown",
   "id": "20ff04e9",
   "metadata": {},
   "source": [
    "- Adding (appending) to the list.\n",
    "    ```\n",
    "    a_list += [\"new\"]\n",
    "    print(a_list)\n",
    "    ```"
   ]
  },
  {
   "cell_type": "code",
   "execution_count": null,
   "id": "0934c7b3",
   "metadata": {},
   "outputs": [],
   "source": []
  },
  {
   "cell_type": "markdown",
   "id": "29b0e7f1",
   "metadata": {},
   "source": [
    "- Removing an element from the list using the `pop` method with index\n",
    "    ```\n",
    "    a_list.pop(0)\n",
    "    print(a_list)\n",
    "    ```"
   ]
  },
  {
   "cell_type": "code",
   "execution_count": null,
   "id": "7bdb66c1",
   "metadata": {},
   "outputs": [],
   "source": []
  },
  {
   "cell_type": "markdown",
   "id": "5f58d285",
   "metadata": {},
   "source": [
    "- Finding the `index` of an element within the list. The same method applies to [string](String) objects.\n",
    "    ```\n",
    "    a_list.index(\"abc\")\n",
    "    ```"
   ]
  },
  {
   "cell_type": "code",
   "execution_count": null,
   "id": "772df160",
   "metadata": {},
   "outputs": [],
   "source": []
  },
  {
   "cell_type": "markdown",
   "id": "1bc4bde8",
   "metadata": {},
   "source": [
    "## Dictionary\n",
    "\n",
    "Dictionaries (`dict`) are also containers for objects but give an additional level of structure over lists as every\n",
    "value of the dictionary is indexed by a `key`. A dictionary is created with a list of `key: value` pairs within\n",
    "braces `{}`.\n",
    "\n",
    "```\n",
    "my_dict = {\n",
    "    \"float\": 1.0,\n",
    "    \"integer\": 2,\n",
    "    \"string\": \"abc\",\n",
    "}\n",
    "```"
   ]
  },
  {
   "cell_type": "code",
   "execution_count": null,
   "id": "1ed67a9c",
   "metadata": {},
   "outputs": [],
   "source": []
  },
  {
   "cell_type": "markdown",
   "id": "cba9ab71",
   "metadata": {},
   "source": [
    "Here are a few important methods that can used on a `dict`.\n",
    "\n",
    "- Accessing values using the key\n",
    "\n",
    "    ```\n",
    "    my_dict[\"function\"]\n",
    "    ```"
   ]
  },
  {
   "cell_type": "code",
   "execution_count": null,
   "id": "ef440f8d",
   "metadata": {},
   "outputs": [],
   "source": []
  },
  {
   "cell_type": "markdown",
   "id": "c459daf0",
   "metadata": {},
   "source": [
    "- Adding entries\n",
    "    ```\n",
    "    my_dict[\"new\"] = 123\n",
    "    ```"
   ]
  },
  {
   "cell_type": "code",
   "execution_count": null,
   "id": "a27ae93b",
   "metadata": {},
   "outputs": [],
   "source": []
  },
  {
   "cell_type": "markdown",
   "id": "a87503cd",
   "metadata": {},
   "source": [
    "- Removing entries\n",
    "    ```\n",
    "    del my_dict[\"new\"]\n",
    "    ```"
   ]
  },
  {
   "cell_type": "code",
   "execution_count": null,
   "id": "9aa0a392",
   "metadata": {},
   "outputs": [],
   "source": []
  },
  {
   "cell_type": "markdown",
   "id": "cf9b062b",
   "metadata": {},
   "source": [
    "- Looping over keys\n",
    "    ```\n",
    "    list(my_dict)\n",
    "    ```"
   ]
  },
  {
   "cell_type": "code",
   "execution_count": null,
   "id": "a9fe5fd1",
   "metadata": {},
   "outputs": [],
   "source": []
  },
  {
   "cell_type": "markdown",
   "id": "34e0aae6",
   "metadata": {},
   "source": [
    "- Looping over values\n",
    "    ```\n",
    "    list(my_dict.values()]\n",
    "    ```"
   ]
  },
  {
   "cell_type": "code",
   "execution_count": null,
   "id": "a26e5903",
   "metadata": {},
   "outputs": [],
   "source": []
  },
  {
   "cell_type": "markdown",
   "id": "874c4257",
   "metadata": {},
   "source": [
    "- Looping over both keys and values\n",
    "    ```\n",
    "    list(my_dict.items())\n",
    "    ```"
   ]
  },
  {
   "cell_type": "code",
   "execution_count": null,
   "id": "b31f7f2a",
   "metadata": {},
   "outputs": [],
   "source": []
  },
  {
   "cell_type": "markdown",
   "id": "04935a4d",
   "metadata": {},
   "source": [
    " Copyright (c) 2022 Mira Geoscience Ltd."
   ]
  }
 ],
 "metadata": {
  "kernelspec": {
   "display_name": "Python 3 (ipykernel)",
   "language": "python",
   "name": "python3"
  }
 },
 "nbformat": 4,
 "nbformat_minor": 5
}
