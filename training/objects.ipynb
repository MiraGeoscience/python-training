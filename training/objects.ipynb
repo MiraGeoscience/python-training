{
 "cells": [
  {
   "cell_type": "markdown",
   "id": "9711de75",
   "metadata": {},
   "source": [
    "# Objects\n",
    "\n",
    "At the core, Python is an **object-oriented programming** (OOP) language that is defined by a `Class` structure. Each `class` holds methods and attributes specific to itself. You can think of a `Class` as a small machine that can inputs, store things and do operations or interact with other parts. Python programs are made of many of those objects that are connected to each other and cooperate to yield the desired output. \n",
    "\n",
    "This is somewhat in contrast to **imperative** or **procedural-based** languages, such as C and Fortran. In an imperative framwork, variables and functions are generated and passed down to a series of computational steps executed in sequence. While often slower than imperative compiled languages, OOP languages like Python allow for more concise code that is easier to read and share. Python can also be written in a procedural way, but internally objects are always doing the work. This will become obvious as we go further in this tutorial. \n",
    "\n",
    "Let's start by introducing some core Python objects."
   ]
  },
  {
   "cell_type": "markdown",
   "id": "7d00ef44",
   "metadata": {},
   "source": [
    "## Numerics\n",
    "\n",
    "Numerical values can be of type `float` with decimals or of type `int` (integers). Floats are mainly used for\n",
    "arithmetic while integers are used to count or index arrays.\n",
    "\n",
    "```\n",
    "# Integer\n",
    "x = 1\n",
    "print(type(x))\n",
    "```"
   ]
  },
  {
   "cell_type": "code",
   "execution_count": 1,
   "id": "dcde0424",
   "metadata": {
    "tags": [
     "remove-input"
    ]
   },
   "outputs": [
    {
     "name": "stdout",
     "output_type": "stream",
     "text": [
      "<class 'int'>\n"
     ]
    }
   ],
   "source": [
    "x = 1\n",
    "print(type(x))"
   ]
  },
  {
   "cell_type": "markdown",
   "id": "c1890541",
   "metadata": {},
   "source": [
    "```\n",
    "# Float\n",
    "y = 1.0\n",
    "print(type(y))\n",
    "```"
   ]
  },
  {
   "cell_type": "code",
   "execution_count": 2,
   "id": "7b8989f5",
   "metadata": {
    "tags": [
     "remove-input"
    ]
   },
   "outputs": [
    {
     "name": "stdout",
     "output_type": "stream",
     "text": [
      "<class 'float'>\n"
     ]
    }
   ],
   "source": [
    "y = 1.0\n",
    "print(type(y))"
   ]
  },
  {
   "cell_type": "markdown",
   "id": "99677118",
   "metadata": {},
   "source": [
    "Note that we have used two built-in methods: `print` and `type`. \n",
    "\n",
    "First, the `type` method is evaluated and it returned the type (`Class`) of the object given as input.\n",
    "Secondly, the `print` method displays the result to screen. Input values for methods are always given between parentheses `()`."
   ]
  },
  {
   "cell_type": "markdown",
   "id": "0e7b0302",
   "metadata": {},
   "source": [
    "As previously mentioned, even if `x` is simply an integer, it is technically still a Python object with methods. To\n",
    "access the list of methods available, you can simply type `.` then the `tab` key.\n",
    "\n",
    "![methods](./images/methods.png)\n",
    "\n",
    "In this case, the `imag` method of the integer would return the imaginary part of x (if it was a complex number)."
   ]
  },
  {
   "cell_type": "markdown",
   "id": "126dbf84",
   "metadata": {},
   "source": [
    "### Mathematical operations\n",
    "\n",
    "Here is a shortlist of standard arithmetic and logical operators that can be applied on numerical values (in order of priority of operation).\n",
    "\n",
    "- `**`: Power\n",
    "- `%` : Modulo\n",
    "- `*`: Multiplication\n",
    "- `\\`: Division\n",
    "- `+`: Addition\n",
    "- `-`: Subtraction\n",
    "- `==`: Logical equal\n",
    "- `>` : Logical greater than\n",
    "- `<` : Logical smaller than\n",
    "\n",
    "For example\n",
    "\n",
    "```\n",
    "2**2 * 1.5 + 1 == 7.0\n",
    "```"
   ]
  },
  {
   "cell_type": "code",
   "execution_count": 3,
   "id": "cd0e91d8",
   "metadata": {
    "tags": [
     "remove-input"
    ]
   },
   "outputs": [
    {
     "data": {
      "text/plain": [
       "True"
      ]
     },
     "execution_count": 3,
     "metadata": {},
     "output_type": "execute_result"
    }
   ],
   "source": [
    "2**2 * 1.5 + 1 == 7.0"
   ]
  },
  {
   "cell_type": "markdown",
   "id": "98cccdf9",
   "metadata": {},
   "source": [
    "You can verify the result above by doing the operations in your head. It is important to keep in mind general rules of return types for numerical values.\n",
    "\n",
    "- Adding or subtracting integers yields an integer\n",
    "\n",
    "    ```\n",
    "    type(x+x)\n",
    "    ```"
   ]
  },
  {
   "cell_type": "code",
   "execution_count": 4,
   "id": "91565740",
   "metadata": {
    "tags": [
     "remove-input"
    ]
   },
   "outputs": [
    {
     "data": {
      "text/plain": [
       "int"
      ]
     },
     "execution_count": 4,
     "metadata": {},
     "output_type": "execute_result"
    }
   ],
   "source": [
    "type(x + x)"
   ]
  },
  {
   "cell_type": "markdown",
   "id": "6e1fd55f",
   "metadata": {},
   "source": [
    "- Multiplying or dividing integers yields a float\n",
    "    ```\n",
    "    type(x/x)\n",
    "    ```"
   ]
  },
  {
   "cell_type": "code",
   "execution_count": 5,
   "id": "62e95cb6",
   "metadata": {
    "tags": [
     "remove-input"
    ]
   },
   "outputs": [
    {
     "data": {
      "text/plain": [
       "float"
      ]
     },
     "execution_count": 5,
     "metadata": {},
     "output_type": "execute_result"
    }
   ],
   "source": [
    "type(x / x)  # Multiply|divide integers yields a float"
   ]
  },
  {
   "cell_type": "markdown",
   "id": "efa44727",
   "metadata": {},
   "source": [
    "- Mix operations on integer and float always yield a float\n",
    "    ```\n",
    "    type(x+y)\n",
    "    ```"
   ]
  },
  {
   "cell_type": "code",
   "execution_count": 6,
   "id": "bf9ade72",
   "metadata": {
    "tags": [
     "remove-input"
    ]
   },
   "outputs": [
    {
     "data": {
      "text/plain": [
       "float"
      ]
     },
     "execution_count": 6,
     "metadata": {},
     "output_type": "execute_result"
    }
   ],
   "source": [
    "type(x + y)  # Mix of integer and float yields a float"
   ]
  },
  {
   "cell_type": "markdown",
   "id": "c8207aec",
   "metadata": {},
   "source": [
    "## String\n",
    "\n",
    "Strings are text objects that contain characters (letters, numbers or symbols) isolated by single `'` or double\n",
    "`\"` quotes. Both are acceptable but consistency throughout your code is preferable.\n",
    "\n",
    "Here is a shortlist of useful methods that will be used in this tutorial.\n",
    "\n",
    "- Adding strings\n",
    "    ```\n",
    "    \"hello\" + \" world\"\n",
    "    ```"
   ]
  },
  {
   "cell_type": "code",
   "execution_count": 7,
   "id": "38b308aa",
   "metadata": {
    "tags": [
     "remove-input"
    ]
   },
   "outputs": [
    {
     "data": {
      "text/plain": [
       "'hello world'"
      ]
     },
     "execution_count": 7,
     "metadata": {},
     "output_type": "execute_result"
    }
   ],
   "source": [
    "# Additions\n",
    "\"hello\" + \" world\""
   ]
  },
  {
   "cell_type": "markdown",
   "id": "ca3dc644",
   "metadata": {},
   "source": [
    "- Upper/lower and single word capitalization\n",
    "    ```\n",
    "    \"I\" + \" love \".upper() + \"python\".capitalize()\n",
    "    ```"
   ]
  },
  {
   "cell_type": "code",
   "execution_count": 8,
   "id": "f502961c",
   "metadata": {
    "tags": [
     "remove-input"
    ]
   },
   "outputs": [
    {
     "data": {
      "text/plain": [
       "'I LOVE Python'"
      ]
     },
     "execution_count": 8,
     "metadata": {},
     "output_type": "execute_result"
    }
   ],
   "source": [
    "# Upper/lower and single word capitalization\n",
    "\"I\" + \" love \".upper() + \"python\".capitalize()"
   ]
  },
  {
   "cell_type": "markdown",
   "id": "4265682b",
   "metadata": {},
   "source": [
    "- Upper case every word\n",
    "    ```\n",
    "    \"this is important\".title()\n",
    "    ```"
   ]
  },
  {
   "cell_type": "code",
   "execution_count": 9,
   "id": "6f604c3f",
   "metadata": {
    "tags": [
     "remove-input"
    ]
   },
   "outputs": [
    {
     "data": {
      "text/plain": [
       "'This Is Important'"
      ]
     },
     "execution_count": 9,
     "metadata": {},
     "output_type": "execute_result"
    }
   ],
   "source": [
    "# Title\n",
    "\"this is important\".title()"
   ]
  },
  {
   "cell_type": "markdown",
   "id": "a033eb69",
   "metadata": {},
   "source": [
    "- Find sub-string within\n",
    "    ```\n",
    "    \"Long sentence with symbols #$%^&\".find(\"sym\")\n",
    "    ```"
   ]
  },
  {
   "cell_type": "code",
   "execution_count": 10,
   "id": "1c625575",
   "metadata": {
    "tags": [
     "remove-input"
    ]
   },
   "outputs": [
    {
     "data": {
      "text/plain": [
       "19"
      ]
     },
     "execution_count": 10,
     "metadata": {},
     "output_type": "execute_result"
    }
   ],
   "source": [
    "# Find\n",
    "\"Long sentence with symbols #$%^&\".find(\"sym\")"
   ]
  },
  {
   "cell_type": "markdown",
   "id": "29f01f9d",
   "metadata": {},
   "source": [
    "## List\n",
    "\n",
    "List are generic containers for other objects, which can be of any type. They are created with square brackets `[]`."
   ]
  },
  {
   "cell_type": "code",
   "execution_count": 11,
   "id": "31460638",
   "metadata": {
    "tags": [
     "remove-input"
    ]
   },
   "outputs": [],
   "source": [
    "a_list = [1.0, 2, \"abc\"]"
   ]
  },
  {
   "cell_type": "markdown",
   "id": "739cc931",
   "metadata": {},
   "source": [
    "Here are a few important methods that can used on a `list`.\n",
    "\n",
    "- Indexing (accessing) elements of the list (count starts at 0)\n",
    "    ```\n",
    "    a_list[0]\n",
    "    ```"
   ]
  },
  {
   "cell_type": "code",
   "execution_count": 12,
   "id": "f9e5742f",
   "metadata": {
    "tags": [
     "remove-input"
    ]
   },
   "outputs": [
    {
     "data": {
      "text/plain": [
       "1.0"
      ]
     },
     "execution_count": 12,
     "metadata": {},
     "output_type": "execute_result"
    }
   ],
   "source": [
    "a_list[0]"
   ]
  },
  {
   "cell_type": "markdown",
   "id": "0216703e",
   "metadata": {},
   "source": [
    "- Adding (appending) to the list.\n",
    "    ```\n",
    "    a_list += [\"new\"]\n",
    "    print(a_list)\n",
    "    ```"
   ]
  },
  {
   "cell_type": "code",
   "execution_count": 13,
   "id": "36ecefd3",
   "metadata": {
    "tags": [
     "remove-input"
    ]
   },
   "outputs": [
    {
     "name": "stdout",
     "output_type": "stream",
     "text": [
      "[1.0, 2, 'abc', 'new']\n"
     ]
    }
   ],
   "source": [
    "a_list += [\"new\"]\n",
    "print(a_list)"
   ]
  },
  {
   "cell_type": "markdown",
   "id": "179fd4fa",
   "metadata": {},
   "source": [
    "- Removing an element from the list using the index\n",
    "    ```\n",
    "    a_list.pop(0)\n",
    "    print(a_list)\n",
    "    ```"
   ]
  },
  {
   "cell_type": "code",
   "execution_count": 14,
   "id": "b2369d5f",
   "metadata": {
    "tags": [
     "remove-input"
    ]
   },
   "outputs": [
    {
     "name": "stdout",
     "output_type": "stream",
     "text": [
      "[2, 'abc', 'new']\n"
     ]
    }
   ],
   "source": [
    "a_list.pop(0)\n",
    "print(a_list)"
   ]
  },
  {
   "cell_type": "markdown",
   "id": "49fa2e01",
   "metadata": {},
   "source": [
    "- Finding the index of an element within the list. The same method applies to [string](String) objects.\n",
    "    ```\n",
    "    a_list.index(\"abc\")\n",
    "    ```"
   ]
  },
  {
   "cell_type": "code",
   "execution_count": 15,
   "id": "3310b3fb",
   "metadata": {
    "tags": [
     "remove-input"
    ]
   },
   "outputs": [
    {
     "data": {
      "text/plain": [
       "1"
      ]
     },
     "execution_count": 15,
     "metadata": {},
     "output_type": "execute_result"
    }
   ],
   "source": [
    "a_list.index(\"abc\")"
   ]
  },
  {
   "cell_type": "markdown",
   "id": "49175993",
   "metadata": {},
   "source": [
    "## Dictionary\n",
    "\n",
    "Dictionaries are also containers for objects but give an additional level of structure over lists. Every entry of\n",
    "the dictionary is indexed by a `key`. They are created with braces `{}` with `{key: value}` pairs separated by a\n",
    "column `:`.\n",
    "\n",
    "```\n",
    "my_dict = {\n",
    "    \"float\": 1.0,\n",
    "    \"integer\": 2,\n",
    "    \"string\": \"abc\",\n",
    "    \"function\": add,\n",
    "    \"class\": arithmetic\n",
    "}\n",
    "```"
   ]
  },
  {
   "cell_type": "code",
   "execution_count": 16,
   "id": "a5b1d34d",
   "metadata": {
    "tags": [
     "remove-input"
    ]
   },
   "outputs": [],
   "source": [
    "my_dict = {\n",
    "    \"float\": 1.0,\n",
    "    \"integer\": 2,\n",
    "    \"string\": \"abc\",\n",
    "}"
   ]
  },
  {
   "cell_type": "markdown",
   "id": "f654eab8",
   "metadata": {},
   "source": [
    "Values of the dictionary can then be accessed using the key\n",
    "\n",
    "```\n",
    "my_dict[\"function\"]\n",
    "```"
   ]
  },
  {
   "cell_type": "code",
   "execution_count": 17,
   "id": "ac485d17",
   "metadata": {
    "tags": [
     "remove-input"
    ]
   },
   "outputs": [
    {
     "data": {
      "text/plain": [
       "2"
      ]
     },
     "execution_count": 17,
     "metadata": {},
     "output_type": "execute_result"
    }
   ],
   "source": [
    "my_dict[\"integer\"]"
   ]
  },
  {
   "cell_type": "markdown",
   "id": "5275335d",
   "metadata": {},
   "source": [
    " Copyright (c) 2022 Mira Geoscience Ltd."
   ]
  }
 ],
 "metadata": {
  "kernelspec": {
   "display_name": "Python 3 (ipykernel)",
   "language": "python",
   "name": "python3"
  },
  "language_info": {
   "codemirror_mode": {
    "name": "ipython",
    "version": 3
   },
   "file_extension": ".py",
   "mimetype": "text/x-python",
   "name": "python",
   "nbconvert_exporter": "python",
   "pygments_lexer": "ipython3",
   "version": "3.9.13"
  }
 },
 "nbformat": 4,
 "nbformat_minor": 5
}
