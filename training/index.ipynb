{
 "cells": [
  {
   "cell_type": "markdown",
   "metadata": {},
   "source": [
    "# Welcome to the open-source python training\n",
    "\n",
    "This resource is intended for geoscientists wanting to learn Python and take advantage of Python's many open-source libraries.\n",
    "The training material covers core concepts that are required to work with geo-scientific data.\n",
    "It is not meant to be a complete Python tutorial - for which there are many excellent resources on the web.\n",
    "At the end of every module, trainees will be able to execute programs with a simple user interface (UI)\n",
    "accessible through [Geoscience ANALYST Pro](https://mirageoscience.com/mining-industry-software/geoscience-analyst/)."
   ]
  },
  {
   "cell_type": "markdown",
   "metadata": {},
   "source": [
    "# Python Fundamentals\n",
    "\n",
    "This section offers a brief overview and examples of core Python concepts and syntax. It is not meant to be a\n",
    "fully comprehensive resource for Python, but mainly to serve as a primer to get participants started writing code and creating their first utility program.\n",
    "\n",
    "This training material uses the [jupyter-notebook](https://jupyter.org/) environment that is made up of text cells (\n",
    "like this one) and code cells displayed within a web browser (no internet required). Participants are invited to\n",
    "write and run the examples provided to get comfortable with the Python syntax. Here are few useful shortcuts for\n",
    "jupyter-notebooks.\n",
    "\n",
    " - Press **esc + a** to add a cell above, or **esc+b** to add a cell below.\n",
    " - Press **shift + enter** to run a selected cell.\n",
    " - Click on a cell and press **M** to convert to a text cell, or **Y** to convert to code cell.\n",
    "\n",
    "The next sections cover some of the core Python concepts\n",
    "\n",
    "## Content\n",
    "\n",
    "- [Core elements](python_fundamentals.ipynb)\n",
    "- [Data containers](containers.ipynb)\n",
    "- [Functions](functions.ipynb)\n",
    "- [Classes](classes.ipynb)\n",
    "- [Geoh5 API](geoh5_api.ipynb)\n",
    "- [Custom UI](uijson_training.ipynb)\n",
    "- [Best-practices](best_practice.ipynb)\n",
    "\n",
    "## Example\n",
    "- [Magnetic Dipole App](mag_dipole_app.ipynb)\n",
    "\n",
    "## Cheatsheet\n",
    "- [Magnetic Dipole App](mag_dipole_app_filled.ipynb)"
   ]
  },
  {
   "cell_type": "markdown",
   "metadata": {},
   "source": [
    "Need help? Contact us at support@mirageoscience.com"
   ]
  }
 ],
 "metadata": {
  "kernelspec": {
   "display_name": "Python 3 (ipykernel)",
   "language": "python",
   "name": "python3"
  },
  "language_info": {
   "codemirror_mode": {
    "name": "ipython",
    "version": 3
   },
   "file_extension": ".py",
   "mimetype": "text/x-python",
   "name": "python",
   "nbconvert_exporter": "python",
   "pygments_lexer": "ipython3",
   "version": "3.9.13"
  },
  "widgets": {
   "application/vnd.jupyter.widget-state+json": {
    "state": {},
    "version_major": 2,
    "version_minor": 0
   }
  }
 },
 "nbformat": 4,
 "nbformat_minor": 4
}
