{
 "cells": [
  {
   "cell_type": "markdown",
   "id": "2ea95923",
   "metadata": {
    "lines_to_next_cell": 2
   },
   "source": [
    "# Classes\n",
    "\n",
    "While `functions` are common to almost all types programming languages, the concept of `Class` is specific to\n",
    "object-oriented languages. Objects are containers for methods (functions) and properties.  as shown with the\n",
    "following example."
   ]
  },
  {
   "cell_type": "code",
   "execution_count": 5,
   "id": "92be5be7",
   "metadata": {},
   "outputs": [],
   "source": [
    "class Assay:\n",
    "    \"\"\"Simple Assay class.\"\"\"\n",
    "    \n",
    "    def __init__(self, depths: list, values: list, threshold=1.0):\n",
    "        self.depths = depths\n",
    "        self.values = values\n",
    "        self.threshold = threshold\n",
    "        \n",
    "    @staticmethod\n",
    "    def anomalous(values, threshold=1.0):\n",
    "        \"\"\"\n",
    "        Find the elements of a list above threshold\n",
    "        \"\"\"\n",
    "        return [val > self.threshold for val in self.values]\n",
    "\n",
    "\n",
    "    def get_depths(self):\n",
    "        \"\"\"\n",
    "        Extract interval of values from anomalous values\n",
    "        \"\"\"\n",
    "        conditions = self.anomalous(self.values, self.threshold)\n",
    "        output = []\n",
    "        for val, logic in zip(self.depths, conditions):\n",
    "            if logic:\n",
    "                output.append(val)\n",
    "        return output \n",
    "                \n",
    "    def __call__(self):\n",
    "        return self.get_depths()"
   ]
  },
  {
   "cell_type": "code",
   "execution_count": 6,
   "id": "ec92b4c4",
   "metadata": {},
   "outputs": [
    {
     "ename": "TypeError",
     "evalue": "__init__() missing 2 required positional arguments: 'depths' and 'values'",
     "output_type": "error",
     "traceback": [
      "\u001b[1;31m---------------------------------------------------------------------------\u001b[0m",
      "\u001b[1;31mTypeError\u001b[0m                                 Traceback (most recent call last)",
      "Cell \u001b[1;32mIn [6], line 1\u001b[0m\n\u001b[1;32m----> 1\u001b[0m a \u001b[38;5;241m=\u001b[39m Assay()\n",
      "\u001b[1;31mTypeError\u001b[0m: __init__() missing 2 required positional arguments: 'depths' and 'values'"
     ]
    }
   ],
   "source": [
    "a = Assay()"
   ]
  },
  {
   "cell_type": "markdown",
   "id": "39344347",
   "metadata": {},
   "source": [
    "The class `Assay` can be seen as a container for mathematical operations, which contains an `anomalous` and\n",
    "`get_depths` method. Because those methods\n",
    "\n",
    "\n",
    "Note: Within the jupyter-notebook environment, it is possible to query information about an attribute of class with\n",
    "the `?` symbol place immediately after\n",
    "\n",
    "```\n",
    "arithmetic?\n",
    "```"
   ]
  },
  {
   "cell_type": "markdown",
   "id": "5275335d",
   "metadata": {},
   "source": [
    " Copyright (c) 2022 Mira Geoscience Ltd."
   ]
  }
 ],
 "metadata": {
  "kernelspec": {
   "display_name": "Python 3 (ipykernel)",
   "language": "python",
   "name": "python3"
  },
  "language_info": {
   "codemirror_mode": {
    "name": "ipython",
    "version": 3
   },
   "file_extension": ".py",
   "mimetype": "text/x-python",
   "name": "python",
   "nbconvert_exporter": "python",
   "pygments_lexer": "ipython3",
   "version": "3.9.13"
  }
 },
 "nbformat": 4,
 "nbformat_minor": 5
}
