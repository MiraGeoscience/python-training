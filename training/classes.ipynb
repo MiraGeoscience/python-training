{
 "cells": [
  {
   "cell_type": "markdown",
   "id": "5a54941d",
   "metadata": {},
   "source": [
    "# Classes\n",
    "\n",
    "While `functions` are common to almost all types programming languages, the concept of `Class` is specific to\n",
    "object-oriented languages. Objects are containers of methods (functions) and properties that can help better\n",
    "organize your code.\n",
    "\n",
    "We will demonstrate this idea by re-visiting the assay analysis done in the previous [Functions](Functions)\n",
    "section. We have two lists for `grades` and `depths`, and we want to create some mechanism to get the depths where\n",
    "values exceed some detection threshold."
   ]
  },
  {
   "cell_type": "code",
   "execution_count": null,
   "id": "7c2e3ab5",
   "metadata": {
    "lines_to_next_cell": 2
   },
   "outputs": [],
   "source": []
  },
  {
   "cell_type": "markdown",
   "id": "872cea22",
   "metadata": {},
   "source": [
    "Let's first create a simple `Assay` class and copy over the functions `anomalous` and `get_depths`."
   ]
  },
  {
   "cell_type": "code",
   "execution_count": null,
   "id": "a1950d36",
   "metadata": {
    "lines_to_next_cell": 2
   },
   "outputs": [],
   "source": []
  },
  {
   "cell_type": "markdown",
   "id": "617ddfa5",
   "metadata": {},
   "source": [
    "We have defined an `Assay` class that contains both our previous functions that are now methods of the class.\n",
    "\n",
    "While it may not seem like we did much progress compared to the [Functions](Functions) implementation, we actually\n",
    "started creating structure that could be greatly beneficial down the road. Imagine that we had many assays coming\n",
    "from different drillholes, all with different lengths. Storing and computing the information through lists could\n",
    "rapidly become cumbersome, while dealing with a list of classes gives us a low-level organization of the data."
   ]
  },
  {
   "cell_type": "markdown",
   "id": "239e4b7c",
   "metadata": {},
   "source": [
    "We can now brake apart the components of class.\n",
    "\n",
    "\n",
    "## `__init__` (Initialization)\n",
    "\n",
    "\n",
    "The `__init__` method lets us define things to do when the class is first `initialized`. Here we are expecting the\n",
    "user to input values for `grades` and `depths`, and left the `threshold` parameter as optional with a default of\n",
    "1.0. Again we used `typing` with `:` to let know the user what kind of input they are. We then assigned those\n",
    "inputs to equivalent `attributes` of the class using the `self`.\n",
    "\n",
    "Initializing the class is done with"
   ]
  },
  {
   "cell_type": "code",
   "execution_count": null,
   "id": "6f2e4de3",
   "metadata": {},
   "outputs": [],
   "source": []
  },
  {
   "cell_type": "markdown",
   "id": "0436f13c",
   "metadata": {},
   "source": [
    "## self\n",
    "\n",
    "The `self` is a reserved Python keyword used within a classes to reference to itself. It is used to assign\n",
    "attributes on the class and access them back within the various methods. Note that our two methods `anomalous` and\n",
    "`get_depth` only take in `self` as input as the `grades`, `depths` and `threshold` can be accessed from the class."
   ]
  },
  {
   "cell_type": "code",
   "execution_count": null,
   "id": "fa689ffe",
   "metadata": {},
   "outputs": [],
   "source": []
  },
  {
   "cell_type": "markdown",
   "id": "b48158a7",
   "metadata": {},
   "source": [
    "and likewise for methods"
   ]
  },
  {
   "cell_type": "code",
   "execution_count": null,
   "id": "d6780db1",
   "metadata": {},
   "outputs": [],
   "source": []
  },
  {
   "cell_type": "markdown",
   "id": "8b88f5d1",
   "metadata": {},
   "source": [
    "## __call__\n",
    "\n",
    "The `__call__` method is an optional method specific to the action of calling the class. In this case we are simply\n",
    "going to perform the `self.get_depth()` method and return the result."
   ]
  },
  {
   "cell_type": "code",
   "execution_count": null,
   "id": "0ed24b5f",
   "metadata": {},
   "outputs": [],
   "source": []
  },
  {
   "cell_type": "markdown",
   "id": "9901e60d",
   "metadata": {},
   "source": [
    "## @property\n",
    "\n",
    "It is sometimes preferable to add extra controls on the attributes of a class. For example if we would like to\n",
    "protect or validate the `threshold` parameter, we can explicitly create a `property` of the class with a `setter`\n",
    "method."
   ]
  },
  {
   "cell_type": "code",
   "execution_count": null,
   "id": "3191ab20",
   "metadata": {
    "lines_to_next_cell": 2
   },
   "outputs": [],
   "source": []
  },
  {
   "cell_type": "markdown",
   "id": "82017a1f",
   "metadata": {},
   "source": [
    "**A few highlights of the changes made to our `Assay` class.**\n",
    "\n",
    "- We are now using a `private` attribute `_threshold` to store the value, and use `threshold` as a property.\n",
    "Private attribute are meant to only be used within the class and not from the outside (private property - keep out!).\n",
    "\n",
    "- The `@property` allows to further document the attribute and indicate the return type using `-> float`.\n",
    "\n",
    "- The `@threshold.setter` lets us add validations on the value provided by a user. It is good coding practice to\n",
    "add checks on type to prevent a program to error later.\n",
    "\n",
    "- Here we used the built-in method `isinstance()` to check if the value is a `float`, and return a custom error\n",
    "message if it is not."
   ]
  },
  {
   "cell_type": "code",
   "execution_count": null,
   "id": "67147104",
   "metadata": {},
   "outputs": [],
   "source": []
  },
  {
   "cell_type": "markdown",
   "id": "d2cc05cc",
   "metadata": {},
   "source": [
    " Copyright (c) 2022 Mira Geoscience Ltd."
   ]
  }
 ],
 "metadata": {
  "kernelspec": {
   "display_name": "Python 3 (ipykernel)",
   "language": "python",
   "name": "python3"
  }
 },
 "nbformat": 4,
 "nbformat_minor": 5
}
