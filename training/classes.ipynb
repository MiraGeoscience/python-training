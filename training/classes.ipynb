{
 "cells": [
  {
   "cell_type": "markdown",
   "id": "2ea95923",
   "metadata": {
    "lines_to_next_cell": 2
   },
   "source": [
    "# Classes\n",
    "\n",
    "While `functions` are common to almost all types programming languages, the concept of `Class` is specific to\n",
    "object-oriented languages. Objects are containers for methods (functions) and properties.  as shown with the\n",
    "following example."
   ]
  },
  {
   "cell_type": "code",
   "execution_count": 1,
   "id": "92be5be7",
   "metadata": {},
   "outputs": [],
   "source": [
    "class Arithmetic:\n",
    "    \"\"\"Simple class\"\"\"\n",
    "\n",
    "    @staticmethod\n",
    "    def add(var_a, var_b, var_c=1, var_d=1):\n",
    "        \"\"\"Method to add.\"\"\"\n",
    "        return var_c * var_a + var_d * var_b\n",
    "\n",
    "    @staticmethod\n",
    "    def multiply(var_a, var_b):\n",
    "        \"\"\"Method to add.\"\"\"\n",
    "        return var_a * var_b"
   ]
  },
  {
   "cell_type": "markdown",
   "id": "39344347",
   "metadata": {},
   "source": [
    "The class `arithmetic` can be seen as a container for mathematical operations, which contains an `add` and\n",
    "`multiply` method. Because those methods.\n",
    "\n",
    "\n",
    "Note: Within the jupyter-notebook environment, it is possible to query information about an attribute of class with\n",
    "the `?` symbol place immediately after\n",
    "\n",
    "```\n",
    "arithmetic?\n",
    "```"
   ]
  },
  {
   "cell_type": "markdown",
   "id": "5275335d",
   "metadata": {},
   "source": [
    " Copyright (c) 2022 Mira Geoscience Ltd."
   ]
  }
 ],
 "metadata": {
  "kernelspec": {
   "display_name": "Python 3 (ipykernel)",
   "language": "python",
   "name": "python3"
  },
  "language_info": {
   "codemirror_mode": {
    "name": "ipython",
    "version": 3
   },
   "file_extension": ".py",
   "mimetype": "text/x-python",
   "name": "python",
   "nbconvert_exporter": "python",
   "pygments_lexer": "ipython3",
   "version": "3.9.13"
  }
 },
 "nbformat": 4,
 "nbformat_minor": 5
}
