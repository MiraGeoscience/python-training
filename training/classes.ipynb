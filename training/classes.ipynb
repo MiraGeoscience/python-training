{
 "cells": [
  {
   "cell_type": "markdown",
   "id": "bb12eab4",
   "metadata": {
    "lines_to_next_cell": 2
   },
   "source": [
    "# Classes\n",
    "\n",
    "While `functions` are common to almost all types programming languages, the concept of `Class` is specific to\n",
    "object-oriented languages. Objects are containers of methods (functions) and properties that can help better\n",
    "organize your code.\n",
    "\n",
    "We will demonstrate this idea by re-visiting the assay analysis done in the previous [Functions](Functions)\n",
    "section. We have two lists for `grades` and `depths`, and we want to create some mechanism to get the depths where\n",
    "values exceed some detection threshold."
   ]
  },
  {
   "cell_type": "code",
   "execution_count": null,
   "id": "02308d4b",
   "metadata": {
    "lines_to_next_cell": 2
   },
   "outputs": [],
   "source": [
    "grades = [0.1, 0.02, 1.3, 2.4, 3.5, 0.01]\n",
    "depths = [10, 55, 80, 105, 115, 120]"
   ]
  },
  {
   "cell_type": "markdown",
   "id": "53025829",
   "metadata": {
    "lines_to_next_cell": 2
   },
   "source": [
    "Let's first create a simple `Assay` class and copy over the functions `anomalous` and `get_depths`."
   ]
  },
  {
   "cell_type": "code",
   "execution_count": null,
   "id": "a43b63e6",
   "metadata": {
    "lines_to_next_cell": 2
   },
   "outputs": [],
   "source": [
    "class Assay:\n",
    "    \"\"\"Simple Assay class.\"\"\"\n",
    "\n",
    "    def __init__(self, arg_1: list, arg_2: list, threshold: float = 1.0):\n",
    "        self.grades = arg_1\n",
    "        self.depths = arg_2\n",
    "        self.threshold = threshold\n",
    "\n",
    "    def anomalous(self):\n",
    "        \"\"\"\n",
    "        Find the elements of a list above threshold\n",
    "        \"\"\"\n",
    "        return [val > self.threshold for val in self.grades]\n",
    "\n",
    "    def get_depths(self):\n",
    "        \"\"\"\n",
    "        Extract interval of values from bool logic\n",
    "        \"\"\"\n",
    "        output = []\n",
    "        for val, cond in zip(self.depths, self.anomalous()):\n",
    "            if cond:\n",
    "                output.append(val)\n",
    "        return output\n",
    "\n",
    "    def __call__(self):\n",
    "        return self.get_depths()"
   ]
  },
  {
   "cell_type": "markdown",
   "id": "58d29d57",
   "metadata": {},
   "source": [
    "We have defined an `Assay` class that contains both our previous functions that are now methods of the class.\n",
    "\n",
    "While it may not seem like we did much progress compared to the [Functions](Functions) implementation, we actually\n",
    "started creating structure that could be greatly beneficial down the road. Imagine that we had many assays coming\n",
    "from different drillholes, all with different lengths. Storing and computing the information through lists could\n",
    "rapidly become cumbersome, while dealing with a list of classes gives us a low-level organization of the data."
   ]
  },
  {
   "cell_type": "markdown",
   "id": "390b0a94",
   "metadata": {},
   "source": [
    "We can now brake apart the components of class.\n",
    "\n",
    "\n",
    "## `__init__` (Initialization)\n",
    "\n",
    "\n",
    "The `__init__` method lets us define things to do when the class is first `initialized`. Here we are expecting the\n",
    "user to input values for `grades` and `depths`, and left the `threshold` parameter as optional with a default of\n",
    "1.0. Again we used `typing` with `:` to let know the user what kind of input they are. We then assigned those\n",
    "inputs to equivalent `attributes` of the class using the `self`.\n",
    "\n",
    "Initializing the class is done with\n",
    "\n",
    "```\n",
    "assay = Assay(grades, depths)\n",
    "type(assay)\n",
    "```"
   ]
  },
  {
   "cell_type": "code",
   "execution_count": null,
   "id": "bb4b925d",
   "metadata": {},
   "outputs": [],
   "source": []
  },
  {
   "cell_type": "markdown",
   "id": "2f43374e",
   "metadata": {},
   "source": [
    "## self\n",
    "\n",
    "The `self` is a reserved Python keyword used within a classes to reference to itself. It is used to assign\n",
    "attributes on the class and access them back within the various methods. Note that our two methods `anomalous` and\n",
    "`get_depth` only take in `self` as input as the `grades`, `depths` and `threshold` can be accessed from the class.\n",
    "\n",
    "```\n",
    "assay.grades\n",
    "```"
   ]
  },
  {
   "cell_type": "code",
   "execution_count": null,
   "id": "8c7abf5f",
   "metadata": {},
   "outputs": [],
   "source": []
  },
  {
   "cell_type": "markdown",
   "id": "8ba5bdc0",
   "metadata": {},
   "source": [
    "and likewise for methods\n",
    "```\n",
    "assay.anomalous()\n",
    "```"
   ]
  },
  {
   "cell_type": "code",
   "execution_count": null,
   "id": "fe25ddb4",
   "metadata": {},
   "outputs": [],
   "source": []
  },
  {
   "cell_type": "markdown",
   "id": "617a6b9f",
   "metadata": {},
   "source": [
    "## __call__\n",
    "\n",
    "The `__call__` method is an optional method specific to the action of calling the class. In this case we are simply\n",
    "going to perform the `self.get_depth()` method and return the result.\n",
    "\n",
    "```\n",
    "assay()\n",
    "```"
   ]
  },
  {
   "cell_type": "code",
   "execution_count": null,
   "id": "652b146b",
   "metadata": {},
   "outputs": [],
   "source": []
  },
  {
   "cell_type": "markdown",
   "id": "739e2e72",
   "metadata": {
    "lines_to_next_cell": 2
   },
   "source": [
    "## @property\n",
    "\n",
    "It is sometimes preferable to add extra controls on the attributes of a class. For example if we would like to\n",
    "protect or validate the `threshold` parameter, we can explicitly create a `property` of the class with a `setter`\n",
    "method."
   ]
  },
  {
   "cell_type": "code",
   "execution_count": null,
   "id": "913c7cd3",
   "metadata": {
    "lines_to_next_cell": 2
   },
   "outputs": [],
   "source": [
    "class Assay2:\n",
    "    \"\"\"Simple Assay class.\"\"\"\n",
    "\n",
    "    def __init__(self, arg_1: list, arg_2: list, threshold: float = 1.0):\n",
    "        self.grades = arg_1\n",
    "        self.depths = arg_2\n",
    "        self._threshold = threshold\n",
    "\n",
    "    def anomalous(self):\n",
    "        \"\"\"\n",
    "        Find the elements of a list above threshold\n",
    "        \"\"\"\n",
    "        return [val > self.threshold for val in self.grades]\n",
    "\n",
    "    def get_depths(self):\n",
    "        \"\"\"\n",
    "        Extract interval of values from bool logic\n",
    "        \"\"\"\n",
    "        output = []\n",
    "        for val, cond in zip(self.depths, self.anomalous()):\n",
    "            if cond:\n",
    "                output.append(val)\n",
    "        return output\n",
    "\n",
    "    @property\n",
    "    def threshold(self) -> float:\n",
    "        \"\"\"Cutoff value for anomalous assays.\"\"\"\n",
    "\n",
    "        return self.threshold\n",
    "\n",
    "    @threshold.setter\n",
    "    def threshold(self, value):\n",
    "        if not isinstance(value, float):\n",
    "            raise ValueError(\"The value for threshold must be a float.\")\n",
    "\n",
    "        self._threshold = value\n",
    "\n",
    "    def __call__(self):\n",
    "        return self.get_depths()"
   ]
  },
  {
   "cell_type": "markdown",
   "id": "9357e17c",
   "metadata": {},
   "source": [
    "**A few highlights of the changes made to our `Assay` class.**\n",
    "\n",
    "- We are now using a `private` attribute `_threshold` to store the value, and use `threshold` as a property.\n",
    "Private attribute are meant to only be used within the class and not from the outside (private property - keep out!).\n",
    "\n",
    "- The `@property` allows to further document the attribute and indicate the return type using `-> float`.\n",
    "\n",
    "- The `@threshold.setter` lets us add validations on the value provided by a user. It is good coding practice to\n",
    "add checks on type to prevent a program to error later.\n",
    "\n",
    "- Here we used the built-in method `isinstance()` to check if the value is a `float`, and return a custom error\n",
    "message if it is not.\n",
    "\n",
    "```\n",
    "assay = Assay2(grades, depths)\n",
    "assay.threshold = 2.0\n",
    "```"
   ]
  },
  {
   "cell_type": "code",
   "execution_count": null,
   "id": "264bee28",
   "metadata": {},
   "outputs": [],
   "source": []
  },
  {
   "cell_type": "markdown",
   "id": "949b4d83",
   "metadata": {},
   "source": [
    " Copyright (c) 2022 Mira Geoscience Ltd."
   ]
  }
 ],
 "metadata": {
  "kernelspec": {
   "display_name": "Python 3 (ipykernel)",
   "language": "python",
   "name": "python3"
  }
 },
 "nbformat": 4,
 "nbformat_minor": 5
}
