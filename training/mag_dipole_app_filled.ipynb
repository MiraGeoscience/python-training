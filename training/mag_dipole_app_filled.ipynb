{
 "cells": [
  {
   "cell_type": "markdown",
   "id": "0230b932",
   "metadata": {
    "lines_to_next_cell": 2
   },
   "source": [
    "# Magnetic Dipole App\n",
    "\n",
    "Now that we have learned how to interact with `geoh5`, we can start implementing our first application. We are going to create a magnetic dipole simulator from scratch, which could become a useful tool to interpret magnetic data maps.\n",
    "\n",
    "\n",
    "![mag_dipole_gif](./images/mag_dipole_app.gif \"segment\")"
   ]
  },
  {
   "cell_type": "markdown",
   "id": "f9408860",
   "metadata": {
    "lines_to_next_cell": 2
   },
   "source": [
    "## Background\n",
    "\n",
    "Python needs to import external libraries for certain classes and functions to be recognized when running the code. That is done below."
   ]
  },
  {
   "cell_type": "code",
   "execution_count": 1,
   "id": "512dd768",
   "metadata": {
    "lines_to_next_cell": 2
   },
   "outputs": [],
   "source": [
    "# Import the necessary packages\n",
    "from __future__ import annotations\n",
    "\n",
    "import sys\n",
    "import numpy as np\n",
    "\n",
    "from geoh5py.data import Data\n",
    "from geoh5py.objects import ObjectBase, Points\n",
    "from geoh5py.ui_json import InputFile, constants, templates\n",
    "from geoh5py.ui_json.utils import monitored_directory_copy\n",
    "from geoh5py.workspace import Workspace"
   ]
  },
  {
   "cell_type": "markdown",
   "id": "f75156a6",
   "metadata": {},
   "source": [
    "### Arrays\n",
    "We will make use a few useful methods on `numpy` arrays.\n",
    "- The `sum()` method applied to a specific axis of an array, collapsing the dimension.\n",
    "- The `dot()` method performs the dot product between two arrays\n",
    "- The transpose (`.T`) method to get the dimensions of arrays to align:\n",
    "\n",
    "$[1 \\times 3] \\cdot [M \\times 3].T \\rightarrow [1 \\times M] $.\n",
    "\n",
    "- Array broadcasting (repeat) of a 1D array along a second dimension using the `[:, None]` indexing:\n",
    "\n",
    "$[N \\times 3] \\;/\\;([1 \\times N][: None]) \\rightarrow [N \\times 3] $"
   ]
  },
  {
   "cell_type": "markdown",
   "id": "11944cdc",
   "metadata": {
    "lines_to_next_cell": 2
   },
   "source": [
    "## The physics\n",
    "\n",
    "The strength of the magnetic field flux of a single dipole is:\n",
    "\n",
    "$$\\mathbf{B} = \\frac{\\mu_0}{4 \\pi} \\left( \\frac{3 \\mathbf{r} (\\mathbf{m} \\cdot \\mathbf{r})}{r^5} - \\frac{\\mathbf{m}}{r^3} \\right)$$\n",
    "\n",
    "where $\\mu_0$ is a constant ($4 \\pi \\times 10^{-7}$), $\\mathbf{m}$ is the magnetic dipole moment (susceptibility $\\times$ volume), and $\\mathbf{r}$ is the vector between the dipole and the locations.\n",
    "\n",
    "In a geophysical context however, we normally get Total Magnetic Intensity (TMI) data from magnetometers. The conversion can be approximated by a projection of the fields onto the direction of Earth's inducing field.\n",
    "\n",
    "$$\n",
    "b_{TMI} \\approx \\mathbf{\\hat H}_0 \\cdot \\mathbf{b}\n",
    "$$\n",
    "\n",
    "So we will need at least to\n",
    " - Create functions for:\n",
    "    - Computing the fields of a dipole(s)\n",
    "    - Converting vector fields to TMI.\n",
    " - Provide inputs for parameters:\n",
    "    - Receivers (observation) locations\n",
    "    - Source dipole locations\n",
    "    - Dipole moment values\n",
    "    - Dipole inclination angles\n",
    "    - Dipole declination angles\n",
    "    - Earth's field inclination\n",
    "    - Earth's field declination"
   ]
  },
  {
   "cell_type": "markdown",
   "id": "bd1e15ed",
   "metadata": {},
   "source": [
    "## Functions\n",
    "\n",
    "### Dipole function\n",
    "\n",
    "We can begin with writing the function needed to compute the\n",
    "magnetic field from a single dipole. The function should be able to take as argument\n",
    "\n",
    "    - Coordinates of the source and receivers (defining 'r'),\n",
    "    - Parameters defining the strength (moment) and orientation (inc, dec) of the dipole source."
   ]
  },
  {
   "cell_type": "code",
   "execution_count": 11,
   "id": "1733aefc",
   "metadata": {},
   "outputs": [],
   "source": [
    "def b_field(source, locations, moment, inclination, declination):\n",
    "    \"\"\"\n",
    "    Compute the magnetic field components of a dipole on an array of locations.\n",
    "\n",
    "    :param source: Location of a point dipole, shape(1, 3).\n",
    "    :param locations: Array of observation locations, shape(n, 3).\n",
    "    :param moment: Dipole moment of the source (A.m^2)\n",
    "    :param inclination: Dipole horizontal angle, clockwise from North\n",
    "    :param declination: Dipole vertical angle from horizontal, positive down\n",
    "\n",
    "    :return: Array of magnetic field components, shape(n, 3)\n",
    "    \"\"\"\n",
    "    # Convert the inclination and declination to Cartesian vector\n",
    "    m = moment * inclination_declination_2_xyz(inclination, declination)\n",
    "\n",
    "    # Compute the radial components\n",
    "    rad = source - locations\n",
    "\n",
    "    # Compute |r|\n",
    "    dist = np.sum(rad**2.0, axis=1) ** 0.5\n",
    "\n",
    "    # mu_0 / 4 pi  * 1e9 for nT\n",
    "    constant = 100\n",
    "    fields = constant * (\n",
    "        ((np.dot(m, rad.T).T * 3 * rad) / dist[:, None] ** 5 ) -\n",
    "        (m / dist[:, None] ** 3))\n",
    "\n",
    "    return fields"
   ]
  },
  {
   "cell_type": "markdown",
   "id": "e89dc900",
   "metadata": {
    "lines_to_next_cell": 2
   },
   "source": [
    "### Inclination to declination conversion\n",
    "We require a function to convert inclination/declination angles to Cartesian vectors. The same function will come handy later when computing the TMI projection."
   ]
  },
  {
   "cell_type": "code",
   "execution_count": 10,
   "id": "2f8bc2b1",
   "metadata": {},
   "outputs": [],
   "source": [
    "def inclination_declination_2_xyz(inclination, declination):\n",
    "    \"\"\"Convert inclination and declination angles (degrees) to unit vector (xyz).\"\"\"\n",
    "    theta = np.deg2rad((90 - declination) % 360)\n",
    "    phi = np.deg2rad(90 + inclination)\n",
    "    xyz = np.c_[np.sin(phi) * np.cos(theta), np.sin(phi) * np.sin(theta), np.cos(phi)]\n",
    "\n",
    "    return xyz"
   ]
  },
  {
   "cell_type": "markdown",
   "id": "cb875c26",
   "metadata": {},
   "source": [
    "We can now test our `b_field` function with existing objects present in our `geoh5` project created and saved at the beginning of the workshop."
   ]
  },
  {
   "cell_type": "code",
   "execution_count": 8,
   "id": "cdc567bc",
   "metadata": {},
   "outputs": [
    {
     "ename": "AttributeError",
     "evalue": "'NoneType' object has no attribute 'vertices'",
     "output_type": "error",
     "traceback": [
      "\u001b[1;31m---------------------------------------------------------------------------\u001b[0m",
      "\u001b[1;31mAttributeError\u001b[0m                            Traceback (most recent call last)",
      "Cell \u001b[1;32mIn [8], line 3\u001b[0m\n\u001b[0;32m      1\u001b[0m \u001b[38;5;28;01mwith\u001b[39;00m Workspace(\u001b[38;5;124m\"\u001b[39m\u001b[38;5;124m../assets/suncity.geoh5\u001b[39m\u001b[38;5;124m\"\u001b[39m) \u001b[38;5;28;01mas\u001b[39;00m workspace:\n\u001b[0;32m      2\u001b[0m     \u001b[38;5;66;03m# get variables\u001b[39;00m\n\u001b[1;32m----> 3\u001b[0m     source \u001b[38;5;241m=\u001b[39m \u001b[43mworkspace\u001b[49m\u001b[38;5;241;43m.\u001b[39;49m\u001b[43mget_entity\u001b[49m\u001b[43m(\u001b[49m\u001b[38;5;124;43m\"\u001b[39;49m\u001b[38;5;124;43mSunCityLocation\u001b[39;49m\u001b[38;5;124;43m\"\u001b[39;49m\u001b[43m)\u001b[49m\u001b[43m[\u001b[49m\u001b[38;5;241;43m0\u001b[39;49m\u001b[43m]\u001b[49m\u001b[38;5;241;43m.\u001b[39;49m\u001b[43mvertices\u001b[49m\n\u001b[0;32m      4\u001b[0m     output_entity \u001b[38;5;241m=\u001b[39m workspace\u001b[38;5;241m.\u001b[39mget_entity(\u001b[38;5;124m\"\u001b[39m\u001b[38;5;124mSunCity\u001b[39m\u001b[38;5;124m\"\u001b[39m)[\u001b[38;5;241m0\u001b[39m]\n\u001b[0;32m      5\u001b[0m     locations \u001b[38;5;241m=\u001b[39m output_entity\u001b[38;5;241m.\u001b[39mcentroids\n",
      "\u001b[1;31mAttributeError\u001b[0m: 'NoneType' object has no attribute 'vertices'"
     ]
    }
   ],
   "source": [
    "with Workspace(\"C:\\\\your_file_here.geoh5\") as workspace:\n",
    "    # get variables\n",
    "    source = workspace.get_entity(\"SunCityLocation\")[0].vertices\n",
    "    output_entity = workspace.get_entity(\"SunCity\")[0]\n",
    "    locations = output_entity.centroids\n",
    "    m = 50**3 * 0.05 * 57000\n",
    "    \n",
    "    # compute fields\n",
    "    field = b_field(source, locations, m, -67, -17)\n",
    "    \n",
    "    # write back to workspace\n",
    "    output_entity.add_data(\n",
    "        {\n",
    "            \"bx\": {\"values\": field[:, 0]},\n",
    "            \"by\": {\"values\": field[:, 1]},\n",
    "            \"bz\": {\"values\": field[:, 2]},\n",
    "        }\n",
    "    )"
   ]
  },
  {
   "cell_type": "markdown",
   "id": "2ec11909",
   "metadata": {
    "lines_to_next_cell": 2
   },
   "source": [
    "The `b_field` function returns an array for the three components of the\n",
    "magnetic field due to the dipole source.\n",
    "\n",
    "Let's write a simple function to get the TMI (projected) data instead."
   ]
  },
  {
   "cell_type": "code",
   "execution_count": 12,
   "id": "3a8c5e34",
   "metadata": {},
   "outputs": [],
   "source": [
    "def tmi_projection(b_components, earth_field):\n",
    "    \"\"\"Project magnetic field onto Earth's field.\"\"\"\n",
    "    h0 = inclination_declination_2_xyz(earth_field[0], earth_field[1])\n",
    "    return np.dot(h0, b_components.T)"
   ]
  },
  {
   "cell_type": "markdown",
   "id": "3834249f",
   "metadata": {},
   "source": [
    "and test it for the inducing field parameters at the test site (single location):"
   ]
  },
  {
   "cell_type": "code",
   "execution_count": 17,
   "id": "3004ab25",
   "metadata": {},
   "outputs": [],
   "source": [
    "with Workspace(\"../assets/suncity.geoh5\") as workspace:\n",
    "    # get variables\n",
    "    source = workspace.get_entity(\"SunCityLocation\")[0].vertices\n",
    "    output_entity = workspace.get_entity(\"SunCity\")[0]\n",
    "    locations = output_entity.centroids\n",
    "    m = 50**3 * 0.05 * 57000\n",
    "    \n",
    "    # compute fields\n",
    "    earth_field = np.array([-45,0])\n",
    "    field = b_field(source, locations, m, earth_field[0], earth_field[1])\n",
    "    tmi = tmi_projection(field, earth_field)\n",
    "    \n",
    "    # write back to workspace\n",
    "    output_entity.add_data({\"tmi_45\": {\"values\": tmi}})"
   ]
  },
  {
   "cell_type": "markdown",
   "id": "7436547c",
   "metadata": {},
   "source": [
    "## The Simulator (creating a generic function)\n",
    "\n",
    "In this section, we are going to string together the functions defined above and generalize our approach so that we can deal with different types of `geoh5` objects. Let's wrap all the previous functions into a `magnetic_simulator` class."
   ]
  },
  {
   "cell_type": "code",
   "execution_count": 5,
   "id": "e2c4c1c8",
   "metadata": {},
   "outputs": [],
   "source": [
    "def magnetic_simulator(\n",
    "    sources: ObjectBase,\n",
    "    receivers: ObjectBase,\n",
    "    moments: Data | float,\n",
    "    inclinations: Data | float,\n",
    "    declinations: Data | float,\n",
    "    earth_inc: float,\n",
    "    earth_dec: float,\n",
    "):\n",
    "    def locations(entity):\n",
    "        if hasattr(entity, \"centroids\"):\n",
    "            return entity.centroids\n",
    "\n",
    "        return entity.vertices\n",
    "\n",
    "    # Extract dipole coordinates\n",
    "    dipoles = locations(sources)\n",
    "\n",
    "    # Extract receiver coordinates\n",
    "    observations = locations(receivers)\n",
    "\n",
    "    def vectorize(entity):\n",
    "        if isinstance(entity, Data):\n",
    "            return entity.values\n",
    "\n",
    "        return np.ones(dipoles.shape[0]) * entity\n",
    "\n",
    "    # Get dipole moment values\n",
    "    mom = vectorize(moments)\n",
    "    # Get dipole inclination values\n",
    "    inc = vectorize(inclinations)\n",
    "    # Get dipole declination values\n",
    "    dec = vectorize(declinations)\n",
    "\n",
    "    # Loop over the dipoles\n",
    "    fields = np.zeros_like(observations)\n",
    "\n",
    "    for source, moment, inclination, declination in zip(dipoles, mom, inc, dec):\n",
    "        fields += b_field(source, observations, moment, inclination, declination)\n",
    "\n",
    "    tmi = tmi_projection(fields, (earth_inc, earth_dec))\n",
    "\n",
    "    # Add data to receiver object\n",
    "    data = receivers.add_data(\n",
    "        {\n",
    "            \"b_x\": {\"values\": fields[:, 0]},\n",
    "            \"b_y\": {\"values\": fields[:, 1]},\n",
    "            \"b_z\": {\"values\": fields[:, 2]},\n",
    "            \"tmi\": {\"values\": tmi}\n",
    "        }\n",
    "    )\n",
    "\n",
    "    return data"
   ]
  },
  {
   "cell_type": "markdown",
   "id": "f0ed3aab",
   "metadata": {},
   "source": [
    "We now have a generic function to compute TMI data based on almost any type of ANALYST object.\n",
    "\n",
    "Let us edit our Points object to add more vertices and create data arrays for moment, azimuth and dips. We can now run the simulation by simply giving those entities to our class."
   ]
  },
  {
   "cell_type": "code",
   "execution_count": 3,
   "id": "737d1d97",
   "metadata": {},
   "outputs": [
    {
     "ename": "NameError",
     "evalue": "name 'Workspace' is not defined",
     "output_type": "error",
     "traceback": [
      "\u001b[1;31m---------------------------------------------------------------------------\u001b[0m",
      "\u001b[1;31mNameError\u001b[0m                                 Traceback (most recent call last)",
      "Cell \u001b[1;32mIn [3], line 1\u001b[0m\n\u001b[1;32m----> 1\u001b[0m \u001b[38;5;28;01mwith\u001b[39;00m \u001b[43mWorkspace\u001b[49m(\u001b[38;5;124m\"\u001b[39m\u001b[38;5;124mC:\u001b[39m\u001b[38;5;130;01m\\\\\u001b[39;00m\u001b[38;5;124mRepositories\u001b[39m\u001b[38;5;130;01m\\\\\u001b[39;00m\u001b[38;5;124mpythonTraining\u001b[39m\u001b[38;5;130;01m\\\\\u001b[39;00m\u001b[38;5;124massets\u001b[39m\u001b[38;5;130;01m\\\\\u001b[39;00m\u001b[38;5;124msuncity.geoh5\u001b[39m\u001b[38;5;124m\"\u001b[39m) \u001b[38;5;28;01mas\u001b[39;00m workspace:\n\u001b[0;32m      2\u001b[0m     \u001b[38;5;66;03m# get variables\u001b[39;00m\n\u001b[0;32m      3\u001b[0m     source \u001b[38;5;241m=\u001b[39m workspace\u001b[38;5;241m.\u001b[39mget_entity(\u001b[38;5;124m\"\u001b[39m\u001b[38;5;124mSunCityLocation\u001b[39m\u001b[38;5;124m\"\u001b[39m)[\u001b[38;5;241m0\u001b[39m]\n\u001b[0;32m      4\u001b[0m     output_entity \u001b[38;5;241m=\u001b[39m workspace\u001b[38;5;241m.\u001b[39mget_entity(\u001b[38;5;124m\"\u001b[39m\u001b[38;5;124mSunCity\u001b[39m\u001b[38;5;124m\"\u001b[39m)[\u001b[38;5;241m0\u001b[39m]\n",
      "\u001b[1;31mNameError\u001b[0m: name 'Workspace' is not defined"
     ]
    }
   ],
   "source": [
    "with Workspace(\"C:\\\\your_file_here.geoh5\") as workspace:\n",
    "    # get variables\n",
    "    source = workspace.get_entity(\"SunCityLocation\")[0]\n",
    "    output_entity = workspace.get_entity(\"SunCity\")[0]\n",
    "    \n",
    "    m = 50**3 * 0.05 * 57000\n",
    "    \n",
    "    #\n",
    "    data = magnetic_simulator(source, output_entity, m, -67,-17,-67,-17)\n",
    "    print(data)"
   ]
  },
  {
   "cell_type": "markdown",
   "id": "094c6388",
   "metadata": {},
   "source": [
    "![bfield](./images/b_field.png)"
   ]
  },
  {
   "cell_type": "markdown",
   "id": "a439459e",
   "metadata": {},
   "source": [
    "## The Driver (Running with Geoscience ANALYST)\n",
    "\n",
    "In the previous section, we created our simulation program called `magnetic_simulator` that could compute the fields of dipoles defined by `geoh5` object. As a final step, we need to define a `driver` program that can be called from ANALYST.\n",
    "\n",
    "We are going to take advantage of the\n",
    "[geoh5py.ui_json.InputFile](https://geoh5py.readthedocs.io/en/stable/content/api/geoh5py.ui_json.html#geoh5py.ui_json.input_file.InputFile)\n",
    "class to handle value conversions between geoh5 and python, as well as the `monitored_directory_copy` function to handle the live link with ANALYST."
   ]
  },
  {
   "cell_type": "code",
   "execution_count": 6,
   "id": "77ef7b88",
   "metadata": {},
   "outputs": [],
   "source": [
    "def run(file: str):\n",
    "    \n",
    "    uifile = InputFile.read_ui_json(file).data\n",
    "    \n",
    "    with uifile[\"geoh5\"].open(mode=\"r+\"):\n",
    "        magnetic_simulator(\n",
    "            uifile[\"dipoles\"],\n",
    "            uifile[\"locations\"],\n",
    "            uifile[\"moments\"],\n",
    "            uifile[\"inclinations\"],\n",
    "            uifile[\"declinations\"],\n",
    "            uifile[\"earth_inc\"],\n",
    "            uifile[\"earth_dec\"])\n",
    "        \n",
    "        if uifile[\"monitoring_directory\"] is not None:\n",
    "            monitored_directory_copy(uifile[\"monitoring_directory\"], uifile[\"receivers\"])"
   ]
  },
  {
   "cell_type": "markdown",
   "id": "cde4a5a3",
   "metadata": {},
   "source": [
    "The final step requires to make this program available to python to be executed from ANALYST. That requires going from a notebook to a .py file. This is done by:\n",
    "\n",
    "- Use the `File\\Download as\\Python *.py` dropdown menu to convert this notebook to a `py` file.\n",
    "- Rename the file to `mag_dipole_app.py`.\n",
    "- Remove everything in the file except the\n",
    "    - the imports,\n",
    "    - the blocks of functions `def`\n",
    "    - the following lines (without #'s and $\\textbf{no}$ indentation)\n",
    "\n",
    "    ```\n",
    "    if __name__ == \"__main__\":\n",
    "        file = sys.argv[1]\n",
    "        run(file)\n",
    "    ```\n",
    "\n",
    "This part becomes the entry point of the python interpreter when running the\n",
    "`mag_dipole_app.py` script."
   ]
  },
  {
   "cell_type": "markdown",
   "id": "7a0e0afb",
   "metadata": {},
   "source": [
    "## The User-Interface (ui.json)\n",
    "\n",
    "In the previous section covering the [geoh5 API](geoh5-API), we have introduced functionality to compute the magnetic field from dipole locations. We are now going to create a user-interface (UI) to be able to run this program from a Geoscience ANALYST session.\n",
    "\n",
    "We now can create our ui.json to provide inputs for the following 7 parameters:\n",
    "\n",
    "- `Object` defining the dipoles (sources)\n",
    "- `Object` defining the receivers\n",
    "- `Data` or `float` value for the dipole moments\n",
    "- `Data` or `float` value for the dipole inclination angles\n",
    "- `Data` or `float` value for the dipole declination angles\n",
    "- `Float` value for Earth's field inclination angle\n",
    "- `Float` value for Earth's field declination angle\n",
    "\n",
    "Let's create a UI.json with forms for each one of those inputs"
   ]
  },
  {
   "cell_type": "code",
   "execution_count": 14,
   "id": "7f920adc",
   "metadata": {},
   "outputs": [],
   "source": [
    "import json\n",
    "ui_file = constants.default_ui_json.copy()\n",
    "ui_file[\"title\"] = \"Magnetic Dipole Application\"\n",
    "ui_file[\"conda_environment\"] = \"python-training\"\n",
    "ui_file[\"run_command\"] = \"magnetic_dipole_app\"\n",
    "ui_file.update({\"dipoles\": templates.object_parameter(label=\"Dipoles\", mesh_type=Points.default_type_uid)})\n",
    "ui_file.update({\"locations\": templates.object_parameter(label=\"locations\")})\n",
    "ui_file.update({\"moments\": templates.data_value_parameter(label=\"Moments\", association=\"Vertex\",parent=\"dipoles\", value=1.0)})\n",
    "ui_file.update({\"inclinations\": templates.data_value_parameter(label=\"Dipole inclinations\", association=\"Vertex\",parent=\"dipoles\", value=-67.0)})\n",
    "ui_file.update({\"declinations\": templates.data_value_parameter(label=\"Dipole declinations\", association=\"Vertex\",parent=\"dipoles\", value=-17.0)})\n",
    "ui_file.update({\"earth_inc\": templates.object_parameter(label=\"Earth inclination\", value=-67.0)})\n",
    "ui_file.update({\"earth_dec\": templates.object_parameter(label=\"Earth declination\", value=-17.0)})\n",
    "# Internally, when executed from ANALYST, this is what is going to happen\n",
    "#\n",
    "# ```\n",
    "# conda activate python-training\n",
    "# python mag_dipole [uijson]\n",
    "# ```\n",
    "#\n",
    "# Then your mag_dipole.run should be able to do the rest: compute and store the result.\n",
    "#\n",
    "# Let's write out our ui.json to file."
   ]
  },
  {
   "cell_type": "code",
   "execution_count": 15,
   "id": "58b880a1",
   "metadata": {},
   "outputs": [
    {
     "ename": "TypeError",
     "evalue": "Object of type method is not JSON serializable",
     "output_type": "error",
     "traceback": [
      "\u001b[1;31m---------------------------------------------------------------------------\u001b[0m",
      "\u001b[1;31mTypeError\u001b[0m                                 Traceback (most recent call last)",
      "Cell \u001b[1;32mIn [15], line 2\u001b[0m\n\u001b[0;32m      1\u001b[0m \u001b[38;5;28;01mwith\u001b[39;00m \u001b[38;5;28mopen\u001b[39m(\u001b[38;5;124m\"\u001b[39m\u001b[38;5;124mC:\u001b[39m\u001b[38;5;130;01m\\\\\u001b[39;00m\u001b[38;5;124mUsers\u001b[39m\u001b[38;5;130;01m\\\\\u001b[39;00m\u001b[38;5;124mkristoferd\u001b[39m\u001b[38;5;130;01m\\\\\u001b[39;00m\u001b[38;5;124m.Geoscience ANALYST\u001b[39m\u001b[38;5;130;01m\\\\\u001b[39;00m\u001b[38;5;124mPython\u001b[39m\u001b[38;5;130;01m\\\\\u001b[39;00m\u001b[38;5;124mtest_out.ui.json\u001b[39m\u001b[38;5;124m\"\u001b[39m, \u001b[38;5;124m\"\u001b[39m\u001b[38;5;124mw\u001b[39m\u001b[38;5;124m\"\u001b[39m, encoding\u001b[38;5;241m=\u001b[39m\u001b[38;5;124m\"\u001b[39m\u001b[38;5;124mutf-8\u001b[39m\u001b[38;5;124m\"\u001b[39m) \u001b[38;5;28;01mas\u001b[39;00m file:\n\u001b[1;32m----> 2\u001b[0m     \u001b[43mjson\u001b[49m\u001b[38;5;241;43m.\u001b[39;49m\u001b[43mdump\u001b[49m\u001b[43m(\u001b[49m\u001b[43mui_file\u001b[49m\u001b[43m,\u001b[49m\u001b[43m \u001b[49m\u001b[43mfile\u001b[49m\u001b[43m,\u001b[49m\u001b[43m \u001b[49m\u001b[43mindent\u001b[49m\u001b[38;5;241;43m=\u001b[39;49m\u001b[38;5;241;43m4\u001b[39;49m\u001b[43m)\u001b[49m\n",
      "File \u001b[1;32mC:\\Miniconda\\envs\\python-training\\lib\\json\\__init__.py:179\u001b[0m, in \u001b[0;36mdump\u001b[1;34m(obj, fp, skipkeys, ensure_ascii, check_circular, allow_nan, cls, indent, separators, default, sort_keys, **kw)\u001b[0m\n\u001b[0;32m    173\u001b[0m     iterable \u001b[38;5;241m=\u001b[39m \u001b[38;5;28mcls\u001b[39m(skipkeys\u001b[38;5;241m=\u001b[39mskipkeys, ensure_ascii\u001b[38;5;241m=\u001b[39mensure_ascii,\n\u001b[0;32m    174\u001b[0m         check_circular\u001b[38;5;241m=\u001b[39mcheck_circular, allow_nan\u001b[38;5;241m=\u001b[39mallow_nan, indent\u001b[38;5;241m=\u001b[39mindent,\n\u001b[0;32m    175\u001b[0m         separators\u001b[38;5;241m=\u001b[39mseparators,\n\u001b[0;32m    176\u001b[0m         default\u001b[38;5;241m=\u001b[39mdefault, sort_keys\u001b[38;5;241m=\u001b[39msort_keys, \u001b[38;5;241m*\u001b[39m\u001b[38;5;241m*\u001b[39mkw)\u001b[38;5;241m.\u001b[39miterencode(obj)\n\u001b[0;32m    177\u001b[0m \u001b[38;5;66;03m# could accelerate with writelines in some versions of Python, at\u001b[39;00m\n\u001b[0;32m    178\u001b[0m \u001b[38;5;66;03m# a debuggability cost\u001b[39;00m\n\u001b[1;32m--> 179\u001b[0m \u001b[38;5;28;01mfor\u001b[39;00m chunk \u001b[38;5;129;01min\u001b[39;00m iterable:\n\u001b[0;32m    180\u001b[0m     fp\u001b[38;5;241m.\u001b[39mwrite(chunk)\n",
      "File \u001b[1;32mC:\\Miniconda\\envs\\python-training\\lib\\json\\encoder.py:431\u001b[0m, in \u001b[0;36m_make_iterencode.<locals>._iterencode\u001b[1;34m(o, _current_indent_level)\u001b[0m\n\u001b[0;32m    429\u001b[0m     \u001b[38;5;28;01myield from\u001b[39;00m _iterencode_list(o, _current_indent_level)\n\u001b[0;32m    430\u001b[0m \u001b[38;5;28;01melif\u001b[39;00m \u001b[38;5;28misinstance\u001b[39m(o, \u001b[38;5;28mdict\u001b[39m):\n\u001b[1;32m--> 431\u001b[0m     \u001b[38;5;28;01myield from\u001b[39;00m _iterencode_dict(o, _current_indent_level)\n\u001b[0;32m    432\u001b[0m \u001b[38;5;28;01melse\u001b[39;00m:\n\u001b[0;32m    433\u001b[0m     \u001b[38;5;28;01mif\u001b[39;00m markers \u001b[38;5;129;01mis\u001b[39;00m \u001b[38;5;129;01mnot\u001b[39;00m \u001b[38;5;28;01mNone\u001b[39;00m:\n",
      "File \u001b[1;32mC:\\Miniconda\\envs\\python-training\\lib\\json\\encoder.py:405\u001b[0m, in \u001b[0;36m_make_iterencode.<locals>._iterencode_dict\u001b[1;34m(dct, _current_indent_level)\u001b[0m\n\u001b[0;32m    403\u001b[0m         \u001b[38;5;28;01melse\u001b[39;00m:\n\u001b[0;32m    404\u001b[0m             chunks \u001b[38;5;241m=\u001b[39m _iterencode(value, _current_indent_level)\n\u001b[1;32m--> 405\u001b[0m         \u001b[38;5;28;01myield from\u001b[39;00m chunks\n\u001b[0;32m    406\u001b[0m \u001b[38;5;28;01mif\u001b[39;00m newline_indent \u001b[38;5;129;01mis\u001b[39;00m \u001b[38;5;129;01mnot\u001b[39;00m \u001b[38;5;28;01mNone\u001b[39;00m:\n\u001b[0;32m    407\u001b[0m     _current_indent_level \u001b[38;5;241m-\u001b[39m\u001b[38;5;241m=\u001b[39m \u001b[38;5;241m1\u001b[39m\n",
      "File \u001b[1;32mC:\\Miniconda\\envs\\python-training\\lib\\json\\encoder.py:405\u001b[0m, in \u001b[0;36m_make_iterencode.<locals>._iterencode_dict\u001b[1;34m(dct, _current_indent_level)\u001b[0m\n\u001b[0;32m    403\u001b[0m         \u001b[38;5;28;01melse\u001b[39;00m:\n\u001b[0;32m    404\u001b[0m             chunks \u001b[38;5;241m=\u001b[39m _iterencode(value, _current_indent_level)\n\u001b[1;32m--> 405\u001b[0m         \u001b[38;5;28;01myield from\u001b[39;00m chunks\n\u001b[0;32m    406\u001b[0m \u001b[38;5;28;01mif\u001b[39;00m newline_indent \u001b[38;5;129;01mis\u001b[39;00m \u001b[38;5;129;01mnot\u001b[39;00m \u001b[38;5;28;01mNone\u001b[39;00m:\n\u001b[0;32m    407\u001b[0m     _current_indent_level \u001b[38;5;241m-\u001b[39m\u001b[38;5;241m=\u001b[39m \u001b[38;5;241m1\u001b[39m\n",
      "File \u001b[1;32mC:\\Miniconda\\envs\\python-training\\lib\\json\\encoder.py:438\u001b[0m, in \u001b[0;36m_make_iterencode.<locals>._iterencode\u001b[1;34m(o, _current_indent_level)\u001b[0m\n\u001b[0;32m    436\u001b[0m         \u001b[38;5;28;01mraise\u001b[39;00m \u001b[38;5;167;01mValueError\u001b[39;00m(\u001b[38;5;124m\"\u001b[39m\u001b[38;5;124mCircular reference detected\u001b[39m\u001b[38;5;124m\"\u001b[39m)\n\u001b[0;32m    437\u001b[0m     markers[markerid] \u001b[38;5;241m=\u001b[39m o\n\u001b[1;32m--> 438\u001b[0m o \u001b[38;5;241m=\u001b[39m \u001b[43m_default\u001b[49m\u001b[43m(\u001b[49m\u001b[43mo\u001b[49m\u001b[43m)\u001b[49m\n\u001b[0;32m    439\u001b[0m \u001b[38;5;28;01myield from\u001b[39;00m _iterencode(o, _current_indent_level)\n\u001b[0;32m    440\u001b[0m \u001b[38;5;28;01mif\u001b[39;00m markers \u001b[38;5;129;01mis\u001b[39;00m \u001b[38;5;129;01mnot\u001b[39;00m \u001b[38;5;28;01mNone\u001b[39;00m:\n",
      "File \u001b[1;32mC:\\Miniconda\\envs\\python-training\\lib\\json\\encoder.py:179\u001b[0m, in \u001b[0;36mJSONEncoder.default\u001b[1;34m(self, o)\u001b[0m\n\u001b[0;32m    160\u001b[0m \u001b[38;5;28;01mdef\u001b[39;00m \u001b[38;5;21mdefault\u001b[39m(\u001b[38;5;28mself\u001b[39m, o):\n\u001b[0;32m    161\u001b[0m     \u001b[38;5;124;03m\"\"\"Implement this method in a subclass such that it returns\u001b[39;00m\n\u001b[0;32m    162\u001b[0m \u001b[38;5;124;03m    a serializable object for ``o``, or calls the base implementation\u001b[39;00m\n\u001b[0;32m    163\u001b[0m \u001b[38;5;124;03m    (to raise a ``TypeError``).\u001b[39;00m\n\u001b[1;32m   (...)\u001b[0m\n\u001b[0;32m    177\u001b[0m \n\u001b[0;32m    178\u001b[0m \u001b[38;5;124;03m    \"\"\"\u001b[39;00m\n\u001b[1;32m--> 179\u001b[0m     \u001b[38;5;28;01mraise\u001b[39;00m \u001b[38;5;167;01mTypeError\u001b[39;00m(\u001b[38;5;124mf\u001b[39m\u001b[38;5;124m'\u001b[39m\u001b[38;5;124mObject of type \u001b[39m\u001b[38;5;132;01m{\u001b[39;00mo\u001b[38;5;241m.\u001b[39m\u001b[38;5;18m__class__\u001b[39m\u001b[38;5;241m.\u001b[39m\u001b[38;5;18m__name__\u001b[39m\u001b[38;5;132;01m}\u001b[39;00m\u001b[38;5;124m \u001b[39m\u001b[38;5;124m'\u001b[39m\n\u001b[0;32m    180\u001b[0m                     \u001b[38;5;124mf\u001b[39m\u001b[38;5;124m'\u001b[39m\u001b[38;5;124mis not JSON serializable\u001b[39m\u001b[38;5;124m'\u001b[39m)\n",
      "\u001b[1;31mTypeError\u001b[0m: Object of type method is not JSON serializable"
     ]
    }
   ],
   "source": [
    "with open(\"./test_out.ui.json\", \"w\", encoding=\"utf-8\") as file:\n",
    "    json.dump(ui_file, file, indent=4)"
   ]
  },
  {
   "cell_type": "markdown",
   "id": "66ed0c9a",
   "metadata": {},
   "source": [
    " Copyright (c) 2022 Mira Geoscience Ltd."
   ]
  }
 ],
 "metadata": {
  "jupytext": {
   "formats": "ipynb,py"
  },
  "kernelspec": {
   "display_name": "Python 3 (ipykernel)",
   "language": "python",
   "name": "python3"
  },
  "language_info": {
   "codemirror_mode": {
    "name": "ipython",
    "version": 3
   },
   "file_extension": ".py",
   "mimetype": "text/x-python",
   "name": "python",
   "nbconvert_exporter": "python",
   "pygments_lexer": "ipython3",
   "version": "3.9.13"
  }
 },
 "nbformat": 4,
 "nbformat_minor": 5
}
