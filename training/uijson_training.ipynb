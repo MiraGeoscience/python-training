{
 "cells": [
  {
   "cell_type": "markdown",
   "id": "81880441",
   "metadata": {},
   "source": [
    "# Custom User Interface (ui.json)\n",
    "\n",
    "\n",
    "This section provides training on how to create custom user interface within Geoscience ANALYST using the [ui.json\n",
    "standard](https://geoh5py.readthedocs.io/en/stable/content/uijson_format/index.html). In this section we are going to demonstrate how to:\n",
    "\n",
    "- [Create a basic user-interface programmatically](Create-a-ui.json)\n",
    "- Read and write a ui.json from file\n",
    "- Demonstrate how to set up ANALYST to run a custom program"
   ]
  },
  {
   "cell_type": "markdown",
   "id": "1dc1dd91",
   "metadata": {},
   "source": [
    "## Creating a ui.json\n",
    "\n",
    "The `ui.json` format is based on the [json](https://www.json.org/json-en.html) standard - a format widely used in programming. Python comes by default with a [json](https://docs.python.org/3/library/json.html) module to read and write to file. All we need is a way to create the structure that ANALYST understands. We can make use of the [geoh5py.ui_json](https://geoh5py.readthedocs.io/en/stable/content/api/geoh5py.ui_json.html) module to get started."
   ]
  },
  {
   "cell_type": "code",
   "execution_count": null,
   "id": "9dca4518",
   "metadata": {},
   "outputs": [],
   "source": []
  },
  {
   "cell_type": "markdown",
   "id": "3b50ad25",
   "metadata": {},
   "source": [
    "First, we need the base components must contain a few base parameters, such as a `title` and a `run_command`. A `constants.default_ui_json` is available to quickly get starget:"
   ]
  },
  {
   "cell_type": "code",
   "execution_count": null,
   "id": "4c852817",
   "metadata": {},
   "outputs": [],
   "source": []
  },
  {
   "cell_type": "markdown",
   "id": "e16b5ffb",
   "metadata": {},
   "source": [
    "\n",
    "Note that the `run_command` is currently set to `None`, and therefore nothing will be executed by ANALYST. We will get to that part later.\n",
    "\n",
    "You could write this dictionary directly to file using the built-in `json` module with"
   ]
  },
  {
   "cell_type": "code",
   "execution_count": null,
   "id": "20e8cb61",
   "metadata": {},
   "outputs": [],
   "source": []
  },
  {
   "cell_type": "markdown",
   "id": "77fc05aa",
   "metadata": {},
   "source": [
    "which writes it out as text file under the `assets` directory. From here you can drag & drop the file to the `Viewport` of ANALYST, which would render as:\n",
    "\n",
    "![base_ui](./images/base_ui.png)\n",
    "\n",
    "This user-interface doesn't do much at the moment so we can add a few additional forms.\n",
    "More parameters can be added by a simple `update` of the base dictionary. You can use any of the 8 `forms` currently supported:\n",
    "\n",
    "### [Bool value](https://geoh5py.readthedocs.io/en/stable/content/uijson_format/json_objects.html#boolean-parameter)\n",
    "\n",
    "Checkbox to set an option as true or false.\n",
    "```\n",
    "my_ui.update({\n",
    "    \"value_bool\": templates.bool_parameter(label=\"True/false\")\n",
    "})\n",
    "```\n",
    "\n",
    "![bool_ui](./images/bool_ui.png)\n",
    "\n",
    "### [Integer value](https://geoh5py.readthedocs.io/en/stable/content/uijson_format/json_objects.html#integer-parameter)\n",
    "\n",
    "Value field for integers. It is possible to set min/max values to bound the output.\n",
    "```\n",
    "my_ui.update({\n",
    "    \"value_int\": templates.integer_parameter(label=\"Some value:\")\n",
    "})\n",
    "```\n",
    "\n",
    "![int_ui](./images/int_ui.png)\n",
    "\n",
    "\n",
    "### [Float value](https://geoh5py.readthedocs.io/en/stable/content/uijson_format/json_objects.html#float-parameter)\n",
    "\n",
    "Value field for floats. Bounds on value also available.\n",
    "```\n",
    "my_ui.update({\n",
    "    \"value_float\": templates.float_parameter(label=\"Some value:\")\n",
    "})\n",
    "```\n",
    "\n",
    "![float_ui](./images/float_ui.png)\n",
    "\n",
    "### [String value](https://geoh5py.readthedocs.io/en/stable/content/uijson_format/json_objects.html#string-parameter)\n",
    "\n",
    "String field for text value.\n",
    "```\n",
    "my_ui.update({\n",
    "    \"value_string\": templates.string_parameter(label=\"Some value:\")\n",
    "})\n",
    "```\n",
    "\n",
    "![string_ui](./images/string_ui.png)\n",
    "\n",
    "\n",
    "### [Multi-choice string](https://geoh5py.readthedocs.io/en/stable/content/uijson_format/json_objects.html#multi-choice-string-parameter)\n",
    "\n",
    "Dropdown list of string values to chose from.\n",
    "```\n",
    "my_ui.update({\n",
    "    \"choice\": templates.choice_string_parameter(label=\"Select:\")\n",
    "})\n",
    "```\n",
    "\n",
    "![choice_string_ui](./images/choice_string_ui.png)\n",
    "\n",
    "\n",
    "### [File choice](https://geoh5py.readthedocs.io/en/stable/content/uijson_format/json_objects.html#file-parameter)\n",
    "\n",
    "Button to browse for a file on disk.\n",
    "```\n",
    "my_ui.update({\n",
    "    \"file\": templates.file_parameter(label=\"Select file:\", fileType=[\"geoh5\"], fileDescription=[\"project\"])\n",
    "})\n",
    "```\n",
    "\n",
    "![file_ui](./images/file_ui.png)\n",
    "\n",
    "\n",
    "### [Geoh5 Object selection](https://geoh5py.readthedocs.io/en/stable/content/uijson_format/json_objects.html#geoscience-analyst-object-parameter)\n",
    "\n",
    "Dropdown selection for objects listed under an active ANALYST session. The `mesh_type` attribute lets filter specific object types by their [uuid types](https://geoh5py.readthedocs.io/en/stable/content/geoh5_format/analyst/objects.html)\n",
    "```\n",
    "my_ui.update({\n",
    "    \"object\": templates.object_parameter(label=\"Object\", mesh_type=\"\")\n",
    "})\n",
    "```\n",
    "\n",
    "![object_ui](./images/object_ui.png)\n",
    "\n",
    "\n",
    "### [Geoh5 Data selection](https://geoh5py.readthedocs.io/en/stable/content/uijson_format/json_objects.html#geoscience-analyst-data-parameter)\n",
    "\n",
    "Dropdown selection of data listed under the `parent` object.\n",
    "```\n",
    "my_ui.update({\n",
    "    \"object\": templates.object_parameter(label=\"Object\", mesh_type=\"\"),\n",
    "    \"data\": templates.data_parameter(label=\"Data\", parent=\"object\")\n",
    "})\n",
    "```\n",
    "\n",
    "![data_ui](./images/data_ui.png)\n",
    "\n",
    "You are invited to click on the link provided for each form to read about the different options available to further control your UI.\n",
    "\n",
    "Once you are done adding forms:\n",
    "\n",
    "- Write this file out to disk\n",
    "- Drag & drop the ui.json to the viewport of ANALYST\n",
    "- Do some selections\n",
    "- Click `Apply` or `Ok` to write back out the ui.json.\n",
    "\n",
    "![run_ui](./images/run_ui.png)"
   ]
  },
  {
   "cell_type": "markdown",
   "id": "81fdede5",
   "metadata": {},
   "source": [
    "## Example: Magnetic Dipole App\n",
    "\n",
    "In the previous section covering the [geoh5 API](geoh5-API), we have introduced functionality to compute the magnetic field from dipole locations. We are now going to create a user-interface (UI) to be able to run this program from a Geoscience ANALYST session.\n",
    "\n",
    "\n",
    "### Creating a callable program\n",
    "\n",
    "In the previous [Geoh5 API Example](Example-1b:--Generalizing-the-application) section, we created a `Class` (object) called `MagneticSimulation` that could compute the fields of a collection of dipoles. We are going to define a program that our UI can call to compute and store the results.\n",
    "\n",
    "To get started, either copy/paste the definition of the `MagneticSimulation` class below, or import from the script collection:"
   ]
  },
  {
   "cell_type": "code",
   "execution_count": null,
   "id": "55eaffa2",
   "metadata": {},
   "outputs": [],
   "source": []
  },
  {
   "cell_type": "markdown",
   "id": "d1e58dc8",
   "metadata": {},
   "source": [
    "- We are going to take advantage of the [geoh5py.ui_json.InputFile](https://geoh5py.readthedocs.io/en/stable/content/api/geoh5py.ui_json.html#geoh5py.ui_json.input_file.InputFile) class to handle some of the value conversion between geoh5 and python.\n",
    "\n",
    "\n",
    "The final step requires to make this `run` available to python.\n",
    "\n",
    "- Use `File\\Download as\\Python .py` to convert this notebook to a `py` file.\n",
    "- Rename the file to `mag_dipole.py`.\n",
    "- Remove everything in the file except for the content of the cell above\n",
    "- Add the following lines at the end of the scipt\n",
    "\n",
    "```\n",
    "if __name__ == \"__main__\":\n",
    "    file = sys.argv[1]\n",
    "    run(file)\n",
    "```\n",
    "\n",
    "This becomes the entry point of the python interpreter when running the `mag_dipole.py` script. At the end, your file should look like this.\n",
    "\n",
    "![run_command](./images/run_command.png)"
   ]
  },
  {
   "cell_type": "markdown",
   "id": "b4256ab3",
   "metadata": {},
   "source": [
    "### Creating the UI\n",
    "\n",
    "We now can create our ui.json to provide inputs for the following 5 parameters:\n",
    "\n",
    "- `Object` defining the dipoles (sources)\n",
    "- `Object` defining the receivers\n",
    "- `Data` or `float` value for the dipole moments\n",
    "- `Data` or `float` value for the dipole inclination angles\n",
    "- `Data` or `float` value for the dipole declination angles\n",
    "\n",
    "Let's create a UI.json with forms for each one of those inputs"
   ]
  },
  {
   "cell_type": "code",
   "execution_count": null,
   "id": "a25d2bd1",
   "metadata": {},
   "outputs": [],
   "source": []
  },
  {
   "cell_type": "markdown",
   "id": "70c54c5d",
   "metadata": {},
   "source": [
    "We now need tell which \"program\" that ANALYST can call."
   ]
  },
  {
   "cell_type": "code",
   "execution_count": null,
   "id": "c58fe9db",
   "metadata": {},
   "outputs": [],
   "source": []
  },
  {
   "cell_type": "markdown",
   "id": "aae436f2",
   "metadata": {},
   "source": [
    "Internally, when executed from ANALYST, this is what is going to happen\n",
    "\n",
    "```\n",
    "conda activate python-training\n",
    "python mag_dipole\n",
    "```\n",
    "\n",
    "Then you mag_dipole.run should be able to do the rest: compute and store the result.\n",
    "\n",
    "Let's write out our ui.json to file."
   ]
  },
  {
   "cell_type": "code",
   "execution_count": null,
   "id": "6c7aa974",
   "metadata": {},
   "outputs": [],
   "source": []
  },
  {
   "cell_type": "markdown",
   "id": "3c6722b3",
   "metadata": {},
   "source": [
    " Copyright (c) 2022 Mira Geoscience Ltd."
   ]
  }
 ],
 "metadata": {
  "jupytext": {
   "formats": "ipynb,py"
  },
  "kernelspec": {
   "display_name": "Python 3 (ipykernel)",
   "language": "python",
   "name": "python3"
  }
 },
 "nbformat": 4,
 "nbformat_minor": 5
}
