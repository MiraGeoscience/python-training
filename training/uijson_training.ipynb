{
 "cells": [
  {
   "cell_type": "markdown",
   "id": "b8277010",
   "metadata": {},
   "source": [
    "# Custom User Interface (ui.json)\n",
    "\n",
    "\n",
    "This section provides training on how to create custom user interface within Geoscience ANALYST using the [ui.json\n",
    "standard](https://geoh5py.readthedocs.io/en/stable/content/uijson_format/index.html)."
   ]
  },
  {
   "cell_type": "markdown",
   "id": "62ea75fe",
   "metadata": {},
   "source": [
    "## UI.json format"
   ]
  },
  {
   "cell_type": "markdown",
   "id": "9e512606",
   "metadata": {},
   "source": [
    "# Example 1: Electric field calculator (revisited)"
   ]
  },
  {
   "cell_type": "markdown",
   "id": "15e3b686",
   "metadata": {},
   "source": [
    " Copyright (c) 2022 Mira Geoscience Ltd."
   ]
  }
 ],
 "metadata": {
  "jupytext": {
   "formats": "ipynb,py"
  },
  "kernelspec": {
   "display_name": "Python 3 (ipykernel)",
   "language": "python",
   "name": "python3"
  }
 },
 "nbformat": 4,
 "nbformat_minor": 5
}
