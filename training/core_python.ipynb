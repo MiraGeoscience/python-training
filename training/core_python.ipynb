{
 "cells": [
  {
   "cell_type": "markdown",
   "metadata": {},
   "source": [
    "# Basic python\n",
    "\n",
    "This section offers a brief overview of core python vocabulary and synthax. \n",
    "\n",
    "### Numerics\n",
    "\n",
    "### Strings\n",
    "\n",
    "### List\n",
    "\n",
    "### Dictionary\n",
    "\n",
    "### Function\n",
    "\n",
    "## Base objects\n",
    "\n",
    "One of the core attribute of Python is to be an \"object-oriented programming\" (OOP) language, as opposed to a function-based language such as C and Fortran. \n",
    "\n",
    "Rather than having a script with many functions taking variables, objects can be seen as small building blocks\n",
    "\n",
    "### Class\n",
    "\n",
    "\n",
    "## Importing packages\n",
    "\n",
    "The base objects described previously can be assembled together to do more complex operations. Python is made up "
   ]
  },
  {
   "cell_type": "code",
   "execution_count": 1,
   "metadata": {},
   "outputs": [],
   "source": [
    "import numpy as np"
   ]
  },
  {
   "cell_type": "markdown",
   "metadata": {},
   "source": [
    "Here we have imported the entire package `numpy` and assign a short-hand alias for it to keep our code more concise. Sub-modules can accessed using a `.` such that"
   ]
  },
  {
   "cell_type": "code",
   "execution_count": 3,
   "metadata": {},
   "outputs": [
    {
     "data": {
      "text/plain": [
       "<function numpy.array>"
      ]
     },
     "execution_count": 3,
     "metadata": {},
     "output_type": "execute_result"
    }
   ],
   "source": [
    "np.array"
   ]
  },
  {
   "cell_type": "markdown",
   "metadata": {},
   "source": [
    "returns a function handle for the `array` class."
   ]
  },
  {
   "cell_type": "code",
   "execution_count": 6,
   "metadata": {},
   "outputs": [],
   "source": [
    "np.array?"
   ]
  }
 ],
 "metadata": {
  "kernelspec": {
   "display_name": "Python 3 (ipykernel)",
   "language": "python",
   "name": "python3"
  },
  "language_info": {
   "codemirror_mode": {
    "name": "ipython",
    "version": 3
   },
   "file_extension": ".py",
   "mimetype": "text/x-python",
   "name": "python",
   "nbconvert_exporter": "python",
   "pygments_lexer": "ipython3",
   "version": "3.9.12"
  },
  "widgets": {
   "application/vnd.jupyter.widget-state+json": {
    "state": {},
    "version_major": 2,
    "version_minor": 0
   }
  }
 },
 "nbformat": 4,
 "nbformat_minor": 4
}
