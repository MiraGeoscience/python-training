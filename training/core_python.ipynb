{
 "cells": [
  {
   "cell_type": "markdown",
   "id": "5275335d",
   "metadata": {},
   "source": [
    " Copyright (c) 2022 Mira Geoscience Ltd."
   ]
  },
  {
   "cell_type": "markdown",
   "id": "800191b1",
   "metadata": {},
   "source": [
    "# Python Fundamentals\n",
    "\n",
    "This section offers a brief overview and examples of core Python concepts and syntax. It is not meant to be a\n",
    "fully comprehensive resource for Python, but mainly a primer to get participants started with writing their first\n",
    "utility program.\n",
    "\n",
    "This training material uses the [jupyter-notebook](https://jupyter.org/) environment that contains blocks of text (\n",
    "like this one) and code running from a web browser environment (no internet required). Participants are invited to\n",
    "write and run the examples provided to get comfortable with the Python syntax. Here are few useful shortcuts for\n",
    "jupyter-notebooks.\n",
    "\n",
    " - Press **esc + a** to add a cell above, or **esc+b** to add a cell below.\n",
    " - Press **shift + enter** to run a selected cell.\n",
    " - Click on a cell and press **M** to convert to a text cell, or **Y** to convert to code cell.\n",
    "\n",
    "\n",
    "## Objects\n",
    "\n",
    "At the core, Python is an **object-oriented programming** (OOP) language that is defined by objects, also referred\n",
    "to as `Class`, that hold methods and attributes. Python programs are made of many of those objects that interact\n",
    "with each other to yield the desired output. This is in contrast to **imperative** or **procedural-based**\n",
    "languages, such as C and Fortran, that make use of functions and variables to create a series of computational\n",
    "steps executed in sequence. Python can also be written in a procedural way but internally objects are always doing\n",
    "the work.\n",
    "\n",
    "While often slower than imperative compiled languages, object-orientated programming languages like Python allow\n",
    "for more concise and readable code that is easy to share and repurposed. This will become obvious as we go further\n",
    "in this tutorial.\n",
    "\n",
    "Let's start by introducing some core Python objects."
   ]
  },
  {
   "cell_type": "markdown",
   "id": "7d00ef44",
   "metadata": {},
   "source": [
    "### Numerics\n",
    "\n",
    "Numerical values can be of type `float` with decimals or of type `int` (integers). Floats are mainly used for\n",
    "arithmetic while integers are used to count or index arrays.\n",
    "\n",
    "```\n",
    "# Integer\n",
    "x = 1\n",
    "print(type(x))\n",
    "```\n",
    "\n",
    "```\n",
    "# Float\n",
    "y = 1.0\n",
    "print(type(y))\n",
    "```"
   ]
  },
  {
   "cell_type": "code",
   "execution_count": null,
   "id": "7b8989f5",
   "metadata": {
    "tags": [
     "hide-input"
    ]
   },
   "outputs": [],
   "source": [
    "x = 1\n",
    "print(type(x))\n",
    "\n",
    "y = 1.0\n",
    "print(type(y))"
   ]
  },
  {
   "cell_type": "markdown",
   "id": "99677118",
   "metadata": {},
   "source": [
    "Note that we have used two important built-in methods: `print` and `type`. First, the `type` method returns the\n",
    "type of object given as input, then the `print` displays the result to screen. Input values for methods are always\n",
    "given between parentheses `()`.\n",
    "\n",
    "Here is a shortlist of standard arithmetic and logical operators in order of priority (evaluated in order).\n",
    "\n",
    "- `**`: Power\n",
    "- `%` : Modulo\n",
    "- `*`: Multiplication\n",
    "- `\\`: Division\n",
    "- `+`: Addition\n",
    "- `-`: Subtraction\n",
    "- `==`: Logical equal\n",
    "- `>` : Logical greater than\n",
    "- `<` : Logical smaller than\n",
    "\n",
    "For example\n",
    "\n",
    "```\n",
    "2**2 * 1.5 + 1 == 7.0\n",
    "```\n"
   ]
  },
  {
   "cell_type": "code",
   "execution_count": null,
   "id": "cd0e91d8",
   "metadata": {
    "tags": [
     "hide-input"
    ]
   },
   "outputs": [],
   "source": [
    "print(2**2 * 1.5 + 1 == 7.0)"
   ]
  },
  {
   "cell_type": "markdown",
   "id": "98cccdf9",
   "metadata": {},
   "source": [
    "Also, it is important to keep in mind general rules of return types.\n",
    "\n",
    "- Adding or subtracting integers yields an integer\n",
    "\n",
    "    ```\n",
    "    print(type(x+x))\n",
    "    ```\n",
    "\n",
    "- Multiplying or dividing integers yields a float\n",
    "    ```\n",
    "    print(type(x/x))\n",
    "    ```\n",
    "\n",
    "- Mix operations on integer and float always yield a float\n",
    "    ```\n",
    "    print(type(x+y))\n",
    "    ```"
   ]
  },
  {
   "cell_type": "code",
   "execution_count": null,
   "id": "91565740",
   "metadata": {
    "tags": [
     "remove-cell"
    ]
   },
   "outputs": [],
   "source": [
    "print(type(x + x))\n",
    "print(type(x / x))  # Multiply|divide integers yields a float\n",
    "print(type(x + y))  # Mix of integer and float yields a float"
   ]
  },
  {
   "cell_type": "markdown",
   "id": "0e7b0302",
   "metadata": {},
   "source": [
    "As previously mentioned, even if `x` is simply an integer, it is technically still a Python object with methods. To\n",
    "access the list of methods available, you can simply type `.` then the `tab` key.\n",
    "\n",
    "![methods](./images/methods.png)"
   ]
  },
  {
   "cell_type": "markdown",
   "id": "4040b3c7",
   "metadata": {},
   "source": [
    "In this case, the `imag` method of the integer would return the imaginary part of x (if it was a complex number)."
   ]
  },
  {
   "cell_type": "markdown",
   "id": "c8207aec",
   "metadata": {},
   "source": [
    "### String\n",
    "\n",
    "Strings are text objects that contain characters (letters, numbers or symbols) isolated by single `'` or double\n",
    "`\"` quotes. Both are acceptable but consistency is preferable.\n",
    "\n",
    "Here is a shortlist of useful methods that will be used in this tutorial.\n",
    "\n",
    "- Adding strings\n",
    "    ```\n",
    "    \"hello\" + \" world\"\n",
    "    ```\n",
    "- Upper/lower and single word capitalization\n",
    "    ```\n",
    "    \"I\" + \" love \".upper() + \"python\".capitalize()\n",
    "    ```\n",
    "- Upper case every word\n",
    "    ```\n",
    "    \"this is important\".title()\n",
    "    ```\n",
    "- Find sub-string within\n",
    "    ```\n",
    "    \"Long sentence with symbols #$%^&\".find(\"sym\")\n",
    "    ```"
   ]
  },
  {
   "cell_type": "code",
   "execution_count": null,
   "id": "38b308aa",
   "metadata": {
    "tags": [
     "remove-cell"
    ]
   },
   "outputs": [],
   "source": [
    "# Additions\n",
    "print(\"hello\" + \" world\")\n",
    "\n",
    "# Title\n",
    "print(\"this is important\".title())\n",
    "\n",
    "# Upper/lower and single word capitalization\n",
    "print(\"I\" + \" love \".upper() + \"python\".capitalize())\n",
    "\n",
    "# Title\n",
    "print(\"this is important\".title())\n",
    "\n",
    "# Find\n",
    "print(\"Long sentence with symbols #$%^&\".find(\"sym\"))"
   ]
  },
  {
   "cell_type": "markdown",
   "id": "29f01f9d",
   "metadata": {},
   "source": [
    "### List\n",
    "\n",
    "List are simple containers for other objects, which can be of any type. They are created with square brackets `[]`."
   ]
  },
  {
   "cell_type": "code",
   "execution_count": null,
   "id": "31460638",
   "metadata": {},
   "outputs": [],
   "source": [
    "a_list = [1.0, 2, \"abc\"]"
   ]
  },
  {
   "cell_type": "markdown",
   "id": "739cc931",
   "metadata": {},
   "source": [
    "Here are a few important methods that can used on a `list`."
   ]
  },
  {
   "cell_type": "code",
   "execution_count": null,
   "id": "f9e5742f",
   "metadata": {},
   "outputs": [],
   "source": [
    "# Indexing (count starts at 0)\n",
    "print(a_list[0])"
   ]
  },
  {
   "cell_type": "code",
   "execution_count": null,
   "id": "b2369d5f",
   "metadata": {},
   "outputs": [],
   "source": [
    "# Removing an element\n",
    "a_list.pop(0)\n",
    "print(a_list)"
   ]
  },
  {
   "cell_type": "markdown",
   "id": "49fa2e01",
   "metadata": {},
   "source": [
    "Elements within the list can be searched with the `index` method.\n",
    "\n",
    "```\n",
    "a_list.index(\"abc\")\n",
    "```"
   ]
  },
  {
   "cell_type": "code",
   "execution_count": null,
   "id": "3310b3fb",
   "metadata": {
    "tags": [
     "remove-cell"
    ]
   },
   "outputs": [],
   "source": [
    "a_list.index(\"abc\")"
   ]
  },
  {
   "cell_type": "markdown",
   "id": "49175993",
   "metadata": {},
   "source": [
    "### Dictionary\n",
    "\n",
    "Dictionaries are also containers for objects but give an additional level of structure over lists. Every entry of\n",
    "the dictionary is indexed by a `key`. They are created with braces `{}` with `{key: value}` pairs separated by a\n",
    "column `:`.\n",
    "\n",
    "```\n",
    "my_dict = {\n",
    "    \"float\": 1.0,\n",
    "    \"integer\": 2,\n",
    "    \"string\": \"abc\",\n",
    "    \"function\": add,\n",
    "    \"class\": arithmetic\n",
    "}\n",
    "```"
   ]
  },
  {
   "cell_type": "code",
   "execution_count": null,
   "id": "a5b1d34d",
   "metadata": {
    "tags": [
     "remove-cell"
    ]
   },
   "outputs": [],
   "source": [
    "my_dict = {\n",
    "    \"float\": 1.0,\n",
    "    \"integer\": 2,\n",
    "    \"string\": \"abc\",\n",
    "}"
   ]
  },
  {
   "cell_type": "markdown",
   "id": "f654eab8",
   "metadata": {},
   "source": [
    "Values of the dictionary can then be accessed using the key\n",
    "\n",
    "```\n",
    "my_dict[\"function\"]\n",
    "```"
   ]
  },
  {
   "cell_type": "code",
   "execution_count": null,
   "id": "ac485d17",
   "metadata": {
    "tags": [
     "remove-cell"
    ]
   },
   "outputs": [],
   "source": [
    "print(my_dict[\"integer\"])"
   ]
  },
  {
   "cell_type": "markdown",
   "id": "b637f557",
   "metadata": {},
   "source": [
    "### Functions\n",
    "\n",
    "The general concept of programming is to define a set of operations for a computer to execute rapidly. The building\n",
    "blocks making up a program can be written in terms of a `function` that take in input values and return a result.\n",
    "\n",
    "Below are two trivial functions to `add` and `multiply` input values."
   ]
  },
  {
   "cell_type": "code",
   "execution_count": null,
   "id": "75dfe490",
   "metadata": {},
   "outputs": [],
   "source": [
    "def add(arg_a, arg_b):\n",
    "    \"\"\"Function to add elements\"\"\"\n",
    "    return arg_a + arg_b\n",
    "\n",
    "\n",
    "def multiply(arg_a, arg_b):\n",
    "    \"\"\"Function to multiply elements\"\"\"\n",
    "    return arg_a * arg_b"
   ]
  },
  {
   "cell_type": "code",
   "execution_count": null,
   "id": "fcf77f5d",
   "metadata": {
    "lines_to_next_cell": 2
   },
   "outputs": [],
   "source": [
    "print(add(1, 2), multiply(1, 2))"
   ]
  },
  {
   "cell_type": "markdown",
   "id": "255d6d8e",
   "metadata": {},
   "source": [
    "The two functions that take input `arguments` **a** and **b**, and return a value using built-in Python operators\n",
    "`+` and `*`. There are clear issues with the example above in terms coding standards, but it provides a base\n",
    "example for Python functions.\n",
    "\n",
    "See the [Best Practice](best_practice) page for additional material on style guides."
   ]
  },
  {
   "cell_type": "markdown",
   "id": "7054504a",
   "metadata": {
    "lines_to_next_cell": 2
   },
   "source": [
    "#### Keyword Arguments\n",
    "Other than the required input arguments, Python also allows for default values to be stored in\n",
    "the signature of the function as keyword arguments (`kwargs`). Let's suppose we would like to add optional constant\n",
    "multipliers to our function scale the result. We could re-write the `add` function as:"
   ]
  },
  {
   "cell_type": "code",
   "execution_count": null,
   "id": "f5e05bfb",
   "metadata": {},
   "outputs": [],
   "source": [
    "def add_kwargs(arg_a, arg_b, arg_c=1, arg_d=1):\n",
    "    \"\"\"Function to add elements scaled by constants.\"\"\"\n",
    "    return arg_c * arg_a + arg_d * arg_b"
   ]
  },
  {
   "cell_type": "markdown",
   "id": "df62f195",
   "metadata": {},
   "source": [
    "such that `c` and `d` are optional inputs. If value are not provided then the defaults are used."
   ]
  },
  {
   "cell_type": "code",
   "execution_count": null,
   "id": "19df7cfa",
   "metadata": {},
   "outputs": [],
   "source": [
    "print(add_kwargs(1, 2))"
   ]
  },
  {
   "cell_type": "markdown",
   "id": "b6f62154",
   "metadata": {},
   "source": [
    "In this case, since the defaults are 1s, then we get the same result as previously. Optionally, users can supply\n",
    "new values to the keyword arguments in any order."
   ]
  },
  {
   "cell_type": "code",
   "execution_count": null,
   "id": "859b2c4b",
   "metadata": {},
   "outputs": [],
   "source": [
    "print(add_kwargs(1, 2, arg_d=2, arg_c=1))"
   ]
  },
  {
   "cell_type": "markdown",
   "id": "82ff1778",
   "metadata": {},
   "source": [
    "If not assigned specifically as keyword arguments, Python will simply distribute the extra arguments in the order\n",
    "defined in the signature of the function. For example"
   ]
  },
  {
   "cell_type": "code",
   "execution_count": null,
   "id": "9d1d7318",
   "metadata": {
    "lines_to_next_cell": 2
   },
   "outputs": [],
   "source": [
    "print(add_kwargs(1, 2, 1, 2) == add_kwargs(1, 2, arg_c=1, arg_d=2))"
   ]
  },
  {
   "cell_type": "markdown",
   "id": "9b81309d",
   "metadata": {},
   "source": [
    "Note that we have used the logical operator `==` to compare the output of two `add` calls."
   ]
  },
  {
   "cell_type": "markdown",
   "id": "2ea95923",
   "metadata": {
    "lines_to_next_cell": 2
   },
   "source": [
    "### Classes\n",
    "\n",
    "While `functions` are common to almost all types programming languages, the concept of `Class` is specific to\n",
    "object-oriented languages. Objects are containers for methods (functions) and properties.  as shown with the\n",
    "following example."
   ]
  },
  {
   "cell_type": "code",
   "execution_count": null,
   "id": "92be5be7",
   "metadata": {},
   "outputs": [],
   "source": [
    "class Arithmetic:\n",
    "    \"\"\"Simple class\"\"\"\n",
    "\n",
    "    @staticmethod\n",
    "    def add(var_a, var_b, var_c=1, var_d=1):\n",
    "        \"\"\"Method to add.\"\"\"\n",
    "        return var_c * var_a + var_d * var_b\n",
    "\n",
    "    @staticmethod\n",
    "    def multiply(var_a, var_b):\n",
    "        \"\"\"Method to add.\"\"\"\n",
    "        return var_a * var_b"
   ]
  },
  {
   "cell_type": "markdown",
   "id": "39344347",
   "metadata": {},
   "source": [
    "The class `arithmetic` can be seen as a container for mathematical operations, which contains an `add` and\n",
    "`multiply` method. Because those methods.\n",
    "\n",
    "\n",
    "Note: Within the jupyter-notebook environment, it is possible to query information about an attribute of class with\n",
    "the `?` symbol place immediately after\n",
    "\n",
    "```\n",
    "arithmetic?\n",
    "```"
   ]
  },
  {
   "cell_type": "markdown",
   "id": "550bcf5a",
   "metadata": {},
   "source": [
    "## Importing packages\n",
    "\n",
    "The base objects described previously can be assembled together to do more complex operations. Python is made up"
   ]
  },
  {
   "cell_type": "code",
   "execution_count": null,
   "id": "141631ac",
   "metadata": {},
   "outputs": [],
   "source": [
    "import numpy as np"
   ]
  },
  {
   "cell_type": "markdown",
   "id": "d8b2bb67",
   "metadata": {},
   "source": [
    "Here we have imported the entire package `numpy` and assign a short-hand alias for it to keep our code more\n",
    "concise. Sub-modules can be accessed using a `.` such that"
   ]
  },
  {
   "cell_type": "code",
   "execution_count": null,
   "id": "67dcbd1c",
   "metadata": {},
   "outputs": [],
   "source": [
    "print(np.array)"
   ]
  },
  {
   "cell_type": "markdown",
   "id": "f995b6e6",
   "metadata": {},
   "source": [
    "returns a function handle for the `array` class."
   ]
  }
 ],
 "metadata": {
  "jupytext": {
   "formats": "ipynb,py"
  },
  "kernelspec": {
   "display_name": "Python 3 (ipykernel)",
   "language": "python",
   "name": "python3"
  },
  "language_info": {
   "codemirror_mode": {
    "name": "ipython",
    "version": 3
   },
   "file_extension": ".py",
   "mimetype": "text/x-python",
   "name": "python",
   "nbconvert_exporter": "python",
   "pygments_lexer": "ipython3",
   "version": "3.9.13"
  }
 },
 "nbformat": 4,
 "nbformat_minor": 5
}
