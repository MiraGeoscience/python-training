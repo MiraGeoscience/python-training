{
 "cells": [
  {
   "cell_type": "markdown",
   "id": "800191b1",
   "metadata": {},
   "source": [
    "# Python Fundamentals\n",
    "\n",
    "This section offers a brief overview and examples of core Python concepts and syntax. It is not meant to be a\n",
    "fully comprehensive resource for Python, but mainly to serve as a primer to get participants started with writing code and to create their first utility program.\n",
    "\n",
    "This training material uses the [jupyter-notebook](https://jupyter.org/) environment that is made up of text cells (\n",
    "like this one) and code cells displayed within a web browser (no internet required). Participants are invited to\n",
    "write and run the examples provided to get comfortable with the Python syntax. Here are few useful shortcuts for\n",
    "jupyter-notebooks.\n",
    "\n",
    " - Press **esc + a** to add a cell above, or **esc+b** to add a cell below.\n",
    " - Press **shift + enter** to run a selected cell.\n",
    " - Click on a cell and press **M** to convert to a text cell, or **Y** to convert to code cell.\n",
    " \n",
    "The next sections cover some of the core Python concepts\n",
    "\n",
    "- [Objects](objects)\n",
    "- [Functions](functions)\n",
    "- [Classes](classes)"
   ]
  },
  {
   "cell_type": "markdown",
   "id": "5275335d",
   "metadata": {},
   "source": [
    " Copyright (c) 2022 Mira Geoscience Ltd."
   ]
  }
 ],
 "metadata": {
  "celltoolbar": "Edit Metadata",
  "jupytext": {
   "formats": "ipynb,py"
  },
  "kernelspec": {
   "display_name": "Python 3 (ipykernel)",
   "language": "python",
   "name": "python3"
  },
  "language_info": {
   "codemirror_mode": {
    "name": "ipython",
    "version": 3
   },
   "file_extension": ".py",
   "mimetype": "text/x-python",
   "name": "python",
   "nbconvert_exporter": "python",
   "pygments_lexer": "ipython3",
   "version": "3.9.13"
  }
 },
 "nbformat": 4,
 "nbformat_minor": 5
}
