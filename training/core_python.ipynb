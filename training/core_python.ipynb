{
 "cells": [
  {
   "cell_type": "markdown",
   "metadata": {},
   "source": [
    "# Python Fundamentals\n",
    "\n",
    "This section offers a brief overview and examples of core Python concepts and synthax. It is not meant to be an exhaustive  resource for Python but will allow participants to quickly aquire the basic skills to get started.  \n",
    "\n",
    "\n",
    "This training material uses the [jupyter-notebook](https://jupyter.org/) environment that contains blocks of text (like this one) and code running from a web browser environment (no internet required). Participants are invited to write and run the examples provided to get comfortable with the Python synthax. Here are few useful shortcuts for jupyter-notebooks. \n",
    "\n",
    " - Press **esc + a** to add a cell above, or **esc+b** to add a cell below.\n",
    " - Press **shift + enter** to run a selected cell.\n",
    " - Click on a cell and press **M** to convert to a text cell, or **Y** to convert to code cell.\n",
    " \n",
    "\n",
    "## Objects\n",
    "\n",
    "At the core, Python is an **object-oriented programming** (OOP) language that is defined by objects, also refered to as `Class`, that hold methods and attributes. Python programs are made of many of those objects that interact with each other to yield the desired output. This is in contrast to **imperative** or **procedural-based** languages, such as C and Fortran, that make use of functions and variables to create a series of computational steps executed in sequence. Python can also be written in an procedural way but internally objects are always doing the work.\n",
    "\n",
    "While often slower than imperative compiled languages, object-orientated programming languages like Pythin allow for more concise and readable code that is easy to share and repurposed. This will become obvious as we go further in this tutorial. \n",
    "\n",
    "Let's start by introducing some core Python objects."
   ]
  },
  {
   "cell_type": "markdown",
   "metadata": {},
   "source": [
    "### Numerical\n",
    "\n",
    "Numerical values can be of type `float` with decimals or of type `int` (integers). Floats are mainly used for arithmetics while integers are used to count or index arrays.\n",
    "\n",
    "```\n",
    "# Integer\n",
    "x = 1 \n",
    "print(type(x))\n",
    "```\n",
    "\n",
    "```\n",
    "# Float\n",
    "y = 1.0 \n",
    "print(type(y))\n",
    "```"
   ]
  },
  {
   "cell_type": "code",
   "execution_count": 121,
   "metadata": {
    "tags": [
     "hide-input"
    ]
   },
   "outputs": [
    {
     "name": "stdout",
     "output_type": "stream",
     "text": [
      "<class 'int'>\n",
      "<class 'float'>\n"
     ]
    }
   ],
   "source": [
    "x = 1\n",
    "print(type(x))\n",
    "\n",
    "y = 1.0\n",
    "print(type(y))"
   ]
  },
  {
   "cell_type": "markdown",
   "metadata": {},
   "source": [
    "Note that we have used two important built-in methods: `print` and `type`. First, the `type` method returns the type of object given as input, then the `print` displays the result to screen. Input values for methods are always given between parentheses `()`.\n",
    "\n",
    "Here is a shortlist of standard aritmetic and logical operators in order of priority (evaluated in order).\n",
    "\n",
    "- `**`: Power\n",
    "- `%` : Modulo\n",
    "- `*`: Multiplication\n",
    "- `\\`: Division\n",
    "- `+`: Addition\n",
    "- `-`: Substraction\n",
    "- `==`: Logical equal\n",
    "- `>` : Logical greater than\n",
    "- `<` : Logical smaller than\n",
    "\n",
    "For example\n",
    "\n",
    "```\n",
    "2**2 * 1.5 + 1 == 7.0\n",
    "```\n"
   ]
  },
  {
   "cell_type": "code",
   "execution_count": 124,
   "metadata": {
    "tags": [
     "hide-input"
    ]
   },
   "outputs": [
    {
     "data": {
      "text/plain": [
       "True"
      ]
     },
     "execution_count": 124,
     "metadata": {},
     "output_type": "execute_result"
    }
   ],
   "source": [
    "2**2 * 1.5 + 1 == 7.0"
   ]
  },
  {
   "cell_type": "markdown",
   "metadata": {},
   "source": [
    "Also important to keep in mind general rules of return types. \n",
    "\n",
    "- Adding or substracting integers yields an integer\n",
    "\n",
    "    ```\n",
    "    print(type(x+x)) \n",
    "    ```\n",
    "\n",
    "- Multiplying or dividing integers yields a float\n",
    "    ```\n",
    "    print(type(x/x))\n",
    "    ```\n",
    "    \n",
    "- Mix operations on integer and float always yield a float\n",
    "    ```\n",
    "    print(type(x+y))\n",
    "    ```"
   ]
  },
  {
   "cell_type": "code",
   "execution_count": 125,
   "metadata": {
    "tags": [
     "remove-cell"
    ]
   },
   "outputs": [
    {
     "name": "stdout",
     "output_type": "stream",
     "text": [
      "<class 'int'>\n",
      "<class 'float'>\n",
      "<class 'float'>\n"
     ]
    }
   ],
   "source": [
    "print(type(x+x))  \n",
    "print(type(x/x))  # Multiply|divide integers yields a float\n",
    "print(type(x+y))  # Mix of integer and float yields a float "
   ]
  },
  {
   "cell_type": "markdown",
   "metadata": {},
   "source": [
    "As previously mentioned, even if `x` is simply an integer, it is technically still a Python object with methods. To access the list of methods available, you can simply type `.` then the `tab` key.\n",
    "\n",
    "![methods](./images/methods.png)"
   ]
  },
  {
   "cell_type": "markdown",
   "metadata": {},
   "source": [
    "In this case, the `imag` method of the integer would return the imaginary part of x (if it was a complex number)."
   ]
  },
  {
   "cell_type": "markdown",
   "metadata": {},
   "source": [
    "### String\n",
    "\n",
    "Strings are text objects that containe characters (letters, numbers or symbols) isolated by single `'` or double `\"` quotes. Both are acceptable but consistancy is preferable. \n",
    "\n",
    "Here is a shortlist of useful methods that will be used in this tutorial.\n",
    "\n",
    "- Adding strings\n",
    "    ```\n",
    "    \"hello\" + \" world\"\n",
    "    ```\n",
    "- Upper/lower and single word capitalization\n",
    "    ```\n",
    "    \"I\" + \" love \".upper() + \"python\".capitalize()\n",
    "    ```\n",
    "- Upper case every word\n",
    "    ```\n",
    "    \"this is important\".title()\n",
    "    ```\n",
    "- Find sub-string within\n",
    "    ```\n",
    "    \"Long sentence with symbols #$%^&\".find(\"sym\")\n",
    "    ```"
   ]
  },
  {
   "cell_type": "code",
   "execution_count": 127,
   "metadata": {
    "tags": [
     "remove-cell"
    ]
   },
   "outputs": [
    {
     "name": "stdout",
     "output_type": "stream",
     "text": [
      "hello world\n",
      "This Is Important\n",
      "I LOVE Python\n",
      "This Is Important\n",
      "19\n"
     ]
    }
   ],
   "source": [
    "# Additions\n",
    "print(\"hello\" + \" world\")\n",
    "\n",
    "# Title\n",
    "print(\"this is important\".title())\n",
    "\n",
    "# Upper/lower and single word capitalization\n",
    "print(\"I\" + \" love \".upper() + \"python\".capitalize())\n",
    "\n",
    "# Title\n",
    "print(\"this is important\".title())\n",
    "\n",
    "# Find\n",
    "print(\"Long sentence with symbols #$%^&\".find(\"sym\"))"
   ]
  },
  {
   "cell_type": "code",
   "execution_count": 97,
   "metadata": {},
   "outputs": [
    {
     "data": {
      "text/plain": [
       "5"
      ]
     },
     "execution_count": 97,
     "metadata": {},
     "output_type": "execute_result"
    }
   ],
   "source": [
    "# Find\n"
   ]
  },
  {
   "cell_type": "markdown",
   "metadata": {},
   "source": [
    "### List\n",
    "\n",
    "List are simple containers for other objects, which can be of any type. They are created with square brackets `[]`."
   ]
  },
  {
   "cell_type": "code",
   "execution_count": 113,
   "metadata": {},
   "outputs": [],
   "source": [
    "a_list = [1.0, 2, \"abc\", add, arithmetic]"
   ]
  },
  {
   "cell_type": "markdown",
   "metadata": {},
   "source": [
    "Here are a few important methods that can used on a `list`. "
   ]
  },
  {
   "cell_type": "code",
   "execution_count": 114,
   "metadata": {},
   "outputs": [
    {
     "data": {
      "text/plain": [
       "1.0"
      ]
     },
     "execution_count": 114,
     "metadata": {},
     "output_type": "execute_result"
    }
   ],
   "source": [
    "# Indexing (count starts at 0)\n",
    "a_list[0]"
   ]
  },
  {
   "cell_type": "code",
   "execution_count": 115,
   "metadata": {},
   "outputs": [
    {
     "name": "stdout",
     "output_type": "stream",
     "text": [
      "[2, 'abc', <function add at 0x000002828357F5E0>, <class '__main__.arithmetic'>]\n"
     ]
    }
   ],
   "source": [
    "# Removing an element\n",
    "a_list.pop(0)\n",
    "print(a_list)"
   ]
  },
  {
   "cell_type": "markdown",
   "metadata": {},
   "source": [
    "Elements within the list can be searched with the `index` method.\n",
    "\n",
    "```\n",
    "a_list.index(\"abc\")\n",
    "```"
   ]
  },
  {
   "cell_type": "code",
   "execution_count": 116,
   "metadata": {
    "tags": [
     "remove-cell"
    ]
   },
   "outputs": [
    {
     "data": {
      "text/plain": [
       "1"
      ]
     },
     "execution_count": 116,
     "metadata": {},
     "output_type": "execute_result"
    }
   ],
   "source": [
    "a_list.index(\"abc\")"
   ]
  },
  {
   "cell_type": "markdown",
   "metadata": {},
   "source": [
    "### Dictionary\n",
    "\n",
    "Dictionaries are also containers for objects but give an additional level of structure over lists. Every entry of the dictionary is indexed by a `key`. They are created with braces `{}` with `{key: value}` pairs seperated by a column `:`.\n",
    "\n",
    "```\n",
    "my_dict = {\n",
    "    \"float\": 1.0,\n",
    "    \"integer\": 2,\n",
    "    \"string\": \"abc\",\n",
    "    \"function\": add,\n",
    "    \"class\": arithmetic\n",
    "}\n",
    "```"
   ]
  },
  {
   "cell_type": "code",
   "execution_count": 117,
   "metadata": {
    "tags": [
     "remove-cell"
    ]
   },
   "outputs": [],
   "source": [
    "my_dict = {\n",
    "    \"float\": 1.0,\n",
    "    \"integer\": 2,\n",
    "    \"string\": \"abc\",\n",
    "    \"function\": add,\n",
    "    \"class\": arithmetic\n",
    "}"
   ]
  },
  {
   "cell_type": "markdown",
   "metadata": {},
   "source": [
    "Values of the dictionary can then be accessed using the key\n",
    "\n",
    "```\n",
    "my_dict[\"function\"]\n",
    "```"
   ]
  },
  {
   "cell_type": "code",
   "execution_count": 43,
   "metadata": {
    "tags": [
     "remove-cell"
    ]
   },
   "outputs": [
    {
     "data": {
      "text/plain": [
       "<function __main__.add(a, b)>"
      ]
     },
     "execution_count": 43,
     "metadata": {},
     "output_type": "execute_result"
    }
   ],
   "source": [
    "my_dict[\"function\"]"
   ]
  },
  {
   "cell_type": "markdown",
   "metadata": {},
   "source": [
    "### Functions\n",
    "\n",
    "The general concept of programming is to define a set of operations for a computer to execute rapidly. The building blocks making up a program can be written in terms of a `function` that take in input values and return a result. \n",
    "\n",
    "Below are two trivial functions to `add` and `multiply` input values."
   ]
  },
  {
   "cell_type": "code",
   "execution_count": 57,
   "metadata": {},
   "outputs": [],
   "source": [
    "def add(a, b):\n",
    "    \"\"\"Function to add elements\"\"\"\n",
    "    return a + b\n",
    "\n",
    "def multiply(a, b):\n",
    "    \"\"\"Function to multiply elements\"\"\"\n",
    "    return a * b"
   ]
  },
  {
   "cell_type": "code",
   "execution_count": 58,
   "metadata": {},
   "outputs": [
    {
     "data": {
      "text/plain": [
       "(3, 2)"
      ]
     },
     "execution_count": 58,
     "metadata": {},
     "output_type": "execute_result"
    }
   ],
   "source": [
    "add(1, 2), multiply(1, 2)"
   ]
  },
  {
   "cell_type": "markdown",
   "metadata": {},
   "source": [
    "The two functions that take input `arguments` **a** and **b**, and return a value using built-in Python operators `+` and `*`. There are clear issues with the example above in terms coding standards, but it provides a base example for Python functions. \n",
    "\n",
    "See the [Best Practice](best_practice) page for additional material on style guides."
   ]
  },
  {
   "cell_type": "markdown",
   "metadata": {},
   "source": [
    "#### Keyword Arguments\n",
    "Other than required input arguments, Python also allows for default values to be stored in the signature of the function as keyword arguments (`kwargs`). Let's suppose we would like to add optional constant multipliers to our function scale the result. We could re-write the `add` function as:"
   ]
  },
  {
   "cell_type": "code",
   "execution_count": 59,
   "metadata": {},
   "outputs": [],
   "source": [
    "def add(a, b, c=1, d=1):\n",
    "    \"\"\"Function to add elements scaled by constants.\"\"\"\n",
    "    return c*a + d*b"
   ]
  },
  {
   "cell_type": "markdown",
   "metadata": {},
   "source": [
    "such that `c` and `d` are optional inputs. If value are not provided then the defaults are used."
   ]
  },
  {
   "cell_type": "code",
   "execution_count": 64,
   "metadata": {},
   "outputs": [
    {
     "data": {
      "text/plain": [
       "3"
      ]
     },
     "execution_count": 64,
     "metadata": {},
     "output_type": "execute_result"
    }
   ],
   "source": [
    "add(1, 2)"
   ]
  },
  {
   "cell_type": "markdown",
   "metadata": {},
   "source": [
    "In this case, since the defaults are 1s, then we get the same result as previously. Optionally, users can supply new values to the keyword arguments in any order."
   ]
  },
  {
   "cell_type": "code",
   "execution_count": 68,
   "metadata": {},
   "outputs": [
    {
     "data": {
      "text/plain": [
       "5"
      ]
     },
     "execution_count": 68,
     "metadata": {},
     "output_type": "execute_result"
    }
   ],
   "source": [
    "add(1, 2, d=2, c=1)"
   ]
  },
  {
   "cell_type": "markdown",
   "metadata": {},
   "source": [
    "If not assigned specifically as keyword arguments, Python will simply distribute the extra arguments in the order defined in the signature of the function. For example"
   ]
  },
  {
   "cell_type": "code",
   "execution_count": 70,
   "metadata": {},
   "outputs": [
    {
     "data": {
      "text/plain": [
       "True"
      ]
     },
     "execution_count": 70,
     "metadata": {},
     "output_type": "execute_result"
    }
   ],
   "source": [
    "add(1, 2, 1, 2) == add(1, 2, c=1, d=2)"
   ]
  },
  {
   "cell_type": "markdown",
   "metadata": {},
   "source": [
    "Note that we have used the logical operator `==` to compare the output of two `add` calls. "
   ]
  },
  {
   "cell_type": "markdown",
   "metadata": {},
   "source": [
    "### Classes\n",
    "\n",
    "While `functions` are common to almost all types programming languages, the concept of `Class` is specific to object-oriented languages. Objects are containers for methods (functions) and properties.  as shown with the following example."
   ]
  },
  {
   "cell_type": "code",
   "execution_count": 71,
   "metadata": {},
   "outputs": [],
   "source": [
    "class arithmetic:\n",
    "    \"\"\"Simple class\"\"\"\n",
    "    \n",
    "    @staticmethod\n",
    "    def add(a, b, c=1, d=1):\n",
    "        \n",
    "        \"\"\"Method to add.\"\"\"\n",
    "        return a + b\n",
    "    \n",
    "    @staticmethod\n",
    "    def multiply(a, b):\n",
    "        \"\"\"Method to add.\"\"\"\n",
    "        return a * b"
   ]
  },
  {
   "cell_type": "markdown",
   "metadata": {},
   "source": [
    "The class `arithmetic` can be seen as a container for mathematical operations, which contains an `add` and `multiply` method. Because those methods "
   ]
  },
  {
   "cell_type": "markdown",
   "metadata": {},
   "source": [
    "## Importing packages\n",
    "\n",
    "The base objects described previously can be assembled together to do more complex operations. Python is made up "
   ]
  },
  {
   "cell_type": "code",
   "execution_count": null,
   "metadata": {},
   "outputs": [],
   "source": [
    "import numpy as np"
   ]
  },
  {
   "cell_type": "markdown",
   "metadata": {},
   "source": [
    "Here we have imported the entire package `numpy` and assign a short-hand alias for it to keep our code more concise. Sub-modules can accessed using a `.` such that"
   ]
  },
  {
   "cell_type": "code",
   "execution_count": null,
   "metadata": {},
   "outputs": [],
   "source": [
    "np.array"
   ]
  },
  {
   "cell_type": "markdown",
   "metadata": {},
   "source": [
    "returns a function handle for the `array` class."
   ]
  },
  {
   "cell_type": "code",
   "execution_count": null,
   "metadata": {},
   "outputs": [],
   "source": [
    "np.array?"
   ]
  }
 ],
 "metadata": {
  "celltoolbar": "Edit Metadata",
  "kernelspec": {
   "display_name": "Python 3 (ipykernel)",
   "language": "python",
   "name": "python3"
  },
  "language_info": {
   "codemirror_mode": {
    "name": "ipython",
    "version": 3
   },
   "file_extension": ".py",
   "mimetype": "text/x-python",
   "name": "python",
   "nbconvert_exporter": "python",
   "pygments_lexer": "ipython3",
   "version": "3.9.12"
  },
  "widgets": {
   "application/vnd.jupyter.widget-state+json": {
    "state": {},
    "version_major": 2,
    "version_minor": 0
   }
  }
 },
 "nbformat": 4,
 "nbformat_minor": 4
}
