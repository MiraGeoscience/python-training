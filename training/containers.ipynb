{
 "cells": [
  {
   "cell_type": "markdown",
   "id": "b3d75ecb",
   "metadata": {},
   "source": [
    "# Containers\n",
    "\n",
    "In the previous section, we have introduced numerics of type `int` and `float`, as well as text variable. Often we would like to group many of numerics or strings together to perform larger operations. This section introduces classes of containers to group values together."
   ]
  },
  {
   "cell_type": "markdown",
   "id": "2405579e",
   "metadata": {},
   "source": [
    "## List\n",
    "\n",
    "Lists are generic containers for other objects, which can be of any type. They are created with square brackets `[]`."
   ]
  },
  {
   "cell_type": "code",
   "execution_count": null,
   "id": "f19d409c",
   "metadata": {},
   "outputs": [],
   "source": [
    "a_list = [1.0, 2, \"abc\"]"
   ]
  },
  {
   "cell_type": "markdown",
   "id": "18bb93cd",
   "metadata": {},
   "source": [
    "Here are a few important methods that can used on a `list`.\n",
    "\n",
    "- Indexing (accessing) elements of the list (count starts at 0)\n",
    "    ```\n",
    "    a_list[0]\n",
    "    ```"
   ]
  },
  {
   "cell_type": "code",
   "execution_count": null,
   "id": "15f32a23",
   "metadata": {
    "tags": [
     "remove-input"
    ]
   },
   "outputs": [],
   "source": [
    "print(a_list[0])"
   ]
  },
  {
   "cell_type": "markdown",
   "id": "c0ba0674",
   "metadata": {},
   "source": [
    "- Adding (appending) to the list.\n",
    "    ```\n",
    "    a_list += [\"new\"]\n",
    "    print(a_list)\n",
    "    ```"
   ]
  },
  {
   "cell_type": "code",
   "execution_count": null,
   "id": "2a39ab64",
   "metadata": {
    "tags": [
     "remove-input"
    ]
   },
   "outputs": [],
   "source": [
    "a_list += [\"new\"]\n",
    "print(a_list)"
   ]
  },
  {
   "cell_type": "markdown",
   "id": "132b3fc4",
   "metadata": {},
   "source": [
    "- Removing an element from the list using the `pop` method with index\n",
    "    ```\n",
    "    a_list.pop(0)\n",
    "    print(a_list)\n",
    "    ```"
   ]
  },
  {
   "cell_type": "code",
   "execution_count": null,
   "id": "a5fe18c1",
   "metadata": {
    "tags": [
     "remove-input"
    ]
   },
   "outputs": [],
   "source": [
    "a_list.pop(0)\n",
    "print(a_list)"
   ]
  },
  {
   "cell_type": "markdown",
   "id": "942f6f4d",
   "metadata": {},
   "source": [
    "- Finding the `index` of an element within the list. The same method applies to [string](String) objects.\n",
    "    ```\n",
    "    a_list.index(\"abc\")\n",
    "    ```"
   ]
  },
  {
   "cell_type": "code",
   "execution_count": null,
   "id": "fac0d785",
   "metadata": {
    "tags": [
     "remove-input"
    ]
   },
   "outputs": [],
   "source": [
    "print(a_list.index(\"abc\"))"
   ]
  },
  {
   "cell_type": "markdown",
   "id": "56dd07b6",
   "metadata": {},
   "source": [
    "## Dictionary\n",
    "\n",
    "Dictionaries (`dict`) are also containers for objects but give an additional level of structure over lists as every\n",
    "value of the dictionary is indexed by a `key`. A dictionary is created with a list of `key: value` pairs within\n",
    "braces `{}`.\n",
    "\n",
    "```\n",
    "my_dict = {\n",
    "    \"float\": 1.0,\n",
    "    \"integer\": 2,\n",
    "    \"string\": \"abc\",\n",
    "}\n",
    "```"
   ]
  },
  {
   "cell_type": "code",
   "execution_count": null,
   "id": "bbabfdea",
   "metadata": {
    "tags": [
     "remove-input"
    ]
   },
   "outputs": [],
   "source": [
    "my_dict = {\"integer\": 2}"
   ]
  },
  {
   "cell_type": "markdown",
   "id": "6e7bc63f",
   "metadata": {},
   "source": [
    "Here are a few important methods that can used on a `dict`.\n",
    "\n",
    "- Accessing values using the key\n",
    "\n",
    "    ```\n",
    "    my_dict[\"function\"]\n",
    "    ```"
   ]
  },
  {
   "cell_type": "code",
   "execution_count": null,
   "id": "7d9ef99b",
   "metadata": {
    "tags": [
     "remove-input"
    ]
   },
   "outputs": [],
   "source": [
    "print(my_dict[\"integer\"])"
   ]
  },
  {
   "cell_type": "markdown",
   "id": "106204e2",
   "metadata": {},
   "source": [
    "- Adding entries\n",
    "    ```\n",
    "    my_dict[\"new\"] = 123\n",
    "    ```"
   ]
  },
  {
   "cell_type": "code",
   "execution_count": null,
   "id": "1d8ba2b5",
   "metadata": {
    "tags": [
     "remove-input"
    ]
   },
   "outputs": [],
   "source": [
    "my_dict[\"new\"] = 123\n",
    "print(my_dict)"
   ]
  },
  {
   "cell_type": "markdown",
   "id": "0a455f5b",
   "metadata": {},
   "source": [
    "- Removing entries\n",
    "    ```\n",
    "    del my_dict[\"new\"]\n",
    "    ```"
   ]
  },
  {
   "cell_type": "code",
   "execution_count": null,
   "id": "d2cb08e8",
   "metadata": {
    "tags": [
     "remove-input"
    ]
   },
   "outputs": [],
   "source": [
    "del my_dict[\"new\"]\n",
    "print(my_dict)"
   ]
  },
  {
   "cell_type": "markdown",
   "id": "9bea4613",
   "metadata": {},
   "source": [
    "- Looping over keys\n",
    "    ```\n",
    "    list(my_dict)\n",
    "    ```"
   ]
  },
  {
   "cell_type": "code",
   "execution_count": null,
   "id": "b9c555f8",
   "metadata": {
    "tags": [
     "remove-input"
    ]
   },
   "outputs": [],
   "source": [
    "print(list(my_dict))"
   ]
  },
  {
   "cell_type": "markdown",
   "id": "bd136bd1",
   "metadata": {},
   "source": [
    "- Looping over values\n",
    "    ```\n",
    "    list(my_dict.values()]\n",
    "    ```"
   ]
  },
  {
   "cell_type": "code",
   "execution_count": null,
   "id": "dd776ece",
   "metadata": {
    "tags": [
     "remove-input"
    ]
   },
   "outputs": [],
   "source": [
    "print(list(my_dict.values()))"
   ]
  },
  {
   "cell_type": "markdown",
   "id": "ef89603f",
   "metadata": {},
   "source": [
    "- Looping over both keys and values\n",
    "    ```\n",
    "    list(my_dict.items())\n",
    "    ```"
   ]
  },
  {
   "cell_type": "code",
   "execution_count": null,
   "id": "8316a0aa",
   "metadata": {
    "tags": [
     "remove-input"
    ]
   },
   "outputs": [],
   "source": [
    "print(list(my_dict.items()))"
   ]
  },
  {
   "cell_type": "markdown",
   "id": "839ae3d2",
   "metadata": {},
   "source": [
    " Copyright (c) 2022 Mira Geoscience Ltd."
   ]
  }
 ],
 "metadata": {
  "kernelspec": {
   "display_name": "Python 3 (ipykernel)",
   "language": "python",
   "name": "python3"
  }
 },
 "nbformat": 4,
 "nbformat_minor": 5
}
