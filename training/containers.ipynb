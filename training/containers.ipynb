{
 "cells": [
  {
   "cell_type": "markdown",
   "id": "ce619b5d",
   "metadata": {},
   "source": [
    "# Containers\n",
    "\n",
    "In the previous section, we have introduced numerics of type `int` and `float`, as well as text variable. Often we would like to group many of numerics or strings together to perform larger operations. This section introduces classes of containers to group values together."
   ]
  },
  {
   "cell_type": "markdown",
   "id": "da7ba1d0",
   "metadata": {},
   "source": [
    "## List\n",
    "\n",
    "Lists are generic containers for other objects, which can be of any type. They are created with square brackets `[]`."
   ]
  },
  {
   "cell_type": "code",
   "execution_count": null,
   "id": "0e2e46a8",
   "metadata": {},
   "outputs": [],
   "source": []
  },
  {
   "cell_type": "markdown",
   "id": "47882cdc",
   "metadata": {},
   "source": [
    "Here are a few important methods that can used on a `list`.\n",
    "\n",
    "- Indexing (accessing) elements of the list (count starts at 0)"
   ]
  },
  {
   "cell_type": "code",
   "execution_count": null,
   "id": "69a6d5c3",
   "metadata": {},
   "outputs": [],
   "source": []
  },
  {
   "cell_type": "markdown",
   "id": "e0423c66",
   "metadata": {},
   "source": [
    "- Adding (appending) to the list."
   ]
  },
  {
   "cell_type": "code",
   "execution_count": null,
   "id": "9b770818",
   "metadata": {},
   "outputs": [],
   "source": []
  },
  {
   "cell_type": "markdown",
   "id": "45c454cd",
   "metadata": {},
   "source": [
    "- Removing an element from the list using the `pop` method with index"
   ]
  },
  {
   "cell_type": "code",
   "execution_count": null,
   "id": "ad9c9f4b",
   "metadata": {},
   "outputs": [],
   "source": []
  },
  {
   "cell_type": "markdown",
   "id": "30e8815c",
   "metadata": {},
   "source": [
    "- Finding the `index` of an element within the list. The same method applies to [string](String) objects."
   ]
  },
  {
   "cell_type": "code",
   "execution_count": null,
   "id": "5f6bec4d",
   "metadata": {},
   "outputs": [],
   "source": []
  },
  {
   "cell_type": "markdown",
   "id": "fecc847c",
   "metadata": {},
   "source": [
    "## Dictionary\n",
    "\n",
    "Dictionaries (`dict`) are also containers for objects but give an additional level of structure over lists as every\n",
    "value of the dictionary is indexed by a `key`. A dictionary is created with a list of `key: value` pairs within\n",
    "braces `{}`."
   ]
  },
  {
   "cell_type": "code",
   "execution_count": null,
   "id": "f4345fcc",
   "metadata": {},
   "outputs": [],
   "source": []
  },
  {
   "cell_type": "markdown",
   "id": "1c48625f",
   "metadata": {},
   "source": [
    "Here are a few important methods that can used on a `dict`.\n",
    "\n",
    "- Accessing values using the key"
   ]
  },
  {
   "cell_type": "code",
   "execution_count": null,
   "id": "09a2b899",
   "metadata": {},
   "outputs": [],
   "source": []
  },
  {
   "cell_type": "markdown",
   "id": "8286b57d",
   "metadata": {},
   "source": [
    "- Adding entries"
   ]
  },
  {
   "cell_type": "code",
   "execution_count": null,
   "id": "00b66443",
   "metadata": {},
   "outputs": [],
   "source": []
  },
  {
   "cell_type": "markdown",
   "id": "d80bd78f",
   "metadata": {},
   "source": [
    "- Removing entries"
   ]
  },
  {
   "cell_type": "code",
   "execution_count": null,
   "id": "2a923512",
   "metadata": {},
   "outputs": [],
   "source": []
  },
  {
   "cell_type": "markdown",
   "id": "821251d2",
   "metadata": {},
   "source": [
    "- Looping over keys"
   ]
  },
  {
   "cell_type": "code",
   "execution_count": null,
   "id": "8b789da7",
   "metadata": {},
   "outputs": [],
   "source": []
  },
  {
   "cell_type": "markdown",
   "id": "b943ac80",
   "metadata": {},
   "source": [
    "- Looping over values"
   ]
  },
  {
   "cell_type": "code",
   "execution_count": null,
   "id": "8560567a",
   "metadata": {},
   "outputs": [],
   "source": []
  },
  {
   "cell_type": "markdown",
   "id": "291fae71",
   "metadata": {},
   "source": [
    "- Looping over both keys and values"
   ]
  },
  {
   "cell_type": "code",
   "execution_count": null,
   "id": "c40118c7",
   "metadata": {},
   "outputs": [],
   "source": []
  },
  {
   "cell_type": "markdown",
   "id": "2ea09884",
   "metadata": {},
   "source": [
    " Copyright (c) 2022 Mira Geoscience Ltd."
   ]
  }
 ],
 "metadata": {
  "kernelspec": {
   "display_name": "Python 3 (ipykernel)",
   "language": "python",
   "name": "python3"
  }
 },
 "nbformat": 4,
 "nbformat_minor": 5
}
