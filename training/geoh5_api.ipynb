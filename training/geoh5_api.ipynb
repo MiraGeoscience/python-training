{
 "cells": [
  {
   "cell_type": "markdown",
   "id": "6e6756d8",
   "metadata": {},
   "source": [
    "# Programming with `geoh5` (ANALYST API)\n",
    "\n",
    "\n",
    "This section provides examples on how to interact with Geoscience ANALYST\n",
    "programmatically by using the geoh5 API [geoh5py](https://geoh5py.readthedocs.io/en/stable/).\n",
    "We are going to demonstrate how to\n",
    "\n",
    "- Create/open a geoh5 workspace\n",
    "- Access objects and data\n",
    "- Use third-party packages to create and plot data\n",
    "\n",
    "Let's get started with some imports."
   ]
  },
  {
   "cell_type": "code",
   "execution_count": null,
   "id": "e5f7b375",
   "metadata": {},
   "outputs": [],
   "source": [
    "from __future__ import annotations\n",
    "\n",
    "import matplotlib.pyplot as plt\n",
    "import numpy as np\n",
    "from geoh5py.data import Data\n",
    "from geoh5py.objects import ObjectBase, Points\n",
    "from geoh5py.workspace import Workspace\n"
   ]
  },
  {
   "cell_type": "markdown",
   "id": "39f7b0c6",
   "metadata": {},
   "source": [
    "## Open/create a Workspace\n",
    "\n",
    "The main element controlling the hierarchy of a `geoh5` is the `Workspace`.\n",
    "It is the class responsible for accessing information on disk and to register\n",
    "and create the various entities (groups, objects, data).\n",
    "\n",
    "There are two ways to create or connect to an existing `geoh5` file through the `Workspace`."
   ]
  },
  {
   "cell_type": "markdown",
   "id": "2eaef6f8",
   "metadata": {},
   "source": [
    "### Option 1: Context manager\n",
    "\n",
    "The `Workspace` class can open a file as a context manager using the `with`\n",
    "statement. Just like any other [function](functions), everything after the `:`\n",
    "must be indented to be part of the scope. This is the **preferred** method to\n",
    "interact with the `geoh5` to make sure that the file gets closed at the end of\n",
    "the context, even if the code has to exit premarturely due to error."
   ]
  },
  {
   "cell_type": "code",
   "execution_count": null,
   "id": "e6ab5edb",
   "metadata": {},
   "outputs": [],
   "source": []
  },
  {
   "cell_type": "markdown",
   "id": "3ad51d85",
   "metadata": {},
   "source": [
    "### Option 2: `open()` and `close()`\n",
    "\n",
    "The second option is to directly instantiate the Workspace or to call the `open()` method."
   ]
  },
  {
   "cell_type": "code",
   "execution_count": null,
   "id": "5720dcd1",
   "metadata": {},
   "outputs": [],
   "source": []
  },
  {
   "cell_type": "markdown",
   "id": "02868b8e",
   "metadata": {},
   "source": [
    "With this option, Python keeps a connection to the file until the `close()`\n",
    "method gets called. This is sometimes preferable if the computations take a\n",
    "long time or if you want to prevent other programs to access the file while your program is operating on it.\n",
    "\n",
    "We are going to leave the workspace open for now, and remember to close it at the end."
   ]
  },
  {
   "cell_type": "markdown",
   "id": "366b18e1",
   "metadata": {},
   "source": [
    "## Objects and data\n",
    "\n",
    "When connecting to an existing `geoh5` file, the API will travel through the\n",
    "`Workspace` and collect minimal information about the `groups`, `objects` and\n",
    "`data` present on file. At the base of this parent/child hierarchy is the `Root` group.\n",
    "Every entity has a parent, except for the `root`. Note that no values are loaded unless directly requested."
   ]
  },
  {
   "cell_type": "code",
   "execution_count": null,
   "id": "ffbc73fb",
   "metadata": {},
   "outputs": [],
   "source": []
  },
  {
   "cell_type": "markdown",
   "id": "9304235f",
   "metadata": {},
   "source": [
    "The `Workspace` itself has a few utility methods to quickly access all groups, objects or data registered."
   ]
  },
  {
   "cell_type": "code",
   "execution_count": null,
   "id": "1995c55f",
   "metadata": {},
   "outputs": [],
   "source": []
  },
  {
   "cell_type": "markdown",
   "id": "20d67762",
   "metadata": {},
   "source": [
    "The `get_entity` method allows to retrieve entities by `name` or `uid`."
   ]
  },
  {
   "cell_type": "code",
   "execution_count": null,
   "id": "fe04ad2b",
   "metadata": {},
   "outputs": [],
   "source": []
  },
  {
   "cell_type": "markdown",
   "id": "2d482907",
   "metadata": {},
   "source": [
    "The `get_entity` always returns a `list`, as many entities could have the same name."
   ]
  },
  {
   "cell_type": "code",
   "execution_count": null,
   "id": "8fd2193d",
   "metadata": {},
   "outputs": [],
   "source": []
  },
  {
   "cell_type": "markdown",
   "id": "d4b88094",
   "metadata": {},
   "source": [
    "It is best-practice to instead use `get_entity` with a unique identifier (`uuid`)\n",
    "to guarantee access to a specific entity"
   ]
  },
  {
   "cell_type": "code",
   "execution_count": null,
   "id": "c29abbc7",
   "metadata": {},
   "outputs": [],
   "source": []
  },
  {
   "cell_type": "markdown",
   "id": "432b59fc",
   "metadata": {},
   "source": [
    "Likewise, data associated with an object can be accessed through the `children` attribute.\n",
    "To access data with values, the workspace must be re-opened if closed."
   ]
  },
  {
   "cell_type": "code",
   "execution_count": null,
   "id": "b54e79d9",
   "metadata": {},
   "outputs": [],
   "source": []
  },
  {
   "cell_type": "markdown",
   "id": "a2ca5ce6",
   "metadata": {},
   "source": [
    "or with the utility method `get_data` to access it by name"
   ]
  },
  {
   "cell_type": "code",
   "execution_count": null,
   "id": "703cbd45",
   "metadata": {},
   "outputs": [],
   "source": []
  },
  {
   "cell_type": "markdown",
   "id": "fd431734",
   "metadata": {},
   "source": [
    "Data values are accessed through the `values` attribute of the `data` entity.\n",
    "Let's use a third party plotting package `matplotlib` to display the information on file."
   ]
  },
  {
   "cell_type": "code",
   "execution_count": null,
   "id": "cc728b07",
   "metadata": {},
   "outputs": [],
   "source": []
  },
  {
   "cell_type": "markdown",
   "id": "50384190",
   "metadata": {},
   "source": [
    "## Creating objects\n",
    "\n",
    "The `geoh5` format supports a wide range of object types as [documented here](https://geoh5py.readthedocs.io/en/stable/content/geoh5_format/analyst/objects.html#analyst-objects). For this training, we will create a simple `Points` object using the `.create()` method.\n"
   ]
  },
  {
   "cell_type": "markdown",
   "id": "194d4680",
   "metadata": {},
   "source": [
    "For the `Points` to be fully defined, we need to at least assign vertices as an array of 3D coordinates `shape(*, 3)`.\n",
    "Let's add one point at the Sun City resort."
   ]
  },
  {
   "cell_type": "code",
   "execution_count": null,
   "id": "eea1e813",
   "metadata": {},
   "outputs": [],
   "source": []
  },
  {
   "cell_type": "markdown",
   "id": "a272dc39",
   "metadata": {},
   "source": [
    "For more examples on how to create other object types, visit the\n",
    "[geoh5py-Tutorial](https://geoh5py.readthedocs.io/en/stable/content/user_guide/core_entities.html#Entities)"
   ]
  },
  {
   "cell_type": "markdown",
   "id": "a55a1bc7",
   "metadata": {},
   "source": [
    "## Adding data\n",
    "\n",
    "Similarly, we can add data to the Points to show the strength and direction of\n",
    "the dipole moment. We are going to group those data so that we can display them as arrow in ANALYST."
   ]
  },
  {
   "cell_type": "code",
   "execution_count": null,
   "id": "a4ce1d50",
   "metadata": {},
   "outputs": [],
   "source": []
  },
  {
   "cell_type": "markdown",
   "id": "afb935fa",
   "metadata": {},
   "source": [
    "Et voila!"
   ]
  },
  {
   "cell_type": "code",
   "execution_count": null,
   "id": "7d06a3e1",
   "metadata": {},
   "outputs": [],
   "source": [
    "workspace.close()"
   ]
  },
  {
   "cell_type": "markdown",
   "id": "e1db9bb5",
   "metadata": {},
   "source": [
    "Since we have closed workspace, you can now safely open the `suncity.geoh5` with ANALYST to see the result.\n",
    "\n",
    "![grid2d](./images/grid2d.png)"
   ]
  },
  {
   "cell_type": "markdown",
   "id": "82093496",
   "metadata": {},
   "source": [
    " Copyright (c) 2022 Mira Geoscience Ltd."
   ]
  }
 ],
 "metadata": {
  "jupytext": {
   "formats": "ipynb,py"
  },
  "kernelspec": {
   "display_name": "Python 3 (ipykernel)",
   "language": "python",
   "name": "python3"
  }
 },
 "nbformat": 4,
 "nbformat_minor": 5
}
