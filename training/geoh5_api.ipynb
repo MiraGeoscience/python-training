{
 "cells": [
  {
   "cell_type": "markdown",
   "id": "d490cba3",
   "metadata": {},
   "source": [
    "# Programming with `geoh5` (ANALYST API)\n",
    "\n",
    "\n",
    "This section provides examples on how to interact with Geoscience ANALYST\n",
    "programmatically by using the geoh5 API [geoh5py](https://geoh5py.readthedocs.io/en/stable/).\n",
    "We are going to demonstrate how to\n",
    "\n",
    "- Create/open a geoh5 workspace\n",
    "- Access objects and data\n",
    "- Use third-party packages to create and plot data\n",
    "\n",
    "Let's get started with some imports."
   ]
  },
  {
   "cell_type": "code",
   "execution_count": null,
   "id": "946a76f9",
   "metadata": {},
   "outputs": [],
   "source": [
    "from __future__ import annotations\n",
    "\n",
    "import matplotlib.pyplot as plt\n",
    "import numpy as np\n",
    "from geoh5py.data import Data\n",
    "from geoh5py.objects import ObjectBase, Points\n",
    "from geoh5py.workspace import Workspace"
   ]
  },
  {
   "cell_type": "markdown",
   "id": "3f64ffeb",
   "metadata": {},
   "source": [
    "## Open/create a Workspace\n",
    "\n",
    "The main element controlling the hierarchy of a `geoh5` is the `Workspace`.\n",
    "It is the class responsible for accessing information on disk and to register\n",
    "and create the various entities (groups, objects, data).\n",
    "\n",
    "There are two ways to create or connect to an existing `geoh5` file through the `Workspace`."
   ]
  },
  {
   "cell_type": "markdown",
   "id": "b658a523",
   "metadata": {},
   "source": [
    "### Option 1: Context manager\n",
    "\n",
    "The `Workspace` class can open a file as a context manager using the `with`\n",
    "statement. Just like any other [function](functions), everything after the `:`\n",
    "must be indented to be part of the scope. This is the **preferred** method to\n",
    "interact with the `geoh5` to make sure that the file gets closed at the end of\n",
    "the context, even if the code has to exit premarturely due to error."
   ]
  },
  {
   "cell_type": "code",
   "execution_count": null,
   "id": "a6f76f43",
   "metadata": {},
   "outputs": [],
   "source": []
  },
  {
   "cell_type": "markdown",
   "id": "fed234d3",
   "metadata": {},
   "source": [
    "### Option 2: `open()` and `close()`\n",
    "\n",
    "The second option is to directly instantiate the Workspace or to call the `open()` method."
   ]
  },
  {
   "cell_type": "code",
   "execution_count": null,
   "id": "f07ff3b1",
   "metadata": {},
   "outputs": [],
   "source": []
  },
  {
   "cell_type": "markdown",
   "id": "42ecc870",
   "metadata": {},
   "source": [
    "With this option, Python keeps a connection to the file until the `close()`\n",
    "method gets called. This is sometimes preferable if the computations take a\n",
    "long time or if you want to prevent other programs to access the file while your program is operating on it.\n",
    "\n",
    "We are going to leave the workspace open for now, and remember to close it at the end."
   ]
  },
  {
   "cell_type": "markdown",
   "id": "8e3643e0",
   "metadata": {},
   "source": [
    "## Objects and data\n",
    "\n",
    "When connecting to an existing `geoh5` file, the API will travel through the\n",
    "`Workspace` and collect minimal information about the `groups`, `objects` and\n",
    "`data` present on file. At the base of this parent/child hierarchy is the `Root` group.\n",
    "Every entity has a parent, except for the `root`. Note that no values are loaded unless directly requested."
   ]
  },
  {
   "cell_type": "code",
   "execution_count": null,
   "id": "141e23f2",
   "metadata": {},
   "outputs": [],
   "source": []
  },
  {
   "cell_type": "markdown",
   "id": "771610b6",
   "metadata": {},
   "source": [
    "The `Workspace` itself has a few utility methods to quickly access all groups, objects or data registered."
   ]
  },
  {
   "cell_type": "code",
   "execution_count": null,
   "id": "3827a177",
   "metadata": {},
   "outputs": [],
   "source": []
  },
  {
   "cell_type": "markdown",
   "id": "56dd4a36",
   "metadata": {},
   "source": [
    "The `get_entity` method allows to retrieve entities by `name` or `uid`."
   ]
  },
  {
   "cell_type": "code",
   "execution_count": null,
   "id": "de2694ad",
   "metadata": {},
   "outputs": [],
   "source": []
  },
  {
   "cell_type": "markdown",
   "id": "8bd8c835",
   "metadata": {},
   "source": [
    "The `get_entity` always returns a `list`, as many entities could have the same name."
   ]
  },
  {
   "cell_type": "code",
   "execution_count": null,
   "id": "8b46e22f",
   "metadata": {},
   "outputs": [],
   "source": []
  },
  {
   "cell_type": "markdown",
   "id": "a9009d59",
   "metadata": {},
   "source": [
    "It is best-practice to instead use `get_entity` with a unique identifier (`uuid`)\n",
    "to guarantee access to a specific entity"
   ]
  },
  {
   "cell_type": "code",
   "execution_count": null,
   "id": "a2eb2b2a",
   "metadata": {},
   "outputs": [],
   "source": []
  },
  {
   "cell_type": "markdown",
   "id": "5934f772",
   "metadata": {},
   "source": [
    "Likewise, data associated with an object can be accessed through the `children` attribute.\n",
    "To access data with values, the workspace must be re-opened if closed."
   ]
  },
  {
   "cell_type": "code",
   "execution_count": null,
   "id": "53105381",
   "metadata": {},
   "outputs": [],
   "source": []
  },
  {
   "cell_type": "markdown",
   "id": "c593e2a2",
   "metadata": {},
   "source": [
    "or with the utility method `get_data` to access it by name"
   ]
  },
  {
   "cell_type": "code",
   "execution_count": null,
   "id": "d61114e6",
   "metadata": {},
   "outputs": [],
   "source": []
  },
  {
   "cell_type": "markdown",
   "id": "69472a01",
   "metadata": {},
   "source": [
    "Data values are accessed through the `values` attribute of the `data` entity.\n",
    "Let's use a third party plotting package `matplotlib` to display the information on file."
   ]
  },
  {
   "cell_type": "code",
   "execution_count": null,
   "id": "ac64732c",
   "metadata": {},
   "outputs": [],
   "source": []
  },
  {
   "cell_type": "markdown",
   "id": "c04800ac",
   "metadata": {},
   "source": [
    "## Creating objects\n",
    "\n",
    "The `geoh5` format supports a wide range of object types as [documented here](https://geoh5py.readthedocs.io/en/stable/content/geoh5_format/analyst/objects.html#analyst-objects). For this training, we will create a simple `Points` object using the `.create()` method.\n"
   ]
  },
  {
   "cell_type": "markdown",
   "id": "2b5adc32",
   "metadata": {},
   "source": [
    "For the `Points` to be fully defined, we need to at least assign vertices as an array of 3D coordinates `shape(*, 3)`.\n",
    "Let's add one point at the Sun City resort."
   ]
  },
  {
   "cell_type": "code",
   "execution_count": null,
   "id": "47d35714",
   "metadata": {},
   "outputs": [],
   "source": []
  },
  {
   "cell_type": "markdown",
   "id": "3b619687",
   "metadata": {},
   "source": [
    "Since we have closed workspace, you can now safely open the `suncity.geoh5` with ANALYST to see the result.\n",
    "\n",
    "![grid2d](./images/grid2d.png)"
   ]
  },
  {
   "cell_type": "markdown",
   "id": "62b21993",
   "metadata": {},
   "source": [
    "## Example 1a: Creating data from a magnetic dipole\n",
    "\n",
    "Now that we have an object created, we can add data to it. We will borrow\n",
    "some functions from the `numpy` package to compute values on the cells of our 2D grid.\n",
    "\n",
    "Let's start with a simple problem of computing the magnetic field due to a\n",
    "dipole. This can later become a useful tool to interpret magnetic maps.\n",
    "\n",
    "From first year physics, the magnetic field of a single dipole is:\n",
    "\n",
    "$$\\mathbf{B} = \\frac{\\mu_0}{4 \\pi}  \\frac{3 (\\mathbf{m} \\cdot \\mathbf{r})  \\mathbf{\\hat r} - \\mathbf{m}}{r^3}$$\n",
    "\n",
    "where $\\mu_0$ is a constant ($4 \\pi 1e-9$), $\\mathbf{m}$ is the magnetic dipole and $\\mathbf{r}$ is the\n",
    "vector separating the dipole and the observations (our grid cells).\n",
    "\n",
    "We can first create a small function that computes the magnetic field for a single dipole."
   ]
  },
  {
   "cell_type": "code",
   "execution_count": null,
   "id": "aa4999ee",
   "metadata": {
    "lines_to_next_cell": 2
   },
   "outputs": [],
   "source": []
  },
  {
   "cell_type": "markdown",
   "id": "bcf6bf79",
   "metadata": {},
   "source": [
    "We can use a few array mulitplication methods from `numpy`\n",
    "\n",
    "- The `sum()` method can be done along a specific axis of an array, collapsing the dimension.\n",
    "\n",
    "- The `dot()` method performs the dot product between two arrays,\n",
    "but the shapes need to align. The transpose (`.T`) method allows us to do it inline\n",
    "\n",
    "$[1 \\times 3] \\cdot [M \\times 3].T \\rightarrow [1 \\times M] $.\n",
    "\n",
    "- 1D-arrays can be broadcasted (repeated) along a second dimension using the `[:, None]` indexing.\n",
    "\n",
    "$[N \\times 3] \\;/\\;([1 \\times N][: None]) \\rightarrow [N \\times 3] $\n",
    "\n",
    "We can now use our function to compute the fields on the existing grid centroids."
   ]
  },
  {
   "cell_type": "code",
   "execution_count": null,
   "id": "3c6b6840",
   "metadata": {},
   "outputs": [],
   "source": []
  },
  {
   "cell_type": "markdown",
   "id": "15cf7bf2",
   "metadata": {},
   "source": [
    "The `b_field` function returns an array for the three components of the\n",
    "magnetic field due to the dipole source. Since we normally measure Total\n",
    "Magnetic Intensity (TMI) data, we should project those fields onto the Earth's magnetic field.\n",
    "\n",
    "$$\n",
    "b_{TMI} \\approx \\mathbf{\\hat H}_0 \\cdot \\mathbf{b}\n",
    "$$"
   ]
  },
  {
   "cell_type": "code",
   "execution_count": null,
   "id": "41f5352c",
   "metadata": {},
   "outputs": [],
   "source": []
  },
  {
   "cell_type": "markdown",
   "id": "2a6505de",
   "metadata": {},
   "source": [
    "We then add the vector field and TMI values to our Grid2D for visualization in ANALYST."
   ]
  },
  {
   "cell_type": "code",
   "execution_count": null,
   "id": "b0b1d96d",
   "metadata": {},
   "outputs": [],
   "source": []
  },
  {
   "cell_type": "markdown",
   "id": "36011dd2",
   "metadata": {},
   "source": [
    "Similarly, we can add data to the Points to show the strength and direction of\n",
    "the dipole moment. We are going to group those data so that we can display them as arrow in ANALYST."
   ]
  },
  {
   "cell_type": "code",
   "execution_count": null,
   "id": "57223187",
   "metadata": {},
   "outputs": [],
   "source": []
  },
  {
   "cell_type": "markdown",
   "id": "b8c33323",
   "metadata": {},
   "source": [
    "Et voila!"
   ]
  },
  {
   "cell_type": "markdown",
   "id": "4aefa354",
   "metadata": {},
   "source": [
    "![bfield](./images/b_field.png)"
   ]
  },
  {
   "cell_type": "markdown",
   "id": "6b37ac27",
   "metadata": {},
   "source": [
    "For more examples on how to create other object types, visit the\n",
    "[geoh5py-Tutorial](https://geoh5py.readthedocs.io/en/stable/content/user_guide/core_entities.html#Entities)"
   ]
  },
  {
   "cell_type": "markdown",
   "id": "af8ceff7",
   "metadata": {},
   "source": [
    "## Example 1b:  Generalizing the application\n",
    "\n",
    "A good way to write useful programs is to generalize the code such that the\n",
    "same functions can easily be re-used by different programs. In this section,\n",
    "we are going to re-purpose [Example 1a](http://localhost:8890/notebooks/geoh5_api.ipynb#Example-1a:-Creating-data-from-a-magnetic-dipole)\n",
    "such that the calculation can occur on any other object types supported by ANALYST.\n",
    "\n",
    "Fortunately for us, computing the total magnetic field from many dipoles is\n",
    "a linear (sum) operation. Let's wrap all the previous functions into a `MagneticSimulation` class."
   ]
  },
  {
   "cell_type": "code",
   "execution_count": null,
   "id": "2fe38936",
   "metadata": {
    "lines_to_next_cell": 2
   },
   "outputs": [],
   "source": []
  },
  {
   "cell_type": "markdown",
   "id": "30dd97ba",
   "metadata": {},
   "source": [
    "We now have a generic container to compute TMI data based on any type of ANALYST object.\n",
    "\n",
    "You are now invited to edit your Points object to add more vertices and\n",
    "create data arrays for moment, azimuth and dips. We can now run the simulation\n",
    "by simply giving those entities to our class."
   ]
  },
  {
   "cell_type": "code",
   "execution_count": null,
   "id": "91835bbc",
   "metadata": {},
   "outputs": [],
   "source": []
  },
  {
   "cell_type": "markdown",
   "id": "17058e0e",
   "metadata": {},
   "source": [
    " Copyright (c) 2022 Mira Geoscience Ltd."
   ]
  }
 ],
 "metadata": {
  "jupytext": {
   "formats": "ipynb,py"
  },
  "kernelspec": {
   "display_name": "Python 3 (ipykernel)",
   "language": "python",
   "name": "python3"
  }
 },
 "nbformat": 4,
 "nbformat_minor": 5
}
