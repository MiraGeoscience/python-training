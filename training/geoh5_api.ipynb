{
 "cells": [
  {
   "cell_type": "markdown",
   "id": "cd302d1d",
   "metadata": {},
   "source": [
    "# Programming with `geoh5` (ANALYST API)\n",
    "\n",
    "\n",
    "This section provides examples on how to interact with Geoscience ANALYST\n",
    "programmatically by using the geoh5 API [geoh5py](https://geoh5py.readthedocs.io/en/stable/). We are going to demonstrate how to\n",
    "\n",
    "- Create/open a geoh5 workspace\n",
    "- Access objects and data\n",
    "- Use third-party packages to create and plot data\n",
    "\n",
    "Let's get started with some imports."
   ]
  },
  {
   "cell_type": "code",
   "execution_count": null,
   "id": "7c43f588",
   "metadata": {},
   "outputs": [],
   "source": [
    "import matplotlib.pyplot as plt\n",
    "import numpy as np\n",
    "from geoh5py.objects import Points\n",
    "from geoh5py.workspace import Workspace"
   ]
  },
  {
   "cell_type": "markdown",
   "id": "de686369",
   "metadata": {},
   "source": [
    "## Open/create a Workspace\n",
    "\n",
    "The main element controlling the hierarchy of a `geoh5` is the `Workspace`. It is the class responsible for accessing information on disk and to register and create the various entities (groups, objects, data).\n",
    "\n",
    "There are two ways to create or connect to an existing `geoh5` file through the `Workspace`."
   ]
  },
  {
   "cell_type": "markdown",
   "id": "6805a0bf",
   "metadata": {},
   "source": [
    "### Option 1: Context manager\n",
    "\n",
    "The `Workspace` class can open a file as a context manager using the `with`\n",
    "statement. Just like any other [function](functions), everything after the `:`\n",
    "must be indented to be part of the scope. This is the **preferred** method to\n",
    "interact with the `geoh5` to make sure that the file gets closed at the end of\n",
    "the context, even if the code has to exit premarturely due to error."
   ]
  },
  {
   "cell_type": "code",
   "execution_count": null,
   "id": "c7181441",
   "metadata": {},
   "outputs": [],
   "source": [
    "with Workspace(\"../assets/suncity.geoh5\") as workspace:\n",
    "    print(workspace.geoh5)"
   ]
  },
  {
   "cell_type": "markdown",
   "id": "22e891d4",
   "metadata": {},
   "source": [
    "### Option 2: `open()` and `close()`\n",
    "\n",
    "The second option is to directly instantiate the Workspace or to call the `open()` method."
   ]
  },
  {
   "cell_type": "code",
   "execution_count": null,
   "id": "b4d0d65d",
   "metadata": {},
   "outputs": [],
   "source": [
    "workspace.open()\n",
    "print(workspace.geoh5)"
   ]
  },
  {
   "cell_type": "markdown",
   "id": "e0f40c05",
   "metadata": {},
   "source": [
    "With this option, Python keeps a connection to the file until the `close()`\n",
    "method gets called. This is sometimes preferable if the computations take a\n",
    "long time or if you want to prevent other programs to access the file while your program is operating on it.\n",
    "\n",
    "We are going to leave the workspace open for now, and remember to close it at the end."
   ]
  },
  {
   "cell_type": "markdown",
   "id": "504fa388",
   "metadata": {},
   "source": [
    "## Objects and data\n",
    "\n",
    "When connecting to an existing `geoh5` file, the API will travel through the\n",
    "`Workspace` and collect minimal information about the `groups`, `objects` and\n",
    "`data` present on file. At the base of this parent/child hierarchy is the `Root` group.\n",
    "Every entity has a parent, except for the `root`. Note that no values are loaded unless directly requested."
   ]
  },
  {
   "cell_type": "code",
   "execution_count": null,
   "id": "fe096bad",
   "metadata": {},
   "outputs": [],
   "source": [
    "print(workspace.root.children)"
   ]
  },
  {
   "cell_type": "markdown",
   "id": "13f041d6",
   "metadata": {},
   "source": [
    "The `Workspace` itself has a few utility methods to quickly access all groups, objects or data registered."
   ]
  },
  {
   "cell_type": "code",
   "execution_count": null,
   "id": "25431b09",
   "metadata": {},
   "outputs": [],
   "source": [
    "workspace.groups, workspace.objects, workspace.data"
   ]
  },
  {
   "cell_type": "markdown",
   "id": "a620046e",
   "metadata": {},
   "source": [
    "The `get_entity` method allows to retrieve entities by `name` or `uid`."
   ]
  },
  {
   "cell_type": "code",
   "execution_count": null,
   "id": "91a3d710",
   "metadata": {},
   "outputs": [],
   "source": [
    "grid = workspace.get_entity(\"SunCity\")[0]"
   ]
  },
  {
   "cell_type": "markdown",
   "id": "a1696922",
   "metadata": {},
   "source": [
    "The `get_entity` always returns a `list`, as many entities could have the same name."
   ]
  },
  {
   "cell_type": "code",
   "execution_count": null,
   "id": "8c3035c3",
   "metadata": {},
   "outputs": [],
   "source": [
    "print(f\"I have recovered a {type(grid)} with uuid: {grid.uid}\")"
   ]
  },
  {
   "cell_type": "markdown",
   "id": "9f86e216",
   "metadata": {},
   "source": [
    "It is best-practice to instead use `get_entity` with a unique identifier (`uuid`)\n",
    "to guarantee access to a specific entity"
   ]
  },
  {
   "cell_type": "code",
   "execution_count": null,
   "id": "45a1d1fb",
   "metadata": {},
   "outputs": [],
   "source": [
    "workspace.get_entity(grid.uid)[0] == grid"
   ]
  },
  {
   "cell_type": "markdown",
   "id": "b4cdc172",
   "metadata": {},
   "source": [
    "Likewise, data associated with an object can be accessed through the `children` attribute.\n",
    "To access data with values, the workspace must be re-opened if closed."
   ]
  },
  {
   "cell_type": "code",
   "execution_count": null,
   "id": "8f6bdffc",
   "metadata": {},
   "outputs": [],
   "source": [
    "grid.children"
   ]
  },
  {
   "cell_type": "markdown",
   "id": "bb6d4f70",
   "metadata": {},
   "source": [
    "or with the utility method `get_data` to access it by name"
   ]
  },
  {
   "cell_type": "code",
   "execution_count": null,
   "id": "f5ebccbe",
   "metadata": {},
   "outputs": [],
   "source": [
    "dem = grid.get_data(\"Band 1\")[0]"
   ]
  },
  {
   "cell_type": "markdown",
   "id": "30546e58",
   "metadata": {},
   "source": [
    "Data values are accessed through the `values` attribute of the `data` entity.\n",
    "Let's use a third party plotting package `matplotlib` to display the information on file."
   ]
  },
  {
   "cell_type": "code",
   "execution_count": null,
   "id": "41d68c92",
   "metadata": {},
   "outputs": [],
   "source": [
    "plt.pcolormesh(\n",
    "    grid.origin[\"x\"] + grid.cell_center_u,\n",
    "    grid.origin[\"y\"] + grid.cell_center_v,\n",
    "    dem.values.reshape(grid.shape),\n",
    ")"
   ]
  },
  {
   "cell_type": "markdown",
   "id": "d65d6f84",
   "metadata": {},
   "source": [
    "## Creating objects\n",
    "\n",
    "The `geoh5` format supports a wide range of object types as [documented here](https://geoh5py.readthedocs.io/en/stable/content/geoh5_format/analyst/objects.html#analyst-objects). For this training, we will create a simple `Points` object using the `.create()` method.\n"
   ]
  },
  {
   "cell_type": "markdown",
   "id": "d349bb1a",
   "metadata": {},
   "source": [
    "For the `Points` to be fully defined, we need to at least assign vertices as an array of 3D coordinates `shape(*, 3)`.\n",
    "Let's add one point at the Sun City resort."
   ]
  },
  {
   "cell_type": "code",
   "execution_count": null,
   "id": "426559cf",
   "metadata": {},
   "outputs": [],
   "source": [
    "point = Points.create(workspace, vertices=np.c_[510000, 7196500, 1150])\n",
    "workspace.close()"
   ]
  },
  {
   "cell_type": "markdown",
   "id": "7e284695",
   "metadata": {},
   "source": [
    "Since we have closed workspace, you can now safely open the `suncity.geoh5` with ANALYST to see the result.\n",
    "\n",
    "![grid2d](./images/grid2d.png)"
   ]
  },
  {
   "cell_type": "markdown",
   "id": "214e0ca5",
   "metadata": {
    "lines_to_next_cell": 2
   },
   "source": [
    "## Example 1a: Creating data from a magnetic dipole\n",
    "\n",
    "Now that we have an object created, we can add data to it. We will borrow\n",
    "some functions from the `numpy` package to compute values on the cells of our 2D grid.\n",
    "\n",
    "Let's start with a simple problem of computing the magnetic field due to a\n",
    "dipole. This can later become a useful tool to interpret magnetic maps.\n",
    "\n",
    "From first year physics, the magnetic field of a single dipole is:\n",
    "\n",
    "$$\\mathbf{B} = \\frac{\\mu_0}{4 \\pi}  \\frac{3 (\\mathbf{m} \\cdot \\mathbf{r})  \\mathbf{\\hat r} - \\mathbf{m}}{r^3}$$\n",
    "\n",
    "where $\\mu_0$ is a constant ($4 \\pi 1e-9$), $\\mathbf{m}$ is the magnetic dipole and $\\mathbf{r}$ is the\n",
    "vector separating the dipole and the observations (our grid cells).\n",
    "\n",
    "We can first create a small function that computes the magnetic field for a single dipole."
   ]
  },
  {
   "cell_type": "code",
   "execution_count": null,
   "id": "2096f338",
   "metadata": {},
   "outputs": [],
   "source": [
    "def azimuth_dip_2_xyz(azimuth, dip):\n",
    "    \"\"\"Convert azimuth and dip angles (degrees) to unit vector (xyz).\"\"\"\n",
    "    theta = np.deg2rad((450 - azimuth) % 360)\n",
    "    phi = np.deg2rad(90 + dip)\n",
    "    xyz = np.c_[np.sin(phi) * np.cos(theta), np.sin(phi) * np.sin(theta), np.cos(phi)]\n",
    "\n",
    "    return xyz\n",
    "\n",
    "\n",
    "def b_field(source, locations, moment, azimuth, dip):\n",
    "    \"\"\"\n",
    "    Compute the magnetic field components of a dipole on an array of locations.\n",
    "\n",
    "    :param source: Location of a point dipole, shape(1, 3).\n",
    "    :param receivers: Array of observation locations, shape(n, 3).\n",
    "    :param moment: Dipole moment of the source (A.m^2)\n",
    "    :param azimuth: Dipole horizontal angle, clockwise from North\n",
    "    :param dip: Dipole vertical angle from horizontal, positive down\n",
    "\n",
    "    :return: Array of magnetic field components, shape(n, 3)\n",
    "    \"\"\"\n",
    "    # Convert the azimuth and dip to Cartesian vector\n",
    "    m = moment * azimuth_dip_2_xyz(azimuth, dip)\n",
    "\n",
    "    # Compute the radial components\n",
    "    rad = source - locations\n",
    "\n",
    "    # Compute |r|\n",
    "    dist = np.sum(rad**2.0, axis=1) ** 0.5\n",
    "\n",
    "    # mu_0 / 4 pi * 1e-9 (nano)\n",
    "    constant = 1e2\n",
    "    fields = (\n",
    "        constant\n",
    "        * ((np.dot(m, rad.T).T * (rad / dist[:, None])) - m)\n",
    "        / dist[:, None] ** 3.0\n",
    "    )\n",
    "\n",
    "    return fields"
   ]
  },
  {
   "cell_type": "markdown",
   "id": "d9cb05e4",
   "metadata": {},
   "source": [
    "We can use a few array mulitplication methods from `numpy`\n",
    "\n",
    "- The `sum()` method can be done along a specific axis of an array, collapsing the dimension.\n",
    "\n",
    "- The `dot()` method performs the dot product between two arrays, but the shapes need to align. The transpose (`.T`) method allows us to do it inline\n",
    "\n",
    "$[1 \\times 3] \\cdot [M \\times 3].T \\rightarrow [1 \\times M] $.\n",
    "\n",
    "- 1D-arrays can be broadcasted (repeated) along a second dimension using the `[:, None]` indexing.\n",
    "\n",
    "$[N \\times 3] \\;/\\;([1 \\times N][: None]) \\rightarrow [N \\times 3] $\n",
    "\n",
    "We can now use our function to compute the fields on the existing grid centroids."
   ]
  },
  {
   "cell_type": "code",
   "execution_count": null,
   "id": "f58c0012",
   "metadata": {},
   "outputs": [],
   "source": [
    "moment, azimuth, dip = 1.0, 90, 0\n",
    "b = b_field(point.vertices, grid.centroids, moment, azimuth, dip)"
   ]
  },
  {
   "cell_type": "markdown",
   "id": "f5398585",
   "metadata": {},
   "source": [
    "The `b_field` function returns an array for the three components of the magnetic field due to the dipole source. Since we normally measure Total Magnetic Intensity (TMI) data, we should project those fields onto the Earth's magnetic field.\n",
    "\n",
    "$$\n",
    "b_{TMI} \\approx \\mathbf{\\hat H}_0 \\cdot \\mathbf{b}\n",
    "$$"
   ]
  },
  {
   "cell_type": "code",
   "execution_count": null,
   "id": "e5e2df24",
   "metadata": {},
   "outputs": [],
   "source": [
    "H = azimuth_dip_2_xyz(-62.11, -17.9)  # Suncity field parameters\n",
    "tmi = np.dot(H, b.T)"
   ]
  },
  {
   "cell_type": "markdown",
   "id": "cadc21b2",
   "metadata": {},
   "source": [
    "We then add the vector field and TMI values to our Grid2D for visualization in ANALYST."
   ]
  },
  {
   "cell_type": "code",
   "execution_count": null,
   "id": "f49d1d2d",
   "metadata": {},
   "outputs": [],
   "source": [
    "with workspace.open():\n",
    "    grid.add_data(\n",
    "        {\n",
    "            \"b_x\": {\"values\": b[:, 0]},\n",
    "            \"b_y\": {\"values\": b[:, 1]},\n",
    "            \"b_z\": {\"values\": b[:, 2]},\n",
    "            \"tmi\": {\"values\": tmi},\n",
    "        }\n",
    "    )"
   ]
  },
  {
   "cell_type": "markdown",
   "id": "d1d371c1",
   "metadata": {},
   "source": [
    "Similarly, we can add data to the Points to show the strength and direction of the dipole moment. We are going to group those data so that we can display them as arrow in ANALYST."
   ]
  },
  {
   "cell_type": "code",
   "execution_count": null,
   "id": "2326cb25",
   "metadata": {},
   "outputs": [],
   "source": [
    "with workspace.open():\n",
    "    params = point.add_data(\n",
    "        {\n",
    "            \"moment\": {\"values\": np.r_[moment]},\n",
    "            \"azimuth\": {\"values\": np.r_[azimuth]},\n",
    "            \"dip\": {\"values\": np.r_[dip]},\n",
    "        }\n",
    "    )\n",
    "    prop_group = point.find_or_create_property_group(\n",
    "        name=\"dipole\", property_group_type=\"Dip direction & dip\"\n",
    "    )\n",
    "    point.add_data_to_group(params[1:], prop_group)"
   ]
  },
  {
   "cell_type": "markdown",
   "id": "0cd47ebd",
   "metadata": {},
   "source": [
    "Et voila!"
   ]
  },
  {
   "cell_type": "markdown",
   "id": "0d2e87e8",
   "metadata": {},
   "source": [
    "![bfield](./images/b_field.png)"
   ]
  },
  {
   "cell_type": "markdown",
   "id": "e6633974",
   "metadata": {},
   "source": [
    "For more examples on how to create other object types, visit the [geoh5py-Tutorial](https://geoh5py.readthedocs.io/en/stable/content/user_guide/core_entities.html#Entities)"
   ]
  },
  {
   "cell_type": "markdown",
   "id": "b5ace081",
   "metadata": {},
   "source": [
    "## Example 1b:  Generalizing the application\n",
    "\n",
    "A good way to write useful programs is to generalize the code such that the same functions can easily be re-used by different programs. In this section, we are going to re-purpose [Example 1a](http://localhost:8890/notebooks/geoh5_api.ipynb#Example-1a:-Creating-data-from-a-magnetic-dipole) such that the calculation can occur on any other object types supported by ANALYST.\n",
    "\n",
    "Fortunately for us, computing the total magnetic field from many dipoles is a linear (sum) operation. Let's wrap all the previous functions into a `MagneticSimulation` class."
   ]
  },
  {
   "cell_type": "code",
   "execution_count": null,
   "id": "6d3d6ef2",
   "metadata": {},
   "outputs": [],
   "source": [
    "from __future__ import annotations\n",
    "\n",
    "from geoh5py.data import Data\n",
    "from geoh5py.objects import ObjectBase\n",
    "\n",
    "\n",
    "class MagneticSimulation:\n",
    "    \"\"\"\n",
    "    Compute the magnetic field components of dipoles on a geoh5py object.\n",
    "\n",
    "    :param dipoles: Array or Points object of dipole locations, shape(m, 3).\n",
    "    :param locations: Array or Points object of observation locations, shape(n, 3).\n",
    "    :param moments: Value or Data of dipole moments.\n",
    "    :param azimuths: Value or Data of dipole azimuth angles.\n",
    "    :param dips: Value or Data of dipole dip angles.\n",
    "\n",
    "    :return b_field: Vector array of magnetic field components, shape(n ,3).\n",
    "    \"\"\"\n",
    "\n",
    "    def __init__(\n",
    "        self,\n",
    "        sources: Points,\n",
    "        receivers: ObjectBase,\n",
    "        moments: Data | float,\n",
    "        azimuths: Data | float,\n",
    "        dips: Data | float,\n",
    "        earth_field=(90.0, 0),\n",
    "    ):\n",
    "        self._sources = sources\n",
    "        self._receivers = receivers\n",
    "        self._moments = moments\n",
    "        self._azimuths = azimuths\n",
    "        self._dips = dips\n",
    "        self._earth_field = earth_field\n",
    "\n",
    "    @property\n",
    "    def sources(self):\n",
    "        if hasattr(self._sources, \"centroids\"):\n",
    "            return self._sources.centroids\n",
    "        return self._sources.vertices\n",
    "\n",
    "    @property\n",
    "    def receivers(self):\n",
    "        if hasattr(self._receivers, \"centroids\"):\n",
    "            return self._receivers.centroids\n",
    "        return self._receivers.vertices\n",
    "\n",
    "    @property\n",
    "    def moments(self):\n",
    "        if isinstance(self._moments, Data):\n",
    "            return self._moments.values\n",
    "        if isinstance(self._moments, float):\n",
    "            return np.ones(self.sources.shape[0]) * self._moments\n",
    "\n",
    "        return self._moments\n",
    "\n",
    "    @property\n",
    "    def azimuths(self):\n",
    "        if isinstance(self._azimuths, Data):\n",
    "            return self._azimuths.values\n",
    "        if isinstance(self._azimuths, float):\n",
    "            return np.ones(self.sources.shape[0]) * self._azimuths\n",
    "\n",
    "        return self._azimuths\n",
    "\n",
    "    @property\n",
    "    def dips(self):\n",
    "        if isinstance(self._dips, Data):\n",
    "            return self._dips.values\n",
    "        if isinstance(self._dips, float):\n",
    "            return np.ones(self.sources.shape[0]) * self._dips\n",
    "\n",
    "        return self._dips\n",
    "\n",
    "    def compute(self):\n",
    "        \"\"\"Compute fields from input.\"\"\"\n",
    "        fields = np.zeros_like(self.receivers)\n",
    "        for source, moment, azimuth, dip in zip(\n",
    "            self.sources, self.moments, self.azimuths, self.dips\n",
    "        ):\n",
    "            fields += b_field(source, self.receivers, moment, azimuth, dip)\n",
    "\n",
    "        return fields\n",
    "\n",
    "    def tmi_projection(self, fields):\n",
    "        \"\"\"Project magnetic field onto Earth's field.\"\"\"\n",
    "        H = azimuth_dip_2_xyz(\n",
    "            self._earth_field[0], self._earth_field[1]\n",
    "        )  # Suncity field parameters\n",
    "        return np.dot(H, fields.T)\n",
    "\n",
    "    def run(self):\n",
    "        \"\"\"Run the simulation and save.\"\"\"\n",
    "        fields = self.compute()\n",
    "        tmi = self.tmi_projection(fields)\n",
    "\n",
    "        with self._receivers.workspace.open(mode=\"r+\"):\n",
    "            data = self._receivers.add_data(\n",
    "                {\n",
    "                    \"b_x\": {\"values\": fields[:, 0]},\n",
    "                    \"b_y\": {\"values\": fields[:, 1]},\n",
    "                    \"b_z\": {\"values\": fields[:, 2]},\n",
    "                    \"tmi\": {\"values\": tmi},\n",
    "                }\n",
    "            )\n",
    "\n",
    "        return data"
   ]
  },
  {
   "cell_type": "markdown",
   "id": "114aee83",
   "metadata": {},
   "source": [
    "We now have a generic container to compute TMI data based on any type of ANALYST object.\n",
    "\n",
    "You are now invited to edit your Points object to add more vertices and create data arrays for moment, azimuth and dips. We can now run the simulation by simply giving those entities to our class."
   ]
  },
  {
   "cell_type": "code",
   "execution_count": null,
   "id": "b9ab9ba0",
   "metadata": {},
   "outputs": [],
   "source": [
    "simulator = MagneticSimulation(point, grid, 1.0, 90.0, 0.0, earth_field=(-62.11, -17.9))\n",
    "simulator.run()"
   ]
  },
  {
   "cell_type": "markdown",
   "id": "f8995321",
   "metadata": {},
   "source": [
    " Copyright (c) 2022 Mira Geoscience Ltd."
   ]
  }
 ],
 "metadata": {
  "jupytext": {
   "formats": "ipynb,py"
  },
  "kernelspec": {
   "display_name": "Python 3 (ipykernel)",
   "language": "python",
   "name": "python3"
  }
 },
 "nbformat": 4,
 "nbformat_minor": 5
}
