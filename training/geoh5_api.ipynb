{
 "cells": [
  {
   "cell_type": "markdown",
   "id": "456e06be",
   "metadata": {},
   "source": [
    "# Programming with `geoh5` (ANALYST API)\n",
    "\n",
    "\n",
    "This section provides examples on how to interact with Geoscience ANALYST\n",
    "programmatically by using the geoh5 API [geoh5py](https://geoh5py.readthedocs.io/en/stable/).\n",
    "We are going to demonstrate how to\n",
    "\n",
    "- Create/open a geoh5 workspace\n",
    "- Access objects and data\n",
    "- Use third-party packages to create and plot data\n",
    "\n",
    "Let's get started with some imports."
   ]
  },
  {
   "cell_type": "code",
   "execution_count": null,
   "id": "a5523aeb",
   "metadata": {},
   "outputs": [],
   "source": [
    "from __future__ import annotations\n",
    "\n",
    "import matplotlib.pyplot as plt\n",
    "import numpy as np\n",
    "from geoh5py.data import Data\n",
    "from geoh5py.objects import ObjectBase, Points\n",
    "from geoh5py.workspace import Workspace\n"
   ]
  },
  {
   "cell_type": "markdown",
   "id": "a9f1eccf",
   "metadata": {},
   "source": [
    "## Open/create a Workspace\n",
    "\n",
    "The main element controlling the hierarchy of a `geoh5` is the `Workspace`.\n",
    "It is the class responsible for accessing information on disk and to register\n",
    "and create the various entities (groups, objects, data).\n",
    "\n",
    "There are two ways to create or connect to an existing `geoh5` file through the `Workspace`."
   ]
  },
  {
   "cell_type": "markdown",
   "id": "cde9f518",
   "metadata": {},
   "source": [
    "### Option 1: Context manager\n",
    "\n",
    "The `Workspace` class can open a file as a context manager using the `with`\n",
    "statement. Just like any other [function](functions), everything after the `:`\n",
    "must be indented to be part of the scope. This is the **preferred** method to\n",
    "interact with the `geoh5` to make sure that the file gets closed at the end of\n",
    "the context, even if the code has to exit premarturely due to error."
   ]
  },
  {
   "cell_type": "code",
   "execution_count": null,
   "id": "9c84f64f",
   "metadata": {},
   "outputs": [],
   "source": []
  },
  {
   "cell_type": "markdown",
   "id": "f27d33d0",
   "metadata": {},
   "source": [
    "### Option 2: `open()` and `close()`\n",
    "\n",
    "The second option is to directly instantiate the Workspace or to call the `open()` method."
   ]
  },
  {
   "cell_type": "code",
   "execution_count": null,
   "id": "f03d5026",
   "metadata": {},
   "outputs": [],
   "source": []
  },
  {
   "cell_type": "markdown",
   "id": "4de05e8c",
   "metadata": {},
   "source": [
    "With this option, Python keeps a connection to the file until the `close()`\n",
    "method gets called. This is sometimes preferable if the computations take a\n",
    "long time or if you want to prevent other programs to access the file while your program is operating on it.\n",
    "\n",
    "We are going to leave the workspace open for now, and remember to close it at the end."
   ]
  },
  {
   "cell_type": "markdown",
   "id": "a99a01c7",
   "metadata": {},
   "source": [
    "## Objects and data\n",
    "\n",
    "When connecting to an existing `geoh5` file, the API will travel through the\n",
    "`Workspace` and collect minimal information about the `groups`, `objects` and\n",
    "`data` present on file. At the base of this parent/child hierarchy is the `Root` group.\n",
    "Every entity has a parent, except for the `root`. Note that no values are loaded unless directly requested."
   ]
  },
  {
   "cell_type": "code",
   "execution_count": null,
   "id": "a5c8f8fa",
   "metadata": {},
   "outputs": [],
   "source": []
  },
  {
   "cell_type": "markdown",
   "id": "1d526ce5",
   "metadata": {},
   "source": [
    "The `Workspace` itself has a few utility methods to quickly access all groups, objects or data registered."
   ]
  },
  {
   "cell_type": "code",
   "execution_count": null,
   "id": "5f96a657",
   "metadata": {},
   "outputs": [],
   "source": []
  },
  {
   "cell_type": "markdown",
   "id": "40ead3ff",
   "metadata": {},
   "source": [
    "The `get_entity` method allows to retrieve entities by `name` or `uid`."
   ]
  },
  {
   "cell_type": "code",
   "execution_count": null,
   "id": "97caae77",
   "metadata": {},
   "outputs": [],
   "source": []
  },
  {
   "cell_type": "markdown",
   "id": "24108c71",
   "metadata": {},
   "source": [
    "The `get_entity` always returns a `list`, as many entities could have the same name."
   ]
  },
  {
   "cell_type": "code",
   "execution_count": null,
   "id": "25657f73",
   "metadata": {},
   "outputs": [],
   "source": []
  },
  {
   "cell_type": "markdown",
   "id": "36515a52",
   "metadata": {},
   "source": [
    "It is best-practice to instead use `get_entity` with a unique identifier (`uuid`)\n",
    "to guarantee access to a specific entity"
   ]
  },
  {
   "cell_type": "code",
   "execution_count": null,
   "id": "5eb806eb",
   "metadata": {},
   "outputs": [],
   "source": []
  },
  {
   "cell_type": "markdown",
   "id": "869fbcab",
   "metadata": {},
   "source": [
    "Likewise, data associated with an object can be accessed through the `children` attribute.\n",
    "To access data with values, the workspace must be re-opened if closed."
   ]
  },
  {
   "cell_type": "code",
   "execution_count": null,
   "id": "90741c3b",
   "metadata": {},
   "outputs": [],
   "source": []
  },
  {
   "cell_type": "markdown",
   "id": "d224536f",
   "metadata": {},
   "source": [
    "or with the utility method `get_data` to access it by name"
   ]
  },
  {
   "cell_type": "code",
   "execution_count": null,
   "id": "5f2bedc4",
   "metadata": {},
   "outputs": [],
   "source": []
  },
  {
   "cell_type": "markdown",
   "id": "383626a1",
   "metadata": {},
   "source": [
    "Data values are accessed through the `values` attribute of the `data` entity.\n",
    "Let's use a third party plotting package `matplotlib` to display the information on file."
   ]
  },
  {
   "cell_type": "code",
   "execution_count": null,
   "id": "6613732d",
   "metadata": {},
   "outputs": [],
   "source": []
  },
  {
   "cell_type": "markdown",
   "id": "1583a132",
   "metadata": {},
   "source": [
    "## Creating objects\n",
    "\n",
    "The `geoh5` format supports a wide range of object types as [documented here](https://geoh5py.readthedocs.io/en/stable/content/geoh5_format/analyst/objects.html#analyst-objects). For this training, we will create a simple `Points` object using the `.create()` method.\n"
   ]
  },
  {
   "cell_type": "markdown",
   "id": "65259d31",
   "metadata": {},
   "source": [
    "For the `Points` to be fully defined, we need to at least assign vertices as an array of 3D coordinates `shape(*, 3)`.\n",
    "Let's add one point at the Sun City resort."
   ]
  },
  {
   "cell_type": "code",
   "execution_count": null,
   "id": "7886e435",
   "metadata": {},
   "outputs": [],
   "source": []
  },
  {
   "cell_type": "markdown",
   "id": "3ccb292d",
   "metadata": {},
   "source": [
    "For more examples on how to create other object types, visit the\n",
    "[geoh5py-Tutorial](https://geoh5py.readthedocs.io/en/stable/content/user_guide/core_entities.html#Entities)"
   ]
  },
  {
   "cell_type": "markdown",
   "id": "cb7f65c2",
   "metadata": {},
   "source": [
    "## Adding data\n",
    "\n",
    "Similarly, we can add data to the Points to show the strength and direction of\n",
    "the dipole moment. We are going to group those data so that we can display them as arrow in ANALYST."
   ]
  },
  {
   "cell_type": "code",
   "execution_count": null,
   "id": "f831d305",
   "metadata": {},
   "outputs": [],
   "source": []
  },
  {
   "cell_type": "markdown",
   "id": "834023ca",
   "metadata": {},
   "source": [
    "Et voila!"
   ]
  },
  {
   "cell_type": "code",
   "execution_count": null,
   "id": "37fd8356",
   "metadata": {},
   "outputs": [],
   "source": [
    "workspace.close()"
   ]
  },
  {
   "cell_type": "markdown",
   "id": "bd7eccf8",
   "metadata": {},
   "source": [
    "Since we have closed workspace, you can now safely open the `suncity.geoh5` with ANALYST to see the result.\n",
    "\n",
    "![grid2d](./images/grid2d.png)"
   ]
  },
  {
   "cell_type": "markdown",
   "id": "459e9e21",
   "metadata": {},
   "source": [
    " Copyright (c) 2022 Mira Geoscience Ltd."
   ]
  }
 ],
 "metadata": {
  "jupytext": {
   "formats": "ipynb,py"
  },
  "kernelspec": {
   "display_name": "Python 3 (ipykernel)",
   "language": "python",
   "name": "python3"
  }
 },
 "nbformat": 4,
 "nbformat_minor": 5
}
