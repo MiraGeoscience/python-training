{
 "cells": [
  {
   "cell_type": "markdown",
   "id": "a8eea6ff",
   "metadata": {},
   "source": [
    "# Importing Packages\n",
    "\n",
    "Python has over 200,000 registered packages, and so a big part of becoming proficient has to do with importing\n",
    "third-party libraries.\n",
    "\n",
    "```\n",
    "import numpy as np\n",
    "```"
   ]
  },
  {
   "cell_type": "code",
   "execution_count": null,
   "id": "a3d98c6c",
   "metadata": {},
   "outputs": [],
   "source": [
    "import numpy as np"
   ]
  },
  {
   "cell_type": "markdown",
   "id": "10c6098b",
   "metadata": {},
   "source": [
    "Here we have imported the entire package [numpy](https://numpy.org/) and assign a short-hand alias for it to keep\n",
    "our code more concise. Sub-modules can be accessed using a `.` such that"
   ]
  },
  {
   "cell_type": "code",
   "execution_count": null,
   "id": "3fbaf9ef",
   "metadata": {},
   "outputs": [],
   "source": [
    "print(np.array)"
   ]
  },
  {
   "cell_type": "markdown",
   "id": "8930816b",
   "metadata": {},
   "source": [
    "returns a function handle for the `array` class."
   ]
  },
  {
   "cell_type": "markdown",
   "id": "5cb044b1",
   "metadata": {},
   "source": [
    " Copyright (c) 2022 Mira Geoscience Ltd."
   ]
  }
 ],
 "metadata": {
  "kernelspec": {
   "display_name": "Python 3 (ipykernel)",
   "language": "python",
   "name": "python3"
  }
 },
 "nbformat": 4,
 "nbformat_minor": 5
}
