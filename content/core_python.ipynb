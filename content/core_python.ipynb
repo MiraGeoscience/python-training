{
 "cells": [
  {
   "cell_type": "markdown",
   "id": "5aeadd1d",
   "metadata": {},
   "source": [
    "# Python Fundamentals\n",
    "\n",
    "This section offers a brief overview and examples of core Python concepts and syntax that would be required to\n",
    "process geo-scientific data in Python. It is not meant to be a comprehensive Python resource - for which there are\n",
    "many excellent resources online. The goal is to get participants started with writing code and to quickly create\n",
    "their own utility programs.\n",
    "\n",
    "The next sections cover some core Python concepts\n",
    "\n",
    "- [Objects](objects)\n",
    "- [Functions](functions)\n",
    "- [Classes](classes)\n",
    "- [Best-Practice](best_practice)"
   ]
  },
  {
   "cell_type": "markdown",
   "id": "d77bc06f",
   "metadata": {},
   "source": [
    " Copyright (c) 2022 Mira Geoscience Ltd."
   ]
  }
 ],
 "metadata": {
  "jupytext": {
   "formats": "ipynb,py"
  },
  "kernelspec": {
   "display_name": "Python 3 (ipykernel)",
   "language": "python",
   "name": "python3"
  }
 },
 "nbformat": 4,
 "nbformat_minor": 5
}
