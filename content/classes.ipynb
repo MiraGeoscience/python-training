{
 "cells": [
  {
   "cell_type": "markdown",
   "id": "1e59539b",
   "metadata": {
    "lines_to_next_cell": 2
   },
   "source": [
    "# Classes\n",
    "\n",
    "While `functions` are common to almost all types programming languages, the concept of `Class` is specific to\n",
    "object-oriented languages. Objects are containers of methods (functions) and properties that can help better organize your code. \n",
    "\n",
    "We will demonstrate this idea by re-visiting the assay analysis done in the previous [Functions](Functions) section. \n",
    "We have two lists for `grades` and `depths`, and we want to create some mechanism to get the depths where values exceed some detection threshold. "
   ]
  },
  {
   "cell_type": "code",
   "execution_count": 1,
   "id": "32e2b17f",
   "metadata": {},
   "outputs": [],
   "source": [
    "grades = [0.1, 0.02, 1.3, 2.4, 3.5, 0.01]\n",
    "depths = [10, 55, 80, 105, 115, 120]"
   ]
  },
  {
   "cell_type": "markdown",
   "id": "751fe803",
   "metadata": {},
   "source": [
    "Let's first create a simple `Assay` class and copy over the functions `anomalous` and `get_depths`."
   ]
  },
  {
   "cell_type": "code",
   "execution_count": 2,
   "id": "f22a7192",
   "metadata": {},
   "outputs": [],
   "source": [
    "class Assay:\n",
    "    \"\"\"Simple Assay class.\"\"\"\n",
    "\n",
    "    def __init__(self, grades: list, depths: list, threshold: float=1.0):\n",
    "        self.grades = grades\n",
    "        self.depths = depths\n",
    "        self.threshold = threshold\n",
    "    \n",
    "    def anomalous(self):\n",
    "        \"\"\"\n",
    "        Find the elements of a list above threshold\n",
    "        \"\"\"\n",
    "        return [val > self.threshold for val in self.grades]\n",
    "        \n",
    "    def get_depths(self):\n",
    "        \"\"\"\n",
    "        Extract interval of values from bool logic\n",
    "        \"\"\"\n",
    "        output = []\n",
    "        for val, cond in zip(self.depths, self.anomalous()):\n",
    "            if cond:\n",
    "                output.append(val)\n",
    "        return output\n",
    "    \n",
    "    def __call__(self):\n",
    "        return self.get_depths()\n",
    "    "
   ]
  },
  {
   "cell_type": "markdown",
   "id": "8dc9c40a",
   "metadata": {},
   "source": [
    "We have defined an `Assay` class that contains both our previous functions that are now methods of the class. \n",
    "\n",
    "While it may not seem like we did much progress compared to the [Functions](Functions) implementation, we actually started creating stucture that could be greatly beneficial down the road. Imagine that we had many assays coming from different drillholes, all with different lengths. Storing and computing the information through lists could rapidly become cumbersum, while dealing with a list of classes gives us a low-level organization of the data."
   ]
  },
  {
   "cell_type": "markdown",
   "id": "ec0e7f28",
   "metadata": {},
   "source": [
    "We can now brake apart the components of class.\n",
    "\n",
    "\n",
    "## `__init__` (Initialization) \n",
    "\n",
    "\n",
    "The `__init__` method lets us define things to do when the class is first `initialized`. Here we are expecting the user to input values for `grades` and `depths`, and left the `threshold` parameter as optional with a default of 1.0. Again we used `typing` with `:` to let know the user what kind of input they are. We then assigned those inputs to equivalent `attributes` of the class using the `self`.\n",
    "\n",
    "Initializing the class is done with\n",
    "\n",
    "```\n",
    "assay = Assay(grades, depths)\n",
    "type(assay)\n",
    "```"
   ]
  },
  {
   "cell_type": "code",
   "execution_count": 3,
   "id": "b1af243b",
   "metadata": {
    "tags": [
     "remove-input"
    ]
   },
   "outputs": [
    {
     "name": "stdout",
     "output_type": "stream",
     "text": [
      "<class '__main__.Assay'>\n"
     ]
    }
   ],
   "source": [
    "assay = Assay(grades, depths)\n",
    "print(type(assay))"
   ]
  },
  {
   "cell_type": "markdown",
   "id": "cb1c613f",
   "metadata": {},
   "source": [
    "## self\n",
    "\n",
    "The `self` is a reserved Python keyword used within a classes to reference to itself. It is used to assign attributes on the class and access them back within the various methods. Note that our two methods `anomalous` and `get_depth` only take in `self` as input as the `grades`, `depths` and `threshold` can be accessed from the class.\n",
    "\n",
    "```\n",
    "assay.grades\n",
    "```"
   ]
  },
  {
   "cell_type": "code",
   "execution_count": 4,
   "id": "667942d3",
   "metadata": {
    "tags": [
     "remove-input"
    ]
   },
   "outputs": [
    {
     "name": "stdout",
     "output_type": "stream",
     "text": [
      "[0.1, 0.02, 1.3, 2.4, 3.5, 0.01]\n"
     ]
    }
   ],
   "source": [
    "print(assay.grades)"
   ]
  },
  {
   "cell_type": "markdown",
   "id": "c8d46b6c",
   "metadata": {},
   "source": [
    "and likewise for methods\n",
    "```\n",
    "assay.anomalous()\n",
    "```"
   ]
  },
  {
   "cell_type": "code",
   "execution_count": 5,
   "id": "f083fc75",
   "metadata": {
    "tags": [
     "remove-input"
    ]
   },
   "outputs": [
    {
     "name": "stdout",
     "output_type": "stream",
     "text": [
      "[False, False, True, True, True, False]\n"
     ]
    }
   ],
   "source": [
    "print(assay.anomalous())"
   ]
  },
  {
   "cell_type": "markdown",
   "id": "158ae657",
   "metadata": {},
   "source": [
    "## __call__\n",
    "\n",
    "The `__call__` method is an optional method specific to the action of calling the class. In this case we are simply going to perform the `self.get_depth()` method and return the result.\n",
    "\n",
    "```\n",
    "assay()\n",
    "```"
   ]
  },
  {
   "cell_type": "code",
   "execution_count": 6,
   "id": "b4411594",
   "metadata": {
    "tags": [
     "remove-input"
    ]
   },
   "outputs": [
    {
     "name": "stdout",
     "output_type": "stream",
     "text": [
      "[80, 105, 115]\n"
     ]
    }
   ],
   "source": [
    "print(assay())"
   ]
  },
  {
   "cell_type": "markdown",
   "id": "76a0866e",
   "metadata": {},
   "source": [
    "## @property\n",
    "\n",
    "It is sometimes preferable to add extra controls on the attributes of a class. For example if we would like to protect or validate the `threshold` parameter, we can explicetly create a `property` of the class with a `setter` method."
   ]
  },
  {
   "cell_type": "code",
   "execution_count": 10,
   "id": "cd543b88",
   "metadata": {},
   "outputs": [],
   "source": [
    "class Assay:\n",
    "    \"\"\"Simple Assay class.\"\"\"\n",
    "\n",
    "    \n",
    "    def __init__(self, grades: list, depths: list, threshold: float=1.0):\n",
    "        self.grades = grades\n",
    "        self.depths = depths\n",
    "        self._threshold = threshold\n",
    "    \n",
    "    def anomalous(self):\n",
    "        \"\"\"\n",
    "        Find the elements of a list above threshold\n",
    "        \"\"\"\n",
    "        return [val > self.threshold for val in self.grades]\n",
    "        \n",
    "    def get_depths(self):\n",
    "        \"\"\"\n",
    "        Extract interval of values from bool logic\n",
    "        \"\"\"\n",
    "        output = []\n",
    "        for val, cond in zip(self.depths, self.anomalous()):\n",
    "            if cond:\n",
    "                output.append(val)\n",
    "        return output\n",
    "    \n",
    "    @property\n",
    "    def threshold(self) -> float:\n",
    "        \"\"\"Cutoff value for anomalous assays.\"\"\"\n",
    "        \n",
    "        return self.threshold\n",
    "    \n",
    "    @threshold.setter\n",
    "    def threshold(self, value):\n",
    "        if not isinstance(value, float):\n",
    "            raise ValueError(\"The value for threshold must be a float.\")\n",
    "            \n",
    "        self._threshold = value\n",
    "    \n",
    "    def __call__(self):\n",
    "        return self.get_depths()\n",
    "    "
   ]
  },
  {
   "cell_type": "markdown",
   "id": "302aac51",
   "metadata": {},
   "source": [
    "**A few highlights of the changes made to our `Assay` class.**\n",
    "\n",
    "- We are now using a `private` attribute `_threshold` to store the value, and use `threshold` as a property. Private attribute are meant to only be used within the class and not from the outside (private property - keep out!).\n",
    "- The `@property` allows to further document the attribute and indicate the return type using `-> float`. \n",
    "- The `@threshold.setter` lets us add validations on the value provided by a user. It is good coding practice to add checks on type to prevent a program to error later.\n",
    "- Here we used the built-in method `isinstance()` to check if the value is a `float`, and return a custom error message if it is not.\n",
    "\n",
    "```\n",
    "aa = Assay(grades, depths)\n",
    "aa.threshold = 2.0\n",
    "```"
   ]
  },
  {
   "cell_type": "code",
   "execution_count": 11,
   "id": "b7c5fcc0",
   "metadata": {
    "tags": [
     "remove-input"
    ]
   },
   "outputs": [],
   "source": [
    "aa = Assay(grades, depths)\n",
    "aa.threshold = 2.0"
   ]
  },
  {
   "cell_type": "markdown",
   "id": "207e8b38",
   "metadata": {},
   "source": [
    " Copyright (c) 2022 Mira Geoscience Ltd."
   ]
  }
 ],
 "metadata": {
  "celltoolbar": "Edit Metadata",
  "kernelspec": {
   "display_name": "Python 3 (ipykernel)",
   "language": "python",
   "name": "python3"
  },
  "language_info": {
   "codemirror_mode": {
    "name": "ipython",
    "version": 3
   },
   "file_extension": ".py",
   "mimetype": "text/x-python",
   "name": "python",
   "nbconvert_exporter": "python",
   "pygments_lexer": "ipython3",
   "version": "3.9.13"
  }
 },
 "nbformat": 4,
 "nbformat_minor": 5
}
