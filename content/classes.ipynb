{
 "cells": [
  {
   "cell_type": "markdown",
   "id": "1e59539b",
   "metadata": {
    "lines_to_next_cell": 2
   },
   "source": [
    "# Classes\n",
    "\n",
    "While `functions` are common to almost all types programming languages, the concept of `Class` is specific to\n",
    "object-oriented languages. Objects are containers for methods (functions) and properties.  as shown with the\n",
    "following example."
   ]
  },
  {
   "cell_type": "code",
   "execution_count": null,
   "id": "0af88e37",
   "metadata": {
    "lines_to_next_cell": 2
   },
   "outputs": [],
   "source": [
    "class Assay:\n",
    "    \"\"\"Simple Assay class.\"\"\"\n",
    "\n",
    "    def __init__(self, depths: list, values: list, threshold=1.0):\n",
    "        self.depths = depths\n",
    "        self.values = values\n",
    "        self.threshold = threshold\n",
    "\n",
    "    @staticmethod\n",
    "    def anomalous(values, threshold=1.0):\n",
    "        \"\"\"\n",
    "        Find the elements of a list above threshold\n",
    "        \"\"\"\n",
    "        return [val > threshold for val in values]\n",
    "\n",
    "    def get_depths(self):\n",
    "        \"\"\"\n",
    "        Extract interval of values from anomalous values\n",
    "        \"\"\"\n",
    "        conditions = self.anomalous(self.values, self.threshold)\n",
    "        output = []\n",
    "        for val, logic in zip(self.depths, conditions):\n",
    "            if logic:\n",
    "                output.append(val)\n",
    "        return output\n",
    "\n",
    "    def __call__(self):\n",
    "        return self.get_depths()"
   ]
  },
  {
   "cell_type": "markdown",
   "id": "ba9164b9",
   "metadata": {},
   "source": [
    "The class `Assay` can be seen as a container for mathematical operations, which contains an `anomalous` and\n",
    "`get_depths` method. Because those methods\n",
    "\n",
    "\n",
    "Note: Within the jupyter-notebook environment, it is possible to query information about an attribute of class with\n",
    "the `?` symbol place immediately after\n",
    "\n",
    "```\n",
    "arithmetic?\n",
    "```"
   ]
  },
  {
   "cell_type": "markdown",
   "id": "207e8b38",
   "metadata": {},
   "source": [
    " Copyright (c) 2022 Mira Geoscience Ltd."
   ]
  }
 ],
 "metadata": {
  "kernelspec": {
   "display_name": "Python 3 (ipykernel)",
   "language": "python",
   "name": "python3"
  }
 },
 "nbformat": 4,
 "nbformat_minor": 5
}
