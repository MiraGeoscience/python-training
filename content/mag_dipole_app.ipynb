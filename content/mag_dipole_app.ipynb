{
 "cells": [
  {
   "cell_type": "markdown",
   "id": "ff88ace9",
   "metadata": {
    "lines_to_next_cell": 2
   },
   "source": [
    "# Magnetic Dipole App\n",
    "\n",
    "Now that we have learned how to interact with `geoh5` and to create a custom user-interface with `ui.json`, we can start implementing our first application. We are going to create a a magnetic dipole simulator from scratch, which could become a useful tool to interpret magnetic data maps.\n",
    "\n",
    "\n",
    "![mag_dipole_gif](./images/mag_dipole_app.gif \"segment\")\n",
    "\n",
    "\n",
    "## The physics\n",
    "\n",
    "From first year physics, the magnetic field of a single dipole is:\n",
    "\n",
    "$$\\mathbf{B} = \\frac{\\mu_0}{4 \\pi}  \\frac{3 (\\mathbf{m} \\cdot \\mathbf{r})  \\mathbf{\\hat r} - \\mathbf{m}}{r^3}$$\n",
    "\n",
    "where $\\mu_0$ is a constant ($4 \\pi \\times 1e-9$), $\\mathbf{m}$ is the magnetic dipole and $\\mathbf{r}$ is the\n",
    "vector separating the dipole and the observations.\n",
    "\n",
    "In a mineral exploration context however, we normally get Total\n",
    "Magnetic Intensity (TMI) data from magnetometers. The conversion can be\n",
    "approximated by a projection of the fields onto the direction of Earth's inducing field.\n",
    "\n",
    "$$\n",
    "b_{TMI} \\approx \\mathbf{\\hat H}_0 \\cdot \\mathbf{b}\n",
    "$$\n",
    "\n",
    "So we will need at least to\n",
    " - Create functions for:\n",
    "    - Computing the fields of a dipole(s)\n",
    "    - Converting vector fields to TMI.\n",
    " - Provide inputs for parameters:\n",
    "    - Receivers (observation) locations\n",
    "    - Source dipole locations\n",
    "    - Dipole moment values\n",
    "    - Dipole inclination angles\n",
    "    - Dipole declination angles\n",
    "    - Earth's field inclination\n",
    "    - Earth's field declination\n",
    "\n",
    "Let's get on with it."
   ]
  },
  {
   "cell_type": "code",
   "execution_count": null,
   "id": "189cb5b6",
   "metadata": {
    "lines_to_next_cell": 1
   },
   "outputs": [],
   "source": [
    "# Import the necessary packages\n",
    "from __future__ import annotations\n",
    "import json\n",
    "import matplotlib.pyplot as plt\n",
    "import numpy as np\n",
    "from geoh5py.data import Data\n",
    "from geoh5py.objects import ObjectBase, Points\n",
    "from geoh5py.ui_json import InputFile, constants, templates\n",
    "from geoh5py.ui_json.utils import monitored_directory_copy\n",
    "from geoh5py.workspace import Workspace"
   ]
  },
  {
   "cell_type": "markdown",
   "id": "12dc58fd",
   "metadata": {},
   "source": [
    "## The functions\n",
    "\n",
    "We can begin with writing the function needed to compute the\n",
    "magnetic field from a single dipole. The function should be able to take as argument\n",
    "\n",
    "    - Coordinates of the source and receivers (defining $\\mathbf{r}$),\n",
    "    - Parameters defining the strength (moment) and orientation (inc, dec) of the dipole source."
   ]
  },
  {
   "cell_type": "code",
   "execution_count": null,
   "id": "44391937",
   "metadata": {
    "lines_to_end_of_cell_marker": 2,
    "tags": [
     "clear-form"
    ]
   },
   "outputs": [],
   "source": [
    "def b_field(source, locations, moment, inclination, declination):\n",
    "    \"\"\"\n",
    "    Compute the magnetic field components of a dipole on an array of locations.\n",
    "\n",
    "    :param source: Location of a point dipole, shape(1, 3).\n",
    "    :param locations: Array of observation locations, shape(n, 3).\n",
    "    :param moment: Dipole moment of the source (A.m^2)\n",
    "    :param inclination: Dipole horizontal angle, clockwise from North\n",
    "    :param declination: Dipole vertical angle from horizontal, positive down\n",
    "\n",
    "    :return: Array of magnetic field components, shape(n, 3)\n",
    "    \"\"\"\n",
    "    # Convert the inclination and declination to Cartesian vector\n",
    "    m = moment * inclination_declination_2_xyz(inclination, declination)\n",
    "\n",
    "    # Compute the radial components\n",
    "    rad = source - locations\n",
    "\n",
    "    # Compute |r|\n",
    "    dist = np.sum(rad**2.0, axis=1) ** 0.5\n",
    "\n",
    "    # mu_0 / 4 pi * 1e-9 (nano)\n",
    "    constant = 1e2\n",
    "    fields = (\n",
    "        constant\n",
    "        * ((np.dot(m, rad.T).T * (rad / dist[:, None])) - m)\n",
    "        / dist[:, None] ** 3.0\n",
    "    )\n",
    "\n",
    "    return fields"
   ]
  },
  {
   "cell_type": "markdown",
   "id": "504bd0e9",
   "metadata": {
    "lines_to_next_cell": 2
   },
   "source": [
    "We have made use a few useful methods on `numpy` arrays.\n",
    "- The `sum()` method applied to a specific axis of an array, collapsing the dimension.\n",
    "- The `dot()` method performs the dot product between two arrays\n",
    "- The transpose (`.T`) method to get the dimensions of arrays to align:\n",
    "\n",
    "$[1 \\times 3] \\cdot [M \\times 3].T \\rightarrow [1 \\times M] $.\n",
    "\n",
    "- Array broadcasting (repeat) of a 1D array along a second dimension using the `[:, None]` indexing:\n",
    "\n",
    "$[N \\times 3] \\;/\\;([1 \\times N][: None]) \\rightarrow [N \\times 3] $\n",
    "\n",
    "\n",
    "Looks like we might also need a small function to convert inclination/declination angles to Cartesian vectors. The same function will come handy later when computing the TMI projection."
   ]
  },
  {
   "cell_type": "code",
   "execution_count": null,
   "id": "e6b8628c",
   "metadata": {},
   "outputs": [],
   "source": [
    "def inclination_declination_2_xyz(inclination, declination):\n",
    "    \"\"\"Convert inclination and declination angles (degrees) to unit vector (xyz).\"\"\"\n",
    "    theta = np.deg2rad((450 - declination) % 360)\n",
    "    phi = np.deg2rad(90 + inclination)\n",
    "    xyz = np.c_[np.sin(phi) * np.cos(theta), np.sin(phi) * np.sin(theta), np.cos(phi)]\n",
    "\n",
    "    return xyz"
   ]
  },
  {
   "cell_type": "markdown",
   "id": "580615d3",
   "metadata": {},
   "source": [
    "We can now test our `b_field` function with existing objects present in our `suncity.geoh5` project."
   ]
  },
  {
   "cell_type": "code",
   "execution_count": null,
   "id": "2b2c4cb9",
   "metadata": {
    "lines_to_end_of_cell_marker": 2,
    "tags": [
     "clear-form"
    ]
   },
   "outputs": [],
   "source": [
    "with Workspace(\"../assets/suncity.geoh5\") as workspace:\n",
    "    points = workspace.get_entity(\"Points\")[0]\n",
    "    grid = workspace.get_entity(\"SunCity\")[0]\n",
    "    vector_b = b_field(points.vertices[0, :], grid.centroids, 1.0, 90, 0)"
   ]
  },
  {
   "cell_type": "markdown",
   "id": "a451436a",
   "metadata": {
    "lines_to_next_cell": 2
   },
   "source": [
    "The `b_field` function returns an array for the three components of the\n",
    "magnetic field due to the dipole source.\n",
    "\n",
    "Let's write a simple function to get the TMI (projected) data instead."
   ]
  },
  {
   "cell_type": "code",
   "execution_count": null,
   "id": "9bce884c",
   "metadata": {},
   "outputs": [],
   "source": [
    "def tmi_projection(b_components, earth_field):\n",
    "    \"\"\"Project magnetic field onto Earth's field.\"\"\"\n",
    "    h0 = inclination_declination_2_xyz(earth_field[0], earth_field[1])\n",
    "    return np.dot(h0, b_components.T)"
   ]
  },
  {
   "cell_type": "markdown",
   "id": "95dd3a8a",
   "metadata": {},
   "source": [
    "and test it for the inducing field parameters at our test site at Suncity `(Inc: -62.11, Dec: -17.9)`."
   ]
  },
  {
   "cell_type": "code",
   "execution_count": null,
   "id": "1e02a845",
   "metadata": {
    "tags": [
     "clear-form"
    ]
   },
   "outputs": [],
   "source": [
    "tmi_b = tmi_projection(vector_b, (-62.11, -17.9))"
   ]
  },
  {
   "cell_type": "markdown",
   "id": "76cf86f8",
   "metadata": {
    "lines_to_next_cell": 2
   },
   "source": [
    "## The Simulator\n",
    "\n",
    "In this section, we are going to string together the functions defined above and generalize our approach so that we can deal with different types of `geoh5` objects. Let's wrap all the previous functions into a `magnetic_simulator` class."
   ]
  },
  {
   "cell_type": "code",
   "execution_count": null,
   "id": "814d676b",
   "metadata": {
    "tags": [
     "clear-form"
    ]
   },
   "outputs": [],
   "source": [
    "def magnetic_simulator(\n",
    "    sources: ObjectBase,\n",
    "    receivers: ObjectBase,\n",
    "    moments: Data | float,\n",
    "    inclinations: Data | float,\n",
    "    declinations: Data | float,\n",
    "    earth_inc: float,\n",
    "    earth_dec: float,\n",
    "):\n",
    "    \"\"\"\n",
    "    Compute the magnetic field components of dipoles on a geoh5py object.\n",
    "\n",
    "    :param sources: Points object of dipole locations.\n",
    "    :param receivers: Array or Points object of observation locations.\n",
    "    :param moments: Value or Data of dipole moments.\n",
    "    :param inclinations: Value or Data of dipole inclination angles.\n",
    "    :param declinations: Value or Data of dipole declination angles.\n",
    "\n",
    "    :return b_field: List of Data entities.\n",
    "    \"\"\"\n",
    "\n",
    "    def locations(entity):\n",
    "        if hasattr(entity, \"centroids\"):\n",
    "            return entity.centroids\n",
    "\n",
    "        return entity.vertices\n",
    "\n",
    "    # Extract dipole coordinates\n",
    "    dipoles = locations(sources)\n",
    "\n",
    "    # Extract receiver coordinates\n",
    "    observations = locations(receivers)\n",
    "\n",
    "    def vectorize(entity):\n",
    "        if isinstance(entity, Data):\n",
    "            return entity.values\n",
    "\n",
    "        return np.ones(dipoles.shape[0]) * entity\n",
    "\n",
    "    # Get dipole moment values\n",
    "    mom = vectorize(moments)\n",
    "    # Get dipole inclination values\n",
    "    inc = vectorize(inclinations)\n",
    "    # Get dipole declination values\n",
    "    dec = vectorize(declinations)\n",
    "\n",
    "    # Loop over the dipoles\n",
    "    fields = np.zeros_like(observations)\n",
    "\n",
    "    for source, moment, inclination, declination in zip(dipoles, mom, inc, dec):\n",
    "        fields += b_field(source, observations, moment, inclination, declination)\n",
    "\n",
    "    tmi = tmi_projection(fields, (earth_inc, earth_dec))\n",
    "\n",
    "    # Add data to receiver object\n",
    "    data = receivers.add_data(\n",
    "        {\n",
    "            \"b_x\": {\"values\": fields[:, 0]},\n",
    "            \"b_y\": {\"values\": fields[:, 1]},\n",
    "            \"b_z\": {\"values\": fields[:, 2]},\n",
    "            \"tmi\": {\"values\": tmi},\n",
    "        }\n",
    "    )\n",
    "\n",
    "    return data"
   ]
  },
  {
   "cell_type": "markdown",
   "id": "529c0d69",
   "metadata": {},
   "source": [
    "We now have a generic container to compute TMI data based on any type of ANALYST object.\n",
    "\n",
    "You are now invited to edit your Points object to add more vertices and\n",
    "create data arrays for moment, azimuth and dips. We can now run the simulation\n",
    "by simply giving those entities to our class."
   ]
  },
  {
   "cell_type": "code",
   "execution_count": null,
   "id": "bb4cba0e",
   "metadata": {
    "tags": [
     "clear-form"
    ]
   },
   "outputs": [],
   "source": [
    "with workspace.open(mode=\"r+\"):\n",
    "    magnetic_simulator(points, grid, 1.0, 90.0, 0.0, -62.11, -17.9)"
   ]
  },
  {
   "cell_type": "markdown",
   "id": "fdbffc2a",
   "metadata": {},
   "source": [
    "![bfield](./images/b_field.png)"
   ]
  },
  {
   "cell_type": "markdown",
   "id": "9dfa4645",
   "metadata": {},
   "source": [
    "## The Driver\n",
    "\n",
    "In the previous, we created our simulation program called `magnetic_simulator` that could compute the fields of dipoles defined by `geoh5` object. As a final step, we need to define a `driver` program that can be called from ANALYST.\n",
    "\n",
    "We are going to take advantage of the\n",
    "[geoh5py.ui_json.InputFile](https://geoh5py.readthedocs.io/en/stable/content/api/geoh5py.ui_json.html#geoh5py.ui_json.input_file.InputFile)\n",
    "class to handle value conversions between geoh5 and python, as well as the `monitored_directory_copy` function to handle the live link with ANALYST."
   ]
  },
  {
   "cell_type": "code",
   "execution_count": null,
   "id": "ab6b71e1",
   "metadata": {
    "tags": [
     "clear-form"
    ]
   },
   "outputs": [],
   "source": [
    "def run(file: str):\n",
    "    \"\"\"\n",
    "    Run the mag_dipole simulation from InputFile.\n",
    "    \"\"\"\n",
    "    ifile = InputFile.read_ui_json(file).data\n",
    "\n",
    "    with ifile[\"geoh5\"].open(mode=\"r+\"):\n",
    "        magnetic_simulator(\n",
    "            ifile[\"sources\"],\n",
    "            ifile[\"receivers\"],\n",
    "            ifile[\"moments\"],\n",
    "            ifile[\"inclination\"],\n",
    "            ifile[\"declination\"],\n",
    "            ifile[\"earth_inc\"],\n",
    "            ifile[\"earth_dec\"],\n",
    "        )\n",
    "\n",
    "        if ifile[\"monitoring_directory\"] is not None:\n",
    "            monitored_directory_copy(ifile[\"monitoring_directory\"], ifile[\"receivers\"])"
   ]
  },
  {
   "cell_type": "markdown",
   "id": "6319873b",
   "metadata": {},
   "source": [
    "The final step requires to make this program available to python to be executed from ANALYST.\n",
    "\n",
    "Do the following:\n",
    "\n",
    "- Use the `File\\Download as\\Python *.py` dropdown menu to convert this notebook to a `py` file.\n",
    "- Rename the file to `mag_dipole_app.py`.\n",
    "- Remove everything in the file except the\n",
    "    - the imports,\n",
    "    - the blocks of functions `def`\n",
    "    - the following lines (without #'s)\n",
    "\n",
    "    ```\n",
    "    if __name__ == \"__main__\":\n",
    "        file = sys.argv[1]\n",
    "        run(file)\n",
    "    ```\n",
    "\n",
    "This part becomes the entry point of the python interpreter when running the\n",
    "`mag_dipole_app.py` script. At the end, your file should look like this.\n",
    "\n",
    "![run_command](./images/run_command.png)"
   ]
  },
  {
   "cell_type": "markdown",
   "id": "b2e5b0e8",
   "metadata": {},
   "source": [
    "## The User-Interface (ui.json)\n",
    "\n",
    "In the previous section covering the [geoh5 API](geoh5-API), we have introduced functionality to compute the magnetic field from dipole locations. We are now going to create a user-interface (UI) to be able to run this program from a Geoscience ANALYST session.\n",
    "\n",
    "We now can create our ui.json to provide inputs for the following 5 parameters:\n",
    "\n",
    "- `Object` defining the dipoles (sources)\n",
    "- `Object` defining the receivers\n",
    "- `Data` or `float` value for the dipole moments\n",
    "- `Data` or `float` value for the dipole inclination angles\n",
    "- `Data` or `float` value for the dipole declination angles\n",
    "- `Float` value for Earth's field inclination angle\n",
    "- `Float` value for Earth's field declination angle\n",
    "\n",
    "Let's create a UI.json with forms for each one of those inputs"
   ]
  },
  {
   "cell_type": "code",
   "execution_count": null,
   "id": "adddc176",
   "metadata": {
    "tags": [
     "clear-form"
    ]
   },
   "outputs": [],
   "source": [
    "mag_ui = constants.default_ui_json.copy()\n",
    "mag_ui[\"title\"] = \"Magnetic Dipole App\"\n",
    "mag_ui.update(\n",
    "    {\n",
    "        \"sources\": templates.object_parameter(label=\"Dipoles\", mesh_type=\"\", value=\"\"),\n",
    "        \"receivers\": templates.object_parameter(\n",
    "            label=\"Receivers\", mesh_type=\"\", value=\"\"\n",
    "        ),\n",
    "        \"moments\": templates.data_parameter(\n",
    "            label=\"Dipole Moment\", parent=\"sources\", value=1.0\n",
    "        ),\n",
    "        \"inclination\": templates.data_parameter(\n",
    "            label=\"Dipole Inclination\", parent=\"sources\", value=-62.11\n",
    "        ),\n",
    "        \"declination\": templates.data_parameter(\n",
    "            label=\"Dipole Declination\", parent=\"sources\", value=-17.9\n",
    "        ),\n",
    "        \"earth_inc\": templates.data_parameter(\n",
    "            label=\"Earth's field Inclination\", parent=\"sources\", value=-62.11\n",
    "        ),\n",
    "        \"earth_dec\": templates.data_parameter(\n",
    "            label=\"Earth's field Declination\", parent=\"sources\", value=-17.9\n",
    "        ),\n",
    "    }\n",
    ")\n",
    "\n",
    "\n",
    "# Some modifications\n",
    "for label in [\"moments\", \"inclination\", \"declination\"]:\n",
    "    mag_ui[label][\"isValue\"] = True\n",
    "    mag_ui[label][\"property\"] = \"\""
   ]
  },
  {
   "cell_type": "markdown",
   "id": "dd00f443",
   "metadata": {},
   "source": [
    "We now need tell which \"program\" that ANALYST can call."
   ]
  },
  {
   "cell_type": "code",
   "execution_count": null,
   "id": "b20fc827",
   "metadata": {
    "tags": [
     "clear-form"
    ]
   },
   "outputs": [],
   "source": [
    "mag_ui[\"conda_environment\"] = \"python-training\"\n",
    "mag_ui[\"run_command\"] = \"mag_dipole_app\""
   ]
  },
  {
   "cell_type": "markdown",
   "id": "d927ede0",
   "metadata": {},
   "source": [
    "Internally, when executed from ANALYST, this is what is going to happen\n",
    "\n",
    "```\n",
    "conda activate python-training\n",
    "python mag_dipole\n",
    "```\n",
    "\n",
    "Then your mag_dipole.run should be able to do the rest: compute and store the result.\n",
    "\n",
    "Let's write out our ui.json to file."
   ]
  },
  {
   "cell_type": "code",
   "execution_count": null,
   "id": "d1712a1b",
   "metadata": {
    "tags": [
     "clear-form"
    ]
   },
   "outputs": [],
   "source": [
    "with open(\"../assets/magnetic_dipole.ui.json\", \"w\", encoding=\"utf-8\") as file:\n",
    "    json.dump(mag_ui, file, indent=4)"
   ]
  },
  {
   "cell_type": "markdown",
   "id": "7148966b",
   "metadata": {},
   "source": [
    " Copyright (c) 2022 Mira Geoscience Ltd."
   ]
  }
 ],
 "metadata": {
  "celltoolbar": "Edit Metadata",
  "jupytext": {
   "formats": "ipynb,py"
  },
  "kernelspec": {
   "display_name": "Python 3 (ipykernel)",
   "language": "python",
   "name": "python3"
  },
  "language_info": {
   "codemirror_mode": {
    "name": "ipython",
    "version": 3
   },
   "file_extension": ".py",
   "mimetype": "text/x-python",
   "name": "python",
   "nbconvert_exporter": "python",
   "pygments_lexer": "ipython3",
   "version": "3.9.13"
  }
 },
 "nbformat": 4,
 "nbformat_minor": 5
}
