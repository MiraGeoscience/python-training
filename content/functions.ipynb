{
 "cells": [
  {
   "cell_type": "markdown",
   "id": "999a6d2d",
   "metadata": {
    "lines_to_next_cell": 2
   },
   "source": [
    "# Functions\n",
    "\n",
    "The general concept of programming is to define a set of operations for a computer to execute. The building blocks\n",
    "making up a program can be written in terms of a `function` that take in input values and return a result. In its\n",
    "simplest form, a function (or method) is defined with:"
   ]
  },
  {
   "cell_type": "code",
   "execution_count": null,
   "id": "f9830c5e",
   "metadata": {},
   "outputs": [],
   "source": [
    "def fun(arg):\n",
    "    \"\"\"\n",
    "    Some function.\n",
    "\n",
    "    :param arg: Some input argument.\n",
    "    \"\"\"\n",
    "    return arg"
   ]
  },
  {
   "cell_type": "markdown",
   "id": "13833f00",
   "metadata": {},
   "source": [
    "Let's brake this down.\n",
    "\n",
    "-  The `def` keyword marks the beginning of the function signature. Everything that is part of a function must be\n",
    "indented (1 tab or 4 spaces) below it.\n",
    "\n",
    "- Input arguments (`arg`) are added within the parenthesis. The signature ends with a column `:`.\n",
    "\n",
    "- It is good practice adding `docstrings` to document what the function does and what the input parameters are. The\n",
    "block of text is bookended by triple quotes (`\"\"\"`).\n",
    "\n",
    "See the [Best Practice](best_practice) section for additional styling guides."
   ]
  },
  {
   "cell_type": "markdown",
   "id": "c1c8a21c",
   "metadata": {},
   "source": [
    "In this case, the `fun` function simply takes an input argument `arg` and returns it back.\n",
    "```\n",
    "fun(\"abc\")\n",
    "```"
   ]
  },
  {
   "cell_type": "code",
   "execution_count": null,
   "id": "f35fc597",
   "metadata": {
    "tags": [
     "remove-input"
    ]
   },
   "outputs": [],
   "source": [
    "print(fun(\"abc\"))"
   ]
  },
  {
   "cell_type": "markdown",
   "id": "8626c7f3",
   "metadata": {},
   "source": [
    "## For loop\n",
    "\n",
    "We will try again with a slightly more interesting example that uses a `for` loop iterator. Say we are given assay\n",
    "results down a drillhole.\n",
    "\n",
    "```\n",
    "grades = [0.1, 0.02, 1.3, 2.4, 3.5, 0.01]\n",
    "depths = [10, 55, 80, 105, 115, 120]\n",
    "```"
   ]
  },
  {
   "cell_type": "code",
   "execution_count": null,
   "id": "f5d7277e",
   "metadata": {
    "lines_to_end_of_cell_marker": 2,
    "tags": [
     "remove-input"
    ]
   },
   "outputs": [],
   "source": [
    "grades = [0.1, 0.02, 1.3, 2.4, 3.5, 0.01]\n",
    "depths = [10, 55, 80, 105, 115, 120]"
   ]
  },
  {
   "cell_type": "markdown",
   "id": "07b8585c",
   "metadata": {
    "lines_to_next_cell": 2
   },
   "source": [
    "We would like to know the `depths` where `grades` are above 1.\n",
    "\n",
    "There are many (faster) to solve this problem, but let's first find the grade values above some threshold."
   ]
  },
  {
   "cell_type": "code",
   "execution_count": null,
   "id": "094d1bba",
   "metadata": {},
   "outputs": [],
   "source": [
    "def anomalous(values, threshold):\n",
    "    \"\"\"\n",
    "    Find the elements of a list above threshold\n",
    "    \"\"\"\n",
    "    bool_list = []\n",
    "    for val in values:\n",
    "        bool_list.append(val > threshold)\n",
    "\n",
    "    return bool_list"
   ]
  },
  {
   "cell_type": "markdown",
   "id": "d9fba190",
   "metadata": {},
   "source": [
    "The `anomalous` function takes in as input a list of grade `values` and a `threshold`,\n",
    "then returns a list of `bool`'s (true or false) to indicate which elements are above 1.\n",
    "This function performs three steps\n",
    "  - Use a `for` loop iterator to visit every element of the list.\n",
    "  - Check if the element is above threshold with logic \">\".\n",
    "  - Add the result to a `logic` list using the `.append` method."
   ]
  },
  {
   "cell_type": "markdown",
   "id": "beef6473",
   "metadata": {},
   "source": [
    "Calling this method on our `grades` with a `threshold`= 1.0 yields\n",
    "```\n",
    "logic = anomalous(grades, 1.0)\n",
    "print(logic)\n",
    "```"
   ]
  },
  {
   "cell_type": "code",
   "execution_count": null,
   "id": "f4dc1db6",
   "metadata": {
    "tags": [
     "remove-input"
    ]
   },
   "outputs": [],
   "source": [
    "logic = anomalous(grades, 1.0)\n",
    "print(logic)"
   ]
  },
  {
   "cell_type": "markdown",
   "id": "1459a00b",
   "metadata": {},
   "source": [
    "Note that the same operation could also have been done with an `in-line` approach such that\n",
    "```\n",
    "logic = [val > threshold for val in grades]\n",
    "```\n",
    "\n",
    "In-line operations are more compact (and usually faster) than appending values within a `for` loop operation,\n",
    "and would have not required to create the `anomalous` function. In the end, both gives back the same result.\n",
    "\n",
    "```\n",
    "print(logic)\n",
    "```"
   ]
  },
  {
   "cell_type": "code",
   "execution_count": null,
   "id": "6a00db79",
   "metadata": {
    "lines_to_end_of_cell_marker": 2,
    "tags": [
     "remove-input"
    ]
   },
   "outputs": [],
   "source": [
    "logic = [val > 1.0 for val in grades]\n",
    "print(logic)"
   ]
  },
  {
   "cell_type": "markdown",
   "id": "335293ad",
   "metadata": {
    "lines_to_next_cell": 2
   },
   "source": [
    "### Keyword Arguments\n",
    "\n",
    "Other than the required input arguments, Python also allows for default values to be stored\n",
    "in the signature of the function as keyword arguments (`kwargs`). Let's suppose we would like to set a default\n",
    "value for the `threshold`. We could re-write the `anomalous` function as:"
   ]
  },
  {
   "cell_type": "code",
   "execution_count": null,
   "id": "d8b9f68d",
   "metadata": {},
   "outputs": [],
   "source": [
    "def anomalous(values, threshold=1.0):  # pylint: disable=E0102\n",
    "    \"\"\"\n",
    "    Find the elements of a list above threshold\n",
    "    \"\"\"\n",
    "    bool_list = []\n",
    "    for val in values:\n",
    "        bool_list.append(val > threshold)\n",
    "\n",
    "    return bool_list"
   ]
  },
  {
   "cell_type": "markdown",
   "id": "73c1d4c5",
   "metadata": {},
   "source": [
    "Since `threshold` already has a value, then the argument becomes optional and the function still runs without it.\n",
    "```\n",
    "anomalous(grades)\n",
    "```"
   ]
  },
  {
   "cell_type": "code",
   "execution_count": null,
   "id": "066f5b19",
   "metadata": {
    "tags": [
     "remove-input"
    ]
   },
   "outputs": [],
   "source": [
    "print(anomalous(grades))"
   ]
  },
  {
   "cell_type": "markdown",
   "id": "568257ad",
   "metadata": {},
   "source": [
    "If not assigned specifically as keyword arguments, Python will simply distribute the extra arguments in the order\n",
    "defined in the signature of the function. For example\n",
    "\n",
    "```\n",
    "anomalous(grades, 2.0)\n",
    "```"
   ]
  },
  {
   "cell_type": "code",
   "execution_count": null,
   "id": "21c422ca",
   "metadata": {
    "lines_to_end_of_cell_marker": 2,
    "tags": [
     "remove-input"
    ]
   },
   "outputs": [],
   "source": [
    "print(anomalous(grades, 2.0))"
   ]
  },
  {
   "cell_type": "markdown",
   "id": "cff50e7a",
   "metadata": {
    "lines_to_next_cell": 2
   },
   "source": [
    "## Example 2: If statement\n",
    "\n",
    "Next in our assay analysis, we would like get the depth interval for the anomalous grades. We can write a second\n",
    "function that takes the result of `anomalous` such that"
   ]
  },
  {
   "cell_type": "code",
   "execution_count": null,
   "id": "218329db",
   "metadata": {
    "lines_to_next_cell": 2
   },
   "outputs": [],
   "source": [
    "def get_depths(values: list, conditions: list[bool]):\n",
    "    \"\"\"\n",
    "    Extract interval of values from bool logic\n",
    "    \"\"\"\n",
    "    output = []\n",
    "    for val, cond in zip(values, conditions):\n",
    "        if cond:\n",
    "            output.append(val)\n",
    "    return output"
   ]
  },
  {
   "cell_type": "markdown",
   "id": "abe6acf5",
   "metadata": {
    "lines_to_next_cell": 2
   },
   "source": [
    "The `get_depths` function takes in two lists, one of values and another one for the logic (`bool`), and returns a\n",
    "subset of values if the `conditions` are `True`. Here are a few Python details to highlight\n",
    "\n",
    "- The `if` statement used to test a condition (true or false). Other conditions are\n",
    "    - `elif`: Always follows and if statement, requires a condition.\n",
    "    - `else`: Always used at the end of `if` statements, no condition used.\n",
    "- The `zip` method allows iterating over multiple lists at the same time.\n",
    "  If the inputs have different lengths, the iteration will stop once it reaches the end of the shortest list.\n",
    "\n",
    "- We use `typing` (e.g. `conditions: list[bool]`) in the signature of the function to\n",
    "  specify the type required for the input arguments. The type is not enforced on runtime,\n",
    "  but mainly good-practice as it can be used for code analysis and documentation."
   ]
  },
  {
   "cell_type": "markdown",
   "id": "abd566c7",
   "metadata": {},
   "source": [
    "Calling the `get_depths` method with the `grades` and `logic` previously computed we get\n",
    "\n",
    "```\n",
    "get_depths(grades, logic)\n",
    "```"
   ]
  },
  {
   "cell_type": "code",
   "execution_count": null,
   "id": "48fab921",
   "metadata": {},
   "outputs": [],
   "source": [
    "print(get_depths(grades, logic))"
   ]
  },
  {
   "cell_type": "markdown",
   "id": "bc6090e4",
   "metadata": {},
   "source": [
    " Copyright (c) 2022 Mira Geoscience Ltd."
   ]
  }
 ],
 "metadata": {
  "kernelspec": {
   "display_name": "Python 3 (ipykernel)",
   "language": "python",
   "name": "python3"
  }
 },
 "nbformat": 4,
 "nbformat_minor": 5
}
