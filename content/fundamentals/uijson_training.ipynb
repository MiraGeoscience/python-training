{
 "cells": [
  {
   "cell_type": "markdown",
   "id": "25179ead",
   "metadata": {},
   "source": [
    "# Custom User Interface (ui.json)\n",
    "\n",
    "\n",
    "This section provides training on how to create custom user interface within Geoscience ANALYST using the [ui.json\n",
    "standard](https://geoh5py.readthedocs.io/en/stable/content/uijson_format/index.html). In this section we are going to demonstrate how to:\n",
    "\n",
    "- [Create a basic user-interface programmatically](Create-a-ui.json)\n",
    "- Read and write a ui.json from file\n",
    "- Demonstrate how to set up ANALYST to run a custom program"
   ]
  },
  {
   "cell_type": "markdown",
   "id": "e387605f",
   "metadata": {},
   "source": [
    "## Creating a ui.json\n",
    "\n",
    "The `ui.json` format is based on the [json](https://www.json.org/json-en.html) standard - a format widely used in programming. Python comes by default with a [json](https://docs.python.org/3/library/json.html) module to read and write to file. All we need is a way to create the structure that ANALYST understands. We can make use of the [geoh5py.ui_json](https://geoh5py.readthedocs.io/en/stable/content/api/geoh5py.ui_json.html) module to get started."
   ]
  },
  {
   "cell_type": "code",
   "execution_count": 2,
   "id": "88179bdc",
   "metadata": {
    "tags": [
     "clear-form"
    ]
   },
   "outputs": [],
   "source": [
    "from geoh5py.ui_json import constants, templates\n",
    "from training import assets_path"
   ]
  },
  {
   "cell_type": "markdown",
   "id": "e0d5dd25",
   "metadata": {},
   "source": [
    "First, we need the base components must contain a few base parameters, such as a `title` and a `run_command`. A `constants.default_ui_json` is available to quickly get starget:"
   ]
  },
  {
   "cell_type": "code",
   "execution_count": 4,
   "id": "98014d13",
   "metadata": {
    "tags": [
     "clear-form"
    ]
   },
   "outputs": [
    {
     "data": {
      "text/plain": [
       "{'title': 'Hello World!',\n",
       " 'geoh5': None,\n",
       " 'run_command': None,\n",
       " 'run_command_boolean': {'value': False,\n",
       "  'label': 'Run python module ',\n",
       "  'tooltip': 'Warning: launches process to run python model on save',\n",
       "  'main': True},\n",
       " 'monitoring_directory': None,\n",
       " 'conda_environment': None,\n",
       " 'conda_environment_boolean': False,\n",
       " 'workspace': None}"
      ]
     },
     "execution_count": 4,
     "metadata": {},
     "output_type": "execute_result"
    }
   ],
   "source": [
    "my_ui = constants.default_ui_json.copy()\n",
    "my_ui[\"title\"] = \"Hello World!\"\n",
    "my_ui"
   ]
  },
  {
   "cell_type": "markdown",
   "id": "ddfc12c6",
   "metadata": {},
   "source": [
    "\n",
    "Note that the `run_command` is currently set to `None`, and therefore nothing will be executed by ANALYST. We will get to that part later.\n",
    "\n",
    "You could write this dictionary directly to file using the built-in `json` module with"
   ]
  },
  {
   "cell_type": "code",
   "execution_count": 5,
   "id": "6ef40077",
   "metadata": {
    "tags": [
     "clear-form"
    ]
   },
   "outputs": [],
   "source": [
    "import json\n",
    "\n",
    "with open(assets_path() / \"myUI.ui.json\", \"w\", encoding=\"utf-8\") as file:\n",
    "    json.dump(my_ui, file, indent=4)"
   ]
  },
  {
   "cell_type": "markdown",
   "id": "1ea5c38e",
   "metadata": {},
   "source": [
    "which writes it out as text file under the `assets` directory. From here you can drag & drop the file to the `Viewport` of ANALYST, which would render as:\n",
    "\n",
    "![base_ui](./images/base_ui.png)\n",
    "\n",
    "This user-interface doesn't do much at the moment so we can add a few additional forms.\n",
    "More parameters can be added by a simple `update` of the base dictionary. You can use any of the 8 `forms` currently supported:\n",
    "\n",
    "### [Bool value](https://geoh5py.readthedocs.io/en/stable/content/uijson_format/json_objects.html#boolean-parameter)\n",
    "\n",
    "Checkbox to set an option as true or false.\n",
    "```\n",
    "my_ui.update({\n",
    "    \"value_bool\": templates.bool_parameter(label=\"True/false\")\n",
    "})\n",
    "```\n",
    "\n",
    "![bool_ui](./images/bool_ui.png)\n",
    "\n",
    "### [Integer value](https://geoh5py.readthedocs.io/en/stable/content/uijson_format/json_objects.html#integer-parameter)\n",
    "\n",
    "Value field for integers. It is possible to set min/max values to bound the output.\n",
    "```\n",
    "my_ui.update({\n",
    "    \"value_int\": templates.integer_parameter(label=\"Some value:\")\n",
    "})\n",
    "```\n",
    "\n",
    "![int_ui](./images/int_ui.png)\n",
    "\n",
    "\n",
    "### [Float value](https://geoh5py.readthedocs.io/en/stable/content/uijson_format/json_objects.html#float-parameter)\n",
    "\n",
    "Value field for floats. Bounds on value also available.\n",
    "```\n",
    "my_ui.update({\n",
    "    \"value_float\": templates.float_parameter(label=\"Some value:\")\n",
    "})\n",
    "```\n",
    "\n",
    "![float_ui](./images/float_ui.png)\n",
    "\n",
    "### [String value](https://geoh5py.readthedocs.io/en/stable/content/uijson_format/json_objects.html#string-parameter)\n",
    "\n",
    "String field for text value.\n",
    "```\n",
    "my_ui.update({\n",
    "    \"value_string\": templates.string_parameter(label=\"Some value:\")\n",
    "})\n",
    "```\n",
    "\n",
    "![string_ui](./images/string_ui.png)\n",
    "\n",
    "\n",
    "### [Multi-choice string](https://geoh5py.readthedocs.io/en/stable/content/uijson_format/json_objects.html#multi-choice-string-parameter)\n",
    "\n",
    "Dropdown list of string values to chose from.\n",
    "```\n",
    "my_ui.update({\n",
    "    \"choice\": templates.choice_string_parameter(label=\"Select:\")\n",
    "})\n",
    "```\n",
    "\n",
    "![choice_string_ui](./images/choice_string_ui.png)\n",
    "\n",
    "\n",
    "### [File choice](https://geoh5py.readthedocs.io/en/stable/content/uijson_format/json_objects.html#file-parameter)\n",
    "\n",
    "Button to browse for a file on disk.\n",
    "```\n",
    "my_ui.update({\n",
    "    \"file\": templates.file_parameter(label=\"Select file:\", fileType=[\"geoh5\"], fileDescription=[\"project\"])\n",
    "})\n",
    "```\n",
    "\n",
    "![file_ui](./images/file_ui.png)\n",
    "\n",
    "\n",
    "### [Geoh5 Object selection](https://geoh5py.readthedocs.io/en/stable/content/uijson_format/json_objects.html#geoscience-analyst-object-parameter)\n",
    "\n",
    "Dropdown selection for objects listed under an active ANALYST session. The `mesh_type` attribute lets filter specific object types by their [uuid types](https://geoh5py.readthedocs.io/en/stable/content/geoh5_format/analyst/objects.html)\n",
    "```\n",
    "my_ui.update({\n",
    "    \"object\": templates.object_parameter(label=\"Object\", mesh_type=\"\")\n",
    "})\n",
    "```\n",
    "\n",
    "![object_ui](./images/object_ui.png)\n",
    "\n",
    "\n",
    "### [Geoh5 Data selection](https://geoh5py.readthedocs.io/en/stable/content/uijson_format/json_objects.html#geoscience-analyst-data-parameter)\n",
    "\n",
    "Dropdown selection of data listed under the `parent` object.\n",
    "```\n",
    "my_ui.update({\n",
    "    \"object\": templates.object_parameter(label=\"Object\", mesh_type=\"\"),\n",
    "    \"data\": templates.data_parameter(label=\"Data\", parent=\"object\")\n",
    "})\n",
    "```\n",
    "\n",
    "![data_ui](./images/data_ui.png)\n",
    "\n",
    "You are invited to click on the link provided for each form to read about the different options available to further control your UI.\n",
    "\n",
    "Once you are done adding forms:\n",
    "\n",
    "- Write this file out to disk\n",
    "- Drag & drop the ui.json to the viewport of ANALYST\n",
    "- Do some selections\n",
    "- Click `Apply` or `Ok` to write back out the ui.json.\n",
    "\n",
    "![run_ui](./images/run_ui.png)"
   ]
  },
  {
   "cell_type": "markdown",
   "id": "758bada9",
   "metadata": {},
   "source": [
    " Copyright (c) 2022 Mira Geoscience Ltd."
   ]
  }
 ],
 "metadata": {
  "jupytext": {
   "formats": "ipynb,py"
  },
  "kernelspec": {
   "display_name": "Python 3 (ipykernel)",
   "language": "python",
   "name": "python3"
  },
  "language_info": {
   "codemirror_mode": {
    "name": "ipython",
    "version": 3
   },
   "file_extension": ".py",
   "mimetype": "text/x-python",
   "name": "python",
   "nbconvert_exporter": "python",
   "pygments_lexer": "ipython3",
   "version": "3.10.14"
  }
 },
 "nbformat": 4,
 "nbformat_minor": 5
}
