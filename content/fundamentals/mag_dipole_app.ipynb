{
 "cells": [
  {
   "cell_type": "markdown",
   "id": "80e2644a",
   "metadata": {
    "lines_to_next_cell": 2
   },
   "source": [
    "# Magnetic Dipole App\n",
    "\n",
    "Now that we have learned how to interact with `geoh5` and to create a custom user-interface with `ui.json`,\n",
    "we can start implementing our first application. We are going to create a a magnetic dipole simulator from scratch,\n",
    "which could become a useful tool to interpret magnetic data maps.\n",
    "\n",
    "\n",
    "![mag_dipole_gif](./images/mag_dipole_app.gif \"segment\")"
   ]
  },
  {
   "cell_type": "markdown",
   "id": "4de84e93",
   "metadata": {},
   "source": [
    "## Background\n",
    "\n",
    "Python needs to import external libraries for certain classes and functions to be recognized when running the code.\n",
    "That is done below."
   ]
  },
  {
   "cell_type": "code",
   "execution_count": 1,
   "id": "ef585eda",
   "metadata": {},
   "outputs": [],
   "source": [
    "# Import the necessary packages\n",
    "from __future__ import annotations\n",
    "\n",
    "import json\n",
    "\n",
    "import numpy as np\n",
    "from geoh5py.data import Data\n",
    "from geoh5py.objects import ObjectBase, Points\n",
    "from geoh5py.ui_json import InputFile, constants, templates\n",
    "from geoh5py.ui_json.utils import monitored_directory_copy\n",
    "from geoh5py.workspace import Workspace\n",
    "\n",
    "from training import assets_path"
   ]
  },
  {
   "cell_type": "markdown",
   "id": "f5eb400d",
   "metadata": {},
   "source": [
    "## The physics\n",
    "\n",
    "The strength of the magnetic field flux of a single dipole is:\n",
    "\n",
    "$$\\mathbf{B} = \\frac{\\mu_0}{4 \\pi} \\left( \\frac{3 \\mathbf{r} (\\mathbf{m} \\cdot \\mathbf{r})}{r^5} - \\frac{\\mathbf{m}}{r^3} \\right)$$\n",
    "\n",
    "where $\\mu_0$ is a constant ($4 \\pi \\times 10^{-7}$), $\\mathbf{m}$ is the magnetic dipole moment (susceptibility $\\times$ volume), and $\\mathbf{r}$ is the vector between the dipole and the locations.\n",
    "\n",
    "In a geophysical context however, we normally get Total Magnetic Intensity (TMI) data from magnetometers.\n",
    "The conversion can be approximated by a projection of the fields onto the direction of Earth's inducing field.\n",
    "\n",
    "$$\n",
    "b_{TMI} \\approx \\mathbf{\\hat H}_0 \\cdot \\mathbf{b}\n",
    "$$\n",
    "\n",
    "### Arrays\n",
    "We will make use a few useful methods on `numpy` arrays.\n",
    "- The `sum()` method applied to a specific axis of an array, collapsing the dimension.\n",
    "- The `dot()` method performs the dot product between two arrays\n",
    "- The transpose (`.T`) method to get the dimensions of arrays to align:\n",
    "\n",
    "$[1 \\times 3] \\cdot [M \\times 3].T \\rightarrow [1 \\times M] $.\n",
    "\n",
    "- Array broadcasting (repeat) of a 1D array along a second dimension using the `[:, None]` indexing:\n",
    "\n",
    "$[N \\times 3] \\;/\\;([1 \\times N][: None]) \\rightarrow [N \\times 3] $\n",
    "\n",
    "### To-Do\n",
    "In order to compute the physics of dipoles, we will need:\n",
    " - **Functions**:\n",
    "    - Converting dip/azimuth angles to vector components\n",
    "    - Computing the fields of a dipole(s)\n",
    "    - Converting vector fields to TMI\n",
    " - **Inputs parameters**:\n",
    "    - Receivers (observation) locations\n",
    "    - Source dipole locations\n",
    "    - Dipole moment values\n",
    "    - Dipole inclination angles\n",
    "    - Dipole declination angles\n",
    "    - Earth's field inclination\n",
    "    - Earth's field declination"
   ]
  },
  {
   "cell_type": "markdown",
   "id": "89e5eed1",
   "metadata": {
    "lines_to_next_cell": 2
   },
   "source": [
    "## Functions\n",
    "\n",
    "### Inclination / declination to vector conversion\n",
    "We require a function to convert inclination/declination angles to Cartesian vectors.\n",
    "The same function will come handy later when computing the TMI projection.\n",
    "We need to perform the following conversion:\n",
    "\n",
    "$ \\hat x = \\sin(\\phi) * \\cos(\\theta)$\n",
    "\n",
    "$\n",
    "\\hat y = \\sin(\\phi) * \\sin(\\theta)\n",
    "$\n",
    "\n",
    "$\n",
    "\\hat z = \\cos(\\phi)\n",
    "$\n",
    "\n",
    "where $\\phi$ is the angle on the horizontal plane, and $\\theta$ is the vertical angles. Both are positive\n",
    "counter-clockwise with reference from the $\\hat x$-axis, so we also need to convert the angles from the\n",
    "geographic convention (degree clockwise from North)."
   ]
  },
  {
   "cell_type": "code",
   "execution_count": 4,
   "id": "3183bf87",
   "metadata": {},
   "outputs": [],
   "source": [
    "def inclination_declination_2_xyz(inclination, declination):\n",
    "    \"\"\"Convert inclination and declination angles (degrees) to unit vector (xyz).\"\"\"\n",
    "    theta = np.deg2rad((450 - declination) % 360)\n",
    "    phi = np.deg2rad(90 + inclination)\n",
    "    xyz = np.c_[np.sin(phi) * np.cos(theta), np.sin(phi) * np.sin(theta), np.cos(phi)]\n",
    "\n",
    "    return xyz"
   ]
  },
  {
   "cell_type": "markdown",
   "id": "1e42d16a",
   "metadata": {},
   "source": [
    "### Dipole functions\n",
    "\n",
    "We can begin with writing the function needed to compute the\n",
    "magnetic field from a single dipole.\n",
    "\n",
    "$$\\mathbf{B} = \\frac{\\mu_0}{4 \\pi} \\left( \\frac{3 \\mathbf{r} (\\mathbf{m} \\cdot \\mathbf{r})}{r^5} - \\frac{\\mathbf{m}}{r^3} \\right)$$\n",
    "\n",
    "The function should be able to take as argument\n",
    "\n",
    "    - Coordinates of the source and receivers (defining 'r'),\n",
    "\n",
    "    - Parameters defining the strength (moment) and orientation (inc, dec) of the dipole source."
   ]
  },
  {
   "cell_type": "code",
   "execution_count": 5,
   "id": "50bf6890",
   "metadata": {
    "tags": [
     "clear-form"
    ]
   },
   "outputs": [],
   "source": [
    "def b_field(source, locations, moment, inclination, declination):\n",
    "    \"\"\"\n",
    "    Compute the magnetic field components of a dipole on an array of locations.\n",
    "\n",
    "    :param source: Location of a point dipole, shape(1, 3).\n",
    "    :param locations: Array of observation locations, shape(n, 3).\n",
    "    :param moment: Dipole moment of the source (A.m^2)\n",
    "    :param inclination: Dipole horizontal angle, clockwise from North\n",
    "    :param declination: Dipole vertical angle from horizontal, positive down\n",
    "\n",
    "    :return: Array of magnetic field components, shape(n, 3)\n",
    "    \"\"\"\n",
    "    # Convert the inclination and declination to Cartesian vector\n",
    "    m = moment * inclination_declination_2_xyz(inclination, declination)\n",
    "\n",
    "    # Compute the radial components\n",
    "    rad = source - locations\n",
    "\n",
    "    # Compute |r|\n",
    "    dist = np.sum(rad**2.0, axis=1) ** 0.5\n",
    "\n",
    "    # mu_0 / 4 pi  * 1e9 for nT\n",
    "    constant = 100\n",
    "    fields = constant * (\n",
    "        ((np.dot(m, rad.T).T * 3 * rad) / dist[:, None] ** 5) - (m / dist[:, None] ** 3)\n",
    "    )\n",
    "\n",
    "    return fields"
   ]
  },
  {
   "cell_type": "markdown",
   "id": "4b4ed938",
   "metadata": {},
   "source": [
    "We can now test our `b_field` function with existing objects present in our `suncity.geoh5` project."
   ]
  },
  {
   "cell_type": "code",
   "execution_count": 3,
   "id": "38b4559c-201c-4dc4-aa74-72a69aa95bc7",
   "metadata": {},
   "outputs": [
    {
     "data": {
      "text/plain": [
       "(True,\n",
       " WindowsPath('C:/Users/dominiquef/Documents/GIT/mira/python-training/training-assets/suncity.geoh5'))"
      ]
     },
     "execution_count": 3,
     "metadata": {},
     "output_type": "execute_result"
    }
   ],
   "source": [
    "from pathlib import Path\n",
    "\n",
    "file = assets_path() / \"suncity.geoh5\"\n",
    "Path(file).is_file(), file"
   ]
  },
  {
   "cell_type": "code",
   "execution_count": 6,
   "id": "2fa94446",
   "metadata": {
    "lines_to_end_of_cell_marker": 2,
    "tags": [
     "clear-form"
    ]
   },
   "outputs": [],
   "source": [
    "with Workspace(assets_path() / \"suncity.geoh5\") as workspace:\n",
    "    # get variables\n",
    "    source = workspace.get_entity(\"SunCityLocation\")[0].vertices\n",
    "    output_entity = workspace.get_entity(\"SunCity\")[0]\n",
    "    locations = output_entity.centroids\n",
    "    m = 50**3 * 0.05 * 57000\n",
    "\n",
    "    # compute fields\n",
    "    field = b_field(source, locations, m, -67, -17)\n",
    "\n",
    "    # write back to workspace\n",
    "    output_entity.add_data(\n",
    "        {\n",
    "            \"bx\": {\"values\": field[:, 0]},\n",
    "            \"by\": {\"values\": field[:, 1]},\n",
    "            \"bz\": {\"values\": field[:, 2]},\n",
    "        }\n",
    "    )"
   ]
  },
  {
   "cell_type": "markdown",
   "id": "cc908c39",
   "metadata": {
    "lines_to_next_cell": 2
   },
   "source": [
    "The `b_field` function returns an array for the three components of the\n",
    "magnetic field due to the dipole source.\n",
    "\n",
    "### TMI projection\n",
    "\n",
    "Let's write a simple function to get the TMI (projected) data instead.\n",
    "\n",
    "\n",
    "$$\n",
    "b_{TMI} \\approx \\mathbf{\\hat H}_0 \\cdot \\mathbf{b}\n",
    "$$\n"
   ]
  },
  {
   "cell_type": "code",
   "execution_count": 7,
   "id": "5cc39ad6",
   "metadata": {},
   "outputs": [],
   "source": [
    "def tmi_projection(b_components, earth_field):\n",
    "    \"\"\"Project magnetic field onto Earth's field.\"\"\"\n",
    "    h0 = inclination_declination_2_xyz(earth_field[0], earth_field[1])\n",
    "    return np.dot(h0, b_components.T)"
   ]
  },
  {
   "cell_type": "markdown",
   "id": "b21f7da3",
   "metadata": {},
   "source": [
    "and test it for the inducing field parameters at our test site at Suncity `(Inc: -62.11, Dec: -17.9)`."
   ]
  },
  {
   "cell_type": "code",
   "execution_count": 8,
   "id": "7b360a2c",
   "metadata": {
    "tags": [
     "clear-form"
    ]
   },
   "outputs": [
    {
     "name": "stderr",
     "output_type": "stream",
     "text": [
      "C:\\Users\\dominiquef\\Documents\\GIT\\mira\\geoh5py\\geoh5py\\data\\numeric_data.py:114: UserWarning: Input 'values' converted to a 1D array.\n",
      "  warn(\"Input 'values' converted to a 1D array.\")\n"
     ]
    }
   ],
   "source": [
    "with Workspace(assets_path() / \"suncity.geoh5\") as workspace:\n",
    "    # get variables\n",
    "    source = workspace.get_entity(\"SunCityLocation\")[0].vertices\n",
    "    output_entity = workspace.get_entity(\"SunCity\")[0]\n",
    "    locations = output_entity.centroids\n",
    "    m = 50**3 * 0.05 * 57000\n",
    "\n",
    "    # compute fields\n",
    "    earth_field = np.array([-45, 0])\n",
    "    field = b_field(source, locations, m, earth_field[0], earth_field[1])\n",
    "    tmi = tmi_projection(field, earth_field)\n",
    "\n",
    "    # write back to workspace\n",
    "    output_entity.add_data({\"tmi_45\": {\"values\": tmi}})"
   ]
  },
  {
   "cell_type": "markdown",
   "id": "dd17b306",
   "metadata": {
    "lines_to_next_cell": 2
   },
   "source": [
    "## The Simulator\n",
    "\n",
    "In this section, we are going to string together the functions defined above and generalize our approach so that we can deal with different types of `geoh5` objects. Let's wrap all the previous functions into a `magnetic_simulator` class."
   ]
  },
  {
   "cell_type": "code",
   "execution_count": 9,
   "id": "862e2e83",
   "metadata": {
    "tags": [
     "clear-form"
    ]
   },
   "outputs": [],
   "source": [
    "def magnetic_simulator(\n",
    "    sources: ObjectBase,\n",
    "    receivers: ObjectBase,\n",
    "    moments: Data | float,\n",
    "    inclinations: Data | float,\n",
    "    declinations: Data | float,\n",
    "    earth_inc: float,\n",
    "    earth_dec: float,\n",
    "):\n",
    "    \"\"\"\n",
    "    Compute the magnetic field components of dipoles on a geoh5py object.\n",
    "\n",
    "    :param sources: Points object of dipole locations.\n",
    "    :param receivers: Array or Points object of observation locations.\n",
    "    :param moments: Value or Data of dipole moments.\n",
    "    :param inclinations: Value or Data of dipole inclination angles.\n",
    "    :param declinations: Value or Data of dipole declination angles.\n",
    "    :param earth_inc: Earth's field inclination angle.\n",
    "    :param earth_dec: Earth's field declination angle.\n",
    "\n",
    "    :return b_field: List of Data entities.\n",
    "    \"\"\"\n",
    "\n",
    "    def locations(entity):\n",
    "        if hasattr(entity, \"centroids\"):\n",
    "            return entity.centroids\n",
    "\n",
    "        return entity.vertices\n",
    "\n",
    "    # Extract dipole coordinates\n",
    "    dipoles = locations(sources)\n",
    "\n",
    "    # Extract receiver coordinates\n",
    "    observations = locations(receivers)\n",
    "\n",
    "    def vectorize(entity):\n",
    "        if isinstance(entity, Data):\n",
    "            return entity.values\n",
    "\n",
    "        return np.ones(dipoles.shape[0]) * entity\n",
    "\n",
    "    # Get dipole moment values\n",
    "    mom = vectorize(moments)\n",
    "    # Get dipole inclination values\n",
    "    inc = vectorize(inclinations)\n",
    "    # Get dipole declination values\n",
    "    dec = vectorize(declinations)\n",
    "\n",
    "    # Loop over the dipoles\n",
    "    fields = np.zeros_like(observations)\n",
    "\n",
    "    for source, moment, inclination, declination in zip(dipoles, mom, inc, dec):\n",
    "        fields += b_field(source, observations, moment, inclination, declination)\n",
    "\n",
    "    tmi = tmi_projection(fields, (earth_inc, earth_dec))\n",
    "\n",
    "    # Add data to receiver object\n",
    "    data = receivers.add_data(\n",
    "        {\n",
    "            \"b_x\": {\"values\": fields[:, 0]},\n",
    "            \"b_y\": {\"values\": fields[:, 1]},\n",
    "            \"b_z\": {\"values\": fields[:, 2]},\n",
    "            \"tmi\": {\"values\": tmi},\n",
    "        }\n",
    "    )\n",
    "\n",
    "    return data"
   ]
  },
  {
   "cell_type": "markdown",
   "id": "a1526d49",
   "metadata": {},
   "source": [
    "We now have a generic container to compute TMI data based on any type of ANALYST object.\n",
    "\n",
    "You are now invited to edit your Points object to add more vertices and\n",
    "create data arrays for moment, azimuth and dips. We can now run the simulation\n",
    "by simply giving those entities to our class."
   ]
  },
  {
   "cell_type": "code",
   "execution_count": 10,
   "id": "aa3f4dd8",
   "metadata": {
    "tags": [
     "clear-form"
    ]
   },
   "outputs": [
    {
     "name": "stdout",
     "output_type": "stream",
     "text": [
      "[<geoh5py.data.float_data.FloatData object at 0x00000183A5B93280>, <geoh5py.data.float_data.FloatData object at 0x00000183A5B93460>, <geoh5py.data.float_data.FloatData object at 0x00000183A5B937C0>, <geoh5py.data.float_data.FloatData object at 0x00000183A5B938B0>]\n"
     ]
    }
   ],
   "source": [
    "with Workspace(assets_path() / \"suncity.geoh5\") as workspace:\n",
    "    # get variables\n",
    "    source = workspace.get_entity(\"SunCityLocation\")[0]\n",
    "    output_entity = workspace.get_entity(\"SunCity\")[0]\n",
    "\n",
    "    m = 50**3 * 0.05 * 57000\n",
    "\n",
    "    #\n",
    "    data = magnetic_simulator(source, output_entity, m, -67, -17, -67, -17)\n",
    "    print(data)"
   ]
  },
  {
   "cell_type": "markdown",
   "id": "876942e5",
   "metadata": {},
   "source": [
    "![bfield](./images/b_field.png)"
   ]
  },
  {
   "cell_type": "markdown",
   "id": "1e9fde54",
   "metadata": {},
   "source": [
    "## The User-Interface (ui.json)\n",
    "\n",
    "In the previous section, we have introduced functionality to compute the magnetic field from dipole locations. We are now going to create a user-interface (UI) to be able to run this program from a Geoscience ANALYST session. Review the [UIjson](uijson_training) section for background.\n",
    "\n",
    "We need a ui.json to provide inputs for the following 7 parameters:\n",
    "\n",
    "- `Object` defining the dipoles (sources)\n",
    "- `Object` defining the receivers\n",
    "- `Data` or `float` value for the dipole moments\n",
    "- `Data` or `float` value for the dipole inclination angles\n",
    "- `Data` or `float` value for the dipole declination angles\n",
    "- `Float` value for Earth's field inclination angle\n",
    "- `Float` value for Earth's field declination angle\n",
    "\n",
    "Let's create a UI.json with forms for each one of those inputs"
   ]
  },
  {
   "cell_type": "code",
   "execution_count": 11,
   "id": "7fbc38eb",
   "metadata": {
    "tags": [
     "clear-form"
    ]
   },
   "outputs": [],
   "source": [
    "mag_ui = constants.default_ui_json.copy()\n",
    "mag_ui[\"title\"] = \"Magnetic Dipole App\"\n",
    "mag_ui.update(\n",
    "    {\n",
    "        \"sources\": templates.object_parameter(label=\"Dipoles\", mesh_type=\"\", value=\"\"),\n",
    "        \"receivers\": templates.object_parameter(\n",
    "            label=\"Receivers\", mesh_type=\"\", value=\"\"\n",
    "        ),\n",
    "        \"moments\": templates.data_parameter(\n",
    "            label=\"Dipole Moment\", parent=\"sources\", value=1.0\n",
    "        ),\n",
    "        \"inclination\": templates.data_parameter(\n",
    "            label=\"Dipole Inclination\", parent=\"sources\", value=-62.11\n",
    "        ),\n",
    "        \"declination\": templates.data_parameter(\n",
    "            label=\"Dipole Declination\", parent=\"sources\", value=-17.9\n",
    "        ),\n",
    "        \"earth_inc\": templates.float_parameter(\n",
    "            label=\"Earth's field Inclination\", value=-62.11\n",
    "        ),\n",
    "        \"earth_dec\": templates.float_parameter(\n",
    "            label=\"Earth's field Declination\", value=-17.9\n",
    "        ),\n",
    "    }\n",
    ")\n",
    "\n",
    "\n",
    "# Some modifications\n",
    "for label in [\"moments\", \"inclination\", \"declination\"]:\n",
    "    mag_ui[label][\"isValue\"] = True\n",
    "    mag_ui[label][\"property\"] = \"\""
   ]
  },
  {
   "cell_type": "markdown",
   "id": "424e369f",
   "metadata": {},
   "source": [
    "We now need tell which \"program\" that ANALYST can call."
   ]
  },
  {
   "cell_type": "code",
   "execution_count": 12,
   "id": "c9a88f91",
   "metadata": {
    "tags": [
     "clear-form"
    ]
   },
   "outputs": [],
   "source": [
    "mag_ui[\"conda_environment\"] = \"python-training\"\n",
    "mag_ui[\"run_command\"] = \"mag_dipole_app\""
   ]
  },
  {
   "cell_type": "markdown",
   "id": "189ed194",
   "metadata": {},
   "source": [
    "Internally, when executed from ANALYST, this is what is going to happen\n",
    "\n",
    "```\n",
    "conda activate python-training\n",
    "python mag_dipole\n",
    "```\n",
    "\n",
    "Then your mag_dipole.run should be able to do the rest: compute and store the result.\n",
    "\n",
    "Let's write out our ui.json to file."
   ]
  },
  {
   "cell_type": "code",
   "execution_count": 13,
   "id": "dddf3554",
   "metadata": {
    "tags": [
     "clear-form"
    ]
   },
   "outputs": [],
   "source": [
    "with open(assets_path() / \"magnetic_dipole.ui.json\", \"w\", encoding=\"utf-8\") as file:\n",
    "    json.dump(mag_ui, file, indent=4)"
   ]
  },
  {
   "cell_type": "markdown",
   "id": "7b11d493",
   "metadata": {},
   "source": [
    "Try running the UI through ANALYST with a drag & drop of the file to the viewport.\n",
    "\n",
    "![dragdrop](./images/uijson_dragdrop.gif \"segment\")"
   ]
  },
  {
   "cell_type": "markdown",
   "id": "8ece70c7",
   "metadata": {},
   "source": [
    "## The Driver (Running with Geoscience ANALYST)\n",
    "\n",
    "In the previous section, we created our simulation program and a user-interface using the UI json format. As a final step, we need to define a `driver` program that can be called from ANALYST.\n",
    "\n",
    "We are going to take advantage of the\n",
    "[geoh5py.ui_json.InputFile](https://geoh5py.readthedocs.io/en/stable/content/api/geoh5py.ui_json.html#geoh5py.ui_json.input_file.InputFile)\n",
    "class to handle value conversions between geoh5 and python, as well as the `monitored_directory_copy` function to handle the live link with ANALYST."
   ]
  },
  {
   "cell_type": "code",
   "execution_count": 14,
   "id": "36ebdb81",
   "metadata": {
    "lines_to_end_of_cell_marker": 2,
    "tags": [
     "clear-form"
    ]
   },
   "outputs": [],
   "source": [
    "def run(file: str):\n",
    "    \"\"\"\n",
    "    Run the mag_dipole simulation from InputFile.\n",
    "    \"\"\"\n",
    "    ifile = InputFile.read_ui_json(file).data\n",
    "\n",
    "    with ifile[\"geoh5\"].open(mode=\"r+\"):\n",
    "        magnetic_simulator(\n",
    "            ifile[\"sources\"],\n",
    "            ifile[\"receivers\"],\n",
    "            ifile[\"moments\"],\n",
    "            ifile[\"inclination\"],\n",
    "            ifile[\"declination\"],\n",
    "            ifile[\"earth_inc\"],\n",
    "            ifile[\"earth_dec\"],\n",
    "        )\n",
    "\n",
    "        if ifile[\"monitoring_directory\"] is not None:\n",
    "            monitored_directory_copy(ifile[\"monitoring_directory\"], ifile[\"receivers\"])"
   ]
  },
  {
   "cell_type": "markdown",
   "id": "d2af26b5",
   "metadata": {},
   "source": [
    "The final step requires to make this program available to python to be executed from ANALYST.\n",
    "\n",
    "Do the following:\n",
    "\n",
    "- Use the `File\\Download as\\Python *.py` dropdown menu to convert this notebook to a `py` file.\n",
    "- Rename the file to `mag_dipole_app.py`.\n",
    "- Remove everything in the file except the\n",
    "    - the imports,\n",
    "    - the blocks of functions `def`\n",
    "    - the following lines (without #'s)\n",
    "\n",
    "    ```\n",
    "    if __name__ == \"__main__\":\n",
    "        file = sys.argv[1]\n",
    "        run(file)\n",
    "    ```\n",
    "\n",
    "This part becomes the entry point of the python interpreter when running the\n",
    "`mag_dipole_app.py` script. At the end, your file should look like this.\n",
    "\n",
    "![run_command](./images/run_command.png)"
   ]
  },
  {
   "cell_type": "markdown",
   "id": "a5a66ce8",
   "metadata": {},
   "source": [
    "## Executing in ANALYST\n",
    "\n",
    "We now have everything we need to run our program with custom user-interface. The last step consists in moving our `ui.json` and `py` file to ANALYST Script Directory. After re-opening of the workspace, your program will be visible in the drop-down menu.\n",
    "\n",
    "![uijson_add](./images/uijson_add.gif)\n",
    "\n",
    "Et voila!"
   ]
  },
  {
   "cell_type": "markdown",
   "id": "847468bc",
   "metadata": {},
   "source": [
    " Copyright (c) 2022 Mira Geoscience Ltd."
   ]
  }
 ],
 "metadata": {
  "jupytext": {
   "formats": "ipynb,py"
  },
  "kernelspec": {
   "display_name": "Python 3 (ipykernel)",
   "language": "python",
   "name": "python3"
  },
  "language_info": {
   "codemirror_mode": {
    "name": "ipython",
    "version": 3
   },
   "file_extension": ".py",
   "mimetype": "text/x-python",
   "name": "python",
   "nbconvert_exporter": "python",
   "pygments_lexer": "ipython3",
   "version": "3.10.14"
  }
 },
 "nbformat": 4,
 "nbformat_minor": 5
}
