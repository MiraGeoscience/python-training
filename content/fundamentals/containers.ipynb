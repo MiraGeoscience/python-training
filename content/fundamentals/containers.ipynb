{
 "cells": [
  {
   "cell_type": "markdown",
   "id": "cb71834d",
   "metadata": {},
   "source": [
    "# Containers\n",
    "\n",
    "In the previous section, we have introduced numerics of type `int` and `float`, as well as text variable. Often we would like to group many of numerics or strings together to perform larger operations. This section introduces classes of containers to group values together."
   ]
  },
  {
   "cell_type": "markdown",
   "id": "6e5e11e2",
   "metadata": {},
   "source": [
    "## List\n",
    "\n",
    "Lists are generic containers for other objects, which can be of any type. They are created with square brackets `[]`."
   ]
  },
  {
   "cell_type": "code",
   "execution_count": null,
   "id": "37e8b3e8",
   "metadata": {
    "tags": [
     "clear-form"
    ]
   },
   "outputs": [],
   "source": [
    "a_list = [1.0, 2, \"abc\"]"
   ]
  },
  {
   "cell_type": "markdown",
   "id": "a10f89a0",
   "metadata": {},
   "source": [
    "Here are a few important methods that can used on a `list`.\n",
    "\n",
    "- Indexing (accessing) elements of the list (count starts at 0)"
   ]
  },
  {
   "cell_type": "code",
   "execution_count": null,
   "id": "4a8bb3dc",
   "metadata": {
    "tags": [
     "clear-form"
    ]
   },
   "outputs": [],
   "source": [
    "a_list[0]"
   ]
  },
  {
   "cell_type": "markdown",
   "id": "ad9f58f9",
   "metadata": {},
   "source": [
    "- Adding (appending) to the list."
   ]
  },
  {
   "cell_type": "code",
   "execution_count": null,
   "id": "1f1f5182",
   "metadata": {
    "tags": [
     "clear-form"
    ]
   },
   "outputs": [],
   "source": [
    "a_list += [\"new\"]\n",
    "a_list"
   ]
  },
  {
   "cell_type": "markdown",
   "id": "ee29f0b5",
   "metadata": {},
   "source": [
    "- Removing an element from the list using the `pop` method with index"
   ]
  },
  {
   "cell_type": "code",
   "execution_count": null,
   "id": "76cc2b33",
   "metadata": {
    "tags": [
     "clear-form"
    ]
   },
   "outputs": [],
   "source": [
    "a_list.pop(0)\n",
    "a_list"
   ]
  },
  {
   "cell_type": "markdown",
   "id": "aa3a1eb9",
   "metadata": {},
   "source": [
    "- Finding the `index` of an element within the list. The same method applies to [string](String) objects."
   ]
  },
  {
   "cell_type": "code",
   "execution_count": null,
   "id": "d55e6058",
   "metadata": {
    "tags": [
     "clear-form"
    ]
   },
   "outputs": [],
   "source": [
    "a_list.index(\"abc\")"
   ]
  },
  {
   "cell_type": "markdown",
   "id": "c3e01a88",
   "metadata": {},
   "source": [
    "## Dictionary\n",
    "\n",
    "Dictionaries (`dict`) are also containers for objects but give an additional level of structure over lists as every\n",
    "value of the dictionary is indexed by a `key`. A dictionary is created with a list of `key: value` pairs within\n",
    "braces `{}`."
   ]
  },
  {
   "cell_type": "code",
   "execution_count": null,
   "id": "bdd01eba",
   "metadata": {
    "tags": [
     "clear-form"
    ]
   },
   "outputs": [],
   "source": [
    "my_dict = {\"integer\": 2}"
   ]
  },
  {
   "cell_type": "markdown",
   "id": "0206a1ac",
   "metadata": {},
   "source": [
    "Here are a few important methods that can used on a `dict`.\n",
    "\n",
    "- Accessing values using the key"
   ]
  },
  {
   "cell_type": "code",
   "execution_count": null,
   "id": "c7f7c982",
   "metadata": {
    "tags": [
     "clear-form"
    ]
   },
   "outputs": [],
   "source": [
    "my_dict[\"integer\"]"
   ]
  },
  {
   "cell_type": "markdown",
   "id": "6b0c5389",
   "metadata": {},
   "source": [
    "- Adding entries"
   ]
  },
  {
   "cell_type": "code",
   "execution_count": null,
   "id": "618c903d",
   "metadata": {
    "tags": [
     "clear-form"
    ]
   },
   "outputs": [],
   "source": [
    "my_dict[\"new\"] = 123\n",
    "my_dict"
   ]
  },
  {
   "cell_type": "markdown",
   "id": "fd829cf4",
   "metadata": {},
   "source": [
    "- Removing entries"
   ]
  },
  {
   "cell_type": "code",
   "execution_count": null,
   "id": "636a68a1",
   "metadata": {
    "tags": [
     "clear-form"
    ]
   },
   "outputs": [],
   "source": [
    "del my_dict[\"new\"]\n",
    "my_dict"
   ]
  },
  {
   "cell_type": "markdown",
   "id": "7f8ae6cc",
   "metadata": {},
   "source": [
    "- Looping over keys"
   ]
  },
  {
   "cell_type": "code",
   "execution_count": null,
   "id": "b4ccf404",
   "metadata": {
    "tags": [
     "clear-form"
    ]
   },
   "outputs": [],
   "source": [
    "list(my_dict)"
   ]
  },
  {
   "cell_type": "markdown",
   "id": "349a54f3",
   "metadata": {},
   "source": [
    "- Looping over values"
   ]
  },
  {
   "cell_type": "code",
   "execution_count": null,
   "id": "cf15e5ff",
   "metadata": {
    "tags": [
     "clear-form"
    ]
   },
   "outputs": [],
   "source": [
    "list(my_dict.values())"
   ]
  },
  {
   "cell_type": "markdown",
   "id": "23f3d698",
   "metadata": {},
   "source": [
    "- Looping over both keys and values"
   ]
  },
  {
   "cell_type": "code",
   "execution_count": null,
   "id": "1686edca",
   "metadata": {
    "tags": [
     "clear-form"
    ]
   },
   "outputs": [],
   "source": [
    "list(my_dict.items())"
   ]
  },
  {
   "cell_type": "markdown",
   "id": "fea03007",
   "metadata": {},
   "source": [
    " Copyright (c) 2022 Mira Geoscience Ltd."
   ]
  }
 ],
 "metadata": {
  "kernelspec": {
   "display_name": "Python 3 (ipykernel)",
   "language": "python",
   "name": "python3"
  }
 },
 "nbformat": 4,
 "nbformat_minor": 5
}
