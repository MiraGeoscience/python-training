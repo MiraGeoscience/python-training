{
 "cells": [
  {
   "cell_type": "markdown",
   "id": "7ff7f06d",
   "metadata": {},
   "source": [
    "# Containers\n",
    "\n",
    "In the previous section, we have introduced numerics of type `int` and `float`, as well as text variable. Often we would like to group many of numerics or strings together to perform larger operations. This section introduces classes of containers to group values together."
   ]
  },
  {
   "cell_type": "markdown",
   "id": "5a74bf55",
   "metadata": {},
   "source": [
    "## List\n",
    "\n",
    "Lists are generic containers for other objects, which can be of any type. They are created with square brackets `[]`."
   ]
  },
  {
   "cell_type": "code",
   "execution_count": null,
   "id": "758212bd",
   "metadata": {
    "tags": [
     "clear-form"
    ]
   },
   "outputs": [],
   "source": [
    "a_list = [1.0, 2, \"abc\"]"
   ]
  },
  {
   "cell_type": "markdown",
   "id": "40dd3cfd",
   "metadata": {},
   "source": [
    "Here are a few important methods that can used on a `list`.\n",
    "\n",
    "- Indexing (accessing) elements of the list (count starts at 0)"
   ]
  },
  {
   "cell_type": "code",
   "execution_count": null,
   "id": "90b7a3a7",
   "metadata": {
    "tags": [
     "clear-form"
    ]
   },
   "outputs": [],
   "source": [
    "a_list[0]"
   ]
  },
  {
   "cell_type": "markdown",
   "id": "8c6a77eb",
   "metadata": {},
   "source": [
    "- Adding (appending) to the list."
   ]
  },
  {
   "cell_type": "code",
   "execution_count": null,
   "id": "f492246f",
   "metadata": {
    "tags": [
     "clear-form"
    ]
   },
   "outputs": [],
   "source": [
    "a_list += [\"new\"]\n",
    "a_list"
   ]
  },
  {
   "cell_type": "markdown",
   "id": "bb65efa2",
   "metadata": {},
   "source": [
    "- Removing an element from the list using the `pop` method with index"
   ]
  },
  {
   "cell_type": "code",
   "execution_count": null,
   "id": "294012f7",
   "metadata": {
    "tags": [
     "clear-form"
    ]
   },
   "outputs": [],
   "source": [
    "a_list.pop(0)\n",
    "a_list"
   ]
  },
  {
   "cell_type": "markdown",
   "id": "41970cfa",
   "metadata": {},
   "source": [
    "- Finding the `index` of an element within the list. The same method applies to [string](String) objects."
   ]
  },
  {
   "cell_type": "code",
   "execution_count": null,
   "id": "8ada0a36",
   "metadata": {
    "tags": [
     "clear-form"
    ]
   },
   "outputs": [],
   "source": [
    "a_list.index(\"abc\")"
   ]
  },
  {
   "cell_type": "markdown",
   "id": "f846127a",
   "metadata": {},
   "source": [
    "## Dictionary\n",
    "\n",
    "Dictionaries (`dict`) are also containers for objects but give an additional level of structure over lists as every\n",
    "value of the dictionary is indexed by a `key`. A dictionary is created with a list of `key: value` pairs within\n",
    "braces `{}`."
   ]
  },
  {
   "cell_type": "code",
   "execution_count": null,
   "id": "1048d296",
   "metadata": {
    "tags": [
     "clear-form"
    ]
   },
   "outputs": [],
   "source": [
    "my_dict = {\"integer\": 2}"
   ]
  },
  {
   "cell_type": "markdown",
   "id": "f87ed2a4",
   "metadata": {},
   "source": [
    "Here are a few important methods that can used on a `dict`.\n",
    "\n",
    "- Accessing values using the key"
   ]
  },
  {
   "cell_type": "code",
   "execution_count": null,
   "id": "d74dcaea",
   "metadata": {
    "tags": [
     "clear-form"
    ]
   },
   "outputs": [],
   "source": [
    "my_dict[\"integer\"]"
   ]
  },
  {
   "cell_type": "markdown",
   "id": "aa4bb29d",
   "metadata": {},
   "source": [
    "- Adding entries"
   ]
  },
  {
   "cell_type": "code",
   "execution_count": null,
   "id": "b8408c98",
   "metadata": {
    "tags": [
     "clear-form"
    ]
   },
   "outputs": [],
   "source": [
    "my_dict[\"new\"] = 123\n",
    "my_dict"
   ]
  },
  {
   "cell_type": "markdown",
   "id": "4426a1e8",
   "metadata": {},
   "source": [
    "- Removing entries"
   ]
  },
  {
   "cell_type": "code",
   "execution_count": null,
   "id": "29ab74c3",
   "metadata": {
    "tags": [
     "clear-form"
    ]
   },
   "outputs": [],
   "source": [
    "del my_dict[\"new\"]\n",
    "my_dict"
   ]
  },
  {
   "cell_type": "markdown",
   "id": "0dea10c6",
   "metadata": {},
   "source": [
    "- Looping over keys"
   ]
  },
  {
   "cell_type": "code",
   "execution_count": null,
   "id": "9fe6abe9",
   "metadata": {
    "tags": [
     "clear-form"
    ]
   },
   "outputs": [],
   "source": [
    "list(my_dict)"
   ]
  },
  {
   "cell_type": "markdown",
   "id": "a582eafd",
   "metadata": {},
   "source": [
    "- Looping over values"
   ]
  },
  {
   "cell_type": "code",
   "execution_count": null,
   "id": "7f48dcd7",
   "metadata": {
    "tags": [
     "clear-form"
    ]
   },
   "outputs": [],
   "source": [
    "list(my_dict.values())"
   ]
  },
  {
   "cell_type": "markdown",
   "id": "29f30437",
   "metadata": {},
   "source": [
    "- Looping over both keys and values"
   ]
  },
  {
   "cell_type": "code",
   "execution_count": null,
   "id": "12f3239f",
   "metadata": {
    "tags": [
     "clear-form"
    ]
   },
   "outputs": [],
   "source": [
    "list(my_dict.items())"
   ]
  },
  {
   "cell_type": "markdown",
   "id": "c5abc0f9",
   "metadata": {},
   "source": [
    " Copyright (c) 2022 Mira Geoscience Ltd."
   ]
  }
 ],
 "metadata": {
  "kernelspec": {
   "display_name": "Python 3 (ipykernel)",
   "language": "python",
   "name": "python3"
  }
 },
 "nbformat": 4,
 "nbformat_minor": 5
}
