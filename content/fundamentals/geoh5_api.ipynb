{
 "cells": [
  {
   "cell_type": "markdown",
   "id": "7ecd394d",
   "metadata": {},
   "source": [
    "# Programming with `geoh5` (ANALYST API)\n",
    "\n",
    "\n",
    "This section provides examples on how to interact with Geoscience ANALYST\n",
    "programmatically by using the geoh5 API [geoh5py](https://geoh5py.readthedocs.io/en/stable/).\n",
    "We are going to demonstrate how to\n",
    "\n",
    "- Create/open a geoh5 workspace\n",
    "- Access objects and data\n",
    "- Use third-party packages to create and plot data\n",
    "\n",
    "Let's get started with some imports."
   ]
  },
  {
   "cell_type": "code",
   "execution_count": 3,
   "id": "7c9d3cb4",
   "metadata": {},
   "outputs": [],
   "source": [
    "from __future__ import annotations\n",
    "\n",
    "import matplotlib.pyplot as plt\n",
    "import numpy as np\n",
    "from geoh5py.objects import Points\n",
    "from geoh5py.workspace import Workspace\n",
    "\n",
    "from training import assets_path"
   ]
  },
  {
   "cell_type": "markdown",
   "id": "455836dc",
   "metadata": {},
   "source": [
    "## Open/create a Workspace\n",
    "\n",
    "The main element controlling the hierarchy of a `geoh5` is the `Workspace`.\n",
    "It is the class responsible for accessing information on disk and to register\n",
    "and create the various entities (groups, objects, data).\n",
    "\n",
    "There are two ways to create or connect to an existing `geoh5` file through the `Workspace`."
   ]
  },
  {
   "cell_type": "markdown",
   "id": "726c20c8",
   "metadata": {},
   "source": [
    "### Option 1: Context manager\n",
    "\n",
    "The `Workspace` class can open a file as a context manager using the `with`\n",
    "statement. Just like any other [function](functions), everything after the `:`\n",
    "must be indented to be part of the scope. This is the **preferred** method to\n",
    "interact with the `geoh5` to make sure that the file gets closed at the end of\n",
    "the context, even if the code has to exit premarturely due to error."
   ]
  },
  {
   "cell_type": "code",
   "execution_count": 4,
   "id": "11f786f0",
   "metadata": {
    "tags": [
     "clear-form"
    ]
   },
   "outputs": [
    {
     "name": "stdout",
     "output_type": "stream",
     "text": [
      "<HDF5 file \"suncity.geoh5\" (mode r+)>\n"
     ]
    }
   ],
   "source": [
    "with Workspace(assets_path() / \"suncity.geoh5\") as workspace:\n",
    "    print(workspace.geoh5)"
   ]
  },
  {
   "cell_type": "markdown",
   "id": "f28eda2e",
   "metadata": {},
   "source": [
    "### Option 2: `open()` and `close()`\n",
    "\n",
    "The second option is to directly instantiate the Workspace or to call the `open()` method."
   ]
  },
  {
   "cell_type": "code",
   "execution_count": 5,
   "id": "4a021b4a",
   "metadata": {
    "tags": [
     "clear-form"
    ]
   },
   "outputs": [
    {
     "data": {
      "text/plain": [
       "<HDF5 file \"suncity.geoh5\" (mode r+)>"
      ]
     },
     "execution_count": 5,
     "metadata": {},
     "output_type": "execute_result"
    }
   ],
   "source": [
    "workspace.open()\n",
    "workspace.geoh5"
   ]
  },
  {
   "cell_type": "markdown",
   "id": "57457e4a",
   "metadata": {},
   "source": [
    "With this option, Python keeps a connection to the file until the `close()`\n",
    "method gets called. This is sometimes preferable if the computations take a\n",
    "long time or if you want to prevent other programs to access the file while your program is operating on it.\n",
    "\n",
    "We are going to leave the workspace open for now, and remember to close it at the end."
   ]
  },
  {
   "cell_type": "markdown",
   "id": "818063a9",
   "metadata": {},
   "source": [
    "## Objects and data\n",
    "\n",
    "When connecting to an existing `geoh5` file, the API will travel through the\n",
    "`Workspace` and collect minimal information about the `groups`, `objects` and\n",
    "`data` present on file. At the base of this parent/child hierarchy is the `Root` group.\n",
    "Every entity has a parent, except for the `root`. Note that no values are loaded unless directly requested."
   ]
  },
  {
   "cell_type": "code",
   "execution_count": null,
   "id": "ba689201",
   "metadata": {
    "tags": [
     "clear-form"
    ]
   },
   "outputs": [],
   "source": [
    "workspace.root.children"
   ]
  },
  {
   "cell_type": "markdown",
   "id": "e640ef02",
   "metadata": {},
   "source": [
    "The `Workspace` itself has a few utility methods to quickly access all groups, objects or data registered."
   ]
  },
  {
   "cell_type": "code",
   "execution_count": null,
   "id": "cb475a1e",
   "metadata": {
    "tags": [
     "clear-form"
    ]
   },
   "outputs": [],
   "source": [
    "workspace.groups, workspace.objects, workspace.data"
   ]
  },
  {
   "cell_type": "markdown",
   "id": "065d9b37",
   "metadata": {},
   "source": [
    "The `get_entity` method allows to retrieve entities by `name` or `uid`."
   ]
  },
  {
   "cell_type": "code",
   "execution_count": null,
   "id": "8e42a9e9",
   "metadata": {
    "tags": [
     "clear-form"
    ]
   },
   "outputs": [],
   "source": [
    "grid = workspace.get_entity(\"SunCity\")[0]"
   ]
  },
  {
   "cell_type": "markdown",
   "id": "babf0fe6",
   "metadata": {},
   "source": [
    "The `get_entity` always returns a `list`, as many entities could have the same name."
   ]
  },
  {
   "cell_type": "code",
   "execution_count": null,
   "id": "d78d212f",
   "metadata": {
    "tags": [
     "clear-form"
    ]
   },
   "outputs": [],
   "source": [
    "f\"I have recovered a {type(grid)} with uuid: {grid.uid}\""
   ]
  },
  {
   "cell_type": "markdown",
   "id": "1eaf465b",
   "metadata": {},
   "source": [
    "It is best-practice to instead use `get_entity` with a unique identifier (`uuid`)\n",
    "to guarantee access to a specific entity"
   ]
  },
  {
   "cell_type": "code",
   "execution_count": null,
   "id": "df642611",
   "metadata": {
    "tags": [
     "clear-form"
    ]
   },
   "outputs": [],
   "source": [
    "workspace.get_entity(grid.uid)[0] == grid"
   ]
  },
  {
   "cell_type": "markdown",
   "id": "d6952f2c",
   "metadata": {},
   "source": [
    "Likewise, data associated with an object can be accessed through the `children` attribute.\n",
    "To access data with values, the workspace must be re-opened if closed."
   ]
  },
  {
   "cell_type": "code",
   "execution_count": null,
   "id": "694490e4",
   "metadata": {
    "tags": [
     "clear-form"
    ]
   },
   "outputs": [],
   "source": [
    "grid.children"
   ]
  },
  {
   "cell_type": "markdown",
   "id": "2371f31a",
   "metadata": {},
   "source": [
    "or with the utility method `get_data` to access it by name"
   ]
  },
  {
   "cell_type": "code",
   "execution_count": null,
   "id": "ef4d05ae",
   "metadata": {
    "tags": [
     "clear-form"
    ]
   },
   "outputs": [],
   "source": [
    "dem = grid.get_data(\"Band 1\")[0]"
   ]
  },
  {
   "cell_type": "markdown",
   "id": "daf41e6c",
   "metadata": {},
   "source": [
    "Data values are accessed through the `values` attribute of the `data` entity.\n",
    "Let's use a third party plotting package `matplotlib` to display the information on file."
   ]
  },
  {
   "cell_type": "code",
   "execution_count": null,
   "id": "b6081761",
   "metadata": {
    "tags": [
     "clear-form"
    ]
   },
   "outputs": [],
   "source": [
    "plt.pcolormesh(\n",
    "    grid.origin[\"x\"] + grid.cell_center_u,\n",
    "    grid.origin[\"y\"] + grid.cell_center_v,\n",
    "    dem.values.reshape(grid.shape),\n",
    ")"
   ]
  },
  {
   "cell_type": "markdown",
   "id": "24004cff",
   "metadata": {},
   "source": [
    "## Creating objects\n",
    "\n",
    "The `geoh5` format supports a wide range of object types as [documented here](https://geoh5py.readthedocs.io/en/stable/content/geoh5_format/analyst/objects.html#analyst-objects). For this training, we will create a simple `Points` object using the `.create()` method.\n"
   ]
  },
  {
   "cell_type": "markdown",
   "id": "2271c350",
   "metadata": {},
   "source": [
    "For the `Points` to be fully defined, we need to at least assign vertices as an array of 3D coordinates `shape(*, 3)`.\n",
    "Let's add one point at the Sun City resort."
   ]
  },
  {
   "cell_type": "code",
   "execution_count": null,
   "id": "b77c6801",
   "metadata": {
    "tags": [
     "clear-form"
    ]
   },
   "outputs": [],
   "source": [
    "point = Points.create(workspace, vertices=np.c_[510000, 7196500, 1150], name=\"Points\")"
   ]
  },
  {
   "cell_type": "markdown",
   "id": "e6d7896e",
   "metadata": {},
   "source": [
    "For more examples on how to create other object types, visit the\n",
    "[geoh5py-Tutorial](https://mirageoscience-geoh5py.readthedocs-hosted.com/en/latest/content/user_guide/b_core_entities.html)"
   ]
  },
  {
   "cell_type": "markdown",
   "id": "b0c60fae",
   "metadata": {},
   "source": [
    "## Adding data\n",
    "\n",
    "Similarly, we can add data to the Points to show the strength and direction of\n",
    "the dipole moment. We are going to group those data so that we can display them as arrow in ANALYST."
   ]
  },
  {
   "cell_type": "code",
   "execution_count": null,
   "id": "80ba771e",
   "metadata": {
    "tags": [
     "clear-form"
    ]
   },
   "outputs": [],
   "source": [
    "params = point.add_data(\n",
    "    {\n",
    "        \"moment\": {\"values\": np.r_[1.0]},\n",
    "        \"inclination\": {\"values\": np.r_[-62.11]},\n",
    "        \"declination\": {\"values\": np.r_[-17.9]},\n",
    "    }\n",
    ")\n",
    "prop_group = point.find_or_create_property_group(\n",
    "    name=\"dipole\", property_group_type=\"Dip direction & dip\"\n",
    ")\n",
    "point.add_data_to_group(params[1:], prop_group)"
   ]
  },
  {
   "cell_type": "markdown",
   "id": "9550a0cf",
   "metadata": {},
   "source": [
    "Et voila!"
   ]
  },
  {
   "cell_type": "code",
   "execution_count": null,
   "id": "df658cac",
   "metadata": {},
   "outputs": [],
   "source": [
    "workspace.close()"
   ]
  },
  {
   "cell_type": "markdown",
   "id": "4ea9db00",
   "metadata": {},
   "source": [
    "Since we have closed workspace, you can now safely open the `suncity.geoh5` with ANALYST to see the result.\n",
    "\n",
    "![grid2d](./images/grid2d.png)"
   ]
  },
  {
   "cell_type": "markdown",
   "id": "04a7226e",
   "metadata": {},
   "source": [
    " Copyright (c) 2022 Mira Geoscience Ltd."
   ]
  }
 ],
 "metadata": {
  "jupytext": {
   "formats": "ipynb,py"
  },
  "kernelspec": {
   "display_name": "Python 3 (ipykernel)",
   "language": "python",
   "name": "python3"
  },
  "language_info": {
   "codemirror_mode": {
    "name": "ipython",
    "version": 3
   },
   "file_extension": ".py",
   "mimetype": "text/x-python",
   "name": "python",
   "nbconvert_exporter": "python",
   "pygments_lexer": "ipython3",
   "version": "3.10.14"
  }
 },
 "nbformat": 4,
 "nbformat_minor": 5
}
