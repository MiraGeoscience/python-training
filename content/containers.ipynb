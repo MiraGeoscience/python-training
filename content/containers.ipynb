{
 "cells": [
  {
   "cell_type": "markdown",
   "id": "df2e6e59",
   "metadata": {},
   "source": [
    "# Containers\n",
    "\n",
    "In the previous section, we have introduced numerics of type `int` and `float`, as well as text variable. Often we would like to group many of numerics or strings together to perform larger operations. This section introduces classes of containers to group values together."
   ]
  },
  {
   "cell_type": "markdown",
   "id": "c5b4197a",
   "metadata": {},
   "source": [
    "## List\n",
    "\n",
    "Lists are generic containers for other objects, which can be of any type. They are created with square brackets `[]`."
   ]
  },
  {
   "cell_type": "code",
   "execution_count": null,
   "id": "76c1597c",
   "metadata": {
    "tags": [
     "clear-form"
    ]
   },
   "outputs": [],
   "source": [
    "a_list = [1.0, 2, \"abc\"]"
   ]
  },
  {
   "cell_type": "markdown",
   "id": "6c3081f0",
   "metadata": {},
   "source": [
    "Here are a few important methods that can used on a `list`.\n",
    "\n",
    "- Indexing (accessing) elements of the list (count starts at 0)"
   ]
  },
  {
   "cell_type": "code",
   "execution_count": null,
   "id": "5d0aebf8",
   "metadata": {
    "tags": [
     "clear-form"
    ]
   },
   "outputs": [],
   "source": [
    "print(a_list[0])"
   ]
  },
  {
   "cell_type": "markdown",
   "id": "50a20ca8",
   "metadata": {},
   "source": [
    "- Adding (appending) to the list."
   ]
  },
  {
   "cell_type": "code",
   "execution_count": null,
   "id": "9f6f0866",
   "metadata": {
    "tags": [
     "clear-form"
    ]
   },
   "outputs": [],
   "source": [
    "a_list += [\"new\"]\n",
    "print(a_list)"
   ]
  },
  {
   "cell_type": "markdown",
   "id": "089bd5f2",
   "metadata": {},
   "source": [
    "- Removing an element from the list using the `pop` method with index"
   ]
  },
  {
   "cell_type": "code",
   "execution_count": null,
   "id": "0a73e67a",
   "metadata": {
    "tags": [
     "clear-form"
    ]
   },
   "outputs": [],
   "source": [
    "a_list.pop(0)\n",
    "print(a_list)"
   ]
  },
  {
   "cell_type": "markdown",
   "id": "a0da81c6",
   "metadata": {},
   "source": [
    "- Finding the `index` of an element within the list. The same method applies to [string](String) objects."
   ]
  },
  {
   "cell_type": "code",
   "execution_count": null,
   "id": "64343929",
   "metadata": {
    "tags": [
     "clear-form"
    ]
   },
   "outputs": [],
   "source": [
    "print(a_list.index(\"abc\"))"
   ]
  },
  {
   "cell_type": "markdown",
   "id": "b929ddf0",
   "metadata": {},
   "source": [
    "## Dictionary\n",
    "\n",
    "Dictionaries (`dict`) are also containers for objects but give an additional level of structure over lists as every\n",
    "value of the dictionary is indexed by a `key`. A dictionary is created with a list of `key: value` pairs within\n",
    "braces `{}`."
   ]
  },
  {
   "cell_type": "code",
   "execution_count": null,
   "id": "24d42461",
   "metadata": {
    "tags": [
     "clear-form"
    ]
   },
   "outputs": [],
   "source": [
    "my_dict = {\"integer\": 2}"
   ]
  },
  {
   "cell_type": "markdown",
   "id": "03fa33b2",
   "metadata": {},
   "source": [
    "Here are a few important methods that can used on a `dict`.\n",
    "\n",
    "- Accessing values using the key"
   ]
  },
  {
   "cell_type": "code",
   "execution_count": null,
   "id": "75a01629",
   "metadata": {
    "tags": [
     "clear-form"
    ]
   },
   "outputs": [],
   "source": [
    "print(my_dict[\"integer\"])"
   ]
  },
  {
   "cell_type": "markdown",
   "id": "2e5c589f",
   "metadata": {},
   "source": [
    "- Adding entries"
   ]
  },
  {
   "cell_type": "code",
   "execution_count": null,
   "id": "fa64df4f",
   "metadata": {
    "tags": [
     "clear-form"
    ]
   },
   "outputs": [],
   "source": [
    "my_dict[\"new\"] = 123\n",
    "print(my_dict)"
   ]
  },
  {
   "cell_type": "markdown",
   "id": "7cb35943",
   "metadata": {},
   "source": [
    "- Removing entries"
   ]
  },
  {
   "cell_type": "code",
   "execution_count": null,
   "id": "db711722",
   "metadata": {
    "tags": [
     "clear-form"
    ]
   },
   "outputs": [],
   "source": [
    "del my_dict[\"new\"]\n",
    "print(my_dict)"
   ]
  },
  {
   "cell_type": "markdown",
   "id": "a8e2d556",
   "metadata": {},
   "source": [
    "- Looping over keys"
   ]
  },
  {
   "cell_type": "code",
   "execution_count": null,
   "id": "b76fd556",
   "metadata": {
    "tags": [
     "clear-form"
    ]
   },
   "outputs": [],
   "source": [
    "print(list(my_dict))"
   ]
  },
  {
   "cell_type": "markdown",
   "id": "5e3ec794",
   "metadata": {},
   "source": [
    "- Looping over values"
   ]
  },
  {
   "cell_type": "code",
   "execution_count": null,
   "id": "b16a7804",
   "metadata": {
    "tags": [
     "clear-form"
    ]
   },
   "outputs": [],
   "source": [
    "print(list(my_dict.values()))"
   ]
  },
  {
   "cell_type": "markdown",
   "id": "e0220759",
   "metadata": {},
   "source": [
    "- Looping over both keys and values"
   ]
  },
  {
   "cell_type": "code",
   "execution_count": null,
   "id": "719103ef",
   "metadata": {
    "tags": [
     "clear-form"
    ]
   },
   "outputs": [],
   "source": [
    "print(list(my_dict.items()))"
   ]
  },
  {
   "cell_type": "markdown",
   "id": "958d7831",
   "metadata": {},
   "source": [
    " Copyright (c) 2022 Mira Geoscience Ltd."
   ]
  }
 ],
 "metadata": {
  "celltoolbar": "Edit Metadata",
  "kernelspec": {
   "display_name": "Python 3 (ipykernel)",
   "language": "python",
   "name": "python3"
  },
  "language_info": {
   "codemirror_mode": {
    "name": "ipython",
    "version": 3
   },
   "file_extension": ".py",
   "mimetype": "text/x-python",
   "name": "python",
   "nbconvert_exporter": "python",
   "pygments_lexer": "ipython3",
   "version": "3.9.13"
  }
 },
 "nbformat": 4,
 "nbformat_minor": 5
}
