{
 "cells": [
  {
   "cell_type": "markdown",
   "id": "86677a4d",
   "metadata": {},
   "source": [
    "# Containers\n",
    "\n",
    "In the previous section, we have introduced numerics of type `int` and `float`, as well as text variable. Often we would like to group many of numerics or strings together to perform larger operations. This section introduces classes of containers to group values together."
   ]
  },
  {
   "cell_type": "markdown",
   "id": "f599631b",
   "metadata": {},
   "source": [
    "## List\n",
    "\n",
    "Lists are generic containers for other objects, which can be of any type. They are created with square brackets `[]`."
   ]
  },
  {
   "cell_type": "code",
   "execution_count": null,
   "id": "f16b50dd",
   "metadata": {},
   "outputs": [],
   "source": [
    "a_list = [1.0, 2, \"abc\"]"
   ]
  },
  {
   "cell_type": "markdown",
   "id": "151dd972",
   "metadata": {},
   "source": [
    "Here are a few important methods that can used on a `list`.\n",
    "\n",
    "- Indexing (accessing) elements of the list (count starts at 0)\n",
    "    ```\n",
    "    a_list[0]\n",
    "    ```"
   ]
  },
  {
   "cell_type": "code",
   "execution_count": null,
   "id": "7e1ee23c",
   "metadata": {
    "tags": [
     "remove-input"
    ]
   },
   "outputs": [],
   "source": [
    "print(a_list[0])"
   ]
  },
  {
   "cell_type": "markdown",
   "id": "a596e43d",
   "metadata": {},
   "source": [
    "- Adding (appending) to the list.\n",
    "    ```\n",
    "    a_list += [\"new\"]\n",
    "    print(a_list)\n",
    "    ```"
   ]
  },
  {
   "cell_type": "code",
   "execution_count": null,
   "id": "d971b91c",
   "metadata": {
    "tags": [
     "remove-input"
    ]
   },
   "outputs": [],
   "source": [
    "a_list += [\"new\"]\n",
    "print(a_list)"
   ]
  },
  {
   "cell_type": "markdown",
   "id": "6d782f7c",
   "metadata": {},
   "source": [
    "- Removing an element from the list using the `pop` method with index\n",
    "    ```\n",
    "    a_list.pop(0)\n",
    "    print(a_list)\n",
    "    ```"
   ]
  },
  {
   "cell_type": "code",
   "execution_count": null,
   "id": "6f7b1b85",
   "metadata": {
    "tags": [
     "remove-input"
    ]
   },
   "outputs": [],
   "source": [
    "a_list.pop(0)\n",
    "print(a_list)"
   ]
  },
  {
   "cell_type": "markdown",
   "id": "f0b5dfad",
   "metadata": {},
   "source": [
    "- Finding the `index` of an element within the list. The same method applies to [string](String) objects.\n",
    "    ```\n",
    "    a_list.index(\"abc\")\n",
    "    ```"
   ]
  },
  {
   "cell_type": "code",
   "execution_count": null,
   "id": "67540265",
   "metadata": {
    "tags": [
     "remove-input"
    ]
   },
   "outputs": [],
   "source": [
    "print(a_list.index(\"abc\"))"
   ]
  },
  {
   "cell_type": "markdown",
   "id": "cd469fa8",
   "metadata": {},
   "source": [
    "## Dictionary\n",
    "\n",
    "Dictionaries (`dict`) are also containers for objects but give an additional level of structure over lists as every\n",
    "value of the dictionary is indexed by a `key`. A dictionary is created with a list of `key: value` pairs within\n",
    "braces `{}`.\n",
    "\n",
    "```\n",
    "my_dict = {\n",
    "    \"float\": 1.0,\n",
    "    \"integer\": 2,\n",
    "    \"string\": \"abc\",\n",
    "}\n",
    "```"
   ]
  },
  {
   "cell_type": "code",
   "execution_count": null,
   "id": "a5b4fa73",
   "metadata": {
    "tags": [
     "remove-input"
    ]
   },
   "outputs": [],
   "source": [
    "my_dict = {\"integer\": 2}"
   ]
  },
  {
   "cell_type": "markdown",
   "id": "1ba624cd",
   "metadata": {},
   "source": [
    "Here are a few important methods that can used on a `dict`.\n",
    "\n",
    "- Accessing values using the key\n",
    "\n",
    "    ```\n",
    "    my_dict[\"function\"]\n",
    "    ```"
   ]
  },
  {
   "cell_type": "code",
   "execution_count": null,
   "id": "7d5e860f",
   "metadata": {
    "tags": [
     "remove-input"
    ]
   },
   "outputs": [],
   "source": [
    "print(my_dict[\"integer\"])"
   ]
  },
  {
   "cell_type": "markdown",
   "id": "c698b250",
   "metadata": {},
   "source": [
    "- Adding entries\n",
    "    ```\n",
    "    my_dict[\"new\"] = 123\n",
    "    ```"
   ]
  },
  {
   "cell_type": "code",
   "execution_count": null,
   "id": "3c92687f",
   "metadata": {
    "tags": [
     "remove-input"
    ]
   },
   "outputs": [],
   "source": [
    "my_dict[\"new\"] = 123\n",
    "print(my_dict)"
   ]
  },
  {
   "cell_type": "markdown",
   "id": "ffa3c0d5",
   "metadata": {},
   "source": [
    "- Removing entries\n",
    "    ```\n",
    "    del my_dict[\"new\"]\n",
    "    ```"
   ]
  },
  {
   "cell_type": "code",
   "execution_count": null,
   "id": "ae3d2f72",
   "metadata": {
    "tags": [
     "remove-input"
    ]
   },
   "outputs": [],
   "source": [
    "del my_dict[\"new\"]\n",
    "print(my_dict)"
   ]
  },
  {
   "cell_type": "markdown",
   "id": "e667a9f4",
   "metadata": {},
   "source": [
    "- Looping over keys\n",
    "    ```\n",
    "    list(my_dict)\n",
    "    ```"
   ]
  },
  {
   "cell_type": "code",
   "execution_count": null,
   "id": "ec9cdc4d",
   "metadata": {
    "tags": [
     "remove-input"
    ]
   },
   "outputs": [],
   "source": [
    "print(list(my_dict))"
   ]
  },
  {
   "cell_type": "markdown",
   "id": "245b0d7d",
   "metadata": {},
   "source": [
    "- Looping over values\n",
    "    ```\n",
    "    list(my_dict.values()]\n",
    "    ```"
   ]
  },
  {
   "cell_type": "code",
   "execution_count": null,
   "id": "e90b67c8",
   "metadata": {
    "tags": [
     "remove-input"
    ]
   },
   "outputs": [],
   "source": [
    "print(list(my_dict.values()))"
   ]
  },
  {
   "cell_type": "markdown",
   "id": "54730289",
   "metadata": {},
   "source": [
    "- Looping over both keys and values\n",
    "    ```\n",
    "    list(my_dict.items())\n",
    "    ```"
   ]
  },
  {
   "cell_type": "code",
   "execution_count": null,
   "id": "7c6f156f",
   "metadata": {
    "tags": [
     "remove-input"
    ]
   },
   "outputs": [],
   "source": [
    "print(list(my_dict.items()))"
   ]
  },
  {
   "cell_type": "markdown",
   "id": "5276de0d",
   "metadata": {},
   "source": [
    " Copyright (c) 2022 Mira Geoscience Ltd."
   ]
  }
 ],
 "metadata": {
  "kernelspec": {
   "display_name": "Python 3 (ipykernel)",
   "language": "python",
   "name": "python3"
  }
 },
 "nbformat": 4,
 "nbformat_minor": 5
}
