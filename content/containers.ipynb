{
 "cells": [
  {
   "cell_type": "markdown",
   "id": "b9a00d16",
   "metadata": {},
   "source": [
    "# Containers\n",
    "\n",
    "In the previous section, we have introduced numerics of type `int` and `float`, as well as text variable. Often we would like to group many of numerics or strings together to perform larger operations. This section introduces classes of containers to group values together."
   ]
  },
  {
   "cell_type": "markdown",
   "id": "0734301b",
   "metadata": {},
   "source": [
    "## List\n",
    "\n",
    "Lists are generic containers for other objects, which can be of any type. They are created with square brackets `[]`."
   ]
  },
  {
   "cell_type": "code",
   "execution_count": null,
   "id": "1ee03ce9",
   "metadata": {
    "tags": [
     "clear-form"
    ]
   },
   "outputs": [],
   "source": [
    "a_list = [1.0, 2, \"abc\"]"
   ]
  },
  {
   "cell_type": "markdown",
   "id": "5bc8c228",
   "metadata": {},
   "source": [
    "Here are a few important methods that can used on a `list`.\n",
    "\n",
    "- Indexing (accessing) elements of the list (count starts at 0)"
   ]
  },
  {
   "cell_type": "code",
   "execution_count": null,
   "id": "557a22a3",
   "metadata": {
    "tags": [
     "clear-form"
    ]
   },
   "outputs": [],
   "source": [
    "a_list[0]"
   ]
  },
  {
   "cell_type": "markdown",
   "id": "6b007f83",
   "metadata": {},
   "source": [
    "- Adding (appending) to the list."
   ]
  },
  {
   "cell_type": "code",
   "execution_count": null,
   "id": "35a084e6",
   "metadata": {
    "tags": [
     "clear-form"
    ]
   },
   "outputs": [],
   "source": [
    "a_list += [\"new\"]\n",
    "a_list"
   ]
  },
  {
   "cell_type": "markdown",
   "id": "ef087ba1",
   "metadata": {},
   "source": [
    "- Removing an element from the list using the `pop` method with index"
   ]
  },
  {
   "cell_type": "code",
   "execution_count": null,
   "id": "2cf3fca8",
   "metadata": {
    "tags": [
     "clear-form"
    ]
   },
   "outputs": [],
   "source": [
    "a_list.pop(0)\n",
    "a_list"
   ]
  },
  {
   "cell_type": "markdown",
   "id": "e53c537f",
   "metadata": {},
   "source": [
    "- Finding the `index` of an element within the list. The same method applies to [string](String) objects."
   ]
  },
  {
   "cell_type": "code",
   "execution_count": null,
   "id": "6b7b08c3",
   "metadata": {
    "tags": [
     "clear-form"
    ]
   },
   "outputs": [],
   "source": [
    "a_list.index(\"abc\")"
   ]
  },
  {
   "cell_type": "markdown",
   "id": "633c8c39",
   "metadata": {},
   "source": [
    "## Dictionary\n",
    "\n",
    "Dictionaries (`dict`) are also containers for objects but give an additional level of structure over lists as every\n",
    "value of the dictionary is indexed by a `key`. A dictionary is created with a list of `key: value` pairs within\n",
    "braces `{}`."
   ]
  },
  {
   "cell_type": "code",
   "execution_count": null,
   "id": "0f3d6223",
   "metadata": {
    "tags": [
     "clear-form"
    ]
   },
   "outputs": [],
   "source": [
    "my_dict = {\"integer\": 2}"
   ]
  },
  {
   "cell_type": "markdown",
   "id": "21a8a0b7",
   "metadata": {},
   "source": [
    "Here are a few important methods that can used on a `dict`.\n",
    "\n",
    "- Accessing values using the key"
   ]
  },
  {
   "cell_type": "code",
   "execution_count": null,
   "id": "48f3c53b",
   "metadata": {
    "tags": [
     "clear-form"
    ]
   },
   "outputs": [],
   "source": [
    "my_dict[\"integer\"]"
   ]
  },
  {
   "cell_type": "markdown",
   "id": "69cbb7e4",
   "metadata": {},
   "source": [
    "- Adding entries"
   ]
  },
  {
   "cell_type": "code",
   "execution_count": null,
   "id": "3921f842",
   "metadata": {
    "tags": [
     "clear-form"
    ]
   },
   "outputs": [],
   "source": [
    "my_dict[\"new\"] = 123\n",
    "my_dict"
   ]
  },
  {
   "cell_type": "markdown",
   "id": "74a61c44",
   "metadata": {},
   "source": [
    "- Removing entries"
   ]
  },
  {
   "cell_type": "code",
   "execution_count": null,
   "id": "50409b48",
   "metadata": {
    "tags": [
     "clear-form"
    ]
   },
   "outputs": [],
   "source": [
    "del my_dict[\"new\"]\n",
    "my_dict"
   ]
  },
  {
   "cell_type": "markdown",
   "id": "b20a7e98",
   "metadata": {},
   "source": [
    "- Looping over keys"
   ]
  },
  {
   "cell_type": "code",
   "execution_count": null,
   "id": "be0d09e7",
   "metadata": {
    "tags": [
     "clear-form"
    ]
   },
   "outputs": [],
   "source": [
    "list(my_dict)"
   ]
  },
  {
   "cell_type": "markdown",
   "id": "c34c03d6",
   "metadata": {},
   "source": [
    "- Looping over values"
   ]
  },
  {
   "cell_type": "code",
   "execution_count": null,
   "id": "d767fa42",
   "metadata": {
    "tags": [
     "clear-form"
    ]
   },
   "outputs": [],
   "source": [
    "list(my_dict.values())"
   ]
  },
  {
   "cell_type": "markdown",
   "id": "1b6603a4",
   "metadata": {},
   "source": [
    "- Looping over both keys and values"
   ]
  },
  {
   "cell_type": "code",
   "execution_count": null,
   "id": "7aa00ef1",
   "metadata": {
    "tags": [
     "clear-form"
    ]
   },
   "outputs": [],
   "source": [
    "list(my_dict.items())"
   ]
  },
  {
   "cell_type": "markdown",
   "id": "3f6a2e63",
   "metadata": {},
   "source": [
    " Copyright (c) 2022 Mira Geoscience Ltd."
   ]
  }
 ],
 "metadata": {
  "kernelspec": {
   "display_name": "Python 3 (ipykernel)",
   "language": "python",
   "name": "python3"
  }
 },
 "nbformat": 4,
 "nbformat_minor": 5
}
