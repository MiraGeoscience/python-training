{
 "cells": [
  {
   "cell_type": "markdown",
   "id": "adb0e002",
   "metadata": {},
   "source": [
    "# Objects\n",
    "\n",
    "At the core, Python is an **object-oriented programming** (OOP) language that is defined by a `Class` structure.\n",
    "Each `class` holds methods and attributes specific to itself. You can think of a `Class` as a small machine that\n",
    "takes inputs, stores properties and does operations. Classes can interact with each other to form a program.\n",
    "Object-oriented programming allows for concise code that is easy to read and share with others - which explains the\n",
    "popularity of Python in the world of open-source.\n",
    "\n",
    "![oop](./images/object_oriented.png)\n",
    "\n",
    "This is somewhat in contrast to **imperative** or **procedural-based** languages, such as C and Fortran. In an\n",
    "imperative framework, variables and functions are chained to form a series of computational steps executed in\n",
    "sequence. \n",
    "\n",
    "\n",
    "![imperative](./images/imperative.png)\n",
    "\n",
    "Python can also be written in a procedural way, but internally objects are always doing the work. This will become\n",
    "obvious as we go further in this tutorial.\n",
    "\n",
    "Let's start by introducing some core Python objects."
   ]
  },
  {
   "cell_type": "markdown",
   "id": "6e0ed5a5",
   "metadata": {},
   "source": [
    "## Numerics\n",
    "\n",
    "Numerical values can be of type `float` with decimals or of type `int` (integers). Floats are mainly used for\n",
    "arithmetic while integers are commonly used to count or index arrays.\n",
    "\n",
    "```\n",
    "# Integer\n",
    "x = 1\n",
    "print(type(x))\n",
    "```"
   ]
  },
  {
   "cell_type": "code",
   "execution_count": null,
   "id": "ab0b6eb9",
   "metadata": {
    "tags": [
     "remove-input"
    ]
   },
   "outputs": [],
   "source": [
    "x = 1\n",
    "print(type(x))"
   ]
  },
  {
   "cell_type": "markdown",
   "id": "3a598b18",
   "metadata": {},
   "source": [
    "```\n",
    "# Float\n",
    "y = 1.0\n",
    "print(type(y))\n",
    "```"
   ]
  },
  {
   "cell_type": "code",
   "execution_count": null,
   "id": "c90957db",
   "metadata": {
    "tags": [
     "remove-input"
    ]
   },
   "outputs": [],
   "source": [
    "y = 1.0\n",
    "print(type(y))"
   ]
  },
  {
   "cell_type": "markdown",
   "id": "5b005186",
   "metadata": {},
   "source": [
    "Note that we have used two built-in methods: `print` and `type`.\n",
    "\n",
    "First, the `type` method gets evaluated and returns the type (`Class`) of the object given as input.\n",
    "\n",
    "Secondly, the `print` method displays the result to screen. Input values for methods are always given between\n",
    "parentheses `()`."
   ]
  },
  {
   "cell_type": "markdown",
   "id": "d0750610",
   "metadata": {},
   "source": [
    "As previously mentioned, even if `x` is simply an integer, it is technically still a Python object with methods. To\n",
    "access the list of methods available, you can simply type `.` then the `tab` key.\n",
    "\n",
    "![methods](./images/methods.png)\n",
    "\n",
    "In this case, the `imag` method of the integer would return the imaginary part of x (if it was a complex number)."
   ]
  },
  {
   "cell_type": "markdown",
   "id": "0bce6bfe",
   "metadata": {},
   "source": [
    "### Mathematical operations\n",
    "\n",
    "Here is a shortlist of standard arithmetic and logical operators that can be applied on numerical values (in order\n",
    "of priority of operation).\n",
    "\n",
    "- `**`: Power\n",
    "- `%` : Modulo\n",
    "- `*`: Multiplication\n",
    "- `\\`: Division\n",
    "- `+`: Addition\n",
    "- `-`: Subtraction\n",
    "- `==`: Logical equal\n",
    "- `>` : Logical greater than\n",
    "- `<` : Logical smaller than\n",
    "\n",
    "For example\n",
    "\n",
    "```\n",
    "2**2 * 1.5 + 1 == 7.0\n",
    "```"
   ]
  },
  {
   "cell_type": "code",
   "execution_count": null,
   "id": "f4e5a273",
   "metadata": {
    "tags": [
     "remove-input"
    ]
   },
   "outputs": [],
   "source": [
    "print(2**2 * 1.5 + 1 == 7.0)"
   ]
  },
  {
   "cell_type": "markdown",
   "id": "77f81fd4",
   "metadata": {},
   "source": [
    "You can verify the result above by doing the operations in your head. It is important to keep in mind general rules\n",
    "of return types for numerical values.\n",
    "\n",
    "- Adding or subtracting integers yields an integer\n",
    "\n",
    "    ```\n",
    "    type(x+x)\n",
    "    ```"
   ]
  },
  {
   "cell_type": "code",
   "execution_count": null,
   "id": "4c2ce779",
   "metadata": {
    "tags": [
     "remove-input"
    ]
   },
   "outputs": [],
   "source": [
    "type(x + x)"
   ]
  },
  {
   "cell_type": "markdown",
   "id": "5effeedd",
   "metadata": {},
   "source": [
    "- Multiplying or dividing integers yields a float\n",
    "    ```\n",
    "    type(x/x)\n",
    "    ```"
   ]
  },
  {
   "cell_type": "code",
   "execution_count": null,
   "id": "5926356d",
   "metadata": {
    "tags": [
     "remove-input"
    ]
   },
   "outputs": [],
   "source": [
    "type(x / x)  # Multiply|divide integers yields a float"
   ]
  },
  {
   "cell_type": "markdown",
   "id": "01132213",
   "metadata": {},
   "source": [
    "- Mix operations on integer and float always yield a float\n",
    "    ```\n",
    "    type(x+y)\n",
    "    ```"
   ]
  },
  {
   "cell_type": "code",
   "execution_count": null,
   "id": "b3c3f971",
   "metadata": {
    "tags": [
     "remove-input"
    ]
   },
   "outputs": [],
   "source": [
    "type(x + y)  # Mix of integer and float yields a float"
   ]
  },
  {
   "cell_type": "markdown",
   "id": "397d59ad",
   "metadata": {},
   "source": [
    "## String\n",
    "\n",
    "Strings are text objects that contain characters (letters, numbers or symbols) isolated by single `''` or double\n",
    "`\"\"` quotes. Both are acceptable but consistency throughout your code is preferable.\n",
    "\n",
    "Here is a shortlist of useful methods that can be used on strings.\n",
    "\n",
    "- Adding\n",
    "    ```\n",
    "    \"hello\" + \" world\"\n",
    "    ```"
   ]
  },
  {
   "cell_type": "code",
   "execution_count": null,
   "id": "539c7173",
   "metadata": {
    "tags": [
     "remove-input"
    ]
   },
   "outputs": [],
   "source": [
    "# Additions\n",
    "print(\"hello\" + \" world\")"
   ]
  },
  {
   "cell_type": "markdown",
   "id": "33c014c2",
   "metadata": {},
   "source": [
    "- Upper/lower and single word capitalization\n",
    "    ```\n",
    "    \"I\" + \" love \".upper() + \"python\".capitalize()\n",
    "    ```"
   ]
  },
  {
   "cell_type": "code",
   "execution_count": null,
   "id": "71e3d2cb",
   "metadata": {
    "tags": [
     "remove-input"
    ]
   },
   "outputs": [],
   "source": [
    "# Upper/lower and single word capitalization\n",
    "print(\"I\" + \" love \".upper() + \"python\".capitalize())"
   ]
  },
  {
   "cell_type": "markdown",
   "id": "ad281260",
   "metadata": {},
   "source": [
    "- Upper case every word\n",
    "    ```\n",
    "    \"this is important\".title()\n",
    "    ```"
   ]
  },
  {
   "cell_type": "code",
   "execution_count": null,
   "id": "d07dd252",
   "metadata": {
    "tags": [
     "remove-input"
    ]
   },
   "outputs": [],
   "source": [
    "# Title\n",
    "print(\"this is important\".title())"
   ]
  },
  {
   "cell_type": "markdown",
   "id": "1c97db7a",
   "metadata": {},
   "source": [
    "- Find sub-string within\n",
    "    ```\n",
    "    \"Long sentence with symbols #$%^&\".find(\"sym\")\n",
    "    ```"
   ]
  },
  {
   "cell_type": "code",
   "execution_count": null,
   "id": "bed7c6e9",
   "metadata": {
    "tags": [
     "remove-input"
    ]
   },
   "outputs": [],
   "source": [
    "# Find\n",
    "print(\"Long sentence with symbols #$%^&\".find(\"sym\"))"
   ]
  },
  {
   "cell_type": "markdown",
   "id": "dc52247e",
   "metadata": {},
   "source": [
    "## List\n",
    "\n",
    "Lists are generic containers for other objects, which can be of any type. They are created with square brackets `[]`."
   ]
  },
  {
   "cell_type": "code",
   "execution_count": null,
   "id": "7a3dfa7c",
   "metadata": {},
   "outputs": [],
   "source": [
    "a_list = [1.0, 2, \"abc\"]"
   ]
  },
  {
   "cell_type": "markdown",
   "id": "0308b790",
   "metadata": {},
   "source": [
    "Here are a few important methods that can used on a `list`.\n",
    "\n",
    "- Indexing (accessing) elements of the list (count starts at 0)\n",
    "    ```\n",
    "    a_list[0]\n",
    "    ```"
   ]
  },
  {
   "cell_type": "code",
   "execution_count": null,
   "id": "9be1dcf7",
   "metadata": {
    "tags": [
     "remove-input"
    ]
   },
   "outputs": [],
   "source": [
    "print(a_list[0])"
   ]
  },
  {
   "cell_type": "markdown",
   "id": "0409b915",
   "metadata": {},
   "source": [
    "- Adding (appending) to the list.\n",
    "    ```\n",
    "    a_list += [\"new\"]\n",
    "    print(a_list)\n",
    "    ```"
   ]
  },
  {
   "cell_type": "code",
   "execution_count": null,
   "id": "13498fb8",
   "metadata": {
    "tags": [
     "remove-input"
    ]
   },
   "outputs": [],
   "source": [
    "a_list += [\"new\"]\n",
    "print(a_list)"
   ]
  },
  {
   "cell_type": "markdown",
   "id": "e5493833",
   "metadata": {},
   "source": [
    "- Removing an element from the list using the `pop` method with index\n",
    "    ```\n",
    "    a_list.pop(0)\n",
    "    print(a_list)\n",
    "    ```"
   ]
  },
  {
   "cell_type": "code",
   "execution_count": null,
   "id": "12352d6c",
   "metadata": {
    "tags": [
     "remove-input"
    ]
   },
   "outputs": [],
   "source": [
    "a_list.pop(0)\n",
    "print(a_list)"
   ]
  },
  {
   "cell_type": "markdown",
   "id": "efeff98e",
   "metadata": {},
   "source": [
    "- Finding the `index` of an element within the list. The same method applies to [string](String) objects.\n",
    "    ```\n",
    "    a_list.index(\"abc\")\n",
    "    ```"
   ]
  },
  {
   "cell_type": "code",
   "execution_count": null,
   "id": "ec50613e",
   "metadata": {
    "tags": [
     "remove-input"
    ]
   },
   "outputs": [],
   "source": [
    "print(a_list.index(\"abc\"))"
   ]
  },
  {
   "cell_type": "markdown",
   "id": "7b32319f",
   "metadata": {},
   "source": [
    "## Dictionary\n",
    "\n",
    "Dictionaries (`dict`) are also containers for objects but give an additional level of structure over lists as every\n",
    "value of the dictionary is indexed by a `key`. A dictionary is created with a list of `key: value` pairs within\n",
    "braces `{}`.\n",
    "\n",
    "```\n",
    "my_dict = {\n",
    "    \"float\": 1.0,\n",
    "    \"integer\": 2,\n",
    "    \"string\": \"abc\",\n",
    "}\n",
    "```"
   ]
  },
  {
   "cell_type": "code",
   "execution_count": null,
   "id": "53c62f7b",
   "metadata": {
    "tags": [
     "remove-input"
    ]
   },
   "outputs": [],
   "source": [
    "my_dict = {\"integer\": 2}"
   ]
  },
  {
   "cell_type": "markdown",
   "id": "a0bd2ce6",
   "metadata": {},
   "source": [
    "Here are a few important methods that can used on a `dict`.\n",
    "\n",
    "- Accessing values using the key\n",
    "\n",
    "    ```\n",
    "    my_dict[\"function\"]\n",
    "    ```"
   ]
  },
  {
   "cell_type": "code",
   "execution_count": null,
   "id": "eb4c732a",
   "metadata": {
    "tags": [
     "remove-input"
    ]
   },
   "outputs": [],
   "source": [
    "print(my_dict[\"integer\"])"
   ]
  },
  {
   "cell_type": "markdown",
   "id": "727bb693",
   "metadata": {},
   "source": [
    "- Adding entries\n",
    "    ```\n",
    "    my_dict[\"new\"] = 123\n",
    "    ```"
   ]
  },
  {
   "cell_type": "code",
   "execution_count": null,
   "id": "dd2455c4",
   "metadata": {
    "tags": [
     "remove-input"
    ]
   },
   "outputs": [],
   "source": [
    "my_dict[\"new\"] = 123\n",
    "print(my_dict)"
   ]
  },
  {
   "cell_type": "markdown",
   "id": "cf185767",
   "metadata": {},
   "source": [
    "- Removing entries\n",
    "    ```\n",
    "    del my_dict[\"new\"]\n",
    "    ```"
   ]
  },
  {
   "cell_type": "code",
   "execution_count": null,
   "id": "35ef1e31",
   "metadata": {
    "tags": [
     "remove-input"
    ]
   },
   "outputs": [],
   "source": [
    "del my_dict[\"new\"]\n",
    "print(my_dict)"
   ]
  },
  {
   "cell_type": "markdown",
   "id": "a9dbc155",
   "metadata": {},
   "source": [
    "- Looping over keys\n",
    "    ```\n",
    "    list(my_dict)\n",
    "    ```"
   ]
  },
  {
   "cell_type": "code",
   "execution_count": null,
   "id": "f63cc6b1",
   "metadata": {
    "tags": [
     "remove-input"
    ]
   },
   "outputs": [],
   "source": [
    "print(list(my_dict))"
   ]
  },
  {
   "cell_type": "markdown",
   "id": "db80d971",
   "metadata": {},
   "source": [
    "- Looping over values\n",
    "    ```\n",
    "    list(my_dict.values()]\n",
    "    ```"
   ]
  },
  {
   "cell_type": "code",
   "execution_count": null,
   "id": "40f7493a",
   "metadata": {
    "tags": [
     "remove-input"
    ]
   },
   "outputs": [],
   "source": [
    "print(list(my_dict.values()))"
   ]
  },
  {
   "cell_type": "markdown",
   "id": "ac09dedd",
   "metadata": {},
   "source": [
    "- Looping over both keys and values\n",
    "    ```\n",
    "    list(my_dict.items())\n",
    "    ```"
   ]
  },
  {
   "cell_type": "code",
   "execution_count": null,
   "id": "16ef35f1",
   "metadata": {
    "tags": [
     "remove-input"
    ]
   },
   "outputs": [],
   "source": [
    "print(list(my_dict.items()))"
   ]
  },
  {
   "cell_type": "markdown",
   "id": "e1762095",
   "metadata": {},
   "source": [
    " Copyright (c) 2022 Mira Geoscience Ltd."
   ]
  }
 ],
 "metadata": {
  "kernelspec": {
   "display_name": "Python 3 (ipykernel)",
   "language": "python",
   "name": "python3"
  }
 },
 "nbformat": 4,
 "nbformat_minor": 5
}
