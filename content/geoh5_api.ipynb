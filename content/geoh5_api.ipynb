{
 "cells": [
  {
   "cell_type": "markdown",
   "id": "f803f1e3",
   "metadata": {},
   "source": [
    "# Programming with `geoh5` (ANALYST API)\n",
    "\n",
    "\n",
    "This section provides examples on how to interact with Geoscience ANALYST\n",
    "programmatically by using the geoh5 API [geoh5py](https://geoh5py.readthedocs.io/en/stable/). We are going to demonstrate how to\n",
    "\n",
    "- Create/open a geoh5 workspace\n",
    "- Access objects and data\n",
    "- Use third-party packages to create and plot data\n",
    "\n",
    "Let's get started with some imports."
   ]
  },
  {
   "cell_type": "code",
   "execution_count": 1,
   "id": "9c018ef5",
   "metadata": {
    "lines_to_next_cell": 2
   },
   "outputs": [],
   "source": [
    "import matplotlib.pyplot as plt\n",
    "import numpy as np\n",
    "from geoh5py.objects import Points\n",
    "from geoh5py.workspace import Workspace"
   ]
  },
  {
   "cell_type": "markdown",
   "id": "98dfa292",
   "metadata": {},
   "source": [
    "## Open/create a Workspace\n",
    "\n",
    "The main element controlling the hierarchy of a `geoh5` is the `Workspace`. It is the class responsible for accessing information on disk and to register and create the various entities (groups, objects, data).\n",
    "\n",
    "There are two ways to create or connect to an existing `geoh5` file through the `Workspace`."
   ]
  },
  {
   "cell_type": "markdown",
   "id": "19176286",
   "metadata": {},
   "source": [
    "### Option 1: Context manager\n",
    "\n",
    "The `Workspace` class can open a file as a context manager using the `with`\n",
    "statement. Just like any other [function](functions), everything after the `:`\n",
    "must be indented to be part of the scope. This is the **preferred** method to\n",
    "interact with the `geoh5` to make sure that the file gets closed at the end of\n",
    "the context, even if the code has to exit premarturely due to error."
   ]
  },
  {
   "cell_type": "code",
   "execution_count": 2,
   "id": "83b5444e",
   "metadata": {},
   "outputs": [
    {
     "name": "stdout",
     "output_type": "stream",
     "text": [
      "<HDF5 file \"suncity.geoh5\" (mode r+)>\n"
     ]
    }
   ],
   "source": [
    "with Workspace(\"../assets/suncity.geoh5\") as workspace:\n",
    "    print(workspace.geoh5)"
   ]
  },
  {
   "cell_type": "markdown",
   "id": "bfb400f6",
   "metadata": {},
   "source": [
    "### Option 2: `open()` and `close()`\n",
    "\n",
    "The second option is to directly instantiate the Workspace or to call the `open()` method."
   ]
  },
  {
   "cell_type": "code",
   "execution_count": 3,
   "id": "5da68bcc",
   "metadata": {},
   "outputs": [
    {
     "name": "stdout",
     "output_type": "stream",
     "text": [
      "<HDF5 file \"suncity.geoh5\" (mode r+)>\n"
     ]
    }
   ],
   "source": [
    "workspace.open()\n",
    "print(workspace.geoh5)"
   ]
  },
  {
   "cell_type": "markdown",
   "id": "8077c04f",
   "metadata": {},
   "source": [
    "With this option, Python keeps a connection to the file until the `close()`\n",
    "method gets called. This is sometimes preferable if the computations take a\n",
    "long time or if you want to prevent other programs to access the file while your program is operating on it.\n",
    "\n",
    "We are going to leave the workspace open for now, and remember to close it at the end."
   ]
  },
  {
   "cell_type": "markdown",
   "id": "e7cf2bf3",
   "metadata": {},
   "source": [
    "## Objects and data\n",
    "\n",
    "When connecting to an existing `geoh5` file, the API will travel through the\n",
    "`Workspace` and collect minimal information about the `groups`, `objects` and\n",
    "`data` present on file. At the base of this parent/child hierarchy is the `Root` group.\n",
    "Every entity has a parent, except for the `root`. Note that no values are loaded unless directly requested."
   ]
  },
  {
   "cell_type": "code",
   "execution_count": 4,
   "id": "d7e58319",
   "metadata": {},
   "outputs": [
    {
     "name": "stdout",
     "output_type": "stream",
     "text": [
      "[<geoh5py.objects.grid2d.Grid2D object at 0x0000015562ED6EB0>, <geoh5py.objects.surface.Surface object at 0x0000015562F2A100>]\n"
     ]
    }
   ],
   "source": [
    "print(workspace.root.children)"
   ]
  },
  {
   "cell_type": "markdown",
   "id": "878a51e3",
   "metadata": {},
   "source": [
    "The `Workspace` itself has a few utility methods to quickly access all groups, objects or data registered."
   ]
  },
  {
   "cell_type": "code",
   "execution_count": 5,
   "id": "40396f62",
   "metadata": {},
   "outputs": [
    {
     "data": {
      "text/plain": [
       "([<geoh5py.groups.root_group.RootGroup at 0x1556081d0d0>],\n",
       " [<geoh5py.objects.grid2d.Grid2D at 0x15562ed6eb0>,\n",
       "  <geoh5py.objects.surface.Surface at 0x15562f2a100>],\n",
       " [<geoh5py.data.float_data.FloatData at 0x15562f2a160>,\n",
       "  <geoh5py.data.text_data.TextData at 0x15562f2a2e0>,\n",
       "  <geoh5py.data.float_data.FloatData at 0x15562f2a430>,\n",
       "  <geoh5py.data.text_data.TextData at 0x15562f2a370>])"
      ]
     },
     "execution_count": 5,
     "metadata": {},
     "output_type": "execute_result"
    }
   ],
   "source": [
    "workspace.groups, workspace.objects, workspace.data"
   ]
  },
  {
   "cell_type": "markdown",
   "id": "3218e4f9",
   "metadata": {},
   "source": [
    "The `get_entity` method allows to retrieve entities by `name` or `uid`."
   ]
  },
  {
   "cell_type": "code",
   "execution_count": 6,
   "id": "a8bd3273",
   "metadata": {},
   "outputs": [],
   "source": [
    "grid = workspace.get_entity(\"SunCity\")[0]"
   ]
  },
  {
   "cell_type": "markdown",
   "id": "18321459",
   "metadata": {},
   "source": [
    "The `get_entity` always returns a `list`, as many entities could have the same name."
   ]
  },
  {
   "cell_type": "code",
   "execution_count": 7,
   "id": "94e8f88e",
   "metadata": {},
   "outputs": [
    {
     "name": "stdout",
     "output_type": "stream",
     "text": [
      "I have recovered a <class 'geoh5py.objects.grid2d.Grid2D'> with uuid: 80055798-658f-4dae-9023-56e8f85fc8af\n"
     ]
    }
   ],
   "source": [
    "print(f\"I have recovered a {type(grid)} with uuid: {grid.uid}\")"
   ]
  },
  {
   "cell_type": "markdown",
   "id": "62ea240e",
   "metadata": {},
   "source": [
    "It is best-practice to instead use `get_entity` with a unique identifier (`uuid`)\n",
    "to guarantee access to a specific entity"
   ]
  },
  {
   "cell_type": "code",
   "execution_count": 8,
   "id": "7f189d6d",
   "metadata": {},
   "outputs": [
    {
     "data": {
      "text/plain": [
       "True"
      ]
     },
     "execution_count": 8,
     "metadata": {},
     "output_type": "execute_result"
    }
   ],
   "source": [
    "workspace.get_entity(grid.uid)[0] == grid"
   ]
  },
  {
   "cell_type": "markdown",
   "id": "2349676a",
   "metadata": {},
   "source": [
    "Likewise, data associated with an object can be accessed through the `children` attribute.\n",
    "To access data with values, the workspace must be re-opened if closed."
   ]
  },
  {
   "cell_type": "code",
   "execution_count": 9,
   "id": "5bf64b10",
   "metadata": {},
   "outputs": [
    {
     "data": {
      "text/plain": [
       "[<geoh5py.data.float_data.FloatData at 0x15562f2a160>,\n",
       " <geoh5py.data.text_data.TextData at 0x15562f2a2e0>]"
      ]
     },
     "execution_count": 9,
     "metadata": {},
     "output_type": "execute_result"
    }
   ],
   "source": [
    "grid.children"
   ]
  },
  {
   "cell_type": "markdown",
   "id": "763406b2",
   "metadata": {},
   "source": [
    "or with the utility method `get_data` to access it by name"
   ]
  },
  {
   "cell_type": "code",
   "execution_count": 10,
   "id": "856438d3",
   "metadata": {},
   "outputs": [],
   "source": [
    "dem = grid.get_data(\"Band 1\")[0]"
   ]
  },
  {
   "cell_type": "markdown",
   "id": "8eab0c15",
   "metadata": {},
   "source": [
    "Data values are accessed through the `values` attribute of the `data` entity.\n",
    "Let's use a third party plotting package `matplotlib` to display the information on file."
   ]
  },
  {
   "cell_type": "code",
   "execution_count": 11,
   "id": "4e875adf",
   "metadata": {},
   "outputs": [
    {
     "data": {
      "text/plain": [
       "<matplotlib.collections.QuadMesh at 0x15562fa64f0>"
      ]
     },
     "execution_count": 11,
     "metadata": {},
     "output_type": "execute_result"
    },
    {
     "data": {
      "image/png": "[encoded data removed]",
      "text/plain": [
       "<Figure size 432x288 with 1 Axes>"
      ]
     },
     "metadata": {
      "needs_background": "light"
     },
     "output_type": "display_data"
    }
   ],
   "source": [
    "plt.pcolormesh(\n",
    "    grid.origin[\"x\"] + grid.cell_center_u,\n",
    "    grid.origin[\"y\"] + grid.cell_center_v,\n",
    "    dem.values.reshape(grid.shape),\n",
    ")"
   ]
  },
  {
   "cell_type": "markdown",
   "id": "5834fdae",
   "metadata": {},
   "source": [
    "## Creating objects\n",
    "\n",
    "The `geoh5` format supports a wide range of object types as [documented here](https://geoh5py.readthedocs.io/en/stable/content/geoh5_format/analyst/objects.html#analyst-objects). For this training, we will create a simple `Points` object using the `.create()` method.\n"
   ]
  },
  {
   "cell_type": "markdown",
   "id": "3e0f1c6b",
   "metadata": {},
   "source": [
    "For the `Points` to be fully defined, we need to at least assign vertices as an array of 3D coordinates `shape(*, 3)`.\n",
    "Let's add one point at the Sun City resort."
   ]
  },
  {
   "cell_type": "code",
   "execution_count": 12,
   "id": "6925493c",
   "metadata": {},
   "outputs": [],
   "source": [
    "point = Points.create(workspace, vertices=np.c_[510000, 7196500, 1150])\n",
    "workspace.close()"
   ]
  },
  {
   "cell_type": "markdown",
   "id": "831dfa0b",
   "metadata": {},
   "source": [
    "Since we have closed workspace, you can now safely open the `suncity.geoh5` with ANALYST to see the result.\n",
    "\n",
    "![grid2d](./images/grid2d.png)"
   ]
  },
  {
   "cell_type": "markdown",
   "id": "57449063",
   "metadata": {},
   "source": [
    "## Generating Data\n",
    "\n",
    "Now that we have an object created, we can add data to it. We will borrow\n",
    "some functions from the `numpy` package to compute values on the cells of our 2D grid."
   ]
  },
  {
   "cell_type": "markdown",
   "id": "10fe76ef",
   "metadata": {
    "lines_to_next_cell": 2
   },
   "source": [
    "### Example 1: Magnetic dipole field\n",
    "\n",
    "Let's start with a simple problem of computing the magnetic field due to a\n",
    "dipole. This can later become a useful tool to interpret magnetic maps.\n",
    "\n",
    "From first year physics, the magnetic field of a single dipole is:\n",
    "\n",
    "$$\\mathbf{B} = \\frac{\\mu_0}{4 \\pi}  \\frac{3 (\\mathbf{m} \\cdot \\mathbf{r})  \\mathbf{\\hat r} - \\mathbf{m}}{r^3}$$\n",
    "\n",
    "where $\\mu_0$ is a constant ($4 \\pi 1e-9$), $\\mathbf{m}$ is the magnetic dipole and $\\mathbf{r}$ is the\n",
    "vector separating the dipole and the observations (our grid cells).\n",
    "\n",
    "We can first create a small function that computes the magnetic field for a single dipole."
   ]
  },
  {
   "cell_type": "code",
   "execution_count": 13,
   "id": "dcb8f985",
   "metadata": {},
   "outputs": [],
   "source": [
    "def b_field(locations, moment, azimuth, dip, grid):\n",
    "    \"\"\"\n",
    "    Compute the magnetic field components of a dipole on a Grid2D cells.\n",
    "    \"\"\"\n",
    "    theta = np.deg2rad((450 - azimuth) % 360)\n",
    "    phi = np.deg2rad(90 - dip)\n",
    "\n",
    "    m = (\n",
    "        moment\n",
    "        * np.c_[np.sin(phi) * np.cos(theta), np.sin(phi) * np.sin(theta), np.cos(phi)]\n",
    "    )\n",
    "\n",
    "    delta = locations - grid.centroids\n",
    "    radius = np.sum(delta**2.0, axis=1) ** 0.5\n",
    "    fields = (np.dot(m, delta.T).T * delta) / radius[:, None] ** 4.0 - np.repeat(\n",
    "        m, grid.n_cells\n",
    "    ).reshape((-1, 3), order=\"F\") / radius[:, None] ** 3.0\n",
    "\n",
    "    return fields"
   ]
  },
  {
   "cell_type": "markdown",
   "id": "a8bf0381",
   "metadata": {},
   "source": [
    "We can now use our function to compute the fields on the existing grid."
   ]
  },
  {
   "cell_type": "code",
   "execution_count": 14,
   "id": "6be052c4",
   "metadata": {},
   "outputs": [],
   "source": [
    "moment, azimuth, dip = 1.0, 90, 0\n",
    "b = b_field(point.vertices, moment, azimuth, dip, grid)"
   ]
  },
  {
   "cell_type": "markdown",
   "id": "6041bb8f",
   "metadata": {},
   "source": [
    "We then add the total electric field to our Grid2D."
   ]
  },
  {
   "cell_type": "code",
   "execution_count": 15,
   "id": "bcd07806",
   "metadata": {},
   "outputs": [],
   "source": [
    "with workspace.open():\n",
    "    grid.add_data(\n",
    "        {\n",
    "            \"b_x\": {\"values\": b[:, 0]},\n",
    "            \"b_y\": {\"values\": b[:, 1]},\n",
    "            \"b_z\": {\"values\": b[:, 2]},\n",
    "        }\n",
    "    )"
   ]
  },
  {
   "cell_type": "markdown",
   "id": "11277443",
   "metadata": {},
   "source": [
    "Similarly, we can add data to the Points to show the strength and direction of the dipole moment. We are going to group those data entities so that we can display them as arrow in ANALYST."
   ]
  },
  {
   "cell_type": "code",
   "execution_count": 16,
   "id": "c919723e",
   "metadata": {},
   "outputs": [],
   "source": [
    "with workspace.open():\n",
    "    params = point.add_data(\n",
    "            {\n",
    "                \"moment\": {\"values\": np.r_[moment]},\n",
    "                \"azimuth\": {\"values\": np.r_[azimuth]},\n",
    "                \"dip\": {\"values\": np.r_[dip]},\n",
    "            }\n",
    "        )\n",
    "    prop_group = point.find_or_create_property_group(name=\"dipole\", property_group_type=\"Dip direction & dip\")\n",
    "    point.add_data_to_group(params[1:], prop_group)"
   ]
  },
  {
   "cell_type": "markdown",
   "id": "7d4a0517",
   "metadata": {},
   "source": [
    "Et voila!"
   ]
  },
  {
   "cell_type": "markdown",
   "id": "c41ca356",
   "metadata": {},
   "source": [
    "![bfield](./images/b_field.png)"
   ]
  },
  {
   "cell_type": "markdown",
   "id": "1fedeb59",
   "metadata": {},
   "source": [
    "For more examples on how to create other object types, visit the [geoh5py-Tutorial](https://geoh5py.readthedocs.io/en/stable/content/user_guide/core_entities.html#Entities)"
   ]
  },
  {
   "cell_type": "markdown",
   "id": "0810f867",
   "metadata": {},
   "source": [
    " Copyright (c) 2022 Mira Geoscience Ltd."
   ]
  }
 ],
 "metadata": {
  "jupytext": {
   "formats": "ipynb,py"
  },
  "kernelspec": {
   "display_name": "Python 3 (ipykernel)",
   "language": "python",
   "name": "python3"
  },
  "language_info": {
   "codemirror_mode": {
    "name": "ipython",
    "version": 3
   },
   "file_extension": ".py",
   "mimetype": "text/x-python",
   "name": "python",
   "nbconvert_exporter": "python",
   "pygments_lexer": "ipython3",
   "version": "3.9.12"
  }
 },
 "nbformat": 4,
 "nbformat_minor": 5
}
