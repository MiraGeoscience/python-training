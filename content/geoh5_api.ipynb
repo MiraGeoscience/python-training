{
 "cells": [
  {
   "cell_type": "markdown",
   "id": "5798ac5c",
   "metadata": {},
   "source": [
    "# Programming with `geoh5` (ANALYST API)\n",
    "\n",
    "\n",
    "This section provides examples on how to interact with Geoscience ANALYST\n",
    "programmatically by using the geoh5 API [geoh5py](https://geoh5py.readthedocs.io/en/stable/)"
   ]
  },
  {
   "cell_type": "markdown",
   "id": "272389ab",
   "metadata": {},
   "source": [
    "## Open/create a Workspace\n",
    "\n",
    "The main element controlling the hierarchy of a `geoh5` is the `Workspace` class.\n",
    "\n",
    "First we need to import the API package to our active Python session."
   ]
  },
  {
   "cell_type": "code",
   "execution_count": null,
   "id": "b4dce7eb",
   "metadata": {},
   "outputs": [],
   "source": [
    "from geoh5py.workspace import Workspace"
   ]
  },
  {
   "cell_type": "markdown",
   "id": "d519a97b",
   "metadata": {},
   "source": [
    "There are two ways to create or connect to an existing `geoh5` file.\n",
    "\n",
    "### Option 1: Context manager\n",
    "\n",
    "The `Workspace` class can open a file as a context manager using the `with`\n",
    "statement. Just like any other [function](functions), everything after the `:`\n",
    "must be indented to be part of the scope. This is the **preferred** method to\n",
    "interact with the `geoh5` to make sure that the file gets closed at the end of\n",
    "the program, even if the program fails due to some error along the way."
   ]
  },
  {
   "cell_type": "code",
   "execution_count": null,
   "id": "24c2a4a3",
   "metadata": {},
   "outputs": [],
   "source": [
    "with Workspace(\"../assets/suncity.geoh5\") as workspace:\n",
    "    print(workspace)"
   ]
  },
  {
   "cell_type": "markdown",
   "id": "39e0e42e",
   "metadata": {},
   "source": [
    "### Option 2: `open()` and `close()`\n",
    "\n",
    "The second option is to directly call the `open()` method of the Workspace class."
   ]
  },
  {
   "cell_type": "code",
   "execution_count": null,
   "id": "2ec2641a",
   "metadata": {},
   "outputs": [],
   "source": [
    "workspace = Workspace(\"../assets/suncity.geoh5\").open()"
   ]
  },
  {
   "cell_type": "markdown",
   "id": "62655368",
   "metadata": {},
   "source": [
    "With this option, Python keeps a connection to the file until the `close()`\n",
    "method gets called. This is sometimes preferable if the computations take a\n",
    "long time or if you want to prevent other programs to access the file while your program is operating on it."
   ]
  },
  {
   "cell_type": "code",
   "execution_count": null,
   "id": "33d7f207",
   "metadata": {},
   "outputs": [],
   "source": [
    "workspace.close()"
   ]
  },
  {
   "cell_type": "markdown",
   "id": "a640049b",
   "metadata": {},
   "source": [
    "## Objects and data\n",
    "\n",
    "When connecting to an exhisting `geoh5` file, the API will travel through the `Workspace` and collect minimal information about the `groups`, `objects` and `data` present on file - no values are loaded unless requested. \n",
    "\n",
    "The base of this parent/child hierarchy is the `Root` group. Every entity has a parent, except for the `root`."
   ]
  },
  {
   "cell_type": "code",
   "execution_count": null,
   "id": "7fac1801",
   "metadata": {},
   "outputs": [],
   "source": [
    "print(workspace.root.children)"
   ]
  },
  {
   "cell_type": "markdown",
   "id": "9cdd5258",
   "metadata": {},
   "source": [
    "The `workspace` itself has a few utility methods to quickly access all groups, objects or data registered. "
   ]
  },
  {
   "cell_type": "code",
   "execution_count": null,
   "id": "ab32015e",
   "metadata": {},
   "outputs": [],
   "source": [
    "workspace.objects"
   ]
  },
  {
   "cell_type": "markdown",
   "id": "d0d26f05",
   "metadata": {},
   "source": [
    "The `get_entity` method allows to retrieve all entities by `name` or `uid`."
   ]
  },
  {
   "cell_type": "code",
   "execution_count": null,
   "id": "99944032",
   "metadata": {},
   "outputs": [],
   "source": [
    "grid = workspace.get_entity(\"SunCity\")[0]"
   ]
  },
  {
   "cell_type": "markdown",
   "id": "106562be",
   "metadata": {},
   "source": [
    "The `get_entity` always returns a `list` as many entities could have the same name."
   ]
  },
  {
   "cell_type": "code",
   "execution_count": null,
   "id": "f80fc413",
   "metadata": {},
   "outputs": [],
   "source": [
    "print(f\"I have recovered a {type(grid)} with uuid: {grid.uid}\")"
   ]
  },
  {
   "cell_type": "markdown",
   "id": "fca31c9b",
   "metadata": {},
   "source": [
    "It is best-practice to instead use `get_entity` with a unique identifier (`uuid`) to garantee access to a specific entity"
   ]
  },
  {
   "cell_type": "code",
   "execution_count": null,
   "id": "51eba233",
   "metadata": {},
   "outputs": [],
   "source": [
    "workspace.get_entity(grid.uid)[0] == grid"
   ]
  },
  {
   "cell_type": "markdown",
   "id": "1f4f6dee",
   "metadata": {},
   "source": [
    "Likewise, data associated with an object can be accessed through the `children` attribute. To access data with values, the workspace must be re-opened if closed."
   ]
  },
  {
   "cell_type": "code",
   "execution_count": null,
   "id": "e550dec6",
   "metadata": {},
   "outputs": [],
   "source": [
    "workspace.open()\n",
    "grid.children"
   ]
  },
  {
   "cell_type": "markdown",
   "id": "5c09b284",
   "metadata": {},
   "source": [
    "or with the utility method `get_data` to access it by name"
   ]
  },
  {
   "cell_type": "code",
   "execution_count": null,
   "id": "e97e1347",
   "metadata": {},
   "outputs": [],
   "source": [
    "dem = grid.get_data(\"Band 1\")[0]"
   ]
  },
  {
   "cell_type": "markdown",
   "id": "fc25a2b8",
   "metadata": {},
   "source": [
    "Data values are accessed through the `values` attribute of the `data` entity. Let's use a third party plotting package `matplotlib` to display the information on file."
   ]
  },
  {
   "cell_type": "code",
   "execution_count": null,
   "id": "31f65694",
   "metadata": {},
   "outputs": [],
   "source": [
    "import matplotlib.pyplot as plt\n",
    "plt.pcolormesh(\n",
    "    grid.origin[\"x\"] + grid.cell_center_u, \n",
    "    grid.origin[\"y\"] + grid.cell_center_v, \n",
    "    dem.values.reshape(grid.shape)\n",
    ")"
   ]
  },
  {
   "cell_type": "markdown",
   "id": "85e4108c",
   "metadata": {},
   "source": [
    "## Creating objects\n",
    "\n",
    "The `geoh5` format supports a wide range of object types as [documented here](https://geoh5py.readthedocs.io/en/stable/content/geoh5_format/analyst/objects.html#analyst-objects). For this training, we will create a simple `Points` object using the `.create()` method.\n"
   ]
  },
  {
   "cell_type": "code",
   "execution_count": null,
   "id": "76d80796",
   "metadata": {},
   "outputs": [],
   "source": [
    "from geoh5py.objects import Points\n",
    "import numpy as np"
   ]
  },
  {
   "cell_type": "markdown",
   "id": "1580ffe4",
   "metadata": {},
   "source": [
    "For the `Points` to be fully defined, we need to at least assign vertices as an array of 3D coordinates `shape(*, 3)`. \n",
    "Let's add one point at the Sun City resort."
   ]
  },
  {
   "cell_type": "code",
   "execution_count": null,
   "id": "21005568",
   "metadata": {},
   "outputs": [],
   "source": [
    "with workspace.open(mode=\"r+\"):\n",
    "    point = Points.create(\n",
    "        workspace,\n",
    "        vertices=np.c_[510000, 7196500, 1150]\n",
    "        \n",
    "    )"
   ]
  },
  {
   "cell_type": "markdown",
   "id": "50186532",
   "metadata": {},
   "source": [
    "Since we have created the `Points` within a context, you can now safely open the `suncity.geoh5` with ANALYST to see the result.\n",
    "\n",
    "![grid2d](./images/grid2d.png)"
   ]
  },
  {
   "cell_type": "markdown",
   "id": "91cd19f9",
   "metadata": {},
   "source": [
    "## Generating Data\n",
    "\n",
    "Now that we have an object created, we can add data to it. We will borrow some functions from the `numpy` package to compute values on the cells of our 2D grid."
   ]
  },
  {
   "cell_type": "code",
   "execution_count": null,
   "id": "8dc3a506",
   "metadata": {},
   "outputs": [],
   "source": [
    "import numpy as np\n",
    "from geoh5py.objects import Points"
   ]
  },
  {
   "cell_type": "markdown",
   "id": "95d69b73",
   "metadata": {
    "lines_to_next_cell": 2
   },
   "source": [
    "### Example 1: Magnetic dipole field\n",
    "\n",
    "Let's start with a simple problem of computing the magnetic field due to a\n",
    "dipole. This can later become a useful tool to interpret magnetic maps. \n",
    "\n",
    "From first year physics, the magnetic field of a single dipole is:\n",
    "\n",
    "$$\\mathbf{B} = \\frac{\\mu_0}{4 \\pi}  \\frac{3 (\\mathbf{m} \\cdot \\mathbf{r})  \\mathbf{\\hat r} - \\mathbf{m}}{r^3}$$\n",
    "\n",
    "where $\\mu_0$ is a constant ($4 \\pi 1e-9$), $\\mathbf{m}$ is the magnetic dipole and $\\mathbf{r}$ is the\n",
    "vector seperating the dipole and the observations (our grid cells).\n",
    "\n",
    "We can first create a small function that computes the magnetic field for a single dipole."
   ]
  },
  {
   "cell_type": "code",
   "execution_count": null,
   "id": "f50ba422",
   "metadata": {},
   "outputs": [],
   "source": [
    "def b_field(locations, moment, azimuth, dip, grid):\n",
    "    \"\"\"\n",
    "    Compute the magnetic field components of a dipole on a Grid2D cells.\n",
    "    \"\"\"\n",
    "    theta = np.deg2rad(azimuth % 450)\n",
    "    phi = np.deg2rad(dip)\n",
    "    \n",
    "    m = moment * np.c_[\n",
    "        np.sin(phi) * np.cos(theta),\n",
    "        np.sin(phi) * np.sin(theta),\n",
    "        np.cos(phi)\n",
    "    ]\n",
    "\n",
    "    delta = locations - grid.centroids\n",
    "    radius = np.sum(delta**2.0, axis=1) ** 0.5\n",
    "    B = (\n",
    "        (np.dot(m, delta.T).T * delta) / radius[:, None]**4. - \n",
    "        np.repeat(m, grid.n_cells).reshape((-1, 3), order=\"F\") / radius[:, None] **3.\n",
    "    ) \n",
    "\n",
    "    return B"
   ]
  },
  {
   "cell_type": "markdown",
   "id": "143d7ed2",
   "metadata": {},
   "source": [
    "We can now use our function to compute the fields on the existing grid."
   ]
  },
  {
   "cell_type": "code",
   "execution_count": null,
   "id": "af2a8480",
   "metadata": {},
   "outputs": [],
   "source": [
    "moment, azimuth, dip = 1., 45, 45\n",
    "b = b_field(point.vertices, moment, azimuth, dip, grid)"
   ]
  },
  {
   "cell_type": "markdown",
   "id": "a2d5911d",
   "metadata": {},
   "source": [
    "We then add the total electric field to our Grid2D, as well as creating some Points to show where the charges were."
   ]
  },
  {
   "cell_type": "code",
   "execution_count": null,
   "id": "b2f48214",
   "metadata": {},
   "outputs": [],
   "source": [
    "with workspace.open():\n",
    "    grid.add_data({\n",
    "        \"b_x\": {\"values\": b[:, 0]},\n",
    "        \"b_y\": {\"values\": b[:, 1]},\n",
    "        \"b_z\": {\"values\": b[:, 2]}\n",
    "    })\n",
    "\n",
    "    point.add_data({\n",
    "        \"moment\": {\"values\": np.r_[moment]},\n",
    "        \"azimuth\": {\"values\": np.r_[azimuth]},\n",
    "        \"dip\": {\"values\": np.r_[dip]},\n",
    "    })"
   ]
  },
  {
   "cell_type": "markdown",
   "id": "f15df05a",
   "metadata": {},
   "source": [
    "Et voila!\n",
    "\n",
    "![bfield](./images/b_field.png)"
   ]
  },
  {
   "cell_type": "markdown",
   "id": "ca3d2405",
   "metadata": {},
   "source": [
    "For more examples on how to create other object types, visit the [geoh5py-Tutorial](https://geoh5py.readthedocs.io/en/stable/content/user_guide/core_entities.html#Entities)"
   ]
  },
  {
   "cell_type": "markdown",
   "id": "55cb037d",
   "metadata": {},
   "source": [
    " Copyright (c) 2022 Mira Geoscience Ltd."
   ]
  }
 ],
 "metadata": {
  "jupytext": {
   "formats": "ipynb,py"
  },
  "kernelspec": {
   "display_name": "Python 3 (ipykernel)",
   "language": "python",
   "name": "python3"
  }
 },
 "nbformat": 4,
 "nbformat_minor": 5
}
