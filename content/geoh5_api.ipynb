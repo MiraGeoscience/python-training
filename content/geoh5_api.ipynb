{
 "cells": [
  {
   "cell_type": "markdown",
   "id": "b157ad8b",
   "metadata": {},
   "source": [
    "# Programming with `geoh5` (ANALYST API)\n",
    "\n",
    "\n",
    "This section provides examples on how to interact with Geoscience ANALYST\n",
    "programmatically by using the geoh5 API [geoh5py](https://geoh5py.readthedocs.io/en/stable/)"
   ]
  },
  {
   "cell_type": "markdown",
   "id": "3459797e",
   "metadata": {},
   "source": [
    "## Open/create a Workspace\n",
    "\n",
    "The main element controlling the hierarchy of a `geoh5` is the `Workspace` class.\n",
    "\n",
    "First we need to import the API package to our active Python session."
   ]
  },
  {
   "cell_type": "code",
   "execution_count": null,
   "id": "0b99fb0c",
   "metadata": {},
   "outputs": [],
   "source": [
    "from geoh5py.workspace import Workspace"
   ]
  },
  {
   "cell_type": "markdown",
   "id": "8eaa2ff5",
   "metadata": {},
   "source": [
    "There are two ways to create or connect to an existing `geoh5` file.\n",
    "\n",
    "### Option 1: Context manager\n",
    "\n",
    "The `Workspace` class can open a file as a context manager using the `with`\n",
    "statement. Just like any other [function](functions), everything after the `:`\n",
    "must be indented to be part of the scope. This is the **preferred** method to\n",
    "interact with the `geoh5` to make sure that the file gets closed at the end of\n",
    "the program, even if the program fails due to some error along the way."
   ]
  },
  {
   "cell_type": "code",
   "execution_count": null,
   "id": "5f0e7fce",
   "metadata": {},
   "outputs": [],
   "source": [
    "with Workspace(\"my_file.geoh5\") as workspace:\n",
    "    print(workspace)"
   ]
  },
  {
   "cell_type": "markdown",
   "id": "d8f6ad3c",
   "metadata": {},
   "source": [
    "### Option 2: `open()` and `close()`\n",
    "\n",
    "The second option is to directly call the `open()` method of the Workspace class.\n",
    "\n",
    "```\n",
    "workspace = Workspace(\"my_file.geoh5\")\n",
    "```"
   ]
  },
  {
   "cell_type": "code",
   "execution_count": null,
   "id": "0a60b503",
   "metadata": {},
   "outputs": [],
   "source": [
    "workspace = Workspace(\"my_file.geoh5\").open()"
   ]
  },
  {
   "cell_type": "markdown",
   "id": "7e6faccd",
   "metadata": {},
   "source": [
    "With this option, Python keeps a connection to the file until the `close()`\n",
    "method gets called. This is sometimes preferable if the computations take a\n",
    "long time or if you want to prevent other programs to access the file while your program is operating on it."
   ]
  },
  {
   "cell_type": "code",
   "execution_count": null,
   "id": "699e4492",
   "metadata": {},
   "outputs": [],
   "source": [
    "workspace.close()"
   ]
  },
  {
   "cell_type": "markdown",
   "id": "a1236db7",
   "metadata": {},
   "source": [
    "## Creating objects\n",
    "\n",
    "The `geoh5` format supports a wide range of object types as [documented here](https://geoh5py.readthedocs.io/en/stable/content/geoh5_format/analyst/objects.html#analyst-objects). For this training, we will create a simple Grid2D object using the `.create()` method."
   ]
  },
  {
   "cell_type": "code",
   "execution_count": null,
   "id": "14d37308",
   "metadata": {},
   "outputs": [],
   "source": [
    "from geoh5py.objects import Grid2D"
   ]
  },
  {
   "cell_type": "markdown",
   "id": "f82d37be",
   "metadata": {},
   "source": [
    "For the grid to be fully defined, we need to assign some properties about its geometry."
   ]
  },
  {
   "cell_type": "code",
   "execution_count": null,
   "id": "803912f1",
   "metadata": {},
   "outputs": [],
   "source": [
    "with Workspace(\"my_file.geoh5\") as workspace:\n",
    "    grid = Grid2D.create(\n",
    "        workspace,\n",
    "        origin=[-32, -64, 0],  # South-west corner coordinates\n",
    "        u_cell_size=1.0,  # Cell size along u-axis\n",
    "        v_cell_size=1.0,  # Cell size along v-axis\n",
    "        u_count=64,  # How many cells along u-axis\n",
    "        v_count=128,  # How many cells along v-axis\n",
    "    )"
   ]
  },
  {
   "cell_type": "markdown",
   "id": "500054b5",
   "metadata": {},
   "source": [
    "Since we have created the grid within a context, you can now safely open the `my_file.geoh5` with ANALYST to see the grid that was created.\n",
    "\n",
    "![grid2d](./images/grid2d.png)"
   ]
  },
  {
   "cell_type": "markdown",
   "id": "722865bf",
   "metadata": {},
   "source": [
    "## Generating Data\n",
    "\n",
    "Now that we have an object created, we can add data to it. We will borrow some functions from the `numpy` package to compute values on the cells of our 2D grid."
   ]
  },
  {
   "cell_type": "code",
   "execution_count": null,
   "id": "5ddb123d",
   "metadata": {},
   "outputs": [],
   "source": [
    "import numpy as np\n",
    "from geoh5py.objects import Points"
   ]
  },
  {
   "cell_type": "markdown",
   "id": "3eee705c",
   "metadata": {
    "lines_to_next_cell": 2
   },
   "source": [
    "### Example 1: Electric field of a point charges\n",
    "\n",
    "Let's start with a simple problem of computing the electric field due to a\n",
    "collection of charges. From first year physics, the field of a single charge is:\n",
    "\n",
    "$$\\frac{k Q}{r^2}$$\n",
    "\n",
    "where $k$ and $Q$ are some constants (don't worry about it) and $r$ is the\n",
    "distance between the charge and the observation point (our grid cells).\n",
    "We can first create a small function that computes the electric field for a single charge.\n",
    "\n",
    "```\n",
    "def e_field(charge, location, grid):\n",
    "\n",
    "    radius = np.sum((locations - grid.centroids)**2., axis=1)**0.5\n",
    "    e_field = charge / r**2.\n",
    "```"
   ]
  },
  {
   "cell_type": "code",
   "execution_count": null,
   "id": "2124c93b",
   "metadata": {},
   "outputs": [],
   "source": [
    "def e_field(charge, locations, grid):\n",
    "    delta = locations - grid.centroids\n",
    "    radius = np.sum(delta**2.0, axis=1) ** 0.5\n",
    "    field = charge / radius**2.0\n",
    "\n",
    "    return field"
   ]
  },
  {
   "cell_type": "markdown",
   "id": "35620572",
   "metadata": {},
   "source": [
    "We can now create some point charges and add up their collective fields. We will use the\n",
    "\n",
    "- `numpy.random` module to generate what we need\n",
    "- `numpy.zeros` module to create our initial array of e-field."
   ]
  },
  {
   "cell_type": "code",
   "execution_count": null,
   "id": "285d6fde",
   "metadata": {},
   "outputs": [],
   "source": [
    "n_charges = 10\n",
    "charges = np.random.randn(n_charges)\n",
    "locations = np.random.randn(n_charges, 3) * 10.0\n",
    "field = np.zeros(grid.n_cells)"
   ]
  },
  {
   "cell_type": "markdown",
   "id": "c8281fa2",
   "metadata": {},
   "source": [
    "We can now loop over the charges and their respective locations, compute the field and add it up to our final array."
   ]
  },
  {
   "cell_type": "code",
   "execution_count": null,
   "id": "02f86440",
   "metadata": {},
   "outputs": [],
   "source": [
    "for charge, location in zip(charges, locations):\n",
    "    field += e_field(charge, location, grid)"
   ]
  },
  {
   "cell_type": "markdown",
   "id": "ebb769b4",
   "metadata": {},
   "source": [
    "We then add the total electric field to our Grid2D, as well as creating some Points to show where the charges were."
   ]
  },
  {
   "cell_type": "code",
   "execution_count": null,
   "id": "81530701",
   "metadata": {},
   "outputs": [],
   "source": [
    "with workspace.open():\n",
    "    grid.add_data({\"e_field\": {\"values\": field}})\n",
    "\n",
    "    points = Points.create(workspace, vertices=locations)\n",
    "    points.add_data({\"charge\": {\"values\": charges}})"
   ]
  },
  {
   "cell_type": "markdown",
   "id": "4f377211",
   "metadata": {},
   "source": [
    "Et voila!\n",
    "\n",
    "![efield](./images/e_field.png)"
   ]
  },
  {
   "cell_type": "markdown",
   "id": "d7c3cc6d",
   "metadata": {},
   "source": [
    "For more examples on how to create other object types, visit the [geoh5py-Tutorial](https://geoh5py.readthedocs.io/en/stable/content/user_guide/core_entities.html#Entities)"
   ]
  },
  {
   "cell_type": "markdown",
   "id": "d422e617",
   "metadata": {},
   "source": [
    " Copyright (c) 2022 Mira Geoscience Ltd."
   ]
  }
 ],
 "metadata": {
  "jupytext": {
   "formats": "ipynb,py"
  },
  "kernelspec": {
   "display_name": "Python 3 (ipykernel)",
   "language": "python",
   "name": "python3"
  }
 },
 "nbformat": 4,
 "nbformat_minor": 5
}
