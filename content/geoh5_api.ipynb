{
 "cells": [
  {
   "cell_type": "markdown",
   "id": "f479542b",
   "metadata": {},
   "source": [
    "# Programming with `geoh5` (ANALYST API)\n",
    "\n",
    "\n",
    "This section provides examples on how to interact with Geoscience ANALYST\n",
    "programmatically by using the geoh5 API [geoh5py](https://geoh5py.readthedocs.io/en/stable/).\n",
    "We are going to demonstrate how to\n",
    "\n",
    "- Create/open a geoh5 workspace\n",
    "- Access objects and data\n",
    "- Use third-party packages to create and plot data\n",
    "\n",
    "Let's get started with some imports."
   ]
  },
  {
   "cell_type": "code",
   "execution_count": null,
   "id": "3a40802c",
   "metadata": {},
   "outputs": [],
   "source": [
    "from __future__ import annotations\n",
    "\n",
    "import matplotlib.pyplot as plt\n",
    "import numpy as np\n",
    "from geoh5py.data import Data\n",
    "from geoh5py.objects import ObjectBase, Points\n",
    "from geoh5py.workspace import Workspace"
   ]
  },
  {
   "cell_type": "markdown",
   "id": "92f4dd8f",
   "metadata": {},
   "source": [
    "## Open/create a Workspace\n",
    "\n",
    "The main element controlling the hierarchy of a `geoh5` is the `Workspace`.\n",
    "It is the class responsible for accessing information on disk and to register\n",
    "and create the various entities (groups, objects, data).\n",
    "\n",
    "There are two ways to create or connect to an existing `geoh5` file through the `Workspace`."
   ]
  },
  {
   "cell_type": "markdown",
   "id": "a2f357ae",
   "metadata": {},
   "source": [
    "### Option 1: Context manager\n",
    "\n",
    "The `Workspace` class can open a file as a context manager using the `with`\n",
    "statement. Just like any other [function](functions), everything after the `:`\n",
    "must be indented to be part of the scope. This is the **preferred** method to\n",
    "interact with the `geoh5` to make sure that the file gets closed at the end of\n",
    "the context, even if the code has to exit premarturely due to error."
   ]
  },
  {
   "cell_type": "code",
   "execution_count": null,
   "id": "e6d421f1",
   "metadata": {
    "tags": [
     "clear-form"
    ]
   },
   "outputs": [],
   "source": [
    "with Workspace(\"../assets/suncity.geoh5\") as workspace:\n",
    "    print(workspace.geoh5)"
   ]
  },
  {
   "cell_type": "markdown",
   "id": "2b1333d3",
   "metadata": {},
   "source": [
    "### Option 2: `open()` and `close()`\n",
    "\n",
    "The second option is to directly instantiate the Workspace or to call the `open()` method."
   ]
  },
  {
   "cell_type": "code",
   "execution_count": null,
   "id": "3e47350c",
   "metadata": {
    "tags": [
     "clear-form"
    ]
   },
   "outputs": [],
   "source": [
    "workspace.open()\n",
    "print(workspace.geoh5)"
   ]
  },
  {
   "cell_type": "markdown",
   "id": "6f76baa6",
   "metadata": {},
   "source": [
    "With this option, Python keeps a connection to the file until the `close()`\n",
    "method gets called. This is sometimes preferable if the computations take a\n",
    "long time or if you want to prevent other programs to access the file while your program is operating on it.\n",
    "\n",
    "We are going to leave the workspace open for now, and remember to close it at the end."
   ]
  },
  {
   "cell_type": "markdown",
   "id": "e2ede3c9",
   "metadata": {},
   "source": [
    "## Objects and data\n",
    "\n",
    "When connecting to an existing `geoh5` file, the API will travel through the\n",
    "`Workspace` and collect minimal information about the `groups`, `objects` and\n",
    "`data` present on file. At the base of this parent/child hierarchy is the `Root` group.\n",
    "Every entity has a parent, except for the `root`. Note that no values are loaded unless directly requested."
   ]
  },
  {
   "cell_type": "code",
   "execution_count": null,
   "id": "9c3d990a",
   "metadata": {
    "tags": [
     "clear-form"
    ]
   },
   "outputs": [],
   "source": [
    "print(workspace.root.children)"
   ]
  },
  {
   "cell_type": "markdown",
   "id": "993d2d82",
   "metadata": {},
   "source": [
    "The `Workspace` itself has a few utility methods to quickly access all groups, objects or data registered."
   ]
  },
  {
   "cell_type": "code",
   "execution_count": null,
   "id": "bd98181d",
   "metadata": {
    "tags": [
     "clear-form"
    ]
   },
   "outputs": [],
   "source": [
    "workspace.groups, workspace.objects, workspace.data"
   ]
  },
  {
   "cell_type": "markdown",
   "id": "1292306c",
   "metadata": {},
   "source": [
    "The `get_entity` method allows to retrieve entities by `name` or `uid`."
   ]
  },
  {
   "cell_type": "code",
   "execution_count": null,
   "id": "cf7033e3",
   "metadata": {
    "tags": [
     "clear-form"
    ]
   },
   "outputs": [],
   "source": [
    "grid = workspace.get_entity(\"SunCity\")[0]"
   ]
  },
  {
   "cell_type": "markdown",
   "id": "b49608c5",
   "metadata": {},
   "source": [
    "The `get_entity` always returns a `list`, as many entities could have the same name."
   ]
  },
  {
   "cell_type": "code",
   "execution_count": null,
   "id": "680cf6b7",
   "metadata": {
    "tags": [
     "clear-form"
    ]
   },
   "outputs": [],
   "source": [
    "print(f\"I have recovered a {type(grid)} with uuid: {grid.uid}\")"
   ]
  },
  {
   "cell_type": "markdown",
   "id": "dc38e2c4",
   "metadata": {},
   "source": [
    "It is best-practice to instead use `get_entity` with a unique identifier (`uuid`)\n",
    "to guarantee access to a specific entity"
   ]
  },
  {
   "cell_type": "code",
   "execution_count": null,
   "id": "8859be8a",
   "metadata": {
    "tags": [
     "clear-form"
    ]
   },
   "outputs": [],
   "source": [
    "workspace.get_entity(grid.uid)[0] == grid"
   ]
  },
  {
   "cell_type": "markdown",
   "id": "61475d39",
   "metadata": {},
   "source": [
    "Likewise, data associated with an object can be accessed through the `children` attribute.\n",
    "To access data with values, the workspace must be re-opened if closed."
   ]
  },
  {
   "cell_type": "code",
   "execution_count": null,
   "id": "f74dc333",
   "metadata": {
    "tags": [
     "clear-form"
    ]
   },
   "outputs": [],
   "source": [
    "grid.children"
   ]
  },
  {
   "cell_type": "markdown",
   "id": "06795655",
   "metadata": {},
   "source": [
    "or with the utility method `get_data` to access it by name"
   ]
  },
  {
   "cell_type": "code",
   "execution_count": null,
   "id": "06adb9c9",
   "metadata": {
    "tags": [
     "clear-form"
    ]
   },
   "outputs": [],
   "source": [
    "dem = grid.get_data(\"Band 1\")[0]"
   ]
  },
  {
   "cell_type": "markdown",
   "id": "02b7162b",
   "metadata": {},
   "source": [
    "Data values are accessed through the `values` attribute of the `data` entity.\n",
    "Let's use a third party plotting package `matplotlib` to display the information on file."
   ]
  },
  {
   "cell_type": "code",
   "execution_count": null,
   "id": "f13cdae6",
   "metadata": {
    "tags": [
     "clear-form"
    ]
   },
   "outputs": [],
   "source": [
    "plt.pcolormesh(\n",
    "    grid.origin[\"x\"] + grid.cell_center_u,\n",
    "    grid.origin[\"y\"] + grid.cell_center_v,\n",
    "    dem.values.reshape(grid.shape),\n",
    ")"
   ]
  },
  {
   "cell_type": "markdown",
   "id": "e90ee61f",
   "metadata": {},
   "source": [
    "## Creating objects\n",
    "\n",
    "The `geoh5` format supports a wide range of object types as [documented here](https://geoh5py.readthedocs.io/en/stable/content/geoh5_format/analyst/objects.html#analyst-objects). For this training, we will create a simple `Points` object using the `.create()` method.\n"
   ]
  },
  {
   "cell_type": "markdown",
   "id": "dd2d324f",
   "metadata": {},
   "source": [
    "For the `Points` to be fully defined, we need to at least assign vertices as an array of 3D coordinates `shape(*, 3)`.\n",
    "Let's add one point at the Sun City resort."
   ]
  },
  {
   "cell_type": "code",
   "execution_count": null,
   "id": "81aad27a",
   "metadata": {
    "tags": [
     "clear-form"
    ]
   },
   "outputs": [],
   "source": [
    "point = Points.create(workspace, vertices=np.c_[510000, 7196500, 1150])\n",
    "workspace.close()"
   ]
  },
  {
   "cell_type": "markdown",
   "id": "c63d5c94",
   "metadata": {},
   "source": [
    "Since we have closed workspace, you can now safely open the `suncity.geoh5` with ANALYST to see the result.\n",
    "\n",
    "![grid2d](./images/grid2d.png)"
   ]
  },
  {
   "cell_type": "markdown",
   "id": "f25ab9e2",
   "metadata": {
    "lines_to_next_cell": 2
   },
   "source": [
    "## Example 1a: Creating data from a magnetic dipole\n",
    "\n",
    "Now that we have an object created, we can add data to it. We will borrow\n",
    "some functions from the `numpy` package to compute values on the cells of our 2D grid.\n",
    "\n",
    "Let's start with a simple problem of computing the magnetic field due to a\n",
    "dipole. This can later become a useful tool to interpret magnetic maps.\n",
    "\n",
    "From first year physics, the magnetic field of a single dipole is:\n",
    "\n",
    "$$\\mathbf{B} = \\frac{\\mu_0}{4 \\pi}  \\frac{3 (\\mathbf{m} \\cdot \\mathbf{r})  \\mathbf{\\hat r} - \\mathbf{m}}{r^3}$$\n",
    "\n",
    "where $\\mu_0$ is a constant ($4 \\pi 1e-9$), $\\mathbf{m}$ is the magnetic dipole and $\\mathbf{r}$ is the\n",
    "vector separating the dipole and the observations (our grid cells).\n",
    "\n",
    "We can first create a small function that computes the magnetic field for a single dipole."
   ]
  },
  {
   "cell_type": "code",
   "execution_count": null,
   "id": "2d721f77",
   "metadata": {
    "tags": [
     "clear-form"
    ]
   },
   "outputs": [],
   "source": [
    "def inclination_declination_2_xyz(inclination, declination):\n",
    "    \"\"\"Convert inclination and declination angles (degrees) to unit vector (xyz).\"\"\"\n",
    "    theta = np.deg2rad((450 - inclination) % 360)\n",
    "    phi = np.deg2rad(90 + declination)\n",
    "    xyz = np.c_[np.sin(phi) * np.cos(theta), np.sin(phi) * np.sin(theta), np.cos(phi)]\n",
    "\n",
    "    return xyz\n",
    "\n",
    "\n",
    "def b_field(source, locations, moment, inclination, declination):\n",
    "    \"\"\"\n",
    "    Compute the magnetic field components of a dipole on an array of locations.\n",
    "\n",
    "    :param source: Location of a point dipole, shape(1, 3).\n",
    "    :param locations: Array of observation locations, shape(n, 3).\n",
    "    :param moment: Dipole moment of the source (A.m^2)\n",
    "    :param inclination: Dipole horizontal angle, clockwise from North\n",
    "    :param declination: Dipole vertical angle from horizontal, positive down\n",
    "\n",
    "    :return: Array of magnetic field components, shape(n, 3)\n",
    "    \"\"\"\n",
    "    # Convert the inclination and declination to Cartesian vector\n",
    "    m = moment * inclination_declination_2_xyz(inclination, declination)\n",
    "\n",
    "    # Compute the radial components\n",
    "    rad = source - locations\n",
    "\n",
    "    # Compute |r|\n",
    "    dist = np.sum(rad**2.0, axis=1) ** 0.5\n",
    "\n",
    "    # mu_0 / 4 pi * 1e-9 (nano)\n",
    "    constant = 1e2\n",
    "    fields = (\n",
    "        constant\n",
    "        * ((np.dot(m, rad.T).T * (rad / dist[:, None])) - m)\n",
    "        / dist[:, None] ** 3.0\n",
    "    )\n",
    "\n",
    "    return fields"
   ]
  },
  {
   "cell_type": "markdown",
   "id": "4a356167",
   "metadata": {},
   "source": [
    "We can use a few array mulitplication methods from `numpy`\n",
    "\n",
    "- The `sum()` method can be done along a specific axis of an array, collapsing the dimension.\n",
    "\n",
    "- The `dot()` method performs the dot product between two arrays,\n",
    "but the shapes need to align. The transpose (`.T`) method allows us to do it inline\n",
    "\n",
    "$[1 \\times 3] \\cdot [M \\times 3].T \\rightarrow [1 \\times M] $.\n",
    "\n",
    "- 1D-arrays can be broadcasted (repeated) along a second dimension using the `[:, None]` indexing.\n",
    "\n",
    "$[N \\times 3] \\;/\\;([1 \\times N][: None]) \\rightarrow [N \\times 3] $\n",
    "\n",
    "We can now use our function to compute the fields on the existing grid centroids."
   ]
  },
  {
   "cell_type": "code",
   "execution_count": null,
   "id": "98345f96",
   "metadata": {
    "tags": [
     "clear-form"
    ]
   },
   "outputs": [],
   "source": [
    "moment, inclination, declination = 1.0, 90, 0\n",
    "b = b_field(point.vertices, grid.centroids, moment, inclination, declination)"
   ]
  },
  {
   "cell_type": "markdown",
   "id": "ee1fd3c9",
   "metadata": {},
   "source": [
    "The `b_field` function returns an array for the three components of the\n",
    "magnetic field due to the dipole source. Since we normally measure Total\n",
    "Magnetic Intensity (TMI) data, we should project those fields onto the Earth's magnetic field.\n",
    "\n",
    "$$\n",
    "b_{TMI} \\approx \\mathbf{\\hat H}_0 \\cdot \\mathbf{b}\n",
    "$$"
   ]
  },
  {
   "cell_type": "code",
   "execution_count": null,
   "id": "3ce7079b",
   "metadata": {
    "tags": [
     "clear-form"
    ]
   },
   "outputs": [],
   "source": [
    "H = inclination_declination_2_xyz(-62.11, -17.9)  # Suncity field parameters\n",
    "tmi = np.dot(H, b.T)"
   ]
  },
  {
   "cell_type": "markdown",
   "id": "bc1ac16c",
   "metadata": {},
   "source": [
    "We then add the vector field and TMI values to our Grid2D for visualization in ANALYST."
   ]
  },
  {
   "cell_type": "code",
   "execution_count": null,
   "id": "7b1b389a",
   "metadata": {
    "tags": [
     "clear-form"
    ]
   },
   "outputs": [],
   "source": [
    "with workspace.open():\n",
    "    grid.add_data(\n",
    "        {\n",
    "            \"b_x\": {\"values\": b[:, 0]},\n",
    "            \"b_y\": {\"values\": b[:, 1]},\n",
    "            \"b_z\": {\"values\": b[:, 2]},\n",
    "            \"tmi\": {\"values\": tmi},\n",
    "        }\n",
    "    )"
   ]
  },
  {
   "cell_type": "markdown",
   "id": "66294063",
   "metadata": {},
   "source": [
    "Similarly, we can add data to the Points to show the strength and direction of\n",
    "the dipole moment. We are going to group those data so that we can display them as arrow in ANALYST."
   ]
  },
  {
   "cell_type": "code",
   "execution_count": null,
   "id": "5082bbc2",
   "metadata": {
    "tags": [
     "clear-form"
    ]
   },
   "outputs": [],
   "source": [
    "with workspace.open():\n",
    "    params = point.add_data(\n",
    "        {\n",
    "            \"moment\": {\"values\": np.r_[moment]},\n",
    "            \"inclination\": {\"values\": np.r_[inclination]},\n",
    "            \"declination\": {\"values\": np.r_[declination]},\n",
    "        }\n",
    "    )\n",
    "    prop_group = point.find_or_create_property_group(\n",
    "        name=\"dipole\", property_group_type=\"Dip direction & dip\"\n",
    "    )\n",
    "    point.add_data_to_group(params[1:], prop_group)"
   ]
  },
  {
   "cell_type": "markdown",
   "id": "09827e07",
   "metadata": {},
   "source": [
    "Et voila!"
   ]
  },
  {
   "cell_type": "markdown",
   "id": "32f15f6a",
   "metadata": {},
   "source": [
    "![bfield](./images/b_field.png)"
   ]
  },
  {
   "cell_type": "markdown",
   "id": "8450484c",
   "metadata": {},
   "source": [
    "For more examples on how to create other object types, visit the\n",
    "[geoh5py-Tutorial](https://geoh5py.readthedocs.io/en/stable/content/user_guide/core_entities.html#Entities)"
   ]
  },
  {
   "cell_type": "markdown",
   "id": "cb8c3e9e",
   "metadata": {
    "lines_to_next_cell": 2
   },
   "source": [
    "## Example 1b:  Generalizing the application\n",
    "\n",
    "A good way to write useful programs is to generalize the code such that the\n",
    "same functions can easily be re-used by different programs. In this section,\n",
    "we are going to re-purpose [Example 1a](http://localhost:8890/notebooks/geoh5_api.ipynb#Example-1a:-Creating-data-from-a-magnetic-dipole)\n",
    "such that the calculation can occur on any other object types supported by ANALYST.\n",
    "\n",
    "Fortunately for us, computing the total magnetic field from many dipoles is\n",
    "a linear (sum) operation. Let's wrap all the previous functions into a `MagneticSimulation` class."
   ]
  },
  {
   "cell_type": "code",
   "execution_count": null,
   "id": "1d947254",
   "metadata": {
    "tags": [
     "clear-form"
    ]
   },
   "outputs": [],
   "source": [
    "class MagneticSimulation:\n",
    "    \"\"\"\n",
    "    Compute the magnetic field components of dipoles on a geoh5py object.\n",
    "\n",
    "    :param dipoles: Array or Points object of dipole locations, shape(m, 3).\n",
    "    :param locations: Array or Points object of observation locations, shape(n, 3).\n",
    "    :param moments: Value or Data of dipole moments.\n",
    "    :param inclinations: Value or Data of dipole inclination angles.\n",
    "    :param declinations: Value or Data of dipole declination angles.\n",
    "\n",
    "    :return b_field: Vector array of magnetic field components, shape(n ,3).\n",
    "    \"\"\"\n",
    "\n",
    "    def __init__(\n",
    "        self,\n",
    "        sources: Points,\n",
    "        receivers: ObjectBase,\n",
    "        moments: Data | float,\n",
    "        inclinations: Data | float,\n",
    "        declinations: Data | float,\n",
    "        earth_field=(90.0, 0),\n",
    "    ):\n",
    "        self._sources = sources\n",
    "        self._receivers = receivers\n",
    "        self._moments = moments\n",
    "        self._inclinations = inclinations\n",
    "        self._declinations = declinations\n",
    "        self._earth_field = earth_field\n",
    "\n",
    "    @property\n",
    "    def sources(self):\n",
    "        if hasattr(self._sources, \"centroids\"):\n",
    "            return self._sources.centroids\n",
    "        return self._sources.vertices\n",
    "\n",
    "    @property\n",
    "    def receivers(self):\n",
    "        if hasattr(self._receivers, \"centroids\"):\n",
    "            return self._receivers.centroids\n",
    "        return self._receivers.vertices\n",
    "\n",
    "    @property\n",
    "    def moments(self):\n",
    "        if isinstance(self._moments, Data):\n",
    "            return self._moments.values\n",
    "        if isinstance(self._moments, float):\n",
    "            return np.ones(self.sources.shape[0]) * self._moments\n",
    "\n",
    "        return self._moments\n",
    "\n",
    "    @property\n",
    "    def inclinations(self):\n",
    "        if isinstance(self._inclinations, Data):\n",
    "            return self._inclinations.values\n",
    "        if isinstance(self._inclinations, float):\n",
    "            return np.ones(self.sources.shape[0]) * self._inclinations\n",
    "\n",
    "        return self._inclinations\n",
    "\n",
    "    @property\n",
    "    def declinations(self):\n",
    "        if isinstance(self._declinations, Data):\n",
    "            return self._declinations.values\n",
    "        if isinstance(self._declinations, float):\n",
    "            return np.ones(self.sources.shape[0]) * self._declinations\n",
    "\n",
    "        return self._declinations\n",
    "\n",
    "    def compute(self):\n",
    "        \"\"\"Compute fields from input.\"\"\"\n",
    "        fields = np.zeros_like(self.receivers)\n",
    "\n",
    "        for source, moment, inclination, declination in zip(\n",
    "            self.sources, self.moments, self.inclinations, self.declinations\n",
    "        ):\n",
    "            fields += b_field(source, self.receivers, moment, inclination, declination)\n",
    "\n",
    "        return fields\n",
    "\n",
    "    def tmi_projection(self, fields):\n",
    "        \"\"\"Project magnetic field onto Earth's field.\"\"\"\n",
    "        H = inclination_declination_2_xyz(\n",
    "            self._earth_field[0], self._earth_field[1]\n",
    "        )  # Suncity field parameters\n",
    "        return np.dot(H, fields.T)\n",
    "\n",
    "    def run(self):\n",
    "        \"\"\"Run the simulation and save.\"\"\"\n",
    "        with self._receivers.workspace.open(mode=\"r+\"):\n",
    "            fields = self.compute()\n",
    "            tmi = self.tmi_projection(fields)\n",
    "            data = self._receivers.add_data(\n",
    "                {\n",
    "                    \"b_x\": {\"values\": fields[:, 0]},\n",
    "                    \"b_y\": {\"values\": fields[:, 1]},\n",
    "                    \"b_z\": {\"values\": fields[:, 2]},\n",
    "                    \"tmi\": {\"values\": tmi},\n",
    "                }\n",
    "            )\n",
    "\n",
    "        return data"
   ]
  },
  {
   "cell_type": "markdown",
   "id": "e99454c6",
   "metadata": {},
   "source": [
    "We now have a generic container to compute TMI data based on any type of ANALYST object.\n",
    "\n",
    "You are now invited to edit your Points object to add more vertices and\n",
    "create data arrays for moment, azimuth and dips. We can now run the simulation\n",
    "by simply giving those entities to our class."
   ]
  },
  {
   "cell_type": "code",
   "execution_count": null,
   "id": "4d8fc79f",
   "metadata": {
    "tags": [
     "clear-form"
    ]
   },
   "outputs": [],
   "source": [
    "simulator = MagneticSimulation(point, grid, 1.0, 90.0, 0.0, earth_field=(-62.11, -17.9))\n",
    "simulator.run()"
   ]
  },
  {
   "cell_type": "markdown",
   "id": "56500604",
   "metadata": {},
   "source": [
    " Copyright (c) 2022 Mira Geoscience Ltd."
   ]
  }
 ],
 "metadata": {
  "celltoolbar": "Edit Metadata",
  "jupytext": {
   "formats": "ipynb,py"
  },
  "kernelspec": {
   "display_name": "Python 3 (ipykernel)",
   "language": "python",
   "name": "python3"
  },
  "language_info": {
   "codemirror_mode": {
    "name": "ipython",
    "version": 3
   },
   "file_extension": ".py",
   "mimetype": "text/x-python",
   "name": "python",
   "nbconvert_exporter": "python",
   "pygments_lexer": "ipython3",
   "version": "3.9.13"
  }
 },
 "nbformat": 4,
 "nbformat_minor": 5
}
