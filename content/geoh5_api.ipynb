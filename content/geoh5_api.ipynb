{
 "cells": [
  {
   "cell_type": "markdown",
   "id": "78a5ed4f",
   "metadata": {},
   "source": [
    "# Programming with `geoh5` (ANALYST API)\n",
    "\n",
    "\n",
    "This section provides examples on how to interact with Geoscience ANALYST\n",
    "programmatically by using the geoh5 API [geoh5py](https://geoh5py.readthedocs.io/en/stable/). We are going to demonstrate how to\n",
    "\n",
    "- Create/open a geoh5 workspace\n",
    "- Access objects and data\n",
    "- Use third-party packages to create and plot data\n",
    "\n",
    "Let's get started with some imports."
   ]
  },
  {
   "cell_type": "code",
   "execution_count": null,
   "id": "c81f6941",
   "metadata": {},
   "outputs": [],
   "source": [
    "import matplotlib.pyplot as plt\n",
    "import numpy as np\n",
    "\n",
    "from geoh5py.workspace import Workspace\n",
    "from geoh5py.objects import Points"
   ]
  },
  {
   "cell_type": "markdown",
   "id": "7e1ef363",
   "metadata": {},
   "source": [
    "## Open/create a Workspace\n",
    "\n",
    "The main element controlling the hierarchy of a `geoh5` is the `Workspace`. It is the class responsible for accessing information on disk and to register and create the various entities (groups, objects, data). \n",
    "\n",
    "There are two ways to create or connect to an existing `geoh5` file through the `Workspace`."
   ]
  },
  {
   "cell_type": "markdown",
   "id": "abc14da6",
   "metadata": {},
   "source": [
    "### Option 1: Context manager\n",
    "\n",
    "The `Workspace` class can open a file as a context manager using the `with`\n",
    "statement. Just like any other [function](functions), everything after the `:`\n",
    "must be indented to be part of the scope. This is the **preferred** method to\n",
    "interact with the `geoh5` to make sure that the file gets closed at the end of\n",
    "the context, even if the code has to exit premarturely due to error."
   ]
  },
  {
   "cell_type": "code",
   "execution_count": null,
   "id": "4a29e229",
   "metadata": {},
   "outputs": [],
   "source": [
    "with Workspace(\"../assets/suncity.geoh5\") as workspace:\n",
    "    print(workspace.geoh5)"
   ]
  },
  {
   "cell_type": "markdown",
   "id": "50cd1cd3",
   "metadata": {},
   "source": [
    "### Option 2: `open()` and `close()`\n",
    "\n",
    "The second option is to directly instantiate the Workspace or to call the `open()` method."
   ]
  },
  {
   "cell_type": "code",
   "execution_count": null,
   "id": "797480e0",
   "metadata": {},
   "outputs": [],
   "source": [
    "workspace.open()\n",
    "print(workspace.geoh5)"
   ]
  },
  {
   "cell_type": "markdown",
   "id": "453a16c3",
   "metadata": {},
   "source": [
    "With this option, Python keeps a connection to the file until the `close()`\n",
    "method gets called. This is sometimes preferable if the computations take a\n",
    "long time or if you want to prevent other programs to access the file while your program is operating on it. \n",
    "\n",
    "We are going to leave the workspace open for now, and remember to close it at the end."
   ]
  },
  {
   "cell_type": "markdown",
   "id": "f2ba49e7",
   "metadata": {},
   "source": [
    "## Objects and data\n",
    "\n",
    "When connecting to an exhisting `geoh5` file, the API will travel through the `Workspace` and collect minimal information about the `groups`, `objects` and `data` present on file. At the base of this parent/child hierarchy is the `Root` group. Every entity has a parent, except for the `root`. Note that no values are loaded unless directly requested."
   ]
  },
  {
   "cell_type": "code",
   "execution_count": null,
   "id": "fe2d911d",
   "metadata": {},
   "outputs": [],
   "source": [
    "print(workspace.root.children)"
   ]
  },
  {
   "cell_type": "markdown",
   "id": "d7ac6a89",
   "metadata": {},
   "source": [
    "The `Workspace` itself has a few utility methods to quickly access all groups, objects or data registered."
   ]
  },
  {
   "cell_type": "code",
   "execution_count": null,
   "id": "8aa39887",
   "metadata": {},
   "outputs": [],
   "source": [
    "workspace.groups, workspace.objects, workspace.data"
   ]
  },
  {
   "cell_type": "markdown",
   "id": "fa24d592",
   "metadata": {},
   "source": [
    "The `get_entity` method allows to retrieve entities by `name` or `uid`."
   ]
  },
  {
   "cell_type": "code",
   "execution_count": null,
   "id": "ef9872b5",
   "metadata": {},
   "outputs": [],
   "source": [
    "grid = workspace.get_entity(\"SunCity\")[0]"
   ]
  },
  {
   "cell_type": "markdown",
   "id": "75617229",
   "metadata": {},
   "source": [
    "The `get_entity` always returns a `list`, as many entities could have the same name."
   ]
  },
  {
   "cell_type": "code",
   "execution_count": null,
   "id": "762ef0ba",
   "metadata": {},
   "outputs": [],
   "source": [
    "print(f\"I have recovered a {type(grid)} with uuid: {grid.uid}\")"
   ]
  },
  {
   "cell_type": "markdown",
   "id": "caef077e",
   "metadata": {},
   "source": [
    "It is best-practice to instead use `get_entity` with a unique identifier (`uuid`) to garantee access to a specific entity"
   ]
  },
  {
   "cell_type": "code",
   "execution_count": null,
   "id": "0076f1e0",
   "metadata": {},
   "outputs": [],
   "source": [
    "workspace.get_entity(grid.uid)[0] == grid"
   ]
  },
  {
   "cell_type": "markdown",
   "id": "2febd2fa",
   "metadata": {},
   "source": [
    "Likewise, data associated with an object can be accessed through the `children` attribute. To access data with values, the workspace must be re-opened if closed."
   ]
  },
  {
   "cell_type": "code",
   "execution_count": null,
   "id": "2fe854f3",
   "metadata": {},
   "outputs": [],
   "source": [
    "grid.children"
   ]
  },
  {
   "cell_type": "markdown",
   "id": "2cbb4cdf",
   "metadata": {},
   "source": [
    "or with the utility method `get_data` to access it by name"
   ]
  },
  {
   "cell_type": "code",
   "execution_count": null,
   "id": "c3b966af",
   "metadata": {},
   "outputs": [],
   "source": [
    "dem = grid.get_data(\"Band 1\")[0]"
   ]
  },
  {
   "cell_type": "markdown",
   "id": "3b583b51",
   "metadata": {},
   "source": [
    "Data values are accessed through the `values` attribute of the `data` entity. Let's use a third party plotting package `matplotlib` to display the information on file."
   ]
  },
  {
   "cell_type": "code",
   "execution_count": null,
   "id": "01903e66",
   "metadata": {},
   "outputs": [],
   "source": [
    "plt.pcolormesh(\n",
    "    grid.origin[\"x\"] + grid.cell_center_u,\n",
    "    grid.origin[\"y\"] + grid.cell_center_v,\n",
    "    dem.values.reshape(grid.shape),\n",
    ")"
   ]
  },
  {
   "cell_type": "markdown",
   "id": "2ebb1db3",
   "metadata": {},
   "source": [
    "## Creating objects\n",
    "\n",
    "The `geoh5` format supports a wide range of object types as [documented here](https://geoh5py.readthedocs.io/en/stable/content/geoh5_format/analyst/objects.html#analyst-objects). For this training, we will create a simple `Points` object using the `.create()` method.\n"
   ]
  },
  {
   "cell_type": "markdown",
   "id": "3c75df4c",
   "metadata": {},
   "source": [
    "For the `Points` to be fully defined, we need to at least assign vertices as an array of 3D coordinates `shape(*, 3)`.\n",
    "Let's add one point at the Sun City resort."
   ]
  },
  {
   "cell_type": "code",
   "execution_count": null,
   "id": "027b2ae3",
   "metadata": {},
   "outputs": [],
   "source": [
    "point = Points.create(workspace, vertices=np.c_[510000, 7196500, 1150])\n",
    "workspace.close()"
   ]
  },
  {
   "cell_type": "markdown",
   "id": "a72aa13a",
   "metadata": {},
   "source": [
    "Since we have closed workspace, you can now safely open the `suncity.geoh5` with ANALYST to see the result.\n",
    "\n",
    "![grid2d](./images/grid2d.png)"
   ]
  },
  {
   "cell_type": "markdown",
   "id": "636dd8e6",
   "metadata": {},
   "source": [
    "## Generating Data\n",
    "\n",
    "Now that we have an object created, we can add data to it. We will borrow\n",
    "some functions from the `numpy` package to compute values on the cells of our 2D grid."
   ]
  },
  {
   "cell_type": "markdown",
   "id": "cb1caff8",
   "metadata": {
    "lines_to_next_cell": 2
   },
   "source": [
    "### Example 1: Magnetic dipole field\n",
    "\n",
    "Let's start with a simple problem of computing the magnetic field due to a\n",
    "dipole. This can later become a useful tool to interpret magnetic maps.\n",
    "\n",
    "From first year physics, the magnetic field of a single dipole is:\n",
    "\n",
    "$$\\mathbf{B} = \\frac{\\mu_0}{4 \\pi}  \\frac{3 (\\mathbf{m} \\cdot \\mathbf{r})  \\mathbf{\\hat r} - \\mathbf{m}}{r^3}$$\n",
    "\n",
    "where $\\mu_0$ is a constant ($4 \\pi 1e-9$), $\\mathbf{m}$ is the magnetic dipole and $\\mathbf{r}$ is the\n",
    "vector seperating the dipole and the observations (our grid cells).\n",
    "\n",
    "We can first create a small function that computes the magnetic field for a single dipole."
   ]
  },
  {
   "cell_type": "code",
   "execution_count": null,
   "id": "6ffd9465",
   "metadata": {},
   "outputs": [],
   "source": [
    "def b_field(locations, moment, azimuth, dip, grid):\n",
    "    \"\"\"\n",
    "    Compute the magnetic field components of a dipole on a Grid2D cells.\n",
    "    \"\"\"\n",
    "    theta = np.deg2rad((450 - azimuth) % 360)\n",
    "    phi = np.deg2rad(90-dip)\n",
    "\n",
    "    m = (\n",
    "        moment\n",
    "        * np.c_[np.sin(phi) * np.cos(theta), np.sin(phi) * np.sin(theta), np.cos(phi)]\n",
    "    )\n",
    "\n",
    "    delta = locations - grid.centroids\n",
    "    radius = np.sum(delta**2.0, axis=1) ** 0.5\n",
    "    B = (np.dot(m, delta.T).T * delta) / radius[:, None] ** 4.0 - np.repeat(\n",
    "        m, grid.n_cells\n",
    "    ).reshape((-1, 3), order=\"F\") / radius[:, None] ** 3.0\n",
    "\n",
    "    return B"
   ]
  },
  {
   "cell_type": "markdown",
   "id": "b16f1f77",
   "metadata": {},
   "source": [
    "We can now use our function to compute the fields on the existing grid."
   ]
  },
  {
   "cell_type": "code",
   "execution_count": null,
   "id": "b1dad57c",
   "metadata": {},
   "outputs": [],
   "source": [
    "moment, azimuth, dip = 1.0, 90, 0\n",
    "b = b_field(point.vertices, moment, azimuth, dip, grid)"
   ]
  },
  {
   "cell_type": "markdown",
   "id": "ac2a56d1",
   "metadata": {},
   "source": [
    "We then add the total electric field to our Grid2D, as well as creating some Points to show where the charges were."
   ]
  },
  {
   "cell_type": "code",
   "execution_count": null,
   "id": "5b0dd94d",
   "metadata": {},
   "outputs": [],
   "source": [
    "with workspace.open():\n",
    "    grid.add_data(\n",
    "        {\n",
    "            \"b_x\": {\"values\": b[:, 0]},\n",
    "            \"b_y\": {\"values\": b[:, 1]},\n",
    "            \"b_z\": {\"values\": b[:, 2]},\n",
    "        }\n",
    "    )\n",
    "\n",
    "    point.add_data(\n",
    "        {\n",
    "            \"moment\": {\"values\": np.r_[moment]},\n",
    "            \"azimuth\": {\"values\": np.r_[azimuth]},\n",
    "            \"dip\": {\"values\": np.r_[dip]},\n",
    "        }\n",
    "    )"
   ]
  },
  {
   "cell_type": "markdown",
   "id": "a4b0b67f",
   "metadata": {},
   "source": [
    "Et voila! "
   ]
  },
  {
   "cell_type": "markdown",
   "id": "36a386a5",
   "metadata": {},
   "source": [
    "![bfield](./images/b_field.png)"
   ]
  },
  {
   "cell_type": "markdown",
   "id": "9eabd991",
   "metadata": {},
   "source": [
    "For more examples on how to create other object types, visit the [geoh5py-Tutorial](https://geoh5py.readthedocs.io/en/stable/content/user_guide/core_entities.html#Entities)"
   ]
  },
  {
   "cell_type": "markdown",
   "id": "1dd2262e",
   "metadata": {},
   "source": [
    " Copyright (c) 2022 Mira Geoscience Ltd."
   ]
  }
 ],
 "metadata": {
  "jupytext": {
   "formats": "ipynb,py"
  },
  "kernelspec": {
   "display_name": "Python 3 (ipykernel)",
   "language": "python",
   "name": "python3"
  }
 },
 "nbformat": 4,
 "nbformat_minor": 5
}
