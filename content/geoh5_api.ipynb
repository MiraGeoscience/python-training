{
 "cells": [
  {
   "cell_type": "markdown",
   "id": "0c70e2df",
   "metadata": {},
   "source": [
    "# Programming with `geoh5` (ANALYST)\n",
    "\n",
    "\n",
    "This section provides examples on how to interact with Geoscience ANALYST programmatically.\n",
    "\n",
    "Participants will learn how to read and write to a geoh5 using [geoh5py](https://geoh5py.readthedocs.io/en/stable/)\n",
    "\n",
    "- Managing a Workspace\n",
    "- Entities\n",
    "- Example"
   ]
  },
  {
   "cell_type": "markdown",
   "id": "3b9fa925",
   "metadata": {},
   "source": [
    " Copyright (c) 2022 Mira Geoscience Ltd."
   ]
  }
 ],
 "metadata": {
  "jupytext": {
   "formats": "ipynb,py"
  },
  "kernelspec": {
   "display_name": "Python 3 (ipykernel)",
   "language": "python",
   "name": "python3"
  }
 },
 "nbformat": 4,
 "nbformat_minor": 5
}
