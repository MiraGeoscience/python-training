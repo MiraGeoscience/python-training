{
 "cells": [
  {
   "cell_type": "markdown",
   "id": "d5e2e928",
   "metadata": {},
   "source": [
    "# Importing Packages\n",
    "\n",
    "Python has over 200,000 registered packages, and so a big part of becoming proficient has to do with importing\n",
    "third-party libraries.\n",
    "\n",
    "```\n",
    "import numpy as np\n",
    "```"
   ]
  },
  {
   "cell_type": "code",
   "execution_count": null,
   "id": "7e8f3d4e",
   "metadata": {},
   "outputs": [],
   "source": [
    "import numpy as np"
   ]
  },
  {
   "cell_type": "markdown",
   "id": "4f163847",
   "metadata": {},
   "source": [
    "Here we have imported the entire package [numpy](https://numpy.org/) and assign a short-hand alias for it to keep\n",
    "our code more concise. Sub-modules can be accessed using a `.` such that"
   ]
  },
  {
   "cell_type": "code",
   "execution_count": null,
   "id": "5fa5d03a",
   "metadata": {},
   "outputs": [],
   "source": [
    "print(np.array)"
   ]
  },
  {
   "cell_type": "markdown",
   "id": "a65b0467",
   "metadata": {},
   "source": [
    "returns a function handle for the `array` class."
   ]
  },
  {
   "cell_type": "markdown",
   "id": "f1cd2520",
   "metadata": {},
   "source": [
    " Copyright (c) 2022 Mira Geoscience Ltd."
   ]
  }
 ],
 "metadata": {
  "kernelspec": {
   "display_name": "Python 3 (ipykernel)",
   "language": "python",
   "name": "python3"
  }
 },
 "nbformat": 4,
 "nbformat_minor": 5
}
