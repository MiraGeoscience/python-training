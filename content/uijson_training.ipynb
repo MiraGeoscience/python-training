{
 "cells": [
  {
   "cell_type": "markdown",
   "id": "c62e8fdf",
   "metadata": {},
   "source": [
    "# Custom User Interface (ui.json)\n",
    "\n",
    "\n",
    "This section provides training on how to create custom user interface within Geoscience ANALYST using the [ui.json\n",
    "standard](https://geoh5py.readthedocs.io/en/stable/content/uijson_format/index.html)."
   ]
  },
  {
   "cell_type": "markdown",
   "id": "ddbb5319",
   "metadata": {},
   "source": [
    "## UI.json format"
   ]
  },
  {
   "cell_type": "markdown",
   "id": "04909b79",
   "metadata": {},
   "source": [
    "# Example 1: Electric field calculator (revisited)"
   ]
  },
  {
   "cell_type": "markdown",
   "id": "756f1d6d",
   "metadata": {},
   "source": [
    " Copyright (c) 2022 Mira Geoscience Ltd."
   ]
  }
 ],
 "metadata": {
  "jupytext": {
   "formats": "ipynb,py"
  },
  "kernelspec": {
   "display_name": "Python 3 (ipykernel)",
   "language": "python",
   "name": "python3"
  }
 },
 "nbformat": 4,
 "nbformat_minor": 5
}
