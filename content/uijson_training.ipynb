{
 "cells": [
  {
   "cell_type": "markdown",
   "id": "a8776d37",
   "metadata": {},
   "source": [
    "# Custom User Interface (ui.json)\n",
    "\n",
    "\n",
    "This section provides training on how to create custom user interface within Geoscience ANALYST using the [ui.json\n",
    "standard](https://geoh5py.readthedocs.io/en/stable/content/uijson_format/index.html)."
   ]
  },
  {
   "cell_type": "markdown",
   "id": "4939fbef",
   "metadata": {},
   "source": [
    "## UI.json format"
   ]
  },
  {
   "cell_type": "markdown",
   "id": "5b96010b",
   "metadata": {},
   "source": [
    "# Example 1: Electric field calculator (revisited)"
   ]
  },
  {
   "cell_type": "markdown",
   "id": "ee4f97cc",
   "metadata": {},
   "source": [
    " Copyright (c) 2022 Mira Geoscience Ltd."
   ]
  }
 ],
 "metadata": {
  "jupytext": {
   "formats": "ipynb,py"
  },
  "kernelspec": {
   "display_name": "Python 3 (ipykernel)",
   "language": "python",
   "name": "python3"
  }
 },
 "nbformat": 4,
 "nbformat_minor": 5
}
